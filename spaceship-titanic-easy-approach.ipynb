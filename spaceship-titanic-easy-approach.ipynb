{
 "cells": [
  {
   "cell_type": "markdown",
   "id": "8ea3c654",
   "metadata": {
    "papermill": {
     "duration": 0.021885,
     "end_time": "2023-06-12T20:59:48.230464",
     "exception": false,
     "start_time": "2023-06-12T20:59:48.208579",
     "status": "completed"
    },
    "tags": []
   },
   "source": [
    "![SpaceShip](https://img.nerdburglars.net/wp-content/uploads/2021/07/spaceship-names2.jpg)"
   ]
  },
  {
   "cell_type": "code",
   "execution_count": 1,
   "id": "d1fdcd3e",
   "metadata": {
    "_cell_guid": "b1076dfc-b9ad-4769-8c92-a6c4dae69d19",
    "_uuid": "8f2839f25d086af736a60e9eeb907d3b93b6e0e5",
    "execution": {
     "iopub.execute_input": "2023-06-12T20:59:48.275243Z",
     "iopub.status.busy": "2023-06-12T20:59:48.274537Z",
     "iopub.status.idle": "2023-06-12T20:59:48.288455Z",
     "shell.execute_reply": "2023-06-12T20:59:48.287162Z"
    },
    "papermill": {
     "duration": 0.039378,
     "end_time": "2023-06-12T20:59:48.291219",
     "exception": false,
     "start_time": "2023-06-12T20:59:48.251841",
     "status": "completed"
    },
    "tags": []
   },
   "outputs": [
    {
     "name": "stdout",
     "output_type": "stream",
     "text": [
      "/kaggle/input/spaceship-titanic/sample_submission.csv\n",
      "/kaggle/input/spaceship-titanic/train.csv\n",
      "/kaggle/input/spaceship-titanic/test.csv\n"
     ]
    }
   ],
   "source": [
    "import os\n",
    "for dirname, _, filenames in os.walk('/kaggle/input'):\n",
    "    for filename in filenames:\n",
    "        print(os.path.join(dirname, filename))"
   ]
  },
  {
   "cell_type": "markdown",
   "id": "bc1dfd6c",
   "metadata": {
    "papermill": {
     "duration": 0.021666,
     "end_time": "2023-06-12T20:59:48.334593",
     "exception": false,
     "start_time": "2023-06-12T20:59:48.312927",
     "status": "completed"
    },
    "tags": []
   },
   "source": [
    "# **1. Import datasets, data exploration and visualisation tools**"
   ]
  },
  {
   "cell_type": "code",
   "execution_count": 2,
   "id": "5a4d58dc",
   "metadata": {
    "execution": {
     "iopub.execute_input": "2023-06-12T20:59:48.381763Z",
     "iopub.status.busy": "2023-06-12T20:59:48.380932Z",
     "iopub.status.idle": "2023-06-12T20:59:49.909736Z",
     "shell.execute_reply": "2023-06-12T20:59:49.908409Z"
    },
    "papermill": {
     "duration": 1.555494,
     "end_time": "2023-06-12T20:59:49.912571",
     "exception": false,
     "start_time": "2023-06-12T20:59:48.357077",
     "status": "completed"
    },
    "tags": []
   },
   "outputs": [],
   "source": [
    "import numpy as np\n",
    "import pandas as pd\n",
    "import matplotlib.pyplot as plt\n",
    "import seaborn as sns\n",
    "import missingno as msno\n",
    "import warnings\n",
    "warnings.filterwarnings('ignore')"
   ]
  },
  {
   "cell_type": "markdown",
   "id": "aef1e44e",
   "metadata": {
    "papermill": {
     "duration": 0.021376,
     "end_time": "2023-06-12T20:59:49.955873",
     "exception": false,
     "start_time": "2023-06-12T20:59:49.934497",
     "status": "completed"
    },
    "tags": []
   },
   "source": [
    "### Import datasets"
   ]
  },
  {
   "cell_type": "code",
   "execution_count": 3,
   "id": "d58fad2b",
   "metadata": {
    "execution": {
     "iopub.execute_input": "2023-06-12T20:59:50.001376Z",
     "iopub.status.busy": "2023-06-12T20:59:50.000727Z",
     "iopub.status.idle": "2023-06-12T20:59:50.116257Z",
     "shell.execute_reply": "2023-06-12T20:59:50.115137Z"
    },
    "papermill": {
     "duration": 0.140797,
     "end_time": "2023-06-12T20:59:50.118659",
     "exception": false,
     "start_time": "2023-06-12T20:59:49.977862",
     "status": "completed"
    },
    "tags": []
   },
   "outputs": [
    {
     "data": {
      "text/html": [
       "<div>\n",
       "<style scoped>\n",
       "    .dataframe tbody tr th:only-of-type {\n",
       "        vertical-align: middle;\n",
       "    }\n",
       "\n",
       "    .dataframe tbody tr th {\n",
       "        vertical-align: top;\n",
       "    }\n",
       "\n",
       "    .dataframe thead th {\n",
       "        text-align: right;\n",
       "    }\n",
       "</style>\n",
       "<table border=\"1\" class=\"dataframe\">\n",
       "  <thead>\n",
       "    <tr style=\"text-align: right;\">\n",
       "      <th></th>\n",
       "      <th>PassengerId</th>\n",
       "      <th>HomePlanet</th>\n",
       "      <th>CryoSleep</th>\n",
       "      <th>Cabin</th>\n",
       "      <th>Destination</th>\n",
       "      <th>Age</th>\n",
       "      <th>VIP</th>\n",
       "      <th>RoomService</th>\n",
       "      <th>FoodCourt</th>\n",
       "      <th>ShoppingMall</th>\n",
       "      <th>Spa</th>\n",
       "      <th>VRDeck</th>\n",
       "      <th>Name</th>\n",
       "      <th>Transported</th>\n",
       "    </tr>\n",
       "  </thead>\n",
       "  <tbody>\n",
       "    <tr>\n",
       "      <th>0</th>\n",
       "      <td>0001_01</td>\n",
       "      <td>Europa</td>\n",
       "      <td>False</td>\n",
       "      <td>B/0/P</td>\n",
       "      <td>TRAPPIST-1e</td>\n",
       "      <td>39.0</td>\n",
       "      <td>False</td>\n",
       "      <td>0.0</td>\n",
       "      <td>0.0</td>\n",
       "      <td>0.0</td>\n",
       "      <td>0.0</td>\n",
       "      <td>0.0</td>\n",
       "      <td>Maham Ofracculy</td>\n",
       "      <td>False</td>\n",
       "    </tr>\n",
       "    <tr>\n",
       "      <th>1</th>\n",
       "      <td>0002_01</td>\n",
       "      <td>Earth</td>\n",
       "      <td>False</td>\n",
       "      <td>F/0/S</td>\n",
       "      <td>TRAPPIST-1e</td>\n",
       "      <td>24.0</td>\n",
       "      <td>False</td>\n",
       "      <td>109.0</td>\n",
       "      <td>9.0</td>\n",
       "      <td>25.0</td>\n",
       "      <td>549.0</td>\n",
       "      <td>44.0</td>\n",
       "      <td>Juanna Vines</td>\n",
       "      <td>True</td>\n",
       "    </tr>\n",
       "    <tr>\n",
       "      <th>2</th>\n",
       "      <td>0003_01</td>\n",
       "      <td>Europa</td>\n",
       "      <td>False</td>\n",
       "      <td>A/0/S</td>\n",
       "      <td>TRAPPIST-1e</td>\n",
       "      <td>58.0</td>\n",
       "      <td>True</td>\n",
       "      <td>43.0</td>\n",
       "      <td>3576.0</td>\n",
       "      <td>0.0</td>\n",
       "      <td>6715.0</td>\n",
       "      <td>49.0</td>\n",
       "      <td>Altark Susent</td>\n",
       "      <td>False</td>\n",
       "    </tr>\n",
       "    <tr>\n",
       "      <th>3</th>\n",
       "      <td>0003_02</td>\n",
       "      <td>Europa</td>\n",
       "      <td>False</td>\n",
       "      <td>A/0/S</td>\n",
       "      <td>TRAPPIST-1e</td>\n",
       "      <td>33.0</td>\n",
       "      <td>False</td>\n",
       "      <td>0.0</td>\n",
       "      <td>1283.0</td>\n",
       "      <td>371.0</td>\n",
       "      <td>3329.0</td>\n",
       "      <td>193.0</td>\n",
       "      <td>Solam Susent</td>\n",
       "      <td>False</td>\n",
       "    </tr>\n",
       "    <tr>\n",
       "      <th>4</th>\n",
       "      <td>0004_01</td>\n",
       "      <td>Earth</td>\n",
       "      <td>False</td>\n",
       "      <td>F/1/S</td>\n",
       "      <td>TRAPPIST-1e</td>\n",
       "      <td>16.0</td>\n",
       "      <td>False</td>\n",
       "      <td>303.0</td>\n",
       "      <td>70.0</td>\n",
       "      <td>151.0</td>\n",
       "      <td>565.0</td>\n",
       "      <td>2.0</td>\n",
       "      <td>Willy Santantines</td>\n",
       "      <td>True</td>\n",
       "    </tr>\n",
       "  </tbody>\n",
       "</table>\n",
       "</div>"
      ],
      "text/plain": [
       "  PassengerId HomePlanet CryoSleep  Cabin  Destination   Age    VIP  \\\n",
       "0     0001_01     Europa     False  B/0/P  TRAPPIST-1e  39.0  False   \n",
       "1     0002_01      Earth     False  F/0/S  TRAPPIST-1e  24.0  False   \n",
       "2     0003_01     Europa     False  A/0/S  TRAPPIST-1e  58.0   True   \n",
       "3     0003_02     Europa     False  A/0/S  TRAPPIST-1e  33.0  False   \n",
       "4     0004_01      Earth     False  F/1/S  TRAPPIST-1e  16.0  False   \n",
       "\n",
       "   RoomService  FoodCourt  ShoppingMall     Spa  VRDeck               Name  \\\n",
       "0          0.0        0.0           0.0     0.0     0.0    Maham Ofracculy   \n",
       "1        109.0        9.0          25.0   549.0    44.0       Juanna Vines   \n",
       "2         43.0     3576.0           0.0  6715.0    49.0      Altark Susent   \n",
       "3          0.0     1283.0         371.0  3329.0   193.0       Solam Susent   \n",
       "4        303.0       70.0         151.0   565.0     2.0  Willy Santantines   \n",
       "\n",
       "   Transported  \n",
       "0        False  \n",
       "1         True  \n",
       "2        False  \n",
       "3        False  \n",
       "4         True  "
      ]
     },
     "execution_count": 3,
     "metadata": {},
     "output_type": "execute_result"
    }
   ],
   "source": [
    "train_data = pd.read_csv('/kaggle/input/spaceship-titanic/train.csv')\n",
    "train_data.head()"
   ]
  },
  {
   "cell_type": "code",
   "execution_count": 4,
   "id": "f5f3fe62",
   "metadata": {
    "execution": {
     "iopub.execute_input": "2023-06-12T20:59:50.165130Z",
     "iopub.status.busy": "2023-06-12T20:59:50.164032Z",
     "iopub.status.idle": "2023-06-12T20:59:50.226963Z",
     "shell.execute_reply": "2023-06-12T20:59:50.226116Z"
    },
    "papermill": {
     "duration": 0.08822,
     "end_time": "2023-06-12T20:59:50.229155",
     "exception": false,
     "start_time": "2023-06-12T20:59:50.140935",
     "status": "completed"
    },
    "tags": []
   },
   "outputs": [
    {
     "data": {
      "text/html": [
       "<div>\n",
       "<style scoped>\n",
       "    .dataframe tbody tr th:only-of-type {\n",
       "        vertical-align: middle;\n",
       "    }\n",
       "\n",
       "    .dataframe tbody tr th {\n",
       "        vertical-align: top;\n",
       "    }\n",
       "\n",
       "    .dataframe thead th {\n",
       "        text-align: right;\n",
       "    }\n",
       "</style>\n",
       "<table border=\"1\" class=\"dataframe\">\n",
       "  <thead>\n",
       "    <tr style=\"text-align: right;\">\n",
       "      <th></th>\n",
       "      <th>PassengerId</th>\n",
       "      <th>HomePlanet</th>\n",
       "      <th>CryoSleep</th>\n",
       "      <th>Cabin</th>\n",
       "      <th>Destination</th>\n",
       "      <th>Age</th>\n",
       "      <th>VIP</th>\n",
       "      <th>RoomService</th>\n",
       "      <th>FoodCourt</th>\n",
       "      <th>ShoppingMall</th>\n",
       "      <th>Spa</th>\n",
       "      <th>VRDeck</th>\n",
       "      <th>Name</th>\n",
       "    </tr>\n",
       "  </thead>\n",
       "  <tbody>\n",
       "    <tr>\n",
       "      <th>0</th>\n",
       "      <td>0013_01</td>\n",
       "      <td>Earth</td>\n",
       "      <td>True</td>\n",
       "      <td>G/3/S</td>\n",
       "      <td>TRAPPIST-1e</td>\n",
       "      <td>27.0</td>\n",
       "      <td>False</td>\n",
       "      <td>0.0</td>\n",
       "      <td>0.0</td>\n",
       "      <td>0.0</td>\n",
       "      <td>0.0</td>\n",
       "      <td>0.0</td>\n",
       "      <td>Nelly Carsoning</td>\n",
       "    </tr>\n",
       "    <tr>\n",
       "      <th>1</th>\n",
       "      <td>0018_01</td>\n",
       "      <td>Earth</td>\n",
       "      <td>False</td>\n",
       "      <td>F/4/S</td>\n",
       "      <td>TRAPPIST-1e</td>\n",
       "      <td>19.0</td>\n",
       "      <td>False</td>\n",
       "      <td>0.0</td>\n",
       "      <td>9.0</td>\n",
       "      <td>0.0</td>\n",
       "      <td>2823.0</td>\n",
       "      <td>0.0</td>\n",
       "      <td>Lerome Peckers</td>\n",
       "    </tr>\n",
       "    <tr>\n",
       "      <th>2</th>\n",
       "      <td>0019_01</td>\n",
       "      <td>Europa</td>\n",
       "      <td>True</td>\n",
       "      <td>C/0/S</td>\n",
       "      <td>55 Cancri e</td>\n",
       "      <td>31.0</td>\n",
       "      <td>False</td>\n",
       "      <td>0.0</td>\n",
       "      <td>0.0</td>\n",
       "      <td>0.0</td>\n",
       "      <td>0.0</td>\n",
       "      <td>0.0</td>\n",
       "      <td>Sabih Unhearfus</td>\n",
       "    </tr>\n",
       "    <tr>\n",
       "      <th>3</th>\n",
       "      <td>0021_01</td>\n",
       "      <td>Europa</td>\n",
       "      <td>False</td>\n",
       "      <td>C/1/S</td>\n",
       "      <td>TRAPPIST-1e</td>\n",
       "      <td>38.0</td>\n",
       "      <td>False</td>\n",
       "      <td>0.0</td>\n",
       "      <td>6652.0</td>\n",
       "      <td>0.0</td>\n",
       "      <td>181.0</td>\n",
       "      <td>585.0</td>\n",
       "      <td>Meratz Caltilter</td>\n",
       "    </tr>\n",
       "    <tr>\n",
       "      <th>4</th>\n",
       "      <td>0023_01</td>\n",
       "      <td>Earth</td>\n",
       "      <td>False</td>\n",
       "      <td>F/5/S</td>\n",
       "      <td>TRAPPIST-1e</td>\n",
       "      <td>20.0</td>\n",
       "      <td>False</td>\n",
       "      <td>10.0</td>\n",
       "      <td>0.0</td>\n",
       "      <td>635.0</td>\n",
       "      <td>0.0</td>\n",
       "      <td>0.0</td>\n",
       "      <td>Brence Harperez</td>\n",
       "    </tr>\n",
       "  </tbody>\n",
       "</table>\n",
       "</div>"
      ],
      "text/plain": [
       "  PassengerId HomePlanet CryoSleep  Cabin  Destination   Age    VIP  \\\n",
       "0     0013_01      Earth      True  G/3/S  TRAPPIST-1e  27.0  False   \n",
       "1     0018_01      Earth     False  F/4/S  TRAPPIST-1e  19.0  False   \n",
       "2     0019_01     Europa      True  C/0/S  55 Cancri e  31.0  False   \n",
       "3     0021_01     Europa     False  C/1/S  TRAPPIST-1e  38.0  False   \n",
       "4     0023_01      Earth     False  F/5/S  TRAPPIST-1e  20.0  False   \n",
       "\n",
       "   RoomService  FoodCourt  ShoppingMall     Spa  VRDeck              Name  \n",
       "0          0.0        0.0           0.0     0.0     0.0   Nelly Carsoning  \n",
       "1          0.0        9.0           0.0  2823.0     0.0    Lerome Peckers  \n",
       "2          0.0        0.0           0.0     0.0     0.0   Sabih Unhearfus  \n",
       "3          0.0     6652.0           0.0   181.0   585.0  Meratz Caltilter  \n",
       "4         10.0        0.0         635.0     0.0     0.0   Brence Harperez  "
      ]
     },
     "execution_count": 4,
     "metadata": {},
     "output_type": "execute_result"
    }
   ],
   "source": [
    "test_data = pd.read_csv('/kaggle/input/spaceship-titanic/test.csv')\n",
    "test_data.head()"
   ]
  },
  {
   "cell_type": "code",
   "execution_count": 5,
   "id": "abfc4574",
   "metadata": {
    "execution": {
     "iopub.execute_input": "2023-06-12T20:59:50.276477Z",
     "iopub.status.busy": "2023-06-12T20:59:50.275754Z",
     "iopub.status.idle": "2023-06-12T20:59:50.295478Z",
     "shell.execute_reply": "2023-06-12T20:59:50.294355Z"
    },
    "papermill": {
     "duration": 0.046501,
     "end_time": "2023-06-12T20:59:50.298323",
     "exception": false,
     "start_time": "2023-06-12T20:59:50.251822",
     "status": "completed"
    },
    "tags": []
   },
   "outputs": [],
   "source": [
    "df = train_data.drop(['Transported'], axis=1) # drop the 'Transported' columns from train_data.\n",
    "df = pd.concat([df, test_data], axis=0).reset_index(drop=True) #join the two dataframes so we can work with training and testing data at the same time"
   ]
  },
  {
   "cell_type": "code",
   "execution_count": 6,
   "id": "12710f98",
   "metadata": {
    "execution": {
     "iopub.execute_input": "2023-06-12T20:59:50.345093Z",
     "iopub.status.busy": "2023-06-12T20:59:50.344658Z",
     "iopub.status.idle": "2023-06-12T20:59:50.365534Z",
     "shell.execute_reply": "2023-06-12T20:59:50.364647Z"
    },
    "papermill": {
     "duration": 0.046604,
     "end_time": "2023-06-12T20:59:50.367737",
     "exception": false,
     "start_time": "2023-06-12T20:59:50.321133",
     "status": "completed"
    },
    "tags": []
   },
   "outputs": [
    {
     "data": {
      "text/html": [
       "<div>\n",
       "<style scoped>\n",
       "    .dataframe tbody tr th:only-of-type {\n",
       "        vertical-align: middle;\n",
       "    }\n",
       "\n",
       "    .dataframe tbody tr th {\n",
       "        vertical-align: top;\n",
       "    }\n",
       "\n",
       "    .dataframe thead th {\n",
       "        text-align: right;\n",
       "    }\n",
       "</style>\n",
       "<table border=\"1\" class=\"dataframe\">\n",
       "  <thead>\n",
       "    <tr style=\"text-align: right;\">\n",
       "      <th></th>\n",
       "      <th>PassengerId</th>\n",
       "      <th>HomePlanet</th>\n",
       "      <th>CryoSleep</th>\n",
       "      <th>Cabin</th>\n",
       "      <th>Destination</th>\n",
       "      <th>Age</th>\n",
       "      <th>VIP</th>\n",
       "      <th>RoomService</th>\n",
       "      <th>FoodCourt</th>\n",
       "      <th>ShoppingMall</th>\n",
       "      <th>Spa</th>\n",
       "      <th>VRDeck</th>\n",
       "      <th>Name</th>\n",
       "    </tr>\n",
       "  </thead>\n",
       "  <tbody>\n",
       "    <tr>\n",
       "      <th>0</th>\n",
       "      <td>0001_01</td>\n",
       "      <td>Europa</td>\n",
       "      <td>False</td>\n",
       "      <td>B/0/P</td>\n",
       "      <td>TRAPPIST-1e</td>\n",
       "      <td>39.0</td>\n",
       "      <td>False</td>\n",
       "      <td>0.0</td>\n",
       "      <td>0.0</td>\n",
       "      <td>0.0</td>\n",
       "      <td>0.0</td>\n",
       "      <td>0.0</td>\n",
       "      <td>Maham Ofracculy</td>\n",
       "    </tr>\n",
       "    <tr>\n",
       "      <th>1</th>\n",
       "      <td>0002_01</td>\n",
       "      <td>Earth</td>\n",
       "      <td>False</td>\n",
       "      <td>F/0/S</td>\n",
       "      <td>TRAPPIST-1e</td>\n",
       "      <td>24.0</td>\n",
       "      <td>False</td>\n",
       "      <td>109.0</td>\n",
       "      <td>9.0</td>\n",
       "      <td>25.0</td>\n",
       "      <td>549.0</td>\n",
       "      <td>44.0</td>\n",
       "      <td>Juanna Vines</td>\n",
       "    </tr>\n",
       "    <tr>\n",
       "      <th>2</th>\n",
       "      <td>0003_01</td>\n",
       "      <td>Europa</td>\n",
       "      <td>False</td>\n",
       "      <td>A/0/S</td>\n",
       "      <td>TRAPPIST-1e</td>\n",
       "      <td>58.0</td>\n",
       "      <td>True</td>\n",
       "      <td>43.0</td>\n",
       "      <td>3576.0</td>\n",
       "      <td>0.0</td>\n",
       "      <td>6715.0</td>\n",
       "      <td>49.0</td>\n",
       "      <td>Altark Susent</td>\n",
       "    </tr>\n",
       "    <tr>\n",
       "      <th>3</th>\n",
       "      <td>0003_02</td>\n",
       "      <td>Europa</td>\n",
       "      <td>False</td>\n",
       "      <td>A/0/S</td>\n",
       "      <td>TRAPPIST-1e</td>\n",
       "      <td>33.0</td>\n",
       "      <td>False</td>\n",
       "      <td>0.0</td>\n",
       "      <td>1283.0</td>\n",
       "      <td>371.0</td>\n",
       "      <td>3329.0</td>\n",
       "      <td>193.0</td>\n",
       "      <td>Solam Susent</td>\n",
       "    </tr>\n",
       "    <tr>\n",
       "      <th>4</th>\n",
       "      <td>0004_01</td>\n",
       "      <td>Earth</td>\n",
       "      <td>False</td>\n",
       "      <td>F/1/S</td>\n",
       "      <td>TRAPPIST-1e</td>\n",
       "      <td>16.0</td>\n",
       "      <td>False</td>\n",
       "      <td>303.0</td>\n",
       "      <td>70.0</td>\n",
       "      <td>151.0</td>\n",
       "      <td>565.0</td>\n",
       "      <td>2.0</td>\n",
       "      <td>Willy Santantines</td>\n",
       "    </tr>\n",
       "  </tbody>\n",
       "</table>\n",
       "</div>"
      ],
      "text/plain": [
       "  PassengerId HomePlanet CryoSleep  Cabin  Destination   Age    VIP  \\\n",
       "0     0001_01     Europa     False  B/0/P  TRAPPIST-1e  39.0  False   \n",
       "1     0002_01      Earth     False  F/0/S  TRAPPIST-1e  24.0  False   \n",
       "2     0003_01     Europa     False  A/0/S  TRAPPIST-1e  58.0   True   \n",
       "3     0003_02     Europa     False  A/0/S  TRAPPIST-1e  33.0  False   \n",
       "4     0004_01      Earth     False  F/1/S  TRAPPIST-1e  16.0  False   \n",
       "\n",
       "   RoomService  FoodCourt  ShoppingMall     Spa  VRDeck               Name  \n",
       "0          0.0        0.0           0.0     0.0     0.0    Maham Ofracculy  \n",
       "1        109.0        9.0          25.0   549.0    44.0       Juanna Vines  \n",
       "2         43.0     3576.0           0.0  6715.0    49.0      Altark Susent  \n",
       "3          0.0     1283.0         371.0  3329.0   193.0       Solam Susent  \n",
       "4        303.0       70.0         151.0   565.0     2.0  Willy Santantines  "
      ]
     },
     "execution_count": 6,
     "metadata": {},
     "output_type": "execute_result"
    }
   ],
   "source": [
    "df.head()"
   ]
  },
  {
   "cell_type": "code",
   "execution_count": 7,
   "id": "7a9ef00c",
   "metadata": {
    "execution": {
     "iopub.execute_input": "2023-06-12T20:59:50.415633Z",
     "iopub.status.busy": "2023-06-12T20:59:50.414675Z",
     "iopub.status.idle": "2023-06-12T20:59:50.420139Z",
     "shell.execute_reply": "2023-06-12T20:59:50.419103Z"
    },
    "papermill": {
     "duration": 0.031829,
     "end_time": "2023-06-12T20:59:50.422233",
     "exception": false,
     "start_time": "2023-06-12T20:59:50.390404",
     "status": "completed"
    },
    "tags": []
   },
   "outputs": [
    {
     "name": "stdout",
     "output_type": "stream",
     "text": [
      "(8693, 14) (4277, 13) (12970, 13)\n"
     ]
    }
   ],
   "source": [
    "print(train_data.shape, test_data.shape, df.shape)"
   ]
  },
  {
   "cell_type": "code",
   "execution_count": 8,
   "id": "0c420e8b",
   "metadata": {
    "execution": {
     "iopub.execute_input": "2023-06-12T20:59:50.469874Z",
     "iopub.status.busy": "2023-06-12T20:59:50.469171Z",
     "iopub.status.idle": "2023-06-12T20:59:50.474928Z",
     "shell.execute_reply": "2023-06-12T20:59:50.474172Z"
    },
    "papermill": {
     "duration": 0.031831,
     "end_time": "2023-06-12T20:59:50.476935",
     "exception": false,
     "start_time": "2023-06-12T20:59:50.445104",
     "status": "completed"
    },
    "tags": []
   },
   "outputs": [
    {
     "data": {
      "text/plain": [
       "8693"
      ]
     },
     "execution_count": 8,
     "metadata": {},
     "output_type": "execute_result"
    }
   ],
   "source": [
    "train_max = train_data.shape[0] #This will help us divide the dataframe back into training and testing sets later.\n",
    "train_max"
   ]
  },
  {
   "cell_type": "code",
   "execution_count": 9,
   "id": "f68f824c",
   "metadata": {
    "execution": {
     "iopub.execute_input": "2023-06-12T20:59:50.524385Z",
     "iopub.status.busy": "2023-06-12T20:59:50.523637Z",
     "iopub.status.idle": "2023-06-12T20:59:50.573412Z",
     "shell.execute_reply": "2023-06-12T20:59:50.571699Z"
    },
    "papermill": {
     "duration": 0.076234,
     "end_time": "2023-06-12T20:59:50.575934",
     "exception": false,
     "start_time": "2023-06-12T20:59:50.499700",
     "status": "completed"
    },
    "tags": []
   },
   "outputs": [
    {
     "name": "stdout",
     "output_type": "stream",
     "text": [
      "<class 'pandas.core.frame.DataFrame'>\n",
      "RangeIndex: 12970 entries, 0 to 12969\n",
      "Data columns (total 13 columns):\n",
      " #   Column        Non-Null Count  Dtype  \n",
      "---  ------        --------------  -----  \n",
      " 0   PassengerId   12970 non-null  object \n",
      " 1   HomePlanet    12682 non-null  object \n",
      " 2   CryoSleep     12660 non-null  object \n",
      " 3   Cabin         12671 non-null  object \n",
      " 4   Destination   12696 non-null  object \n",
      " 5   Age           12700 non-null  float64\n",
      " 6   VIP           12674 non-null  object \n",
      " 7   RoomService   12707 non-null  float64\n",
      " 8   FoodCourt     12681 non-null  float64\n",
      " 9   ShoppingMall  12664 non-null  float64\n",
      " 10  Spa           12686 non-null  float64\n",
      " 11  VRDeck        12702 non-null  float64\n",
      " 12  Name          12676 non-null  object \n",
      "dtypes: float64(6), object(7)\n",
      "memory usage: 1.3+ MB\n"
     ]
    }
   ],
   "source": [
    "df.info()"
   ]
  },
  {
   "cell_type": "code",
   "execution_count": 10,
   "id": "41298290",
   "metadata": {
    "execution": {
     "iopub.execute_input": "2023-06-12T20:59:50.623736Z",
     "iopub.status.busy": "2023-06-12T20:59:50.623060Z",
     "iopub.status.idle": "2023-06-12T20:59:50.657501Z",
     "shell.execute_reply": "2023-06-12T20:59:50.656393Z"
    },
    "papermill": {
     "duration": 0.061243,
     "end_time": "2023-06-12T20:59:50.660104",
     "exception": false,
     "start_time": "2023-06-12T20:59:50.598861",
     "status": "completed"
    },
    "tags": []
   },
   "outputs": [
    {
     "data": {
      "text/html": [
       "<div>\n",
       "<style scoped>\n",
       "    .dataframe tbody tr th:only-of-type {\n",
       "        vertical-align: middle;\n",
       "    }\n",
       "\n",
       "    .dataframe tbody tr th {\n",
       "        vertical-align: top;\n",
       "    }\n",
       "\n",
       "    .dataframe thead th {\n",
       "        text-align: right;\n",
       "    }\n",
       "</style>\n",
       "<table border=\"1\" class=\"dataframe\">\n",
       "  <thead>\n",
       "    <tr style=\"text-align: right;\">\n",
       "      <th></th>\n",
       "      <th>Age</th>\n",
       "      <th>RoomService</th>\n",
       "      <th>FoodCourt</th>\n",
       "      <th>ShoppingMall</th>\n",
       "      <th>Spa</th>\n",
       "      <th>VRDeck</th>\n",
       "    </tr>\n",
       "  </thead>\n",
       "  <tbody>\n",
       "    <tr>\n",
       "      <th>count</th>\n",
       "      <td>8514.000000</td>\n",
       "      <td>8512.000000</td>\n",
       "      <td>8510.000000</td>\n",
       "      <td>8485.000000</td>\n",
       "      <td>8510.000000</td>\n",
       "      <td>8505.000000</td>\n",
       "    </tr>\n",
       "    <tr>\n",
       "      <th>mean</th>\n",
       "      <td>28.827930</td>\n",
       "      <td>224.687617</td>\n",
       "      <td>458.077203</td>\n",
       "      <td>173.729169</td>\n",
       "      <td>311.138778</td>\n",
       "      <td>304.854791</td>\n",
       "    </tr>\n",
       "    <tr>\n",
       "      <th>std</th>\n",
       "      <td>14.489021</td>\n",
       "      <td>666.717663</td>\n",
       "      <td>1611.489240</td>\n",
       "      <td>604.696458</td>\n",
       "      <td>1136.705535</td>\n",
       "      <td>1145.717189</td>\n",
       "    </tr>\n",
       "    <tr>\n",
       "      <th>min</th>\n",
       "      <td>0.000000</td>\n",
       "      <td>0.000000</td>\n",
       "      <td>0.000000</td>\n",
       "      <td>0.000000</td>\n",
       "      <td>0.000000</td>\n",
       "      <td>0.000000</td>\n",
       "    </tr>\n",
       "    <tr>\n",
       "      <th>25%</th>\n",
       "      <td>19.000000</td>\n",
       "      <td>0.000000</td>\n",
       "      <td>0.000000</td>\n",
       "      <td>0.000000</td>\n",
       "      <td>0.000000</td>\n",
       "      <td>0.000000</td>\n",
       "    </tr>\n",
       "    <tr>\n",
       "      <th>50%</th>\n",
       "      <td>27.000000</td>\n",
       "      <td>0.000000</td>\n",
       "      <td>0.000000</td>\n",
       "      <td>0.000000</td>\n",
       "      <td>0.000000</td>\n",
       "      <td>0.000000</td>\n",
       "    </tr>\n",
       "    <tr>\n",
       "      <th>75%</th>\n",
       "      <td>38.000000</td>\n",
       "      <td>47.000000</td>\n",
       "      <td>76.000000</td>\n",
       "      <td>27.000000</td>\n",
       "      <td>59.000000</td>\n",
       "      <td>46.000000</td>\n",
       "    </tr>\n",
       "    <tr>\n",
       "      <th>max</th>\n",
       "      <td>79.000000</td>\n",
       "      <td>14327.000000</td>\n",
       "      <td>29813.000000</td>\n",
       "      <td>23492.000000</td>\n",
       "      <td>22408.000000</td>\n",
       "      <td>24133.000000</td>\n",
       "    </tr>\n",
       "  </tbody>\n",
       "</table>\n",
       "</div>"
      ],
      "text/plain": [
       "               Age   RoomService     FoodCourt  ShoppingMall           Spa  \\\n",
       "count  8514.000000   8512.000000   8510.000000   8485.000000   8510.000000   \n",
       "mean     28.827930    224.687617    458.077203    173.729169    311.138778   \n",
       "std      14.489021    666.717663   1611.489240    604.696458   1136.705535   \n",
       "min       0.000000      0.000000      0.000000      0.000000      0.000000   \n",
       "25%      19.000000      0.000000      0.000000      0.000000      0.000000   \n",
       "50%      27.000000      0.000000      0.000000      0.000000      0.000000   \n",
       "75%      38.000000     47.000000     76.000000     27.000000     59.000000   \n",
       "max      79.000000  14327.000000  29813.000000  23492.000000  22408.000000   \n",
       "\n",
       "             VRDeck  \n",
       "count   8505.000000  \n",
       "mean     304.854791  \n",
       "std     1145.717189  \n",
       "min        0.000000  \n",
       "25%        0.000000  \n",
       "50%        0.000000  \n",
       "75%       46.000000  \n",
       "max    24133.000000  "
      ]
     },
     "execution_count": 10,
     "metadata": {},
     "output_type": "execute_result"
    }
   ],
   "source": [
    "train_data.describe()"
   ]
  },
  {
   "cell_type": "code",
   "execution_count": 11,
   "id": "591ae738",
   "metadata": {
    "execution": {
     "iopub.execute_input": "2023-06-12T20:59:50.708293Z",
     "iopub.status.busy": "2023-06-12T20:59:50.707885Z",
     "iopub.status.idle": "2023-06-12T20:59:50.721385Z",
     "shell.execute_reply": "2023-06-12T20:59:50.720309Z"
    },
    "papermill": {
     "duration": 0.040086,
     "end_time": "2023-06-12T20:59:50.723588",
     "exception": false,
     "start_time": "2023-06-12T20:59:50.683502",
     "status": "completed"
    },
    "tags": []
   },
   "outputs": [
    {
     "data": {
      "text/plain": [
       "Transported     1.000000\n",
       "FoodCourt       0.046566\n",
       "ShoppingMall    0.010141\n",
       "Age            -0.075026\n",
       "VRDeck         -0.207075\n",
       "Spa            -0.221131\n",
       "RoomService    -0.244611\n",
       "Name: Transported, dtype: float64"
      ]
     },
     "execution_count": 11,
     "metadata": {},
     "output_type": "execute_result"
    }
   ],
   "source": [
    "#Check correlation of numerical features with the target variable.\n",
    "train_data.select_dtypes(exclude = [\"object\"]).corr()['Transported'].sort_values(ascending=False)"
   ]
  },
  {
   "cell_type": "code",
   "execution_count": 12,
   "id": "3c9c764b",
   "metadata": {
    "execution": {
     "iopub.execute_input": "2023-06-12T20:59:50.773055Z",
     "iopub.status.busy": "2023-06-12T20:59:50.772665Z",
     "iopub.status.idle": "2023-06-12T20:59:50.780760Z",
     "shell.execute_reply": "2023-06-12T20:59:50.779708Z"
    },
    "papermill": {
     "duration": 0.035873,
     "end_time": "2023-06-12T20:59:50.783178",
     "exception": false,
     "start_time": "2023-06-12T20:59:50.747305",
     "status": "completed"
    },
    "tags": []
   },
   "outputs": [
    {
     "data": {
      "text/plain": [
       "Index(['PassengerId', 'HomePlanet', 'CryoSleep', 'Cabin', 'Destination', 'VIP',\n",
       "       'Name'],\n",
       "      dtype='object')"
      ]
     },
     "execution_count": 12,
     "metadata": {},
     "output_type": "execute_result"
    }
   ],
   "source": [
    "cat_feat = train_data.select_dtypes(include = [\"object\"]).columns\n",
    "cat_feat"
   ]
  },
  {
   "cell_type": "code",
   "execution_count": 13,
   "id": "ba93c83a",
   "metadata": {
    "execution": {
     "iopub.execute_input": "2023-06-12T20:59:50.831503Z",
     "iopub.status.busy": "2023-06-12T20:59:50.831099Z",
     "iopub.status.idle": "2023-06-12T20:59:51.951578Z",
     "shell.execute_reply": "2023-06-12T20:59:51.950404Z"
    },
    "papermill": {
     "duration": 1.147229,
     "end_time": "2023-06-12T20:59:51.953876",
     "exception": false,
     "start_time": "2023-06-12T20:59:50.806647",
     "status": "completed"
    },
    "tags": []
   },
   "outputs": [
    {
     "data": {
      "image/png": "[encoded data removed]",
      "text/plain": [
       "<Figure size 640x480 with 1 Axes>"
      ]
     },
     "metadata": {},
     "output_type": "display_data"
    },
    {
     "data": {
      "image/png": "[encoded data removed]",
      "text/plain": [
       "<Figure size 640x480 with 1 Axes>"
      ]
     },
     "metadata": {},
     "output_type": "display_data"
    },
    {
     "data": {
      "image/png": "[encoded data removed]",
      "text/plain": [
       "<Figure size 640x480 with 1 Axes>"
      ]
     },
     "metadata": {},
     "output_type": "display_data"
    },
    {
     "data": {
      "image/png": "[encoded data removed]",
      "text/plain": [
       "<Figure size 640x480 with 1 Axes>"
      ]
     },
     "metadata": {},
     "output_type": "display_data"
    }
   ],
   "source": [
    "cat_list = ['HomePlanet', 'CryoSleep', 'Destination', 'VIP']\n",
    "for feat in cat_list:\n",
    "    sns.countplot(x=feat, hue='Transported', data=train_data)\n",
    "    plt.show()"
   ]
  },
  {
   "cell_type": "code",
   "execution_count": 14,
   "id": "6bffc14c",
   "metadata": {
    "execution": {
     "iopub.execute_input": "2023-06-12T20:59:52.006287Z",
     "iopub.status.busy": "2023-06-12T20:59:52.005600Z",
     "iopub.status.idle": "2023-06-12T20:59:53.940044Z",
     "shell.execute_reply": "2023-06-12T20:59:53.938830Z"
    },
    "papermill": {
     "duration": 1.963468,
     "end_time": "2023-06-12T20:59:53.942679",
     "exception": false,
     "start_time": "2023-06-12T20:59:51.979211",
     "status": "completed"
    },
    "tags": []
   },
   "outputs": [
    {
     "data": {
      "text/plain": [
       "array([[<Axes: title={'center': 'Age'}>,\n",
       "        <Axes: title={'center': 'RoomService'}>],\n",
       "       [<Axes: title={'center': 'FoodCourt'}>,\n",
       "        <Axes: title={'center': 'ShoppingMall'}>],\n",
       "       [<Axes: title={'center': 'Spa'}>,\n",
       "        <Axes: title={'center': 'VRDeck'}>]], dtype=object)"
      ]
     },
     "execution_count": 14,
     "metadata": {},
     "output_type": "execute_result"
    },
    {
     "data": {
      "image/png": "[encoded data removed]",
      "text/plain": [
       "<Figure size 1600x2000 with 6 Axes>"
      ]
     },
     "metadata": {},
     "output_type": "display_data"
    }
   ],
   "source": [
    "train_data[train_data.select_dtypes(exclude = [\"object\"]).columns.tolist()].hist(figsize=(16, 20), xlabelsize=8, ylabelsize=8)"
   ]
  },
  {
   "cell_type": "markdown",
   "id": "54601053",
   "metadata": {
    "papermill": {
     "duration": 0.026113,
     "end_time": "2023-06-12T20:59:53.995724",
     "exception": false,
     "start_time": "2023-06-12T20:59:53.969611",
     "status": "completed"
    },
    "tags": []
   },
   "source": [
    "The charts above show some skewness. We will deal with this later on."
   ]
  },
  {
   "cell_type": "code",
   "execution_count": 15,
   "id": "7b98db09",
   "metadata": {
    "execution": {
     "iopub.execute_input": "2023-06-12T20:59:54.049678Z",
     "iopub.status.busy": "2023-06-12T20:59:54.049290Z",
     "iopub.status.idle": "2023-06-12T20:59:54.059047Z",
     "shell.execute_reply": "2023-06-12T20:59:54.057928Z"
    },
    "papermill": {
     "duration": 0.039277,
     "end_time": "2023-06-12T20:59:54.061152",
     "exception": false,
     "start_time": "2023-06-12T20:59:54.021875",
     "status": "completed"
    },
    "tags": []
   },
   "outputs": [
    {
     "data": {
      "text/plain": [
       "True     4378\n",
       "False    4315\n",
       "Name: Transported, dtype: int64"
      ]
     },
     "execution_count": 15,
     "metadata": {},
     "output_type": "execute_result"
    }
   ],
   "source": [
    "train_data['Transported'].value_counts()"
   ]
  },
  {
   "cell_type": "code",
   "execution_count": 16,
   "id": "785df9a9",
   "metadata": {
    "execution": {
     "iopub.execute_input": "2023-06-12T20:59:54.116132Z",
     "iopub.status.busy": "2023-06-12T20:59:54.115111Z",
     "iopub.status.idle": "2023-06-12T20:59:54.154987Z",
     "shell.execute_reply": "2023-06-12T20:59:54.153900Z"
    },
    "papermill": {
     "duration": 0.070048,
     "end_time": "2023-06-12T20:59:54.157662",
     "exception": false,
     "start_time": "2023-06-12T20:59:54.087614",
     "status": "completed"
    },
    "tags": []
   },
   "outputs": [
    {
     "data": {
      "text/plain": [
       "PassengerId       0\n",
       "HomePlanet      288\n",
       "CryoSleep       310\n",
       "Cabin           299\n",
       "Destination     274\n",
       "Age             270\n",
       "VIP             296\n",
       "RoomService     263\n",
       "FoodCourt       289\n",
       "ShoppingMall    306\n",
       "Spa             284\n",
       "VRDeck          268\n",
       "Name            294\n",
       "dtype: int64"
      ]
     },
     "execution_count": 16,
     "metadata": {},
     "output_type": "execute_result"
    }
   ],
   "source": [
    "df.isna().sum()"
   ]
  },
  {
   "cell_type": "code",
   "execution_count": 17,
   "id": "cae7a432",
   "metadata": {
    "execution": {
     "iopub.execute_input": "2023-06-12T20:59:54.212679Z",
     "iopub.status.busy": "2023-06-12T20:59:54.212292Z",
     "iopub.status.idle": "2023-06-12T20:59:54.243969Z",
     "shell.execute_reply": "2023-06-12T20:59:54.242887Z"
    },
    "papermill": {
     "duration": 0.061877,
     "end_time": "2023-06-12T20:59:54.246278",
     "exception": false,
     "start_time": "2023-06-12T20:59:54.184401",
     "status": "completed"
    },
    "tags": []
   },
   "outputs": [
    {
     "data": {
      "text/html": [
       "<div>\n",
       "<style scoped>\n",
       "    .dataframe tbody tr th:only-of-type {\n",
       "        vertical-align: middle;\n",
       "    }\n",
       "\n",
       "    .dataframe tbody tr th {\n",
       "        vertical-align: top;\n",
       "    }\n",
       "\n",
       "    .dataframe thead th {\n",
       "        text-align: right;\n",
       "    }\n",
       "</style>\n",
       "<table border=\"1\" class=\"dataframe\">\n",
       "  <thead>\n",
       "    <tr style=\"text-align: right;\">\n",
       "      <th></th>\n",
       "      <th>PassengerId</th>\n",
       "      <th>HomePlanet</th>\n",
       "      <th>CryoSleep</th>\n",
       "      <th>Cabin</th>\n",
       "      <th>Destination</th>\n",
       "      <th>Age</th>\n",
       "      <th>VIP</th>\n",
       "      <th>RoomService</th>\n",
       "      <th>FoodCourt</th>\n",
       "      <th>ShoppingMall</th>\n",
       "      <th>Spa</th>\n",
       "      <th>VRDeck</th>\n",
       "      <th>Name</th>\n",
       "    </tr>\n",
       "  </thead>\n",
       "  <tbody>\n",
       "    <tr>\n",
       "      <th>59</th>\n",
       "      <td>0064_02</td>\n",
       "      <td>NaN</td>\n",
       "      <td>True</td>\n",
       "      <td>E/3/S</td>\n",
       "      <td>TRAPPIST-1e</td>\n",
       "      <td>33.0</td>\n",
       "      <td>False</td>\n",
       "      <td>0.0</td>\n",
       "      <td>0.0</td>\n",
       "      <td>NaN</td>\n",
       "      <td>0.0</td>\n",
       "      <td>0.0</td>\n",
       "      <td>Colatz Keen</td>\n",
       "    </tr>\n",
       "    <tr>\n",
       "      <th>113</th>\n",
       "      <td>0119_01</td>\n",
       "      <td>NaN</td>\n",
       "      <td>False</td>\n",
       "      <td>A/0/P</td>\n",
       "      <td>TRAPPIST-1e</td>\n",
       "      <td>39.0</td>\n",
       "      <td>False</td>\n",
       "      <td>0.0</td>\n",
       "      <td>2344.0</td>\n",
       "      <td>0.0</td>\n",
       "      <td>65.0</td>\n",
       "      <td>6898.0</td>\n",
       "      <td>Batan Coning</td>\n",
       "    </tr>\n",
       "    <tr>\n",
       "      <th>186</th>\n",
       "      <td>0210_01</td>\n",
       "      <td>NaN</td>\n",
       "      <td>True</td>\n",
       "      <td>D/6/P</td>\n",
       "      <td>55 Cancri e</td>\n",
       "      <td>24.0</td>\n",
       "      <td>False</td>\n",
       "      <td>0.0</td>\n",
       "      <td>0.0</td>\n",
       "      <td>NaN</td>\n",
       "      <td>0.0</td>\n",
       "      <td>0.0</td>\n",
       "      <td>Arraid Inicont</td>\n",
       "    </tr>\n",
       "    <tr>\n",
       "      <th>225</th>\n",
       "      <td>0242_01</td>\n",
       "      <td>NaN</td>\n",
       "      <td>False</td>\n",
       "      <td>F/46/S</td>\n",
       "      <td>TRAPPIST-1e</td>\n",
       "      <td>18.0</td>\n",
       "      <td>False</td>\n",
       "      <td>313.0</td>\n",
       "      <td>1.0</td>\n",
       "      <td>691.0</td>\n",
       "      <td>283.0</td>\n",
       "      <td>0.0</td>\n",
       "      <td>Almone Sté</td>\n",
       "    </tr>\n",
       "    <tr>\n",
       "      <th>234</th>\n",
       "      <td>0251_01</td>\n",
       "      <td>NaN</td>\n",
       "      <td>True</td>\n",
       "      <td>C/11/S</td>\n",
       "      <td>55 Cancri e</td>\n",
       "      <td>54.0</td>\n",
       "      <td>False</td>\n",
       "      <td>0.0</td>\n",
       "      <td>0.0</td>\n",
       "      <td>0.0</td>\n",
       "      <td>0.0</td>\n",
       "      <td>0.0</td>\n",
       "      <td>Diphah Amsive</td>\n",
       "    </tr>\n",
       "    <tr>\n",
       "      <th>...</th>\n",
       "      <td>...</td>\n",
       "      <td>...</td>\n",
       "      <td>...</td>\n",
       "      <td>...</td>\n",
       "      <td>...</td>\n",
       "      <td>...</td>\n",
       "      <td>...</td>\n",
       "      <td>...</td>\n",
       "      <td>...</td>\n",
       "      <td>...</td>\n",
       "      <td>...</td>\n",
       "      <td>...</td>\n",
       "      <td>...</td>\n",
       "    </tr>\n",
       "    <tr>\n",
       "      <th>12650</th>\n",
       "      <td>8621_01</td>\n",
       "      <td>NaN</td>\n",
       "      <td>False</td>\n",
       "      <td>E/552/P</td>\n",
       "      <td>TRAPPIST-1e</td>\n",
       "      <td>19.0</td>\n",
       "      <td>False</td>\n",
       "      <td>4.0</td>\n",
       "      <td>0.0</td>\n",
       "      <td>1604.0</td>\n",
       "      <td>0.0</td>\n",
       "      <td>0.0</td>\n",
       "      <td>Vanley Simmonders</td>\n",
       "    </tr>\n",
       "    <tr>\n",
       "      <th>12673</th>\n",
       "      <td>8678_01</td>\n",
       "      <td>NaN</td>\n",
       "      <td>True</td>\n",
       "      <td>G/1399/S</td>\n",
       "      <td>55 Cancri e</td>\n",
       "      <td>9.0</td>\n",
       "      <td>False</td>\n",
       "      <td>0.0</td>\n",
       "      <td>0.0</td>\n",
       "      <td>0.0</td>\n",
       "      <td>0.0</td>\n",
       "      <td>0.0</td>\n",
       "      <td>Eilan Kellson</td>\n",
       "    </tr>\n",
       "    <tr>\n",
       "      <th>12725</th>\n",
       "      <td>8775_01</td>\n",
       "      <td>NaN</td>\n",
       "      <td>True</td>\n",
       "      <td>D/275/P</td>\n",
       "      <td>TRAPPIST-1e</td>\n",
       "      <td>40.0</td>\n",
       "      <td>False</td>\n",
       "      <td>0.0</td>\n",
       "      <td>0.0</td>\n",
       "      <td>0.0</td>\n",
       "      <td>0.0</td>\n",
       "      <td>0.0</td>\n",
       "      <td>Raston Maltorted</td>\n",
       "    </tr>\n",
       "    <tr>\n",
       "      <th>12852</th>\n",
       "      <td>9025_01</td>\n",
       "      <td>NaN</td>\n",
       "      <td>False</td>\n",
       "      <td>G/1454/S</td>\n",
       "      <td>TRAPPIST-1e</td>\n",
       "      <td>42.0</td>\n",
       "      <td>False</td>\n",
       "      <td>0.0</td>\n",
       "      <td>0.0</td>\n",
       "      <td>28.0</td>\n",
       "      <td>726.0</td>\n",
       "      <td>0.0</td>\n",
       "      <td>Ale Whitersone</td>\n",
       "    </tr>\n",
       "    <tr>\n",
       "      <th>12906</th>\n",
       "      <td>9146_01</td>\n",
       "      <td>NaN</td>\n",
       "      <td>False</td>\n",
       "      <td>F/1874/P</td>\n",
       "      <td>TRAPPIST-1e</td>\n",
       "      <td>52.0</td>\n",
       "      <td>False</td>\n",
       "      <td>994.0</td>\n",
       "      <td>0.0</td>\n",
       "      <td>173.0</td>\n",
       "      <td>0.0</td>\n",
       "      <td>24.0</td>\n",
       "      <td>Rionk Sache</td>\n",
       "    </tr>\n",
       "  </tbody>\n",
       "</table>\n",
       "<p>288 rows × 13 columns</p>\n",
       "</div>"
      ],
      "text/plain": [
       "      PassengerId HomePlanet CryoSleep     Cabin  Destination   Age    VIP  \\\n",
       "59        0064_02        NaN      True     E/3/S  TRAPPIST-1e  33.0  False   \n",
       "113       0119_01        NaN     False     A/0/P  TRAPPIST-1e  39.0  False   \n",
       "186       0210_01        NaN      True     D/6/P  55 Cancri e  24.0  False   \n",
       "225       0242_01        NaN     False    F/46/S  TRAPPIST-1e  18.0  False   \n",
       "234       0251_01        NaN      True    C/11/S  55 Cancri e  54.0  False   \n",
       "...           ...        ...       ...       ...          ...   ...    ...   \n",
       "12650     8621_01        NaN     False   E/552/P  TRAPPIST-1e  19.0  False   \n",
       "12673     8678_01        NaN      True  G/1399/S  55 Cancri e   9.0  False   \n",
       "12725     8775_01        NaN      True   D/275/P  TRAPPIST-1e  40.0  False   \n",
       "12852     9025_01        NaN     False  G/1454/S  TRAPPIST-1e  42.0  False   \n",
       "12906     9146_01        NaN     False  F/1874/P  TRAPPIST-1e  52.0  False   \n",
       "\n",
       "       RoomService  FoodCourt  ShoppingMall    Spa  VRDeck               Name  \n",
       "59             0.0        0.0           NaN    0.0     0.0        Colatz Keen  \n",
       "113            0.0     2344.0           0.0   65.0  6898.0       Batan Coning  \n",
       "186            0.0        0.0           NaN    0.0     0.0     Arraid Inicont  \n",
       "225          313.0        1.0         691.0  283.0     0.0         Almone Sté  \n",
       "234            0.0        0.0           0.0    0.0     0.0      Diphah Amsive  \n",
       "...            ...        ...           ...    ...     ...                ...  \n",
       "12650          4.0        0.0        1604.0    0.0     0.0  Vanley Simmonders  \n",
       "12673          0.0        0.0           0.0    0.0     0.0      Eilan Kellson  \n",
       "12725          0.0        0.0           0.0    0.0     0.0   Raston Maltorted  \n",
       "12852          0.0        0.0          28.0  726.0     0.0     Ale Whitersone  \n",
       "12906        994.0        0.0         173.0    0.0    24.0        Rionk Sache  \n",
       "\n",
       "[288 rows x 13 columns]"
      ]
     },
     "execution_count": 17,
     "metadata": {},
     "output_type": "execute_result"
    }
   ],
   "source": [
    "df[df['HomePlanet'].isna()]"
   ]
  },
  {
   "cell_type": "code",
   "execution_count": 18,
   "id": "8fc4f317",
   "metadata": {
    "execution": {
     "iopub.execute_input": "2023-06-12T20:59:54.302214Z",
     "iopub.status.busy": "2023-06-12T20:59:54.301793Z",
     "iopub.status.idle": "2023-06-12T20:59:55.445328Z",
     "shell.execute_reply": "2023-06-12T20:59:55.444130Z"
    },
    "papermill": {
     "duration": 1.174864,
     "end_time": "2023-06-12T20:59:55.448265",
     "exception": false,
     "start_time": "2023-06-12T20:59:54.273401",
     "status": "completed"
    },
    "tags": []
   },
   "outputs": [],
   "source": [
    "df['Group'] = df['PassengerId'] #The passengerId has some information we can retrieve such as the group number.\n",
    "for i, group in enumerate(df['PassengerId']):\n",
    "    df.loc[i, 'Group'] = group.split('_')[0]"
   ]
  },
  {
   "cell_type": "code",
   "execution_count": 19,
   "id": "762a53ac",
   "metadata": {
    "execution": {
     "iopub.execute_input": "2023-06-12T20:59:55.509037Z",
     "iopub.status.busy": "2023-06-12T20:59:55.508536Z",
     "iopub.status.idle": "2023-06-12T20:59:56.664622Z",
     "shell.execute_reply": "2023-06-12T20:59:56.663387Z"
    },
    "papermill": {
     "duration": 1.191916,
     "end_time": "2023-06-12T20:59:56.667567",
     "exception": false,
     "start_time": "2023-06-12T20:59:55.475651",
     "status": "completed"
    },
    "tags": []
   },
   "outputs": [],
   "source": [
    "df['Num'] = df['PassengerId'] #PassengerId also has information regarding the number of a person in relation to a group, we can use this later on to creat the group size\n",
    "for i, num in enumerate(df['PassengerId']):\n",
    "    df.loc[i, 'Num'] = num.split('_')[1]"
   ]
  },
  {
   "cell_type": "code",
   "execution_count": 20,
   "id": "b15192b3",
   "metadata": {
    "execution": {
     "iopub.execute_input": "2023-06-12T20:59:56.724367Z",
     "iopub.status.busy": "2023-06-12T20:59:56.723922Z",
     "iopub.status.idle": "2023-06-12T20:59:57.881893Z",
     "shell.execute_reply": "2023-06-12T20:59:57.880439Z"
    },
    "papermill": {
     "duration": 1.189495,
     "end_time": "2023-06-12T20:59:57.884712",
     "exception": false,
     "start_time": "2023-06-12T20:59:56.695217",
     "status": "completed"
    },
    "tags": []
   },
   "outputs": [],
   "source": [
    "df['Surname'] = df['Name']\n",
    "for i, name in enumerate(df['Name']):\n",
    "    if pd.isna(name) == False:\n",
    "        df.loc[i, 'Surname'] = name.split()[1]"
   ]
  },
  {
   "cell_type": "code",
   "execution_count": 21,
   "id": "36f4efa0",
   "metadata": {
    "execution": {
     "iopub.execute_input": "2023-06-12T20:59:57.941565Z",
     "iopub.status.busy": "2023-06-12T20:59:57.941158Z",
     "iopub.status.idle": "2023-06-12T20:59:59.338120Z",
     "shell.execute_reply": "2023-06-12T20:59:59.336858Z"
    },
    "papermill": {
     "duration": 1.428398,
     "end_time": "2023-06-12T20:59:59.340769",
     "exception": false,
     "start_time": "2023-06-12T20:59:57.912371",
     "status": "completed"
    },
    "tags": []
   },
   "outputs": [],
   "source": [
    "#This code will check if people from the same group have a surname, if no surname is observed the first non-NaN surname from the group will be used.\n",
    "\n",
    "null_mask = pd.isna(df['Surname'])\n",
    "groups = df['Group']\n",
    "\n",
    "for i, value in enumerate(df['Surname']):\n",
    "    if null_mask[i]:\n",
    "        matching_indices = (groups == groups[i]) & (~pd.isna(df['Surname']))\n",
    "        matching_surnames = df.loc[matching_indices, 'Surname']\n",
    "\n",
    "        if not matching_surnames.empty:\n",
    "            df.loc[i, 'Surname'] = matching_surnames.iloc[0]"
   ]
  },
  {
   "cell_type": "code",
   "execution_count": 22,
   "id": "6b184fac",
   "metadata": {
    "execution": {
     "iopub.execute_input": "2023-06-12T20:59:59.401233Z",
     "iopub.status.busy": "2023-06-12T20:59:59.400461Z",
     "iopub.status.idle": "2023-06-12T20:59:59.409390Z",
     "shell.execute_reply": "2023-06-12T20:59:59.408388Z"
    },
    "papermill": {
     "duration": 0.041437,
     "end_time": "2023-06-12T20:59:59.411782",
     "exception": false,
     "start_time": "2023-06-12T20:59:59.370345",
     "status": "completed"
    },
    "tags": []
   },
   "outputs": [],
   "source": [
    "#Now we have all the surnames we can gather accurately from the data, we can use them to chech for other features.\n",
    "#The function below will take a feature argument and check if other members with the same group and surname have that feature.\n",
    "#If the feature is present we can then replace the NaN.\n",
    "\n",
    "def f_na(feature):\n",
    "    null_mask = pd.isna(df[feature])\n",
    "    groups = df['Group']\n",
    "    surnames = df['Surname']\n",
    "\n",
    "    for i, value in enumerate(df[feature]):\n",
    "        if null_mask[i]:\n",
    "            matching_indices = (groups == groups[i]) & (~pd.isna(df[feature])) & (surnames == surnames[i])\n",
    "            matching_values = df.loc[matching_indices, feature]\n",
    "\n",
    "            if not matching_values.empty:\n",
    "                df.loc[i, feature] = matching_values.iloc[0]"
   ]
  },
  {
   "cell_type": "code",
   "execution_count": 23,
   "id": "3a68e253",
   "metadata": {
    "execution": {
     "iopub.execute_input": "2023-06-12T20:59:59.476940Z",
     "iopub.status.busy": "2023-06-12T20:59:59.476545Z",
     "iopub.status.idle": "2023-06-12T20:59:59.490328Z",
     "shell.execute_reply": "2023-06-12T20:59:59.489430Z"
    },
    "papermill": {
     "duration": 0.046323,
     "end_time": "2023-06-12T20:59:59.492656",
     "exception": false,
     "start_time": "2023-06-12T20:59:59.446333",
     "status": "completed"
    },
    "tags": []
   },
   "outputs": [
    {
     "data": {
      "text/plain": [
       "12827    Mars\n",
       "12828    Mars\n",
       "12829    Mars\n",
       "12830    Mars\n",
       "12831    Mars\n",
       "12832    Mars\n",
       "12833    Mars\n",
       "Name: HomePlanet, dtype: object"
      ]
     },
     "execution_count": 23,
     "metadata": {},
     "output_type": "execute_result"
    }
   ],
   "source": [
    "df[df['Group'] == '8980']['HomePlanet'] #Same group people mainly share the same planet so it is safe to change these NaN"
   ]
  },
  {
   "cell_type": "code",
   "execution_count": 24,
   "id": "6937053d",
   "metadata": {
    "execution": {
     "iopub.execute_input": "2023-06-12T20:59:59.550451Z",
     "iopub.status.busy": "2023-06-12T20:59:59.549638Z",
     "iopub.status.idle": "2023-06-12T21:00:01.708359Z",
     "shell.execute_reply": "2023-06-12T21:00:01.706794Z"
    },
    "papermill": {
     "duration": 2.19096,
     "end_time": "2023-06-12T21:00:01.711657",
     "exception": false,
     "start_time": "2023-06-12T20:59:59.520697",
     "status": "completed"
    },
    "tags": []
   },
   "outputs": [],
   "source": [
    "f_na('HomePlanet')"
   ]
  },
  {
   "cell_type": "code",
   "execution_count": 25,
   "id": "ded8a9f2",
   "metadata": {
    "execution": {
     "iopub.execute_input": "2023-06-12T21:00:01.776780Z",
     "iopub.status.busy": "2023-06-12T21:00:01.776243Z",
     "iopub.status.idle": "2023-06-12T21:00:01.791507Z",
     "shell.execute_reply": "2023-06-12T21:00:01.790064Z"
    },
    "papermill": {
     "duration": 0.051817,
     "end_time": "2023-06-12T21:00:01.794736",
     "exception": false,
     "start_time": "2023-06-12T21:00:01.742919",
     "status": "completed"
    },
    "tags": []
   },
   "outputs": [
    {
     "data": {
      "text/plain": [
       "12827    TRAPPIST-1e\n",
       "12828    55 Cancri e\n",
       "12829    TRAPPIST-1e\n",
       "12830    TRAPPIST-1e\n",
       "12831            NaN\n",
       "12832    TRAPPIST-1e\n",
       "12833    TRAPPIST-1e\n",
       "Name: Destination, dtype: object"
      ]
     },
     "execution_count": 25,
     "metadata": {},
     "output_type": "execute_result"
    }
   ],
   "source": [
    "df[df['Group'] == '8980']['Destination'] #Same group people mainly share the same Destination."
   ]
  },
  {
   "cell_type": "code",
   "execution_count": 26,
   "id": "c9da49b4",
   "metadata": {
    "execution": {
     "iopub.execute_input": "2023-06-12T21:00:01.858392Z",
     "iopub.status.busy": "2023-06-12T21:00:01.857813Z",
     "iopub.status.idle": "2023-06-12T21:00:01.876970Z",
     "shell.execute_reply": "2023-06-12T21:00:01.875931Z"
    },
    "papermill": {
     "duration": 0.053679,
     "end_time": "2023-06-12T21:00:01.879769",
     "exception": false,
     "start_time": "2023-06-12T21:00:01.826090",
     "status": "completed"
    },
    "tags": []
   },
   "outputs": [
    {
     "data": {
      "text/html": [
       "<div>\n",
       "<style scoped>\n",
       "    .dataframe tbody tr th:only-of-type {\n",
       "        vertical-align: middle;\n",
       "    }\n",
       "\n",
       "    .dataframe tbody tr th {\n",
       "        vertical-align: top;\n",
       "    }\n",
       "\n",
       "    .dataframe thead th {\n",
       "        text-align: right;\n",
       "    }\n",
       "</style>\n",
       "<table border=\"1\" class=\"dataframe\">\n",
       "  <thead>\n",
       "    <tr style=\"text-align: right;\">\n",
       "      <th></th>\n",
       "      <th>Destination</th>\n",
       "      <th>Surname</th>\n",
       "    </tr>\n",
       "  </thead>\n",
       "  <tbody>\n",
       "    <tr>\n",
       "      <th>12827</th>\n",
       "      <td>TRAPPIST-1e</td>\n",
       "      <td>Brie</td>\n",
       "    </tr>\n",
       "    <tr>\n",
       "      <th>12828</th>\n",
       "      <td>55 Cancri e</td>\n",
       "      <td>Brie</td>\n",
       "    </tr>\n",
       "    <tr>\n",
       "      <th>12829</th>\n",
       "      <td>TRAPPIST-1e</td>\n",
       "      <td>Brie</td>\n",
       "    </tr>\n",
       "    <tr>\n",
       "      <th>12830</th>\n",
       "      <td>TRAPPIST-1e</td>\n",
       "      <td>Bare</td>\n",
       "    </tr>\n",
       "    <tr>\n",
       "      <th>12831</th>\n",
       "      <td>NaN</td>\n",
       "      <td>Brie</td>\n",
       "    </tr>\n",
       "    <tr>\n",
       "      <th>12832</th>\n",
       "      <td>TRAPPIST-1e</td>\n",
       "      <td>Brie</td>\n",
       "    </tr>\n",
       "    <tr>\n",
       "      <th>12833</th>\n",
       "      <td>TRAPPIST-1e</td>\n",
       "      <td>Brie</td>\n",
       "    </tr>\n",
       "  </tbody>\n",
       "</table>\n",
       "</div>"
      ],
      "text/plain": [
       "       Destination Surname\n",
       "12827  TRAPPIST-1e    Brie\n",
       "12828  55 Cancri e    Brie\n",
       "12829  TRAPPIST-1e    Brie\n",
       "12830  TRAPPIST-1e    Bare\n",
       "12831          NaN    Brie\n",
       "12832  TRAPPIST-1e    Brie\n",
       "12833  TRAPPIST-1e    Brie"
      ]
     },
     "execution_count": 26,
     "metadata": {},
     "output_type": "execute_result"
    }
   ],
   "source": [
    "df[df['Group'] == '8980'][['Destination', 'Surname']]"
   ]
  },
  {
   "cell_type": "code",
   "execution_count": 27,
   "id": "80a72bd7",
   "metadata": {
    "execution": {
     "iopub.execute_input": "2023-06-12T21:00:01.944504Z",
     "iopub.status.busy": "2023-06-12T21:00:01.944032Z",
     "iopub.status.idle": "2023-06-12T21:00:03.942241Z",
     "shell.execute_reply": "2023-06-12T21:00:03.941135Z"
    },
    "papermill": {
     "duration": 2.034222,
     "end_time": "2023-06-12T21:00:03.945324",
     "exception": false,
     "start_time": "2023-06-12T21:00:01.911102",
     "status": "completed"
    },
    "tags": []
   },
   "outputs": [],
   "source": [
    "f_na('Destination')"
   ]
  },
  {
   "cell_type": "code",
   "execution_count": 28,
   "id": "70832d74",
   "metadata": {
    "execution": {
     "iopub.execute_input": "2023-06-12T21:00:04.003148Z",
     "iopub.status.busy": "2023-06-12T21:00:04.002728Z",
     "iopub.status.idle": "2023-06-12T21:00:04.020087Z",
     "shell.execute_reply": "2023-06-12T21:00:04.019016Z"
    },
    "papermill": {
     "duration": 0.048895,
     "end_time": "2023-06-12T21:00:04.022387",
     "exception": false,
     "start_time": "2023-06-12T21:00:03.973492",
     "status": "completed"
    },
    "tags": []
   },
   "outputs": [
    {
     "data": {
      "text/html": [
       "<div>\n",
       "<style scoped>\n",
       "    .dataframe tbody tr th:only-of-type {\n",
       "        vertical-align: middle;\n",
       "    }\n",
       "\n",
       "    .dataframe tbody tr th {\n",
       "        vertical-align: top;\n",
       "    }\n",
       "\n",
       "    .dataframe thead th {\n",
       "        text-align: right;\n",
       "    }\n",
       "</style>\n",
       "<table border=\"1\" class=\"dataframe\">\n",
       "  <thead>\n",
       "    <tr style=\"text-align: right;\">\n",
       "      <th></th>\n",
       "      <th>CryoSleep</th>\n",
       "      <th>Surname</th>\n",
       "      <th>Age</th>\n",
       "    </tr>\n",
       "  </thead>\n",
       "  <tbody>\n",
       "    <tr>\n",
       "      <th>12947</th>\n",
       "      <td>False</td>\n",
       "      <td>Garnettiz</td>\n",
       "      <td>10.0</td>\n",
       "    </tr>\n",
       "    <tr>\n",
       "      <th>12948</th>\n",
       "      <td>True</td>\n",
       "      <td>Emenez</td>\n",
       "      <td>3.0</td>\n",
       "    </tr>\n",
       "    <tr>\n",
       "      <th>12949</th>\n",
       "      <td>True</td>\n",
       "      <td>Emenez</td>\n",
       "      <td>16.0</td>\n",
       "    </tr>\n",
       "    <tr>\n",
       "      <th>12950</th>\n",
       "      <td>False</td>\n",
       "      <td>Emenez</td>\n",
       "      <td>26.0</td>\n",
       "    </tr>\n",
       "    <tr>\n",
       "      <th>12951</th>\n",
       "      <td>True</td>\n",
       "      <td>Emenez</td>\n",
       "      <td>14.0</td>\n",
       "    </tr>\n",
       "    <tr>\n",
       "      <th>12952</th>\n",
       "      <td>False</td>\n",
       "      <td>Garnettiz</td>\n",
       "      <td>0.0</td>\n",
       "    </tr>\n",
       "    <tr>\n",
       "      <th>12953</th>\n",
       "      <td>False</td>\n",
       "      <td>Emenez</td>\n",
       "      <td>32.0</td>\n",
       "    </tr>\n",
       "  </tbody>\n",
       "</table>\n",
       "</div>"
      ],
      "text/plain": [
       "      CryoSleep    Surname   Age\n",
       "12947     False  Garnettiz  10.0\n",
       "12948      True     Emenez   3.0\n",
       "12949      True     Emenez  16.0\n",
       "12950     False     Emenez  26.0\n",
       "12951      True     Emenez  14.0\n",
       "12952     False  Garnettiz   0.0\n",
       "12953     False     Emenez  32.0"
      ]
     },
     "execution_count": 28,
     "metadata": {},
     "output_type": "execute_result"
    }
   ],
   "source": [
    "#Can't assume that people from the same group have the same value for CryoSleep\n",
    "df[df['Group'] == '9238'][['CryoSleep', 'Surname', 'Age']] "
   ]
  },
  {
   "cell_type": "code",
   "execution_count": 29,
   "id": "e72d88be",
   "metadata": {
    "execution": {
     "iopub.execute_input": "2023-06-12T21:00:04.079688Z",
     "iopub.status.busy": "2023-06-12T21:00:04.079316Z",
     "iopub.status.idle": "2023-06-12T21:00:04.090801Z",
     "shell.execute_reply": "2023-06-12T21:00:04.089701Z"
    },
    "papermill": {
     "duration": 0.042727,
     "end_time": "2023-06-12T21:00:04.092875",
     "exception": false,
     "start_time": "2023-06-12T21:00:04.050148",
     "status": "completed"
    },
    "tags": []
   },
   "outputs": [
    {
     "data": {
      "text/plain": [
       "12827    D/273/S\n",
       "12828    D/273/S\n",
       "12829    D/273/S\n",
       "12830    D/273/S\n",
       "12831    D/273/S\n",
       "12832    D/273/S\n",
       "12833    D/273/S\n",
       "Name: Cabin, dtype: object"
      ]
     },
     "execution_count": 29,
     "metadata": {},
     "output_type": "execute_result"
    }
   ],
   "source": [
    "df[df['Group'] == '8980']['Cabin'] #Same group people mainly share the same cabin."
   ]
  },
  {
   "cell_type": "code",
   "execution_count": 30,
   "id": "c72d6733",
   "metadata": {
    "execution": {
     "iopub.execute_input": "2023-06-12T21:00:04.150618Z",
     "iopub.status.busy": "2023-06-12T21:00:04.150212Z",
     "iopub.status.idle": "2023-06-12T21:00:06.277332Z",
     "shell.execute_reply": "2023-06-12T21:00:06.276267Z"
    },
    "papermill": {
     "duration": 2.159331,
     "end_time": "2023-06-12T21:00:06.280162",
     "exception": false,
     "start_time": "2023-06-12T21:00:04.120831",
     "status": "completed"
    },
    "tags": []
   },
   "outputs": [],
   "source": [
    "f_na('Cabin')"
   ]
  },
  {
   "cell_type": "code",
   "execution_count": 31,
   "id": "1699024e",
   "metadata": {
    "execution": {
     "iopub.execute_input": "2023-06-12T21:00:06.339229Z",
     "iopub.status.busy": "2023-06-12T21:00:06.338847Z",
     "iopub.status.idle": "2023-06-12T21:00:06.349478Z",
     "shell.execute_reply": "2023-06-12T21:00:06.348354Z"
    },
    "papermill": {
     "duration": 0.042581,
     "end_time": "2023-06-12T21:00:06.351814",
     "exception": false,
     "start_time": "2023-06-12T21:00:06.309233",
     "status": "completed"
    },
    "tags": []
   },
   "outputs": [
    {
     "data": {
      "text/plain": [
       "12827    False\n",
       "12828    False\n",
       "12829    False\n",
       "12830    False\n",
       "12831    False\n",
       "12832    False\n",
       "12833    False\n",
       "Name: VIP, dtype: object"
      ]
     },
     "execution_count": 31,
     "metadata": {},
     "output_type": "execute_result"
    }
   ],
   "source": [
    "df[df['Group'] == '8980']['VIP'] #Same group people mainly share the same planet."
   ]
  },
  {
   "cell_type": "code",
   "execution_count": 32,
   "id": "febed147",
   "metadata": {
    "execution": {
     "iopub.execute_input": "2023-06-12T21:00:06.411078Z",
     "iopub.status.busy": "2023-06-12T21:00:06.410381Z",
     "iopub.status.idle": "2023-06-12T21:00:08.515394Z",
     "shell.execute_reply": "2023-06-12T21:00:08.514573Z"
    },
    "papermill": {
     "duration": 2.137689,
     "end_time": "2023-06-12T21:00:08.517867",
     "exception": false,
     "start_time": "2023-06-12T21:00:06.380178",
     "status": "completed"
    },
    "tags": []
   },
   "outputs": [],
   "source": [
    "f_na('VIP')"
   ]
  },
  {
   "cell_type": "code",
   "execution_count": 33,
   "id": "280ceac8",
   "metadata": {
    "execution": {
     "iopub.execute_input": "2023-06-12T21:00:08.578149Z",
     "iopub.status.busy": "2023-06-12T21:00:08.577135Z",
     "iopub.status.idle": "2023-06-12T21:00:08.642499Z",
     "shell.execute_reply": "2023-06-12T21:00:08.641356Z"
    },
    "papermill": {
     "duration": 0.098485,
     "end_time": "2023-06-12T21:00:08.645420",
     "exception": false,
     "start_time": "2023-06-12T21:00:08.546935",
     "status": "completed"
    },
    "tags": []
   },
   "outputs": [
    {
     "data": {
      "text/plain": [
       "PassengerId       0\n",
       "HomePlanet      169\n",
       "CryoSleep       310\n",
       "Cabin           169\n",
       "Destination     163\n",
       "Age             270\n",
       "VIP             183\n",
       "RoomService     263\n",
       "FoodCourt       289\n",
       "ShoppingMall    306\n",
       "Spa             284\n",
       "VRDeck          268\n",
       "Name            294\n",
       "Group             0\n",
       "Num               0\n",
       "Surname         155\n",
       "dtype: int64"
      ]
     },
     "execution_count": 33,
     "metadata": {},
     "output_type": "execute_result"
    }
   ],
   "source": [
    "df.isna().sum() "
   ]
  },
  {
   "cell_type": "markdown",
   "id": "598de2c7",
   "metadata": {
    "papermill": {
     "duration": 0.02829,
     "end_time": "2023-06-12T21:00:08.709501",
     "exception": false,
     "start_time": "2023-06-12T21:00:08.681211",
     "status": "completed"
    },
    "tags": []
   },
   "source": [
    "We managed to solve some NaN with this strategy. The rest will be solved using sklearn"
   ]
  },
  {
   "cell_type": "code",
   "execution_count": 34,
   "id": "dc4c2159",
   "metadata": {
    "execution": {
     "iopub.execute_input": "2023-06-12T21:00:08.769513Z",
     "iopub.status.busy": "2023-06-12T21:00:08.769099Z",
     "iopub.status.idle": "2023-06-12T21:00:09.919384Z",
     "shell.execute_reply": "2023-06-12T21:00:09.918155Z"
    },
    "papermill": {
     "duration": 1.183639,
     "end_time": "2023-06-12T21:00:09.922349",
     "exception": false,
     "start_time": "2023-06-12T21:00:08.738710",
     "status": "completed"
    },
    "tags": []
   },
   "outputs": [],
   "source": [
    "#This code will split the information in Cabin so we have the cabin number, deck and side of ship (code below)\n",
    "df['Cabin_n'] = df['Cabin']\n",
    "for i, name in enumerate(df['Cabin']):\n",
    "    if pd.isna(name) == False:\n",
    "        df.loc[i, 'Cabin_n'] = name.split('/')[1]"
   ]
  },
  {
   "cell_type": "code",
   "execution_count": 35,
   "id": "3487bf89",
   "metadata": {
    "execution": {
     "iopub.execute_input": "2023-06-12T21:00:09.981921Z",
     "iopub.status.busy": "2023-06-12T21:00:09.981522Z",
     "iopub.status.idle": "2023-06-12T21:00:11.122083Z",
     "shell.execute_reply": "2023-06-12T21:00:11.120958Z"
    },
    "papermill": {
     "duration": 1.173317,
     "end_time": "2023-06-12T21:00:11.124822",
     "exception": false,
     "start_time": "2023-06-12T21:00:09.951505",
     "status": "completed"
    },
    "tags": []
   },
   "outputs": [],
   "source": [
    "df['Cabin_d'] = df['Cabin']\n",
    "for i, name in enumerate(df['Cabin']):\n",
    "    if pd.isna(name) == False:\n",
    "        df.loc[i, 'Cabin_d'] = name.split('/')[0]"
   ]
  },
  {
   "cell_type": "code",
   "execution_count": 36,
   "id": "8a214cb3",
   "metadata": {
    "execution": {
     "iopub.execute_input": "2023-06-12T21:00:11.184212Z",
     "iopub.status.busy": "2023-06-12T21:00:11.183790Z",
     "iopub.status.idle": "2023-06-12T21:00:12.325440Z",
     "shell.execute_reply": "2023-06-12T21:00:12.324181Z"
    },
    "papermill": {
     "duration": 1.174665,
     "end_time": "2023-06-12T21:00:12.328199",
     "exception": false,
     "start_time": "2023-06-12T21:00:11.153534",
     "status": "completed"
    },
    "tags": []
   },
   "outputs": [],
   "source": [
    "df['Cabin_s'] = df['Cabin']\n",
    "for i, name in enumerate(df['Cabin']):\n",
    "    if pd.isna(name) == False:\n",
    "        df.loc[i, 'Cabin_s'] = name.split('/')[2]"
   ]
  },
  {
   "cell_type": "code",
   "execution_count": 37,
   "id": "cdc3a161",
   "metadata": {
    "execution": {
     "iopub.execute_input": "2023-06-12T21:00:12.387399Z",
     "iopub.status.busy": "2023-06-12T21:00:12.387003Z",
     "iopub.status.idle": "2023-06-12T21:00:12.480711Z",
     "shell.execute_reply": "2023-06-12T21:00:12.479613Z"
    },
    "papermill": {
     "duration": 0.126396,
     "end_time": "2023-06-12T21:00:12.483452",
     "exception": false,
     "start_time": "2023-06-12T21:00:12.357056",
     "status": "completed"
    },
    "tags": []
   },
   "outputs": [],
   "source": [
    "#To use the knn-impute from sklearn we first need to change the categoricals to numbers\n",
    "\n",
    "planet_num = {'Europa': 1, 'Earth': 2, 'Mars': 3}\n",
    "df['Planet_num'] = df['HomePlanet'].replace(planet_num)\n",
    "\n",
    "cryo_num = {False: 0, True: 1}\n",
    "df['Cryo_num'] = df['CryoSleep'].replace(cryo_num)\n",
    "\n",
    "destination_num = {'TRAPPIST-1e': 1, '55 Cancri e': 2, 'PSO J318.5-22': 3}\n",
    "df['Dest_num'] = df['Destination'].replace(destination_num)\n",
    "\n",
    "num_n = {'01': 1, '02': 2, '03': 3, '04': 4, '05': 5, '06': 6, '07': 7, '08': 8}\n",
    "df['Num_n'] = df['Num'].replace(num_n)\n",
    "\n",
    "vip_num = {False: 0, True: 1}\n",
    "df['VIP_num'] = df['VIP'].replace(vip_num)\n",
    "\n",
    "deck_level = {'G': 1, 'F': 2, 'E': 3, 'D': 4, 'C': 5, 'B': 6, 'A': 7, 'T' : 7}\n",
    "df['Deck_num'] = df['Cabin_d'].replace(deck_level)"
   ]
  },
  {
   "cell_type": "code",
   "execution_count": 38,
   "id": "c291c185",
   "metadata": {
    "execution": {
     "iopub.execute_input": "2023-06-12T21:00:12.542625Z",
     "iopub.status.busy": "2023-06-12T21:00:12.542247Z",
     "iopub.status.idle": "2023-06-12T21:00:14.993569Z",
     "shell.execute_reply": "2023-06-12T21:00:14.992454Z"
    },
    "papermill": {
     "duration": 2.483796,
     "end_time": "2023-06-12T21:00:14.996211",
     "exception": false,
     "start_time": "2023-06-12T21:00:12.512415",
     "status": "completed"
    },
    "tags": []
   },
   "outputs": [],
   "source": [
    "from sklearn.impute import KNNImputer\n",
    "\n",
    "#List of categorical features to impute automaticly\n",
    "na_list = ['RoomService', 'FoodCourt', 'ShoppingMall', 'Planet_num', 'Cryo_num', 'Dest_num', 'Deck_num', 'VIP_num', 'Age', 'Spa', 'VRDeck']\n",
    "\n",
    "\n",
    "knn_imp = KNNImputer()\n",
    "\n",
    "df_num = pd.DataFrame(knn_imp.fit_transform(df[na_list]),\n",
    "                      columns=df[na_list].columns)"
   ]
  },
  {
   "cell_type": "code",
   "execution_count": 39,
   "id": "3f62c30f",
   "metadata": {
    "execution": {
     "iopub.execute_input": "2023-06-12T21:00:15.056550Z",
     "iopub.status.busy": "2023-06-12T21:00:15.055667Z",
     "iopub.status.idle": "2023-06-12T21:00:15.066189Z",
     "shell.execute_reply": "2023-06-12T21:00:15.064793Z"
    },
    "papermill": {
     "duration": 0.043335,
     "end_time": "2023-06-12T21:00:15.068907",
     "exception": false,
     "start_time": "2023-06-12T21:00:15.025572",
     "status": "completed"
    },
    "tags": []
   },
   "outputs": [],
   "source": [
    "df[na_list] = df_num"
   ]
  },
  {
   "cell_type": "code",
   "execution_count": 40,
   "id": "55ab7a97",
   "metadata": {
    "execution": {
     "iopub.execute_input": "2023-06-12T21:00:15.128687Z",
     "iopub.status.busy": "2023-06-12T21:00:15.127695Z",
     "iopub.status.idle": "2023-06-12T21:00:15.138414Z",
     "shell.execute_reply": "2023-06-12T21:00:15.137248Z"
    },
    "papermill": {
     "duration": 0.043025,
     "end_time": "2023-06-12T21:00:15.140764",
     "exception": false,
     "start_time": "2023-06-12T21:00:15.097739",
     "status": "completed"
    },
    "tags": []
   },
   "outputs": [],
   "source": [
    "df[['Planet_num', 'Deck_num', 'Dest_num', 'VIP_num', 'Cryo_num']] = df[['Planet_num', 'Deck_num', 'Dest_num', 'VIP_num', 'Cryo_num']].astype(int)"
   ]
  },
  {
   "cell_type": "code",
   "execution_count": 41,
   "id": "d49d69ec",
   "metadata": {
    "execution": {
     "iopub.execute_input": "2023-06-12T21:00:15.200148Z",
     "iopub.status.busy": "2023-06-12T21:00:15.199706Z",
     "iopub.status.idle": "2023-06-12T21:00:15.232608Z",
     "shell.execute_reply": "2023-06-12T21:00:15.231500Z"
    },
    "papermill": {
     "duration": 0.065347,
     "end_time": "2023-06-12T21:00:15.235290",
     "exception": false,
     "start_time": "2023-06-12T21:00:15.169943",
     "status": "completed"
    },
    "tags": []
   },
   "outputs": [],
   "source": [
    "#Replace numbers with categories again.\n",
    "planet_num = {1 : 'Europa', 2 :'Earth', 3: 'Mars'}\n",
    "df['HomePlanet'] = df['Planet_num'].replace(planet_num)\n",
    "\n",
    "cryo_num = {0: False, 1: True}\n",
    "df['CryoSleep'] = df['Cryo_num'].replace(cryo_num)\n",
    "\n",
    "destination_num = {1: 'TRAPPIST-1e', 2: '55 Cancri e', 3: 'PSO J318.5-22'}\n",
    "df['Destination'] = df['Dest_num'].replace(destination_num)\n",
    "\n",
    "deck_level = {1: 'G', 2: 'F', 3: 'E', 4: 'D', 5: 'C', 6: 'B', 7: 'A', 7: 'T'}\n",
    "df['Cabin_d'] = df['Deck_num'].replace(deck_level)\n",
    "\n",
    "vip_num = {0: False, 1: True}\n",
    "df['VIP'] = df['VIP_num'].replace(vip_num)"
   ]
  },
  {
   "cell_type": "code",
   "execution_count": 42,
   "id": "287bd9db",
   "metadata": {
    "execution": {
     "iopub.execute_input": "2023-06-12T21:00:15.294176Z",
     "iopub.status.busy": "2023-06-12T21:00:15.293731Z",
     "iopub.status.idle": "2023-06-12T21:00:15.350738Z",
     "shell.execute_reply": "2023-06-12T21:00:15.349599Z"
    },
    "papermill": {
     "duration": 0.089209,
     "end_time": "2023-06-12T21:00:15.353343",
     "exception": false,
     "start_time": "2023-06-12T21:00:15.264134",
     "status": "completed"
    },
    "tags": []
   },
   "outputs": [
    {
     "data": {
      "text/plain": [
       "PassengerId       0\n",
       "HomePlanet        0\n",
       "CryoSleep         0\n",
       "Cabin           169\n",
       "Destination       0\n",
       "Age               0\n",
       "VIP               0\n",
       "RoomService       0\n",
       "FoodCourt         0\n",
       "ShoppingMall      0\n",
       "Spa               0\n",
       "VRDeck            0\n",
       "Name            294\n",
       "Group             0\n",
       "Num               0\n",
       "Surname         155\n",
       "Cabin_n         169\n",
       "Cabin_d           0\n",
       "Cabin_s         169\n",
       "Planet_num        0\n",
       "Cryo_num          0\n",
       "Dest_num          0\n",
       "Num_n             0\n",
       "VIP_num           0\n",
       "Deck_num          0\n",
       "dtype: int64"
      ]
     },
     "execution_count": 42,
     "metadata": {},
     "output_type": "execute_result"
    }
   ],
   "source": [
    "df.isna().sum()"
   ]
  },
  {
   "cell_type": "markdown",
   "id": "94211314",
   "metadata": {
    "papermill": {
     "duration": 0.028894,
     "end_time": "2023-06-12T21:00:15.411188",
     "exception": false,
     "start_time": "2023-06-12T21:00:15.382294",
     "status": "completed"
    },
    "tags": []
   },
   "source": [
    "This is a simple way to fix NaN."
   ]
  },
  {
   "cell_type": "code",
   "execution_count": 43,
   "id": "b1a6d4a8",
   "metadata": {
    "execution": {
     "iopub.execute_input": "2023-06-12T21:00:15.470984Z",
     "iopub.status.busy": "2023-06-12T21:00:15.469843Z",
     "iopub.status.idle": "2023-06-12T21:00:15.499406Z",
     "shell.execute_reply": "2023-06-12T21:00:15.498292Z"
    },
    "papermill": {
     "duration": 0.061646,
     "end_time": "2023-06-12T21:00:15.501676",
     "exception": false,
     "start_time": "2023-06-12T21:00:15.440030",
     "status": "completed"
    },
    "tags": []
   },
   "outputs": [
    {
     "data": {
      "text/html": [
       "<div>\n",
       "<style scoped>\n",
       "    .dataframe tbody tr th:only-of-type {\n",
       "        vertical-align: middle;\n",
       "    }\n",
       "\n",
       "    .dataframe tbody tr th {\n",
       "        vertical-align: top;\n",
       "    }\n",
       "\n",
       "    .dataframe thead th {\n",
       "        text-align: right;\n",
       "    }\n",
       "</style>\n",
       "<table border=\"1\" class=\"dataframe\">\n",
       "  <thead>\n",
       "    <tr style=\"text-align: right;\">\n",
       "      <th></th>\n",
       "      <th>PassengerId</th>\n",
       "      <th>HomePlanet</th>\n",
       "      <th>CryoSleep</th>\n",
       "      <th>Cabin</th>\n",
       "      <th>Destination</th>\n",
       "      <th>Age</th>\n",
       "      <th>VIP</th>\n",
       "      <th>RoomService</th>\n",
       "      <th>FoodCourt</th>\n",
       "      <th>ShoppingMall</th>\n",
       "      <th>...</th>\n",
       "      <th>Surname</th>\n",
       "      <th>Cabin_n</th>\n",
       "      <th>Cabin_d</th>\n",
       "      <th>Cabin_s</th>\n",
       "      <th>Planet_num</th>\n",
       "      <th>Cryo_num</th>\n",
       "      <th>Dest_num</th>\n",
       "      <th>Num_n</th>\n",
       "      <th>VIP_num</th>\n",
       "      <th>Deck_num</th>\n",
       "    </tr>\n",
       "  </thead>\n",
       "  <tbody>\n",
       "    <tr>\n",
       "      <th>0</th>\n",
       "      <td>0001_01</td>\n",
       "      <td>Europa</td>\n",
       "      <td>False</td>\n",
       "      <td>B/0/P</td>\n",
       "      <td>TRAPPIST-1e</td>\n",
       "      <td>39.0</td>\n",
       "      <td>False</td>\n",
       "      <td>0.0</td>\n",
       "      <td>0.0</td>\n",
       "      <td>0.0</td>\n",
       "      <td>...</td>\n",
       "      <td>Ofracculy</td>\n",
       "      <td>0</td>\n",
       "      <td>B</td>\n",
       "      <td>P</td>\n",
       "      <td>1</td>\n",
       "      <td>0</td>\n",
       "      <td>1</td>\n",
       "      <td>1</td>\n",
       "      <td>0</td>\n",
       "      <td>6</td>\n",
       "    </tr>\n",
       "    <tr>\n",
       "      <th>1</th>\n",
       "      <td>0002_01</td>\n",
       "      <td>Earth</td>\n",
       "      <td>False</td>\n",
       "      <td>F/0/S</td>\n",
       "      <td>TRAPPIST-1e</td>\n",
       "      <td>24.0</td>\n",
       "      <td>False</td>\n",
       "      <td>109.0</td>\n",
       "      <td>9.0</td>\n",
       "      <td>25.0</td>\n",
       "      <td>...</td>\n",
       "      <td>Vines</td>\n",
       "      <td>0</td>\n",
       "      <td>F</td>\n",
       "      <td>S</td>\n",
       "      <td>2</td>\n",
       "      <td>0</td>\n",
       "      <td>1</td>\n",
       "      <td>1</td>\n",
       "      <td>0</td>\n",
       "      <td>2</td>\n",
       "    </tr>\n",
       "    <tr>\n",
       "      <th>2</th>\n",
       "      <td>0003_01</td>\n",
       "      <td>Europa</td>\n",
       "      <td>False</td>\n",
       "      <td>A/0/S</td>\n",
       "      <td>TRAPPIST-1e</td>\n",
       "      <td>58.0</td>\n",
       "      <td>True</td>\n",
       "      <td>43.0</td>\n",
       "      <td>3576.0</td>\n",
       "      <td>0.0</td>\n",
       "      <td>...</td>\n",
       "      <td>Susent</td>\n",
       "      <td>0</td>\n",
       "      <td>T</td>\n",
       "      <td>S</td>\n",
       "      <td>1</td>\n",
       "      <td>0</td>\n",
       "      <td>1</td>\n",
       "      <td>1</td>\n",
       "      <td>1</td>\n",
       "      <td>7</td>\n",
       "    </tr>\n",
       "    <tr>\n",
       "      <th>3</th>\n",
       "      <td>0003_02</td>\n",
       "      <td>Europa</td>\n",
       "      <td>False</td>\n",
       "      <td>A/0/S</td>\n",
       "      <td>TRAPPIST-1e</td>\n",
       "      <td>33.0</td>\n",
       "      <td>False</td>\n",
       "      <td>0.0</td>\n",
       "      <td>1283.0</td>\n",
       "      <td>371.0</td>\n",
       "      <td>...</td>\n",
       "      <td>Susent</td>\n",
       "      <td>0</td>\n",
       "      <td>T</td>\n",
       "      <td>S</td>\n",
       "      <td>1</td>\n",
       "      <td>0</td>\n",
       "      <td>1</td>\n",
       "      <td>2</td>\n",
       "      <td>0</td>\n",
       "      <td>7</td>\n",
       "    </tr>\n",
       "    <tr>\n",
       "      <th>4</th>\n",
       "      <td>0004_01</td>\n",
       "      <td>Earth</td>\n",
       "      <td>False</td>\n",
       "      <td>F/1/S</td>\n",
       "      <td>TRAPPIST-1e</td>\n",
       "      <td>16.0</td>\n",
       "      <td>False</td>\n",
       "      <td>303.0</td>\n",
       "      <td>70.0</td>\n",
       "      <td>151.0</td>\n",
       "      <td>...</td>\n",
       "      <td>Santantines</td>\n",
       "      <td>1</td>\n",
       "      <td>F</td>\n",
       "      <td>S</td>\n",
       "      <td>2</td>\n",
       "      <td>0</td>\n",
       "      <td>1</td>\n",
       "      <td>1</td>\n",
       "      <td>0</td>\n",
       "      <td>2</td>\n",
       "    </tr>\n",
       "  </tbody>\n",
       "</table>\n",
       "<p>5 rows × 25 columns</p>\n",
       "</div>"
      ],
      "text/plain": [
       "  PassengerId HomePlanet  CryoSleep  Cabin  Destination   Age    VIP  \\\n",
       "0     0001_01     Europa      False  B/0/P  TRAPPIST-1e  39.0  False   \n",
       "1     0002_01      Earth      False  F/0/S  TRAPPIST-1e  24.0  False   \n",
       "2     0003_01     Europa      False  A/0/S  TRAPPIST-1e  58.0   True   \n",
       "3     0003_02     Europa      False  A/0/S  TRAPPIST-1e  33.0  False   \n",
       "4     0004_01      Earth      False  F/1/S  TRAPPIST-1e  16.0  False   \n",
       "\n",
       "   RoomService  FoodCourt  ShoppingMall  ...      Surname  Cabin_n Cabin_d  \\\n",
       "0          0.0        0.0           0.0  ...    Ofracculy        0       B   \n",
       "1        109.0        9.0          25.0  ...        Vines        0       F   \n",
       "2         43.0     3576.0           0.0  ...       Susent        0       T   \n",
       "3          0.0     1283.0         371.0  ...       Susent        0       T   \n",
       "4        303.0       70.0         151.0  ...  Santantines        1       F   \n",
       "\n",
       "  Cabin_s Planet_num Cryo_num Dest_num Num_n VIP_num  Deck_num  \n",
       "0       P          1        0        1     1       0         6  \n",
       "1       S          2        0        1     1       0         2  \n",
       "2       S          1        0        1     1       1         7  \n",
       "3       S          1        0        1     2       0         7  \n",
       "4       S          2        0        1     1       0         2  \n",
       "\n",
       "[5 rows x 25 columns]"
      ]
     },
     "execution_count": 43,
     "metadata": {},
     "output_type": "execute_result"
    }
   ],
   "source": [
    "df.head()"
   ]
  },
  {
   "cell_type": "markdown",
   "id": "4c782563",
   "metadata": {
    "papermill": {
     "duration": 0.028369,
     "end_time": "2023-06-12T21:00:15.559606",
     "exception": false,
     "start_time": "2023-06-12T21:00:15.531237",
     "status": "completed"
    },
    "tags": []
   },
   "source": [
    "# **3. Data engineering**"
   ]
  },
  {
   "cell_type": "markdown",
   "id": "437c301e",
   "metadata": {
    "papermill": {
     "duration": 0.028514,
     "end_time": "2023-06-12T21:00:15.616923",
     "exception": false,
     "start_time": "2023-06-12T21:00:15.588409",
     "status": "completed"
    },
    "tags": []
   },
   "source": [
    "## **3.1 Group_Size**"
   ]
  },
  {
   "cell_type": "code",
   "execution_count": 44,
   "id": "7965697d",
   "metadata": {
    "execution": {
     "iopub.execute_input": "2023-06-12T21:00:15.676136Z",
     "iopub.status.busy": "2023-06-12T21:00:15.675742Z",
     "iopub.status.idle": "2023-06-12T21:00:41.109158Z",
     "shell.execute_reply": "2023-06-12T21:00:41.108336Z"
    },
    "papermill": {
     "duration": 25.466116,
     "end_time": "2023-06-12T21:00:41.111692",
     "exception": false,
     "start_time": "2023-06-12T21:00:15.645576",
     "status": "completed"
    },
    "tags": []
   },
   "outputs": [],
   "source": [
    "# Previously we got the group numbers from the id feature. With this information we can create a new feature called Group_Size\n",
    "\n",
    "df['Group_Size'] = df['Num_n']\n",
    "for i in range(len(df['Group'])):\n",
    "    number1 = df.loc[i, 'Group']\n",
    "    group_sizes = df.loc[i+1:, 'Num_n']\n",
    "    matching_indices = (df.loc[i+1:, 'Group'] == number1) & (group_sizes > df.loc[i, 'Num_n'])\n",
    "\n",
    "    if matching_indices.any():\n",
    "        max_group_size = group_sizes[matching_indices].max()\n",
    "        df.loc[i, 'Group_Size'] = max_group_size"
   ]
  },
  {
   "cell_type": "markdown",
   "id": "84cf04d3",
   "metadata": {
    "papermill": {
     "duration": 0.028731,
     "end_time": "2023-06-12T21:00:41.169470",
     "exception": false,
     "start_time": "2023-06-12T21:00:41.140739",
     "status": "completed"
    },
    "tags": []
   },
   "source": [
    "## **3.2 Lucky_Age**"
   ]
  },
  {
   "cell_type": "code",
   "execution_count": 45,
   "id": "ded28ffa",
   "metadata": {
    "execution": {
     "iopub.execute_input": "2023-06-12T21:00:41.229185Z",
     "iopub.status.busy": "2023-06-12T21:00:41.228393Z",
     "iopub.status.idle": "2023-06-12T21:00:42.089824Z",
     "shell.execute_reply": "2023-06-12T21:00:42.088558Z"
    },
    "papermill": {
     "duration": 0.894401,
     "end_time": "2023-06-12T21:00:42.092663",
     "exception": false,
     "start_time": "2023-06-12T21:00:41.198262",
     "status": "completed"
    },
    "tags": []
   },
   "outputs": [
    {
     "data": {
      "image/png": "[encoded data removed]",
      "text/plain": [
       "<Figure size 1100x600 with 1 Axes>"
      ]
     },
     "metadata": {},
     "output_type": "display_data"
    }
   ],
   "source": [
    "y = train_data['Transported']\n",
    "X = df[:train_max].copy()\n",
    "\n",
    "train_data = pd.concat([X, y], axis=1).copy() #join x_train values with Transported column for graph plotting.\n",
    "\n",
    "plt.figure(figsize=(11, 6))\n",
    "train_data[train_data['Transported'] == False]['Age'].plot(kind='kde', label = 'Not transported')\n",
    "train_data[train_data['Transported'] == True]['Age'].plot(kind='kde', label = 'Transported')\n",
    "plt.legend()\n",
    "plt.grid()\n",
    "plt.xlabel('Age')\n",
    "plt.xlim(0, 90)\n",
    "plt.xticks(np.arange(0, 90, 5))\n",
    "plt.show()"
   ]
  },
  {
   "cell_type": "markdown",
   "id": "38718ec6",
   "metadata": {
    "papermill": {
     "duration": 0.029576,
     "end_time": "2023-06-12T21:00:42.152196",
     "exception": false,
     "start_time": "2023-06-12T21:00:42.122620",
     "status": "completed"
    },
    "tags": []
   },
   "source": [
    "By looking at the intersepting points in the graph above we can create 4 different age groups that will hopefuly relate the relationship between age and being transported (hence the 'lucky_age')."
   ]
  },
  {
   "cell_type": "code",
   "execution_count": 46,
   "id": "e1dbde64",
   "metadata": {
    "execution": {
     "iopub.execute_input": "2023-06-12T21:00:42.213443Z",
     "iopub.status.busy": "2023-06-12T21:00:42.213060Z",
     "iopub.status.idle": "2023-06-12T21:00:42.222244Z",
     "shell.execute_reply": "2023-06-12T21:00:42.221039Z"
    },
    "papermill": {
     "duration": 0.043007,
     "end_time": "2023-06-12T21:00:42.224934",
     "exception": false,
     "start_time": "2023-06-12T21:00:42.181927",
     "status": "completed"
    },
    "tags": []
   },
   "outputs": [],
   "source": [
    "df['lucky_age'] = pd.cut(x=df.Age, labels=[4, 2, 1, 3],\n",
    "                            bins=[0, 16, 45, 55, df.Age.max()])"
   ]
  },
  {
   "cell_type": "markdown",
   "id": "874ac206",
   "metadata": {
    "papermill": {
     "duration": 0.029783,
     "end_time": "2023-06-12T21:00:42.284824",
     "exception": false,
     "start_time": "2023-06-12T21:00:42.255041",
     "status": "completed"
    },
    "tags": []
   },
   "source": [
    "## **3.3 Total_Spent**"
   ]
  },
  {
   "cell_type": "code",
   "execution_count": 47,
   "id": "517cd08c",
   "metadata": {
    "execution": {
     "iopub.execute_input": "2023-06-12T21:00:42.346262Z",
     "iopub.status.busy": "2023-06-12T21:00:42.345808Z",
     "iopub.status.idle": "2023-06-12T21:00:42.353299Z",
     "shell.execute_reply": "2023-06-12T21:00:42.352150Z"
    },
    "papermill": {
     "duration": 0.040812,
     "end_time": "2023-06-12T21:00:42.355509",
     "exception": false,
     "start_time": "2023-06-12T21:00:42.314697",
     "status": "completed"
    },
    "tags": []
   },
   "outputs": [],
   "source": [
    "#This feature is just the sum of all the spenditure by each person on board.\n",
    "\n",
    "df['TotalSpent'] = df['RoomService'] + df['FoodCourt'] + df['ShoppingMall'] + df['Spa'] + df['VRDeck']"
   ]
  },
  {
   "cell_type": "markdown",
   "id": "c3a577b2",
   "metadata": {
    "papermill": {
     "duration": 0.029489,
     "end_time": "2023-06-12T21:00:42.415016",
     "exception": false,
     "start_time": "2023-06-12T21:00:42.385527",
     "status": "completed"
    },
    "tags": []
   },
   "source": [
    "## **3.4 Money_spent**"
   ]
  },
  {
   "cell_type": "code",
   "execution_count": 48,
   "id": "4f1a1b0f",
   "metadata": {
    "execution": {
     "iopub.execute_input": "2023-06-12T21:00:42.476477Z",
     "iopub.status.busy": "2023-06-12T21:00:42.476051Z",
     "iopub.status.idle": "2023-06-12T21:00:44.377999Z",
     "shell.execute_reply": "2023-06-12T21:00:44.376779Z"
    },
    "papermill": {
     "duration": 1.935945,
     "end_time": "2023-06-12T21:00:44.380813",
     "exception": false,
     "start_time": "2023-06-12T21:00:42.444868",
     "status": "completed"
    },
    "tags": []
   },
   "outputs": [],
   "source": [
    "#Binary feature where 0 signifies no money spent on board and 1 more than 0 spent.\n",
    "\n",
    "df['Money_spent'] = df['TotalSpent']\n",
    "for i in range(len(df['TotalSpent'])):\n",
    "    if df.loc[i, 'TotalSpent'] == 0:\n",
    "        df.loc[i, 'Money_spent'] = 0\n",
    "    else:\n",
    "        df.loc[i, 'Money_spent'] = 1"
   ]
  },
  {
   "cell_type": "code",
   "execution_count": 49,
   "id": "174c0310",
   "metadata": {
    "execution": {
     "iopub.execute_input": "2023-06-12T21:00:44.442069Z",
     "iopub.status.busy": "2023-06-12T21:00:44.441637Z",
     "iopub.status.idle": "2023-06-12T21:00:44.458409Z",
     "shell.execute_reply": "2023-06-12T21:00:44.457159Z"
    },
    "papermill": {
     "duration": 0.050756,
     "end_time": "2023-06-12T21:00:44.461394",
     "exception": false,
     "start_time": "2023-06-12T21:00:44.410638",
     "status": "completed"
    },
    "tags": []
   },
   "outputs": [],
   "source": [
    "X = df[:train_max].copy()\n",
    "\n",
    "train_data = pd.concat([X, y], axis=1).copy()"
   ]
  },
  {
   "cell_type": "code",
   "execution_count": 50,
   "id": "75e98f61",
   "metadata": {
    "execution": {
     "iopub.execute_input": "2023-06-12T21:00:44.523244Z",
     "iopub.status.busy": "2023-06-12T21:00:44.522851Z",
     "iopub.status.idle": "2023-06-12T21:00:44.541409Z",
     "shell.execute_reply": "2023-06-12T21:00:44.540235Z"
    },
    "papermill": {
     "duration": 0.052459,
     "end_time": "2023-06-12T21:00:44.543794",
     "exception": false,
     "start_time": "2023-06-12T21:00:44.491335",
     "status": "completed"
    },
    "tags": []
   },
   "outputs": [
    {
     "data": {
      "text/plain": [
       "Transported     1.000000\n",
       "CryoSleep       0.462920\n",
       "Cryo_num        0.462920\n",
       "Deck_num        0.117101\n",
       "Group_Size      0.082644\n",
       "Dest_num        0.069287\n",
       "Num_n           0.066390\n",
       "FoodCourt       0.043591\n",
       "ShoppingMall    0.007530\n",
       "VIP            -0.036408\n",
       "VIP_num        -0.036408\n",
       "Age            -0.072177\n",
       "Planet_num     -0.101855\n",
       "TotalSpent     -0.202402\n",
       "VRDeck         -0.206045\n",
       "Spa            -0.220016\n",
       "RoomService    -0.244219\n",
       "Money_spent    -0.481455\n",
       "Name: Transported, dtype: float64"
      ]
     },
     "execution_count": 50,
     "metadata": {},
     "output_type": "execute_result"
    }
   ],
   "source": [
    "train_data.corr()['Transported'].sort_values(ascending=False)"
   ]
  },
  {
   "cell_type": "markdown",
   "id": "8a0b8253",
   "metadata": {
    "papermill": {
     "duration": 0.032786,
     "end_time": "2023-06-12T21:00:44.607969",
     "exception": false,
     "start_time": "2023-06-12T21:00:44.575183",
     "status": "completed"
    },
    "tags": []
   },
   "source": [
    "## **3.5 Solve skewness**"
   ]
  },
  {
   "cell_type": "code",
   "execution_count": 51,
   "id": "26a563b1",
   "metadata": {
    "execution": {
     "iopub.execute_input": "2023-06-12T21:00:44.670407Z",
     "iopub.status.busy": "2023-06-12T21:00:44.670021Z",
     "iopub.status.idle": "2023-06-12T21:00:44.698080Z",
     "shell.execute_reply": "2023-06-12T21:00:44.696891Z"
    },
    "papermill": {
     "duration": 0.061898,
     "end_time": "2023-06-12T21:00:44.700694",
     "exception": false,
     "start_time": "2023-06-12T21:00:44.638796",
     "status": "completed"
    },
    "tags": []
   },
   "outputs": [],
   "source": [
    "from scipy.stats import skew\n",
    "num_feat = ['Age', 'RoomService', 'FoodCourt', 'ShoppingMall', 'Spa', 'VRDeck', 'TotalSpent']\n",
    "cat_feat = ['HomePlanet', 'CryoSleep', 'Destination', 'Cabin_s', 'Cabin_d', 'VIP', 'Group_Size', 'lucky_age', 'Money_spent']\n",
    "train_cat = df[cat_feat]\n",
    "train_num = df[num_feat]\n",
    "\n",
    "skewness = train_num.apply(lambda x: skew(x))\n",
    "skewness = skewness[abs(skewness) > 0.5] #Skewness more than 0.5 (or -0.5) is the thereshold for transformation.\n",
    "skewed_features = skewness.index\n",
    "train_num[skewed_features] = np.log1p(train_num[skewed_features])"
   ]
  },
  {
   "cell_type": "code",
   "execution_count": 52,
   "id": "cb91d586",
   "metadata": {
    "execution": {
     "iopub.execute_input": "2023-06-12T21:00:44.762929Z",
     "iopub.status.busy": "2023-06-12T21:00:44.762504Z",
     "iopub.status.idle": "2023-06-12T21:00:44.784728Z",
     "shell.execute_reply": "2023-06-12T21:00:44.783421Z"
    },
    "papermill": {
     "duration": 0.0562,
     "end_time": "2023-06-12T21:00:44.787334",
     "exception": false,
     "start_time": "2023-06-12T21:00:44.731134",
     "status": "completed"
    },
    "tags": []
   },
   "outputs": [],
   "source": [
    "train_cat = pd.get_dummies(train_cat) #Create dummies for the categorical features\n",
    "X = pd.concat([train_cat, train_num], axis=1) #Concatenate both categorical and numerical features back together."
   ]
  },
  {
   "cell_type": "code",
   "execution_count": 53,
   "id": "d9931e59",
   "metadata": {
    "execution": {
     "iopub.execute_input": "2023-06-12T21:00:44.850051Z",
     "iopub.status.busy": "2023-06-12T21:00:44.849631Z",
     "iopub.status.idle": "2023-06-12T21:00:44.857848Z",
     "shell.execute_reply": "2023-06-12T21:00:44.856700Z"
    },
    "papermill": {
     "duration": 0.04188,
     "end_time": "2023-06-12T21:00:44.860187",
     "exception": false,
     "start_time": "2023-06-12T21:00:44.818307",
     "status": "completed"
    },
    "tags": []
   },
   "outputs": [],
   "source": [
    "X_train = X[:train_max].copy() #create train and test datasets for modeling\n",
    "X_test = X[train_max:].copy()\n",
    "y_train = train_data['Transported']"
   ]
  },
  {
   "cell_type": "markdown",
   "id": "cc67e4b3",
   "metadata": {
    "papermill": {
     "duration": 0.030041,
     "end_time": "2023-06-12T21:00:44.920592",
     "exception": false,
     "start_time": "2023-06-12T21:00:44.890551",
     "status": "completed"
    },
    "tags": []
   },
   "source": [
    "# **4. Modeling**"
   ]
  },
  {
   "cell_type": "markdown",
   "id": "c60d2f15",
   "metadata": {
    "papermill": {
     "duration": 0.029563,
     "end_time": "2023-06-12T21:00:44.980251",
     "exception": false,
     "start_time": "2023-06-12T21:00:44.950688",
     "status": "completed"
    },
    "tags": []
   },
   "source": [
    "## **4.1. Import libraries**"
   ]
  },
  {
   "cell_type": "code",
   "execution_count": 54,
   "id": "fb7d82ae",
   "metadata": {
    "execution": {
     "iopub.execute_input": "2023-06-12T21:00:45.042347Z",
     "iopub.status.busy": "2023-06-12T21:00:45.041615Z",
     "iopub.status.idle": "2023-06-12T21:00:45.226794Z",
     "shell.execute_reply": "2023-06-12T21:00:45.225603Z"
    },
    "papermill": {
     "duration": 0.218868,
     "end_time": "2023-06-12T21:00:45.229444",
     "exception": false,
     "start_time": "2023-06-12T21:00:45.010576",
     "status": "completed"
    },
    "tags": []
   },
   "outputs": [],
   "source": [
    "from sklearn.preprocessing import StandardScaler, MinMaxScaler, MaxAbsScaler, RobustScaler, Normalizer\n",
    "\n",
    "from sklearn.neighbors import KNeighborsClassifier\n",
    "from sklearn.tree import DecisionTreeClassifier\n",
    "from sklearn.ensemble import RandomForestClassifier\n",
    "from sklearn.naive_bayes import GaussianNB\n",
    "from sklearn.svm import SVC\n",
    "from sklearn.ensemble import GradientBoostingRegressor\n",
    "\n",
    "from sklearn.model_selection import KFold\n",
    "from sklearn.model_selection import cross_val_score\n",
    "from sklearn.ensemble import GradientBoostingClassifier\n",
    "\n",
    "k_fold = KFold(n_splits = 9, shuffle=True, random_state = 0)"
   ]
  },
  {
   "cell_type": "markdown",
   "id": "61634964",
   "metadata": {
    "papermill": {
     "duration": 0.029723,
     "end_time": "2023-06-12T21:00:45.289551",
     "exception": false,
     "start_time": "2023-06-12T21:00:45.259828",
     "status": "completed"
    },
    "tags": []
   },
   "source": [
    "## **4.2. CV Pipeline**"
   ]
  },
  {
   "cell_type": "code",
   "execution_count": 55,
   "id": "9c002cdb",
   "metadata": {
    "execution": {
     "iopub.execute_input": "2023-06-12T21:00:45.351515Z",
     "iopub.status.busy": "2023-06-12T21:00:45.351126Z",
     "iopub.status.idle": "2023-06-12T21:03:25.285962Z",
     "shell.execute_reply": "2023-06-12T21:03:25.284941Z"
    },
    "papermill": {
     "duration": 159.969278,
     "end_time": "2023-06-12T21:03:25.288774",
     "exception": false,
     "start_time": "2023-06-12T21:00:45.319496",
     "status": "completed"
    },
    "tags": []
   },
   "outputs": [],
   "source": [
    "ssc = StandardScaler()\n",
    "mms = MinMaxScaler()\n",
    "mas = MaxAbsScaler()\n",
    "rsc = RobustScaler()\n",
    "\n",
    "scl_list = [ssc,mms,mas,rsc]\n",
    "\n",
    "knn = KNeighborsClassifier(n_neighbors = 13)\n",
    "dtc = DecisionTreeClassifier()\n",
    "rfc = RandomForestClassifier(n_estimators=13)\n",
    "gnb = GaussianNB()\n",
    "svc = SVC()\n",
    "gbc = GradientBoostingClassifier()\n",
    "clf_list = [knn,dtc,rfc,gnb,svc,gbc]\n",
    "\n",
    "score_list = []\n",
    "score_name = []\n",
    "\n",
    "for scl in scl_list:\n",
    "    scl.fit(X_train)\n",
    "    X_train = scl.transform(X_train)\n",
    "    X_test = scl.transform(X_test)\n",
    "    for clf in clf_list:\n",
    "        scoring = \"accuracy\"\n",
    "        score = cross_val_score(clf, X_train, y_train, cv=k_fold, n_jobs=1, scoring = scoring)\n",
    "        score_name.append(str(scl)+\":\"+str(clf))\n",
    "        score = round(np.mean(score)*100,2)\n",
    "        score_list.append(score)   "
   ]
  },
  {
   "cell_type": "code",
   "execution_count": 56,
   "id": "21e89608",
   "metadata": {
    "execution": {
     "iopub.execute_input": "2023-06-12T21:03:25.350466Z",
     "iopub.status.busy": "2023-06-12T21:03:25.350080Z",
     "iopub.status.idle": "2023-06-12T21:03:25.356113Z",
     "shell.execute_reply": "2023-06-12T21:03:25.354899Z"
    },
    "papermill": {
     "duration": 0.03995,
     "end_time": "2023-06-12T21:03:25.358789",
     "exception": false,
     "start_time": "2023-06-12T21:03:25.318839",
     "status": "completed"
    },
    "tags": []
   },
   "outputs": [
    {
     "name": "stdout",
     "output_type": "stream",
     "text": [
      "4 79.31\n",
      "5 80.08\n",
      "11 80.08\n",
      "17 80.08\n",
      "22 80.08\n",
      "23 80.08\n"
     ]
    }
   ],
   "source": [
    "for index, score in enumerate(score_list):\n",
    "    if score > 79:\n",
    "        print(index, score)"
   ]
  },
  {
   "cell_type": "code",
   "execution_count": 57,
   "id": "bcb00a79",
   "metadata": {
    "execution": {
     "iopub.execute_input": "2023-06-12T21:03:25.420827Z",
     "iopub.status.busy": "2023-06-12T21:03:25.420421Z",
     "iopub.status.idle": "2023-06-12T21:03:25.427619Z",
     "shell.execute_reply": "2023-06-12T21:03:25.426422Z"
    },
    "papermill": {
     "duration": 0.040833,
     "end_time": "2023-06-12T21:03:25.430036",
     "exception": false,
     "start_time": "2023-06-12T21:03:25.389203",
     "status": "completed"
    },
    "tags": []
   },
   "outputs": [
    {
     "data": {
      "text/plain": [
       "'RobustScaler():GradientBoostingClassifier()'"
      ]
     },
     "execution_count": 57,
     "metadata": {},
     "output_type": "execute_result"
    }
   ],
   "source": [
    "score_name[23] #Check best scaler and model"
   ]
  },
  {
   "cell_type": "markdown",
   "id": "0ae26cff",
   "metadata": {
    "papermill": {
     "duration": 0.02967,
     "end_time": "2023-06-12T21:03:25.489939",
     "exception": false,
     "start_time": "2023-06-12T21:03:25.460269",
     "status": "completed"
    },
    "tags": []
   },
   "source": [
    "## **4.3. GridSearch**"
   ]
  },
  {
   "cell_type": "code",
   "execution_count": 58,
   "id": "4d316bca",
   "metadata": {
    "execution": {
     "iopub.execute_input": "2023-06-12T21:03:25.553392Z",
     "iopub.status.busy": "2023-06-12T21:03:25.553015Z",
     "iopub.status.idle": "2023-06-12T21:03:45.856558Z",
     "shell.execute_reply": "2023-06-12T21:03:45.855249Z"
    },
    "papermill": {
     "duration": 20.339385,
     "end_time": "2023-06-12T21:03:45.859316",
     "exception": false,
     "start_time": "2023-06-12T21:03:25.519931",
     "status": "completed"
    },
    "tags": []
   },
   "outputs": [
    {
     "name": "stdout",
     "output_type": "stream",
     "text": [
      "0.8341194064189578\n",
      "{'learning_rate': 0.02, 'max_depth': 4, 'n_estimators': 500, 'subsample': 0.5}\n"
     ]
    }
   ],
   "source": [
    "scl = RobustScaler()\n",
    "scl.fit(X_train)\n",
    "scl.transform(X_train)\n",
    "scl.transform(X_test)\n",
    "\n",
    "from sklearn.model_selection import GridSearchCV\n",
    "from sklearn.model_selection import StratifiedKFold\n",
    "\n",
    "cv = StratifiedKFold(n_splits=3)\n",
    "clf = GradientBoostingClassifier()\n",
    "\n",
    "parameters = {'learning_rate': [0.02],\n",
    "              'subsample'    : [0.5],\n",
    "              'n_estimators' : [500],\n",
    "              'max_depth'    : [4]\n",
    "             }\n",
    "\n",
    "\n",
    "gs = GridSearchCV(clf, scoring='accuracy', param_grid = parameters, cv=cv, verbose=False)\n",
    "gs.fit(X_train, y_train)\n",
    "print(gs.score(X_train, y_train))\n",
    "params = gs.best_params_\n",
    "print(params)"
   ]
  },
  {
   "cell_type": "code",
   "execution_count": 59,
   "id": "dc6174e1",
   "metadata": {
    "execution": {
     "iopub.execute_input": "2023-06-12T21:03:45.922426Z",
     "iopub.status.busy": "2023-06-12T21:03:45.922047Z",
     "iopub.status.idle": "2023-06-12T21:03:52.308462Z",
     "shell.execute_reply": "2023-06-12T21:03:52.307521Z"
    },
    "papermill": {
     "duration": 6.421158,
     "end_time": "2023-06-12T21:03:52.311031",
     "exception": false,
     "start_time": "2023-06-12T21:03:45.889873",
     "status": "completed"
    },
    "tags": []
   },
   "outputs": [
    {
     "data": {
      "text/html": [
       "<style>#sk-container-id-1 {color: black;background-color: white;}#sk-container-id-1 pre{padding: 0;}#sk-container-id-1 div.sk-toggleable {background-color: white;}#sk-container-id-1 label.sk-toggleable__label {cursor: pointer;display: block;width: 100%;margin-bottom: 0;padding: 0.3em;box-sizing: border-box;text-align: center;}#sk-container-id-1 label.sk-toggleable__label-arrow:before {content: \"▸\";float: left;margin-right: 0.25em;color: #696969;}#sk-container-id-1 label.sk-toggleable__label-arrow:hover:before {color: black;}#sk-container-id-1 div.sk-estimator:hover label.sk-toggleable__label-arrow:before {color: black;}#sk-container-id-1 div.sk-toggleable__content {max-height: 0;max-width: 0;overflow: hidden;text-align: left;background-color: #f0f8ff;}#sk-container-id-1 div.sk-toggleable__content pre {margin: 0.2em;color: black;border-radius: 0.25em;background-color: #f0f8ff;}#sk-container-id-1 input.sk-toggleable__control:checked~div.sk-toggleable__content {max-height: 200px;max-width: 100%;overflow: auto;}#sk-container-id-1 input.sk-toggleable__control:checked~label.sk-toggleable__label-arrow:before {content: \"▾\";}#sk-container-id-1 div.sk-estimator input.sk-toggleable__control:checked~label.sk-toggleable__label {background-color: #d4ebff;}#sk-container-id-1 div.sk-label input.sk-toggleable__control:checked~label.sk-toggleable__label {background-color: #d4ebff;}#sk-container-id-1 input.sk-hidden--visually {border: 0;clip: rect(1px 1px 1px 1px);clip: rect(1px, 1px, 1px, 1px);height: 1px;margin: -1px;overflow: hidden;padding: 0;position: absolute;width: 1px;}#sk-container-id-1 div.sk-estimator {font-family: monospace;background-color: #f0f8ff;border: 1px dotted black;border-radius: 0.25em;box-sizing: border-box;margin-bottom: 0.5em;}#sk-container-id-1 div.sk-estimator:hover {background-color: #d4ebff;}#sk-container-id-1 div.sk-parallel-item::after {content: \"\";width: 100%;border-bottom: 1px solid gray;flex-grow: 1;}#sk-container-id-1 div.sk-label:hover label.sk-toggleable__label {background-color: #d4ebff;}#sk-container-id-1 div.sk-serial::before {content: \"\";position: absolute;border-left: 1px solid gray;box-sizing: border-box;top: 0;bottom: 0;left: 50%;z-index: 0;}#sk-container-id-1 div.sk-serial {display: flex;flex-direction: column;align-items: center;background-color: white;padding-right: 0.2em;padding-left: 0.2em;position: relative;}#sk-container-id-1 div.sk-item {position: relative;z-index: 1;}#sk-container-id-1 div.sk-parallel {display: flex;align-items: stretch;justify-content: center;background-color: white;position: relative;}#sk-container-id-1 div.sk-item::before, #sk-container-id-1 div.sk-parallel-item::before {content: \"\";position: absolute;border-left: 1px solid gray;box-sizing: border-box;top: 0;bottom: 0;left: 50%;z-index: -1;}#sk-container-id-1 div.sk-parallel-item {display: flex;flex-direction: column;z-index: 1;position: relative;background-color: white;}#sk-container-id-1 div.sk-parallel-item:first-child::after {align-self: flex-end;width: 50%;}#sk-container-id-1 div.sk-parallel-item:last-child::after {align-self: flex-start;width: 50%;}#sk-container-id-1 div.sk-parallel-item:only-child::after {width: 0;}#sk-container-id-1 div.sk-dashed-wrapped {border: 1px dashed gray;margin: 0 0.4em 0.5em 0.4em;box-sizing: border-box;padding-bottom: 0.4em;background-color: white;}#sk-container-id-1 div.sk-label label {font-family: monospace;font-weight: bold;display: inline-block;line-height: 1.2em;}#sk-container-id-1 div.sk-label-container {text-align: center;}#sk-container-id-1 div.sk-container {/* jupyter's `normalize.less` sets `[hidden] { display: none; }` but bootstrap.min.css set `[hidden] { display: none !important; }` so we also need the `!important` here to be able to override the default hidden behavior on the sphinx rendered scikit-learn.org. See: https://github.com/scikit-learn/scikit-learn/issues/21755 */display: inline-block !important;position: relative;}#sk-container-id-1 div.sk-text-repr-fallback {display: none;}</style><div id=\"sk-container-id-1\" class=\"sk-top-container\"><div class=\"sk-text-repr-fallback\"><pre>GradientBoostingClassifier(learning_rate=0.02, max_depth=4, n_estimators=500,\n",
       "                           subsample=0.5)</pre><b>In a Jupyter environment, please rerun this cell to show the HTML representation or trust the notebook. <br />On GitHub, the HTML representation is unable to render, please try loading this page with nbviewer.org.</b></div><div class=\"sk-container\" hidden><div class=\"sk-item\"><div class=\"sk-estimator sk-toggleable\"><input class=\"sk-toggleable__control sk-hidden--visually\" id=\"sk-estimator-id-1\" type=\"checkbox\" checked><label for=\"sk-estimator-id-1\" class=\"sk-toggleable__label sk-toggleable__label-arrow\">GradientBoostingClassifier</label><div class=\"sk-toggleable__content\"><pre>GradientBoostingClassifier(learning_rate=0.02, max_depth=4, n_estimators=500,\n",
       "                           subsample=0.5)</pre></div></div></div></div></div>"
      ],
      "text/plain": [
       "GradientBoostingClassifier(learning_rate=0.02, max_depth=4, n_estimators=500,\n",
       "                           subsample=0.5)"
      ]
     },
     "execution_count": 59,
     "metadata": {},
     "output_type": "execute_result"
    }
   ],
   "source": [
    "#Fit the final model and make predictions\n",
    "model = GradientBoostingClassifier(**params)\n",
    "model.fit(X_train, y_train)"
   ]
  },
  {
   "cell_type": "code",
   "execution_count": 60,
   "id": "78c784b8",
   "metadata": {
    "execution": {
     "iopub.execute_input": "2023-06-12T21:03:52.375943Z",
     "iopub.status.busy": "2023-06-12T21:03:52.375564Z",
     "iopub.status.idle": "2023-06-12T21:03:52.428295Z",
     "shell.execute_reply": "2023-06-12T21:03:52.427152Z"
    },
    "papermill": {
     "duration": 0.088522,
     "end_time": "2023-06-12T21:03:52.431109",
     "exception": false,
     "start_time": "2023-06-12T21:03:52.342587",
     "status": "completed"
    },
    "tags": []
   },
   "outputs": [],
   "source": [
    "predictions = model.predict(X_test)\n",
    "output = pd.DataFrame({'PassengerId': test_data['PassengerId'], 'Transported': predictions})"
   ]
  },
  {
   "cell_type": "code",
   "execution_count": 61,
   "id": "3b7c7759",
   "metadata": {
    "execution": {
     "iopub.execute_input": "2023-06-12T21:03:52.495621Z",
     "iopub.status.busy": "2023-06-12T21:03:52.495248Z",
     "iopub.status.idle": "2023-06-12T21:03:52.517348Z",
     "shell.execute_reply": "2023-06-12T21:03:52.516257Z"
    },
    "papermill": {
     "duration": 0.056753,
     "end_time": "2023-06-12T21:03:52.519546",
     "exception": false,
     "start_time": "2023-06-12T21:03:52.462793",
     "status": "completed"
    },
    "tags": []
   },
   "outputs": [
    {
     "name": "stdout",
     "output_type": "stream",
     "text": [
      "Your submission was successfully saved!\n"
     ]
    }
   ],
   "source": [
    "output.to_csv('submission.csv', index=False)\n",
    "print(\"Your submission was successfully saved!\")"
   ]
  },
  {
   "cell_type": "code",
   "execution_count": null,
   "id": "b18dd2c4",
   "metadata": {
    "papermill": {
     "duration": 0.030781,
     "end_time": "2023-06-12T21:03:52.581782",
     "exception": false,
     "start_time": "2023-06-12T21:03:52.551001",
     "status": "completed"
    },
    "tags": []
   },
   "outputs": [],
   "source": []
  }
 ],
 "metadata": {
  "kernelspec": {
   "display_name": "Python 3",
   "language": "python",
   "name": "python3"
  },
  "language_info": {
   "codemirror_mode": {
    "name": "ipython",
    "version": 3
   },
   "file_extension": ".py",
   "mimetype": "text/x-python",
   "name": "python",
   "nbconvert_exporter": "python",
   "pygments_lexer": "ipython3",
   "version": "3.10.10"
  },
  "papermill": {
   "default_parameters": {},
   "duration": 257.741057,
   "end_time": "2023-06-12T21:03:53.636574",
   "environment_variables": {},
   "exception": null,
   "input_path": "__notebook__.ipynb",
   "output_path": "__notebook__.ipynb",
   "parameters": {},
   "start_time": "2023-06-12T20:59:35.895517",
   "version": "2.4.0"
  }
 },
 "nbformat": 4,
 "nbformat_minor": 5
}
