{
 "cells": [
  {
   "cell_type": "markdown",
   "id": "b8c97cf1",
   "metadata": {
    "_cell_guid": "b1076dfc-b9ad-4769-8c92-a6c4dae69d19",
    "_uuid": "8f2839f25d086af736a60e9eeb907d3b93b6e0e5",
    "papermill": {
     "duration": 0.00882,
     "end_time": "2023-06-26T16:46:56.580636",
     "exception": false,
     "start_time": "2023-06-26T16:46:56.571816",
     "status": "completed"
    },
    "tags": []
   },
   "source": [
    "\n"
   ]
  },
  {
   "cell_type": "markdown",
   "id": "8bb395fc",
   "metadata": {
    "papermill": {
     "duration": 0.006391,
     "end_time": "2023-06-26T16:46:56.593701",
     "exception": false,
     "start_time": "2023-06-26T16:46:56.587310",
     "status": "completed"
    },
    "tags": []
   },
   "source": [
    "# **1. Import libraries and datasets**"
   ]
  },
  {
   "cell_type": "code",
   "execution_count": 1,
   "id": "74121e2e",
   "metadata": {
    "execution": {
     "iopub.execute_input": "2023-06-26T16:46:56.610886Z",
     "iopub.status.busy": "2023-06-26T16:46:56.610230Z",
     "iopub.status.idle": "2023-06-26T16:46:56.621293Z",
     "shell.execute_reply": "2023-06-26T16:46:56.620377Z"
    },
    "papermill": {
     "duration": 0.022175,
     "end_time": "2023-06-26T16:46:56.623378",
     "exception": false,
     "start_time": "2023-06-26T16:46:56.601203",
     "status": "completed"
    },
    "tags": []
   },
   "outputs": [
    {
     "name": "stdout",
     "output_type": "stream",
     "text": [
      "/kaggle/input/playground-series-s3e16/sample_submission.csv\n",
      "/kaggle/input/playground-series-s3e16/train.csv\n",
      "/kaggle/input/playground-series-s3e16/test.csv\n"
     ]
    }
   ],
   "source": [
    "import os\n",
    "for dirname, _, filenames in os.walk('/kaggle/input'):\n",
    "    for filename in filenames:\n",
    "        print(os.path.join(dirname, filename))"
   ]
  },
  {
   "cell_type": "code",
   "execution_count": 2,
   "id": "2e26a865",
   "metadata": {
    "execution": {
     "iopub.execute_input": "2023-06-26T16:46:56.640424Z",
     "iopub.status.busy": "2023-06-26T16:46:56.640071Z",
     "iopub.status.idle": "2023-06-26T16:46:58.101118Z",
     "shell.execute_reply": "2023-06-26T16:46:58.099372Z"
    },
    "papermill": {
     "duration": 1.472908,
     "end_time": "2023-06-26T16:46:58.103728",
     "exception": false,
     "start_time": "2023-06-26T16:46:56.630820",
     "status": "completed"
    },
    "tags": []
   },
   "outputs": [],
   "source": [
    "import numpy as np\n",
    "import pandas as pd\n",
    "import matplotlib.pyplot as plt\n",
    "import seaborn as sns\n",
    "import missingno as msno\n",
    "import warnings\n",
    "warnings.filterwarnings('ignore')"
   ]
  },
  {
   "cell_type": "code",
   "execution_count": 3,
   "id": "fe2937a9",
   "metadata": {
    "execution": {
     "iopub.execute_input": "2023-06-26T16:46:58.121870Z",
     "iopub.status.busy": "2023-06-26T16:46:58.120535Z",
     "iopub.status.idle": "2023-06-26T16:46:58.289834Z",
     "shell.execute_reply": "2023-06-26T16:46:58.288399Z"
    },
    "papermill": {
     "duration": 0.181193,
     "end_time": "2023-06-26T16:46:58.292609",
     "exception": false,
     "start_time": "2023-06-26T16:46:58.111416",
     "status": "completed"
    },
    "tags": []
   },
   "outputs": [
    {
     "data": {
      "text/html": [
       "<div>\n",
       "<style scoped>\n",
       "    .dataframe tbody tr th:only-of-type {\n",
       "        vertical-align: middle;\n",
       "    }\n",
       "\n",
       "    .dataframe tbody tr th {\n",
       "        vertical-align: top;\n",
       "    }\n",
       "\n",
       "    .dataframe thead th {\n",
       "        text-align: right;\n",
       "    }\n",
       "</style>\n",
       "<table border=\"1\" class=\"dataframe\">\n",
       "  <thead>\n",
       "    <tr style=\"text-align: right;\">\n",
       "      <th></th>\n",
       "      <th>id</th>\n",
       "      <th>Sex</th>\n",
       "      <th>Length</th>\n",
       "      <th>Diameter</th>\n",
       "      <th>Height</th>\n",
       "      <th>Weight</th>\n",
       "      <th>Shucked Weight</th>\n",
       "      <th>Viscera Weight</th>\n",
       "      <th>Shell Weight</th>\n",
       "      <th>Age</th>\n",
       "    </tr>\n",
       "  </thead>\n",
       "  <tbody>\n",
       "    <tr>\n",
       "      <th>0</th>\n",
       "      <td>0</td>\n",
       "      <td>I</td>\n",
       "      <td>1.5250</td>\n",
       "      <td>1.1750</td>\n",
       "      <td>0.3750</td>\n",
       "      <td>28.973189</td>\n",
       "      <td>12.728926</td>\n",
       "      <td>6.647958</td>\n",
       "      <td>8.348928</td>\n",
       "      <td>9</td>\n",
       "    </tr>\n",
       "    <tr>\n",
       "      <th>1</th>\n",
       "      <td>1</td>\n",
       "      <td>I</td>\n",
       "      <td>1.1000</td>\n",
       "      <td>0.8250</td>\n",
       "      <td>0.2750</td>\n",
       "      <td>10.418441</td>\n",
       "      <td>4.521745</td>\n",
       "      <td>2.324659</td>\n",
       "      <td>3.401940</td>\n",
       "      <td>8</td>\n",
       "    </tr>\n",
       "    <tr>\n",
       "      <th>2</th>\n",
       "      <td>2</td>\n",
       "      <td>M</td>\n",
       "      <td>1.3875</td>\n",
       "      <td>1.1125</td>\n",
       "      <td>0.3750</td>\n",
       "      <td>24.777463</td>\n",
       "      <td>11.339800</td>\n",
       "      <td>5.556502</td>\n",
       "      <td>6.662133</td>\n",
       "      <td>9</td>\n",
       "    </tr>\n",
       "    <tr>\n",
       "      <th>3</th>\n",
       "      <td>3</td>\n",
       "      <td>F</td>\n",
       "      <td>1.7000</td>\n",
       "      <td>1.4125</td>\n",
       "      <td>0.5000</td>\n",
       "      <td>50.660556</td>\n",
       "      <td>20.354941</td>\n",
       "      <td>10.991839</td>\n",
       "      <td>14.996885</td>\n",
       "      <td>11</td>\n",
       "    </tr>\n",
       "    <tr>\n",
       "      <th>4</th>\n",
       "      <td>4</td>\n",
       "      <td>I</td>\n",
       "      <td>1.2500</td>\n",
       "      <td>1.0125</td>\n",
       "      <td>0.3375</td>\n",
       "      <td>23.289114</td>\n",
       "      <td>11.977664</td>\n",
       "      <td>4.507570</td>\n",
       "      <td>5.953395</td>\n",
       "      <td>8</td>\n",
       "    </tr>\n",
       "  </tbody>\n",
       "</table>\n",
       "</div>"
      ],
      "text/plain": [
       "   id Sex  Length  Diameter  Height     Weight  Shucked Weight  \\\n",
       "0   0   I  1.5250    1.1750  0.3750  28.973189       12.728926   \n",
       "1   1   I  1.1000    0.8250  0.2750  10.418441        4.521745   \n",
       "2   2   M  1.3875    1.1125  0.3750  24.777463       11.339800   \n",
       "3   3   F  1.7000    1.4125  0.5000  50.660556       20.354941   \n",
       "4   4   I  1.2500    1.0125  0.3375  23.289114       11.977664   \n",
       "\n",
       "   Viscera Weight  Shell Weight  Age  \n",
       "0        6.647958      8.348928    9  \n",
       "1        2.324659      3.401940    8  \n",
       "2        5.556502      6.662133    9  \n",
       "3       10.991839     14.996885   11  \n",
       "4        4.507570      5.953395    8  "
      ]
     },
     "execution_count": 3,
     "metadata": {},
     "output_type": "execute_result"
    }
   ],
   "source": [
    "train_data = pd.read_csv('/kaggle/input/playground-series-s3e16/train.csv')\n",
    "train_data.head()"
   ]
  },
  {
   "cell_type": "code",
   "execution_count": 4,
   "id": "0ea372bd",
   "metadata": {
    "execution": {
     "iopub.execute_input": "2023-06-26T16:46:58.310435Z",
     "iopub.status.busy": "2023-06-26T16:46:58.310033Z",
     "iopub.status.idle": "2023-06-26T16:46:58.392945Z",
     "shell.execute_reply": "2023-06-26T16:46:58.392099Z"
    },
    "papermill": {
     "duration": 0.094156,
     "end_time": "2023-06-26T16:46:58.394939",
     "exception": false,
     "start_time": "2023-06-26T16:46:58.300783",
     "status": "completed"
    },
    "tags": []
   },
   "outputs": [
    {
     "data": {
      "text/html": [
       "<div>\n",
       "<style scoped>\n",
       "    .dataframe tbody tr th:only-of-type {\n",
       "        vertical-align: middle;\n",
       "    }\n",
       "\n",
       "    .dataframe tbody tr th {\n",
       "        vertical-align: top;\n",
       "    }\n",
       "\n",
       "    .dataframe thead th {\n",
       "        text-align: right;\n",
       "    }\n",
       "</style>\n",
       "<table border=\"1\" class=\"dataframe\">\n",
       "  <thead>\n",
       "    <tr style=\"text-align: right;\">\n",
       "      <th></th>\n",
       "      <th>id</th>\n",
       "      <th>Sex</th>\n",
       "      <th>Length</th>\n",
       "      <th>Diameter</th>\n",
       "      <th>Height</th>\n",
       "      <th>Weight</th>\n",
       "      <th>Shucked Weight</th>\n",
       "      <th>Viscera Weight</th>\n",
       "      <th>Shell Weight</th>\n",
       "    </tr>\n",
       "  </thead>\n",
       "  <tbody>\n",
       "    <tr>\n",
       "      <th>0</th>\n",
       "      <td>74051</td>\n",
       "      <td>I</td>\n",
       "      <td>1.0500</td>\n",
       "      <td>0.7625</td>\n",
       "      <td>0.2750</td>\n",
       "      <td>8.618248</td>\n",
       "      <td>3.657085</td>\n",
       "      <td>1.729319</td>\n",
       "      <td>2.721552</td>\n",
       "    </tr>\n",
       "    <tr>\n",
       "      <th>1</th>\n",
       "      <td>74052</td>\n",
       "      <td>I</td>\n",
       "      <td>1.1625</td>\n",
       "      <td>0.8875</td>\n",
       "      <td>0.2750</td>\n",
       "      <td>15.507176</td>\n",
       "      <td>7.030676</td>\n",
       "      <td>3.246018</td>\n",
       "      <td>3.968930</td>\n",
       "    </tr>\n",
       "    <tr>\n",
       "      <th>2</th>\n",
       "      <td>74053</td>\n",
       "      <td>F</td>\n",
       "      <td>1.2875</td>\n",
       "      <td>0.9875</td>\n",
       "      <td>0.3250</td>\n",
       "      <td>14.571643</td>\n",
       "      <td>5.556502</td>\n",
       "      <td>3.883882</td>\n",
       "      <td>4.819415</td>\n",
       "    </tr>\n",
       "    <tr>\n",
       "      <th>3</th>\n",
       "      <td>74054</td>\n",
       "      <td>F</td>\n",
       "      <td>1.5500</td>\n",
       "      <td>0.9875</td>\n",
       "      <td>0.3875</td>\n",
       "      <td>28.377849</td>\n",
       "      <td>13.380964</td>\n",
       "      <td>6.548735</td>\n",
       "      <td>7.030676</td>\n",
       "    </tr>\n",
       "    <tr>\n",
       "      <th>4</th>\n",
       "      <td>74055</td>\n",
       "      <td>I</td>\n",
       "      <td>1.1125</td>\n",
       "      <td>0.8500</td>\n",
       "      <td>0.2625</td>\n",
       "      <td>11.765042</td>\n",
       "      <td>5.528153</td>\n",
       "      <td>2.466407</td>\n",
       "      <td>3.331066</td>\n",
       "    </tr>\n",
       "  </tbody>\n",
       "</table>\n",
       "</div>"
      ],
      "text/plain": [
       "      id Sex  Length  Diameter  Height     Weight  Shucked Weight  \\\n",
       "0  74051   I  1.0500    0.7625  0.2750   8.618248        3.657085   \n",
       "1  74052   I  1.1625    0.8875  0.2750  15.507176        7.030676   \n",
       "2  74053   F  1.2875    0.9875  0.3250  14.571643        5.556502   \n",
       "3  74054   F  1.5500    0.9875  0.3875  28.377849       13.380964   \n",
       "4  74055   I  1.1125    0.8500  0.2625  11.765042        5.528153   \n",
       "\n",
       "   Viscera Weight  Shell Weight  \n",
       "0        1.729319      2.721552  \n",
       "1        3.246018      3.968930  \n",
       "2        3.883882      4.819415  \n",
       "3        6.548735      7.030676  \n",
       "4        2.466407      3.331066  "
      ]
     },
     "execution_count": 4,
     "metadata": {},
     "output_type": "execute_result"
    }
   ],
   "source": [
    "test_data = pd.read_csv('/kaggle/input/playground-series-s3e16/test.csv')\n",
    "test_data.head()"
   ]
  },
  {
   "cell_type": "code",
   "execution_count": 5,
   "id": "202e2c6d",
   "metadata": {
    "execution": {
     "iopub.execute_input": "2023-06-26T16:46:58.411193Z",
     "iopub.status.busy": "2023-06-26T16:46:58.410816Z",
     "iopub.status.idle": "2023-06-26T16:46:58.433012Z",
     "shell.execute_reply": "2023-06-26T16:46:58.432390Z"
    },
    "papermill": {
     "duration": 0.032485,
     "end_time": "2023-06-26T16:46:58.434928",
     "exception": false,
     "start_time": "2023-06-26T16:46:58.402443",
     "status": "completed"
    },
    "tags": []
   },
   "outputs": [],
   "source": [
    "df = train_data.drop(['Age'], axis=1) \n",
    "df = pd.concat([df, test_data], axis=0).reset_index(drop=True)"
   ]
  },
  {
   "cell_type": "code",
   "execution_count": 6,
   "id": "ea07543a",
   "metadata": {
    "execution": {
     "iopub.execute_input": "2023-06-26T16:46:58.451069Z",
     "iopub.status.busy": "2023-06-26T16:46:58.450576Z",
     "iopub.status.idle": "2023-06-26T16:46:58.456176Z",
     "shell.execute_reply": "2023-06-26T16:46:58.455286Z"
    },
    "papermill": {
     "duration": 0.015449,
     "end_time": "2023-06-26T16:46:58.457787",
     "exception": false,
     "start_time": "2023-06-26T16:46:58.442338",
     "status": "completed"
    },
    "tags": []
   },
   "outputs": [
    {
     "data": {
      "text/plain": [
       "74051"
      ]
     },
     "execution_count": 6,
     "metadata": {},
     "output_type": "execute_result"
    }
   ],
   "source": [
    "train_max = train_data.shape[0] #This will help us divide the dataframe back into training and testing sets later.\n",
    "train_max"
   ]
  },
  {
   "cell_type": "markdown",
   "id": "d5daf5d8",
   "metadata": {
    "papermill": {
     "duration": 0.007097,
     "end_time": "2023-06-26T16:46:58.472170",
     "exception": false,
     "start_time": "2023-06-26T16:46:58.465073",
     "status": "completed"
    },
    "tags": []
   },
   "source": [
    "# **2. Basic EDA and features**"
   ]
  },
  {
   "cell_type": "code",
   "execution_count": 7,
   "id": "7f557f6c",
   "metadata": {
    "execution": {
     "iopub.execute_input": "2023-06-26T16:46:58.487887Z",
     "iopub.status.busy": "2023-06-26T16:46:58.487560Z",
     "iopub.status.idle": "2023-06-26T16:46:58.527314Z",
     "shell.execute_reply": "2023-06-26T16:46:58.525566Z"
    },
    "papermill": {
     "duration": 0.050701,
     "end_time": "2023-06-26T16:46:58.530017",
     "exception": false,
     "start_time": "2023-06-26T16:46:58.479316",
     "status": "completed"
    },
    "tags": []
   },
   "outputs": [
    {
     "name": "stdout",
     "output_type": "stream",
     "text": [
      "<class 'pandas.core.frame.DataFrame'>\n",
      "RangeIndex: 123419 entries, 0 to 123418\n",
      "Data columns (total 9 columns):\n",
      " #   Column          Non-Null Count   Dtype  \n",
      "---  ------          --------------   -----  \n",
      " 0   id              123419 non-null  int64  \n",
      " 1   Sex             123419 non-null  object \n",
      " 2   Length          123419 non-null  float64\n",
      " 3   Diameter        123419 non-null  float64\n",
      " 4   Height          123419 non-null  float64\n",
      " 5   Weight          123419 non-null  float64\n",
      " 6   Shucked Weight  123419 non-null  float64\n",
      " 7   Viscera Weight  123419 non-null  float64\n",
      " 8   Shell Weight    123419 non-null  float64\n",
      "dtypes: float64(7), int64(1), object(1)\n",
      "memory usage: 8.5+ MB\n"
     ]
    }
   ],
   "source": [
    "df.info()"
   ]
  },
  {
   "cell_type": "code",
   "execution_count": 8,
   "id": "c90ef447",
   "metadata": {
    "execution": {
     "iopub.execute_input": "2023-06-26T16:46:58.547386Z",
     "iopub.status.busy": "2023-06-26T16:46:58.547009Z",
     "iopub.status.idle": "2023-06-26T16:46:58.572014Z",
     "shell.execute_reply": "2023-06-26T16:46:58.570894Z"
    },
    "papermill": {
     "duration": 0.035743,
     "end_time": "2023-06-26T16:46:58.573948",
     "exception": false,
     "start_time": "2023-06-26T16:46:58.538205",
     "status": "completed"
    },
    "tags": []
   },
   "outputs": [
    {
     "data": {
      "text/plain": [
       "Age               1.000000\n",
       "Shell Weight      0.663473\n",
       "Height            0.638067\n",
       "Diameter          0.621256\n",
       "Length            0.612843\n",
       "Weight            0.601195\n",
       "Viscera Weight    0.576808\n",
       "Shucked Weight    0.503320\n",
       "id                0.000089\n",
       "Name: Age, dtype: float64"
      ]
     },
     "execution_count": 8,
     "metadata": {},
     "output_type": "execute_result"
    }
   ],
   "source": [
    "train_data.corr()['Age'].sort_values(ascending=False)"
   ]
  },
  {
   "cell_type": "code",
   "execution_count": 9,
   "id": "b2123f77",
   "metadata": {
    "execution": {
     "iopub.execute_input": "2023-06-26T16:46:58.591679Z",
     "iopub.status.busy": "2023-06-26T16:46:58.591010Z",
     "iopub.status.idle": "2023-06-26T16:46:58.615756Z",
     "shell.execute_reply": "2023-06-26T16:46:58.614750Z"
    },
    "papermill": {
     "duration": 0.035503,
     "end_time": "2023-06-26T16:46:58.617684",
     "exception": false,
     "start_time": "2023-06-26T16:46:58.582181",
     "status": "completed"
    },
    "tags": []
   },
   "outputs": [
    {
     "data": {
      "text/plain": [
       "id                0\n",
       "Sex               0\n",
       "Length            0\n",
       "Diameter          0\n",
       "Height            0\n",
       "Weight            0\n",
       "Shucked Weight    0\n",
       "Viscera Weight    0\n",
       "Shell Weight      0\n",
       "dtype: int64"
      ]
     },
     "execution_count": 9,
     "metadata": {},
     "output_type": "execute_result"
    }
   ],
   "source": [
    "df.isna().sum()"
   ]
  },
  {
   "cell_type": "code",
   "execution_count": 10,
   "id": "191ad75f",
   "metadata": {
    "execution": {
     "iopub.execute_input": "2023-06-26T16:46:58.634834Z",
     "iopub.status.busy": "2023-06-26T16:46:58.634523Z",
     "iopub.status.idle": "2023-06-26T16:46:58.648984Z",
     "shell.execute_reply": "2023-06-26T16:46:58.647724Z"
    },
    "papermill": {
     "duration": 0.025834,
     "end_time": "2023-06-26T16:46:58.651374",
     "exception": false,
     "start_time": "2023-06-26T16:46:58.625540",
     "status": "completed"
    },
    "tags": []
   },
   "outputs": [
    {
     "data": {
      "text/html": [
       "<div>\n",
       "<style scoped>\n",
       "    .dataframe tbody tr th:only-of-type {\n",
       "        vertical-align: middle;\n",
       "    }\n",
       "\n",
       "    .dataframe tbody tr th {\n",
       "        vertical-align: top;\n",
       "    }\n",
       "\n",
       "    .dataframe thead th {\n",
       "        text-align: right;\n",
       "    }\n",
       "</style>\n",
       "<table border=\"1\" class=\"dataframe\">\n",
       "  <thead>\n",
       "    <tr style=\"text-align: right;\">\n",
       "      <th></th>\n",
       "      <th>id</th>\n",
       "      <th>Sex</th>\n",
       "      <th>Length</th>\n",
       "      <th>Diameter</th>\n",
       "      <th>Height</th>\n",
       "      <th>Weight</th>\n",
       "      <th>Shucked Weight</th>\n",
       "      <th>Viscera Weight</th>\n",
       "      <th>Shell Weight</th>\n",
       "    </tr>\n",
       "  </thead>\n",
       "  <tbody>\n",
       "    <tr>\n",
       "      <th>0</th>\n",
       "      <td>0</td>\n",
       "      <td>I</td>\n",
       "      <td>1.5250</td>\n",
       "      <td>1.1750</td>\n",
       "      <td>0.3750</td>\n",
       "      <td>28.973189</td>\n",
       "      <td>12.728926</td>\n",
       "      <td>6.647958</td>\n",
       "      <td>8.348928</td>\n",
       "    </tr>\n",
       "    <tr>\n",
       "      <th>1</th>\n",
       "      <td>1</td>\n",
       "      <td>I</td>\n",
       "      <td>1.1000</td>\n",
       "      <td>0.8250</td>\n",
       "      <td>0.2750</td>\n",
       "      <td>10.418441</td>\n",
       "      <td>4.521745</td>\n",
       "      <td>2.324659</td>\n",
       "      <td>3.401940</td>\n",
       "    </tr>\n",
       "    <tr>\n",
       "      <th>2</th>\n",
       "      <td>2</td>\n",
       "      <td>M</td>\n",
       "      <td>1.3875</td>\n",
       "      <td>1.1125</td>\n",
       "      <td>0.3750</td>\n",
       "      <td>24.777463</td>\n",
       "      <td>11.339800</td>\n",
       "      <td>5.556502</td>\n",
       "      <td>6.662133</td>\n",
       "    </tr>\n",
       "    <tr>\n",
       "      <th>3</th>\n",
       "      <td>3</td>\n",
       "      <td>F</td>\n",
       "      <td>1.7000</td>\n",
       "      <td>1.4125</td>\n",
       "      <td>0.5000</td>\n",
       "      <td>50.660556</td>\n",
       "      <td>20.354941</td>\n",
       "      <td>10.991839</td>\n",
       "      <td>14.996885</td>\n",
       "    </tr>\n",
       "    <tr>\n",
       "      <th>4</th>\n",
       "      <td>4</td>\n",
       "      <td>I</td>\n",
       "      <td>1.2500</td>\n",
       "      <td>1.0125</td>\n",
       "      <td>0.3375</td>\n",
       "      <td>23.289114</td>\n",
       "      <td>11.977664</td>\n",
       "      <td>4.507570</td>\n",
       "      <td>5.953395</td>\n",
       "    </tr>\n",
       "  </tbody>\n",
       "</table>\n",
       "</div>"
      ],
      "text/plain": [
       "   id Sex  Length  Diameter  Height     Weight  Shucked Weight  \\\n",
       "0   0   I  1.5250    1.1750  0.3750  28.973189       12.728926   \n",
       "1   1   I  1.1000    0.8250  0.2750  10.418441        4.521745   \n",
       "2   2   M  1.3875    1.1125  0.3750  24.777463       11.339800   \n",
       "3   3   F  1.7000    1.4125  0.5000  50.660556       20.354941   \n",
       "4   4   I  1.2500    1.0125  0.3375  23.289114       11.977664   \n",
       "\n",
       "   Viscera Weight  Shell Weight  \n",
       "0        6.647958      8.348928  \n",
       "1        2.324659      3.401940  \n",
       "2        5.556502      6.662133  \n",
       "3       10.991839     14.996885  \n",
       "4        4.507570      5.953395  "
      ]
     },
     "execution_count": 10,
     "metadata": {},
     "output_type": "execute_result"
    }
   ],
   "source": [
    "df.head()"
   ]
  },
  {
   "cell_type": "code",
   "execution_count": 11,
   "id": "16feb657",
   "metadata": {
    "execution": {
     "iopub.execute_input": "2023-06-26T16:46:58.670506Z",
     "iopub.status.busy": "2023-06-26T16:46:58.669401Z",
     "iopub.status.idle": "2023-06-26T16:46:58.676792Z",
     "shell.execute_reply": "2023-06-26T16:46:58.675549Z"
    },
    "papermill": {
     "duration": 0.019539,
     "end_time": "2023-06-26T16:46:58.679346",
     "exception": false,
     "start_time": "2023-06-26T16:46:58.659807",
     "status": "completed"
    },
    "tags": []
   },
   "outputs": [],
   "source": [
    "#Change column names so that a space is not present in the name. Some models won't work with this\n",
    "df.rename(columns={'Shucked Weight': 'Shucked_Weight', 'Viscera Weight': 'Viscera_Weight', 'Shell Weight': 'Shell_Weight'}, inplace=True)\n",
    "test_data.rename(columns={'Shucked Weight': 'Shucked_Weight', 'Viscera Weight': 'Viscera_Weight', 'Shell Weight': 'Shell_Weight'}, inplace=True)"
   ]
  },
  {
   "cell_type": "code",
   "execution_count": 12,
   "id": "7e3f1070",
   "metadata": {
    "execution": {
     "iopub.execute_input": "2023-06-26T16:46:58.698839Z",
     "iopub.status.busy": "2023-06-26T16:46:58.698003Z",
     "iopub.status.idle": "2023-06-26T16:46:58.732072Z",
     "shell.execute_reply": "2023-06-26T16:46:58.731111Z"
    },
    "papermill": {
     "duration": 0.046914,
     "end_time": "2023-06-26T16:46:58.734802",
     "exception": false,
     "start_time": "2023-06-26T16:46:58.687888",
     "status": "completed"
    },
    "tags": []
   },
   "outputs": [],
   "source": [
    "#Complete feature engineering from https://www.kaggle.com/competitions/playground-series-s3e16/discussion/415721\n",
    "\n",
    "df['Viscera_Ratio'] = df['Viscera_Weight'] / df['Weight']\n",
    "df['Shell_Ratio'] = df['Shell_Weight'] / df['Weight']\n",
    "df['Shell_vs_Body'] = df['Shell_Weight'] / (df['Weight'] + df['Shell_Weight'])\n",
    "df['Meat_Yield'] = df['Shucked_Weight'] / (df['Weight'] + df['Shell_Weight'])\n",
    "df['Length_to_Diameter_Ratio'] = df['Length'] / df['Diameter']\n",
    "df['Weight_to_VisceraWeight_Ratio'] = df['Weight'] / df['Viscera_Weight']\n",
    "df['Weight_to_ShellWeight_Ratio'] = df['Weight'] / df['Shell_Weight']\n",
    "df['Weight_to_ShuckedWeight_Ratio'] = df['Weight'] / df['Shucked_Weight']\n",
    "\n",
    "df['Surface_Area'] = 2 * ((df['Length'] * df['Diameter']) + (df['Length'] * df['Height']) + (df['Diameter'] * df['Height']))\n",
    "df['Volume'] = df['Length'] * df['Diameter'] * df['Height']\n",
    "df['Density'] = df['Weight'] / (df['Volume'] + 0.0001)\n",
    "df['Height^2'] = df['Height']**2\n",
    "df['Pseudo_BMI'] = df['Weight'] / (df['Height^2'] + 0.0001)\n",
    "\n",
    "\n",
    "df['Length^2'] = df['Length']**2\n",
    "df['Diameter^2'] = df['Diameter']**2\n",
    "\n",
    "df['Log_Weight'] = np.log1p(df['Weight'])\n",
    "\n",
    "df['Weight_wo_Viscera'] = df['Shucked_Weight'] - df['Viscera_Weight']\n",
    "df['Body_Condition_Index'] = np.sqrt(df['Length'] * df['Weight'] * df['Shucked_Weight'])\n",
    "\n",
    "df['Length_Bins'] = pd.cut(df['Length'], bins=4, labels=False)"
   ]
  },
  {
   "cell_type": "code",
   "execution_count": 13,
   "id": "8b8b2df6",
   "metadata": {
    "execution": {
     "iopub.execute_input": "2023-06-26T16:46:58.753256Z",
     "iopub.status.busy": "2023-06-26T16:46:58.752879Z",
     "iopub.status.idle": "2023-06-26T16:46:59.774810Z",
     "shell.execute_reply": "2023-06-26T16:46:59.773668Z"
    },
    "papermill": {
     "duration": 1.033955,
     "end_time": "2023-06-26T16:46:59.777418",
     "exception": false,
     "start_time": "2023-06-26T16:46:58.743463",
     "status": "completed"
    },
    "tags": []
   },
   "outputs": [
    {
     "data": {
      "text/plain": [
       "array([[ 0.63946185,  0.47100434,  0.1397103 , ...,  0.37628274,\n",
       "         0.43627663,  0.08541442],\n",
       "       [-0.80916817, -0.86618925, -0.80222568, ..., -0.84090635,\n",
       "        -0.88719672, -1.14007693],\n",
       "       [ 0.02760402,  0.14731565,  0.1397103 , ...,  0.2887499 ,\n",
       "         0.12384009,  0.08541442],\n",
       "       ...,\n",
       "       [ 0.4403831 ,  0.40471681, -0.01380069, ..., -0.04643572,\n",
       "         0.37880595,  0.08541442],\n",
       "       [-0.43900121, -0.4612146 , -0.71198111, ..., -0.78162595,\n",
       "        -0.55581147,  0.08541442],\n",
       "       [ 1.55008498,  1.38462826,  1.01457112, ...,  0.52930109,\n",
       "         1.01628666,  5.19933758]])"
      ]
     },
     "execution_count": 13,
     "metadata": {},
     "output_type": "execute_result"
    }
   ],
   "source": [
    "from sklearn.preprocessing import QuantileTransformer\n",
    "num_feat = df.select_dtypes(exclude = [\"object\"]).columns\n",
    "cat_feat = df.select_dtypes(include = [\"object\"]).columns\n",
    "train_cat = df[cat_feat]\n",
    "train_num = df[num_feat]\n",
    "train_num = train_num.drop(['id'], axis=1)\n",
    "\n",
    "QuantileTransformer(output_distribution='normal').fit_transform(train_num)"
   ]
  },
  {
   "cell_type": "code",
   "execution_count": 14,
   "id": "442c11b9",
   "metadata": {
    "execution": {
     "iopub.execute_input": "2023-06-26T16:46:59.796720Z",
     "iopub.status.busy": "2023-06-26T16:46:59.796336Z",
     "iopub.status.idle": "2023-06-26T16:46:59.825109Z",
     "shell.execute_reply": "2023-06-26T16:46:59.823698Z"
    },
    "papermill": {
     "duration": 0.041142,
     "end_time": "2023-06-26T16:46:59.827891",
     "exception": false,
     "start_time": "2023-06-26T16:46:59.786749",
     "status": "completed"
    },
    "tags": []
   },
   "outputs": [],
   "source": [
    "train_cat = pd.get_dummies(train_cat) #Create dummies for the categorical features\n",
    "X = pd.concat([train_cat, train_num], axis=1) #Concatenate both categorical and numerical features back together.\n",
    "X_test = X[train_max:].copy()\n",
    "X = X[:train_max].copy() #create train and test datasets for modeling\n",
    "y = train_data['Age']"
   ]
  },
  {
   "cell_type": "markdown",
   "id": "9cd69181",
   "metadata": {
    "papermill": {
     "duration": 0.008774,
     "end_time": "2023-06-26T16:46:59.845801",
     "exception": false,
     "start_time": "2023-06-26T16:46:59.837027",
     "status": "completed"
    },
    "tags": []
   },
   "source": [
    "# **3. Modeling**"
   ]
  },
  {
   "cell_type": "code",
   "execution_count": 15,
   "id": "5974806e",
   "metadata": {
    "execution": {
     "iopub.execute_input": "2023-06-26T16:46:59.865291Z",
     "iopub.status.busy": "2023-06-26T16:46:59.864660Z",
     "iopub.status.idle": "2023-06-26T16:47:02.469638Z",
     "shell.execute_reply": "2023-06-26T16:47:02.468322Z"
    },
    "papermill": {
     "duration": 2.617976,
     "end_time": "2023-06-26T16:47:02.472604",
     "exception": false,
     "start_time": "2023-06-26T16:46:59.854628",
     "status": "completed"
    },
    "tags": []
   },
   "outputs": [],
   "source": [
    "import optuna\n",
    "from lightgbm import LGBMRegressor\n",
    "from xgboost import XGBRegressor\n",
    "import xgboost as xgb\n",
    "from catboost import CatBoostRegressor\n",
    "from sklearn.svm import LinearSVR\n",
    "from sklearn.neural_network import MLPRegressor\n",
    "from sklearn.tree import DecisionTreeRegressor\n",
    "from sklearn.linear_model import TheilSenRegressor\n",
    "from sklearn.preprocessing import StandardScaler, MinMaxScaler, MaxAbsScaler, RobustScaler, Normalizer, RobustScaler\n",
    "from sklearn.model_selection import train_test_split\n",
    "\n",
    "from sklearn.metrics import r2_score, mean_absolute_error\n",
    "from sklearn.ensemble import (RandomForestRegressor, AdaBoostRegressor, ExtraTreesRegressor, \n",
    "                                GradientBoostingRegressor, HistGradientBoostingRegressor)\n",
    "from sklearn.linear_model import (LinearRegression, RidgeCV, HuberRegressor, ARDRegression, Lasso, \n",
    "                                    ElasticNet, PassiveAggressiveRegressor)\n",
    "\n",
    "seed = 42"
   ]
  },
  {
   "cell_type": "code",
   "execution_count": 16,
   "id": "514e3097",
   "metadata": {
    "execution": {
     "iopub.execute_input": "2023-06-26T16:47:02.492827Z",
     "iopub.status.busy": "2023-06-26T16:47:02.492504Z",
     "iopub.status.idle": "2023-06-26T16:47:02.528934Z",
     "shell.execute_reply": "2023-06-26T16:47:02.528373Z"
    },
    "papermill": {
     "duration": 0.049806,
     "end_time": "2023-06-26T16:47:02.531374",
     "exception": false,
     "start_time": "2023-06-26T16:47:02.481568",
     "status": "completed"
    },
    "tags": []
   },
   "outputs": [
    {
     "data": {
      "text/plain": [
       "array([[-0.67142688,  1.44602779, -0.75938146, ..., -0.99693561,\n",
       "        -1.13668147, -1.3384645 ],\n",
       "       [-0.67142688,  1.44602779, -0.75938146, ..., -0.40324347,\n",
       "        -0.64635208,  0.13186089],\n",
       "       [ 1.48936546, -0.69154964, -0.75938146, ..., -1.07851163,\n",
       "        -0.73968641,  0.13186089],\n",
       "       ...,\n",
       "       [ 1.48936546, -0.69154964, -0.75938146, ..., -0.15851541,\n",
       "         0.40527131,  0.13186089],\n",
       "       [ 1.48936546, -0.69154964, -0.75938146, ..., -0.85644357,\n",
       "        -0.68096792,  0.13186089],\n",
       "       [-0.67142688, -0.69154964,  1.31686122, ...,  0.50315675,\n",
       "         1.03427767,  1.60218629]])"
      ]
     },
     "execution_count": 16,
     "metadata": {},
     "output_type": "execute_result"
    }
   ],
   "source": [
    "scl = StandardScaler()\n",
    "scl.fit(X)\n",
    "scl.transform(X)\n",
    "scl.transform(X_test)"
   ]
  },
  {
   "cell_type": "code",
   "execution_count": 17,
   "id": "4b9482f8",
   "metadata": {
    "execution": {
     "iopub.execute_input": "2023-06-26T16:47:02.550281Z",
     "iopub.status.busy": "2023-06-26T16:47:02.549896Z",
     "iopub.status.idle": "2023-06-26T16:47:02.558410Z",
     "shell.execute_reply": "2023-06-26T16:47:02.557556Z"
    },
    "papermill": {
     "duration": 0.020032,
     "end_time": "2023-06-26T16:47:02.560249",
     "exception": false,
     "start_time": "2023-06-26T16:47:02.540217",
     "status": "completed"
    },
    "tags": []
   },
   "outputs": [],
   "source": [
    "#Will start by cheking different models and check their performance\n",
    "models = [\n",
    "    ('linear', LinearRegression()),\n",
    "    ('lgb', LGBMRegressor(random_state=seed, objective='mae')),\n",
    "    ('dart', LGBMRegressor(random_state=seed, boosting_type='dart')),\n",
    "    ('cat', CatBoostRegressor(verbose=False)),\n",
    "    ('huber', HuberRegressor(max_iter=1000000)),\n",
    "    ('hgb', HistGradientBoostingRegressor(random_state=seed, loss='absolute_error')),\n",
    "    ('xgb', XGBRegressor(random_state=seed, objective='reg:absoluteerror')),\n",
    "]"
   ]
  },
  {
   "cell_type": "code",
   "execution_count": 18,
   "id": "9759a114",
   "metadata": {
    "execution": {
     "iopub.execute_input": "2023-06-26T16:47:02.579252Z",
     "iopub.status.busy": "2023-06-26T16:47:02.578862Z",
     "iopub.status.idle": "2023-06-26T16:47:02.600611Z",
     "shell.execute_reply": "2023-06-26T16:47:02.599514Z"
    },
    "papermill": {
     "duration": 0.034335,
     "end_time": "2023-06-26T16:47:02.603506",
     "exception": false,
     "start_time": "2023-06-26T16:47:02.569171",
     "status": "completed"
    },
    "tags": []
   },
   "outputs": [],
   "source": [
    "X_train, X_val, y_train, y_val = train_test_split(X, y, train_size = 0.80, random_state=42)"
   ]
  },
  {
   "cell_type": "code",
   "execution_count": 19,
   "id": "1bd03713",
   "metadata": {
    "execution": {
     "iopub.execute_input": "2023-06-26T16:47:02.622627Z",
     "iopub.status.busy": "2023-06-26T16:47:02.621721Z",
     "iopub.status.idle": "2023-06-26T16:47:02.627340Z",
     "shell.execute_reply": "2023-06-26T16:47:02.626131Z"
    },
    "papermill": {
     "duration": 0.016914,
     "end_time": "2023-06-26T16:47:02.629105",
     "exception": false,
     "start_time": "2023-06-26T16:47:02.612191",
     "status": "completed"
    },
    "tags": []
   },
   "outputs": [],
   "source": [
    "def evaluate_model(true, predicted):\n",
    "    mae = (mean_absolute_error(true, predicted))\n",
    "    r2_square = r2_score(true, predicted)\n",
    "    return mae, r2_square"
   ]
  },
  {
   "cell_type": "code",
   "execution_count": 20,
   "id": "62a1008f",
   "metadata": {
    "execution": {
     "iopub.execute_input": "2023-06-26T16:47:02.648482Z",
     "iopub.status.busy": "2023-06-26T16:47:02.647592Z",
     "iopub.status.idle": "2023-06-26T16:48:00.389289Z",
     "shell.execute_reply": "2023-06-26T16:48:00.388123Z"
    },
    "papermill": {
     "duration": 57.753547,
     "end_time": "2023-06-26T16:48:00.391310",
     "exception": false,
     "start_time": "2023-06-26T16:47:02.637763",
     "status": "completed"
    },
    "tags": []
   },
   "outputs": [
    {
     "name": "stdout",
     "output_type": "stream",
     "text": [
      "Model performance for Test set linear\n",
      "- Mean  Absolute Error: 1.4699\n",
      "- R2 Score: 0.5670\n",
      "===================================\n",
      "\n",
      "\n",
      "Model performance for Test set lgb\n",
      "- Mean  Absolute Error: 1.3671\n",
      "- R2 Score: 0.5646\n",
      "===================================\n",
      "\n",
      "\n",
      "Model performance for Test set dart\n",
      "- Mean  Absolute Error: 1.4290\n",
      "- R2 Score: 0.5268\n",
      "===================================\n",
      "\n",
      "\n",
      "Model performance for Test set cat\n",
      "- Mean  Absolute Error: 1.4059\n",
      "- R2 Score: 0.5921\n",
      "===================================\n",
      "\n",
      "\n",
      "Model performance for Test set huber\n",
      "- Mean  Absolute Error: 1.4306\n",
      "- R2 Score: 0.5514\n",
      "===================================\n",
      "\n",
      "\n",
      "Model performance for Test set hgb\n",
      "- Mean  Absolute Error: 1.3668\n",
      "- R2 Score: 0.5672\n",
      "===================================\n",
      "\n",
      "\n",
      "Model performance for Test set xgb\n",
      "- Mean  Absolute Error: 1.3797\n",
      "- R2 Score: 0.5668\n",
      "===================================\n",
      "\n",
      "\n",
      "CPU times: user 1min 47s, sys: 54.2 s, total: 2min 42s\n",
      "Wall time: 57.7 s\n"
     ]
    }
   ],
   "source": [
    "%%time\n",
    "score_list =[]\n",
    "for i in range(len(models)):\n",
    "    model = models[i][1]\n",
    "    model.fit(X_train, y_train)\n",
    "\n",
    "    y_train_pred = model.predict(X_train)\n",
    "    y_val_pred = model.predict(X_val)\n",
    "\n",
    "    model_test_mae, model_test_r2 = evaluate_model(y_val, y_val_pred)\n",
    "\n",
    "    \n",
    "    print(f'Model performance for Test set {models[i][0]}')\n",
    "    print(\"- Mean  Absolute Error: {:.4f}\".format(model_test_mae))\n",
    "    print(\"- R2 Score: {:.4f}\".format(model_test_r2))\n",
    "    score_list.append([models[i][0],model_test_r2, model_test_mae])\n",
    "    \n",
    "    print('='*35)\n",
    "    print('\\n')"
   ]
  },
  {
   "cell_type": "markdown",
   "id": "613ca0f9",
   "metadata": {
    "papermill": {
     "duration": 0.008899,
     "end_time": "2023-06-26T16:48:00.409029",
     "exception": false,
     "start_time": "2023-06-26T16:48:00.400130",
     "status": "completed"
    },
    "tags": []
   },
   "source": [
    "## **3.2. Hyperparameter tuning with optuna**"
   ]
  },
  {
   "cell_type": "code",
   "execution_count": 21,
   "id": "205edea9",
   "metadata": {
    "execution": {
     "iopub.execute_input": "2023-06-26T16:48:00.431126Z",
     "iopub.status.busy": "2023-06-26T16:48:00.430750Z",
     "iopub.status.idle": "2023-06-26T16:48:00.437119Z",
     "shell.execute_reply": "2023-06-26T16:48:00.435815Z"
    },
    "papermill": {
     "duration": 0.019252,
     "end_time": "2023-06-26T16:48:00.438967",
     "exception": false,
     "start_time": "2023-06-26T16:48:00.419715",
     "status": "completed"
    },
    "tags": []
   },
   "outputs": [],
   "source": [
    "# import optuna\n",
    "# import lightgbm as lgb\n",
    "# from sklearn.metrics import mean_absolute_error\n",
    "# from sklearn.model_selection import train_test_split\n",
    "\n",
    "# # Define the objective function to minimize (in this case, mean absolute error)\n",
    "# def objective(trial):\n",
    "#     # Define the hyperparameter search space\n",
    "#     params = {\n",
    "#         'objective': 'mae',\n",
    "#         'metric': 'mae',\n",
    "#         'boosting_type': 'gbdt',\n",
    "#         'num_leaves': trial.suggest_int('num_leaves', 20, 100),\n",
    "#         'max_depth': trial.suggest_int('max_depth', -1, 15),\n",
    "#         'learning_rate': trial.suggest_loguniform('learning_rate', 0.01, 0.5),\n",
    "#         'n_estimators': trial.suggest_int('n_estimators', 100, 1200),\n",
    "#         'subsample': trial.suggest_uniform('subsample', 0.6, 1.0),\n",
    "#         'colsample_bytree': trial.suggest_uniform('colsample_bytree', 0.6, 1.0),\n",
    "#         'reg_alpha': trial.suggest_loguniform('reg_alpha', 1e-10, 10),\n",
    "#         'reg_lambda': trial.suggest_loguniform('reg_lambda', 1e-10, 10),\n",
    "#         'min_child_samples': trial.suggest_int('min_child_samples', 5, 100),\n",
    "#         'min_child_weight': trial.suggest_loguniform('min_child_weight', 1e-5, 1e5),\n",
    "#         'random_state': 42,\n",
    "#         'n_jobs': -1\n",
    "#     }\n",
    "    \n",
    "#     # Split the data into training and validation sets\n",
    "#     X_train, X_val, y_train, y_val = train_test_split(X, y, test_size=0.2, random_state=42)\n",
    "    \n",
    "#     # Create and train the LightGBM model\n",
    "#     model = lgb.LGBMRegressor(**params)\n",
    "#     model.fit(X_train, y_train,\n",
    "#               eval_set=[(X_val, y_val)],\n",
    "#               early_stopping_rounds=50,\n",
    "#               verbose=False)\n",
    "    \n",
    "#     # Make predictions on the validation set\n",
    "#     y_pred = model.predict(X_val).round(decimals = 0)\n",
    "    \n",
    "#     # Calculate and return the mean absolute error\n",
    "#     mae = mean_absolute_error(y_val, y_pred)\n",
    "#     return mae\n",
    "\n",
    "# # Create the Optuna study and optimize the objective function\n",
    "# study = optuna.create_study(direction='minimize')\n",
    "# study.optimize(objective, n_trials=200)\n",
    "\n",
    "# # Print the best hyperparameters and the best objective value\n",
    "# best_params = study.best_params\n",
    "# best_mae = study.best_value\n",
    "# print(\"Best Parameters: \", best_params)\n",
    "# print(\"Best MAE: \", best_mae)\n",
    "# lgbm = lgb.LGBMRegressor(**best_params)\n",
    "# lgbm.fit(X_train, y_train)"
   ]
  },
  {
   "cell_type": "code",
   "execution_count": 22,
   "id": "7d26c875",
   "metadata": {
    "execution": {
     "iopub.execute_input": "2023-06-26T16:48:00.461631Z",
     "iopub.status.busy": "2023-06-26T16:48:00.460243Z",
     "iopub.status.idle": "2023-06-26T16:48:00.466660Z",
     "shell.execute_reply": "2023-06-26T16:48:00.465609Z"
    },
    "papermill": {
     "duration": 0.019581,
     "end_time": "2023-06-26T16:48:00.468559",
     "exception": false,
     "start_time": "2023-06-26T16:48:00.448978",
     "status": "completed"
    },
    "tags": []
   },
   "outputs": [],
   "source": [
    "# %%time\n",
    "# def catboost_objective(trial):\n",
    "#     params = {\n",
    "#         'objective': 'MAE',\n",
    "#         'loss_function': 'MAE',\n",
    "#         'n_estimators': trial.suggest_int('n_estimators', 100, 1000),\n",
    "#         'learning_rate': trial.suggest_loguniform('learning_rate', 0.001, 0.1),\n",
    "#         'max_depth': trial.suggest_int('max_depth', 3, 12),\n",
    "#         'subsample': trial.suggest_uniform('subsample', 0.1, 1.0),\n",
    "#         'colsample_bylevel': trial.suggest_uniform('colsample_bylevel', 0.5, 1.0),\n",
    "#     }\n",
    "\n",
    "#     classifier = CatBoostRegressor(**params,verbose = False)\n",
    "#     classifier.fit(X_train, y_train, eval_set=[(X_val, y_val)], early_stopping_rounds=20, verbose=False)\n",
    "\n",
    "#     y_pred_proba = classifier.predict(X_val).round(decimals = 0)\n",
    "\n",
    "#     mae = mean_absolute_error(y_val, y_pred_proba)\n",
    "#     return  mae\n",
    "\n",
    "# # Create the Optuna study and optimize the objective functions\n",
    "# catboost_study = optuna.create_study(direction='minimize')\n",
    "# catboost_study.optimize(catboost_objective, n_trials=100)\n",
    "\n",
    "# # Print the best hyperparameters and corresponding ROC AUC scores - CatBoostClassifier\n",
    "# catboost_best_params = catboost_study.best_params\n",
    "# catboost_best_score = catboost_study.best_value\n",
    "# print(\"CatBoost Best Hyperparameters: \", catboost_best_params)\n",
    "# print(\"CatBoost Best ROC AUC Score: \", catboost_best_score)\n",
    "\n",
    "# cat = CatBoostRegressor(**catboost_best_params, verbose = False)\n",
    "# cat.fit(X_train, y_train)"
   ]
  },
  {
   "cell_type": "code",
   "execution_count": 23,
   "id": "3a62151c",
   "metadata": {
    "execution": {
     "iopub.execute_input": "2023-06-26T16:48:00.488152Z",
     "iopub.status.busy": "2023-06-26T16:48:00.487756Z",
     "iopub.status.idle": "2023-06-26T16:48:00.493763Z",
     "shell.execute_reply": "2023-06-26T16:48:00.492507Z"
    },
    "papermill": {
     "duration": 0.018114,
     "end_time": "2023-06-26T16:48:00.495787",
     "exception": false,
     "start_time": "2023-06-26T16:48:00.477673",
     "status": "completed"
    },
    "tags": []
   },
   "outputs": [],
   "source": [
    "# def objective(trial):\n",
    "#     # Define the hyperparameter search space\n",
    "#     params = {\n",
    "#         'loss': 'absolute_error',\n",
    "#         'learning_rate': trial.suggest_loguniform('learning_rate', 0.01, 0.5),\n",
    "#         'max_iter': trial.suggest_int('max_iter', 100, 1000),\n",
    "#         'max_leaf_nodes': trial.suggest_int('max_leaf_nodes', 10, 150),\n",
    "#         'min_samples_leaf': trial.suggest_int('min_samples_leaf', 10, 150),\n",
    "#         'max_bins': trial.suggest_int('max_bins', 2, 255),\n",
    "#         'max_depth': trial.suggest_int('max_depth', 3, 15),\n",
    "#         'l2_regularization': trial.suggest_loguniform('l2_regularization', 1e-10, 1e+1),\n",
    "#         'random_state': 42\n",
    "#     }\n",
    "    \n",
    "#     # Split the data into training and validation sets\n",
    "#     X_train, X_val, y_train, y_val = train_test_split(X, y, test_size=0.2, random_state=42)\n",
    "    \n",
    "#     # Create and train the HGB regressor\n",
    "#     model = HistGradientBoostingRegressor(**params)\n",
    "#     model.fit(X_train, y_train)\n",
    "    \n",
    "#     # Make predictions on the validation set\n",
    "#     y_pred = model.predict(X_val).round(decimals = 0)\n",
    "    \n",
    "#     # Calculate and return the mean absolute error\n",
    "#     mae = mean_absolute_error(y_val, y_pred)\n",
    "#     return mae\n",
    "\n",
    "# # Create the Optuna study and optimize the objective function\n",
    "# study = optuna.create_study(direction='minimize')\n",
    "# study.optimize(objective, n_trials=100)\n",
    "\n",
    "# # Print the best hyperparameters and the best objective value\n",
    "# best_params = study.best_params\n",
    "# best_mae = study.best_value\n",
    "# print(\"Best Parameters: \", best_params)\n",
    "# print(\"Best MAE: \", best_mae)\n",
    "\n",
    "# hist = HistGradientBoostingRegressor(**best_params)\n",
    "# hist.fit(X_train, y_train)"
   ]
  },
  {
   "cell_type": "code",
   "execution_count": 24,
   "id": "58fdd012",
   "metadata": {
    "execution": {
     "iopub.execute_input": "2023-06-26T16:48:00.514608Z",
     "iopub.status.busy": "2023-06-26T16:48:00.514210Z",
     "iopub.status.idle": "2023-06-26T16:48:00.520486Z",
     "shell.execute_reply": "2023-06-26T16:48:00.518774Z"
    },
    "papermill": {
     "duration": 0.018312,
     "end_time": "2023-06-26T16:48:00.522867",
     "exception": false,
     "start_time": "2023-06-26T16:48:00.504555",
     "status": "completed"
    },
    "tags": []
   },
   "outputs": [],
   "source": [
    "# def objective(trial):\n",
    "#     # Define the hyperparameter search space\n",
    "#     params = {\n",
    "#         'objective': 'reg:absoluteerror',\n",
    "#         'learning_rate': trial.suggest_loguniform('learning_rate', 0.01, 0.5),\n",
    "#         'max_depth': trial.suggest_int('max_depth', 3, 10),\n",
    "#         'subsample': trial.suggest_uniform('subsample', 0.6, 1.0),\n",
    "#         'colsample_bytree': trial.suggest_uniform('colsample_bytree', 0.6, 1.0),\n",
    "#         'alpha': trial.suggest_loguniform('alpha', 1e-5, 10),\n",
    "#         'lambda': trial.suggest_loguniform('lambda', 1e-5, 10),\n",
    "#         'random_state': 42\n",
    "#     }\n",
    "    \n",
    "#     # Split the data into training and validation sets\n",
    "#     X_train, X_val, y_train, y_val = train_test_split(X, y, test_size=0.2, random_state=42)\n",
    "    \n",
    "#     # Create and train the XGB regressor\n",
    "#     model = xgb.XGBRegressor(**params)\n",
    "#     model.fit(X_train, y_train, eval_set=[(X_val, y_val)], early_stopping_rounds=50, verbose=False)\n",
    "    \n",
    "#     # Make predictions on the validation set\n",
    "#     y_pred = model.predict(X_val).round(decimals = 0)\n",
    "    \n",
    "#     # Calculate and return the mean absolute error\n",
    "#     mae = mean_absolute_error(y_val, y_pred)\n",
    "#     return mae\n",
    "\n",
    "# # Create the Optuna study and optimize the objective function\n",
    "# study = optuna.create_study(direction='minimize')\n",
    "# study.optimize(objective, n_trials=100)\n",
    "\n",
    "# # Print the best hyperparameters and the best objective value\n",
    "# best_params = study.best_params\n",
    "# best_mae = study.best_value\n",
    "# print(\"Best Parameters: \", best_params)\n",
    "# print(\"Best MAE: \", best_mae)\n",
    "\n",
    "# xgbr = xgb.XGBRegressor(**best_params)\n",
    "# xgbr.fit(X_train, y_train)"
   ]
  },
  {
   "cell_type": "code",
   "execution_count": 25,
   "id": "da68aba6",
   "metadata": {
    "execution": {
     "iopub.execute_input": "2023-06-26T16:48:00.542807Z",
     "iopub.status.busy": "2023-06-26T16:48:00.542439Z",
     "iopub.status.idle": "2023-06-26T16:48:00.549192Z",
     "shell.execute_reply": "2023-06-26T16:48:00.548238Z"
    },
    "papermill": {
     "duration": 0.018997,
     "end_time": "2023-06-26T16:48:00.551000",
     "exception": false,
     "start_time": "2023-06-26T16:48:00.532003",
     "status": "completed"
    },
    "tags": []
   },
   "outputs": [],
   "source": [
    "# These parameters were obtained with optuna optimization\n",
    "lgbm_params  = {'num_leaves': 85, 'max_depth': 5, 'learning_rate': 0.04499385904161292, 'n_estimators': 1118, 'subsample': 0.7098886961252188, 'colsample_bytree': 0.6246424547686764, 'reg_alpha': 0.6547580807681769, 'reg_lambda': 1.3956921724340055e-10, 'min_child_samples': 47, 'min_child_weight': 174.17835021793346}\n",
    "cat_params = {'n_estimators': 923, 'learning_rate': 0.03172622152773958, 'max_depth': 7, 'subsample': 0.8043777871401916, 'colsample_bylevel': 0.5923058619998527}\n",
    "hgb_params = {'learning_rate': 0.03826553888402566, 'max_iter': 468, 'max_leaf_nodes': 141, 'min_samples_leaf': 49, 'max_bins': 254, 'max_depth': 13, 'l2_regularization': 0.00012007615695712585}\n",
    "xgbr_params = {'learning_rate': 0.35003635655666976, 'max_depth': 4, 'subsample': 0.8374263752401707, 'colsample_bytree': 0.7540439913655939, 'alpha': 8.811805887061658, 'lambda': 3.372267346667596e-05}"
   ]
  },
  {
   "cell_type": "code",
   "execution_count": 26,
   "id": "ff30a51f",
   "metadata": {
    "execution": {
     "iopub.execute_input": "2023-06-26T16:48:00.570657Z",
     "iopub.status.busy": "2023-06-26T16:48:00.570297Z",
     "iopub.status.idle": "2023-06-26T16:48:00.575987Z",
     "shell.execute_reply": "2023-06-26T16:48:00.574817Z"
    },
    "papermill": {
     "duration": 0.018746,
     "end_time": "2023-06-26T16:48:00.578866",
     "exception": false,
     "start_time": "2023-06-26T16:48:00.560120",
     "status": "completed"
    },
    "tags": []
   },
   "outputs": [],
   "source": [
    "lgbm = LGBMRegressor(**lgbm_params, objective='mae')\n",
    "cat = CatBoostRegressor(**cat_params, objective = 'MAE', verbose = False, loss_function = 'MAE')\n",
    "hist = HistGradientBoostingRegressor(**hgb_params, loss = 'absolute_error')\n",
    "xgbr = XGBRegressor(**xgbr_params, objective = 'reg:absoluteerror')"
   ]
  },
  {
   "cell_type": "code",
   "execution_count": 27,
   "id": "2d62a702",
   "metadata": {
    "execution": {
     "iopub.execute_input": "2023-06-26T16:48:00.598776Z",
     "iopub.status.busy": "2023-06-26T16:48:00.598440Z",
     "iopub.status.idle": "2023-06-26T16:48:48.755799Z",
     "shell.execute_reply": "2023-06-26T16:48:48.754470Z"
    },
    "papermill": {
     "duration": 48.177436,
     "end_time": "2023-06-26T16:48:48.765654",
     "exception": false,
     "start_time": "2023-06-26T16:48:00.588218",
     "status": "completed"
    },
    "tags": []
   },
   "outputs": [
    {
     "data": {
      "text/html": [
       "<style>#sk-container-id-1 {color: black;background-color: white;}#sk-container-id-1 pre{padding: 0;}#sk-container-id-1 div.sk-toggleable {background-color: white;}#sk-container-id-1 label.sk-toggleable__label {cursor: pointer;display: block;width: 100%;margin-bottom: 0;padding: 0.3em;box-sizing: border-box;text-align: center;}#sk-container-id-1 label.sk-toggleable__label-arrow:before {content: \"▸\";float: left;margin-right: 0.25em;color: #696969;}#sk-container-id-1 label.sk-toggleable__label-arrow:hover:before {color: black;}#sk-container-id-1 div.sk-estimator:hover label.sk-toggleable__label-arrow:before {color: black;}#sk-container-id-1 div.sk-toggleable__content {max-height: 0;max-width: 0;overflow: hidden;text-align: left;background-color: #f0f8ff;}#sk-container-id-1 div.sk-toggleable__content pre {margin: 0.2em;color: black;border-radius: 0.25em;background-color: #f0f8ff;}#sk-container-id-1 input.sk-toggleable__control:checked~div.sk-toggleable__content {max-height: 200px;max-width: 100%;overflow: auto;}#sk-container-id-1 input.sk-toggleable__control:checked~label.sk-toggleable__label-arrow:before {content: \"▾\";}#sk-container-id-1 div.sk-estimator input.sk-toggleable__control:checked~label.sk-toggleable__label {background-color: #d4ebff;}#sk-container-id-1 div.sk-label input.sk-toggleable__control:checked~label.sk-toggleable__label {background-color: #d4ebff;}#sk-container-id-1 input.sk-hidden--visually {border: 0;clip: rect(1px 1px 1px 1px);clip: rect(1px, 1px, 1px, 1px);height: 1px;margin: -1px;overflow: hidden;padding: 0;position: absolute;width: 1px;}#sk-container-id-1 div.sk-estimator {font-family: monospace;background-color: #f0f8ff;border: 1px dotted black;border-radius: 0.25em;box-sizing: border-box;margin-bottom: 0.5em;}#sk-container-id-1 div.sk-estimator:hover {background-color: #d4ebff;}#sk-container-id-1 div.sk-parallel-item::after {content: \"\";width: 100%;border-bottom: 1px solid gray;flex-grow: 1;}#sk-container-id-1 div.sk-label:hover label.sk-toggleable__label {background-color: #d4ebff;}#sk-container-id-1 div.sk-serial::before {content: \"\";position: absolute;border-left: 1px solid gray;box-sizing: border-box;top: 0;bottom: 0;left: 50%;z-index: 0;}#sk-container-id-1 div.sk-serial {display: flex;flex-direction: column;align-items: center;background-color: white;padding-right: 0.2em;padding-left: 0.2em;position: relative;}#sk-container-id-1 div.sk-item {position: relative;z-index: 1;}#sk-container-id-1 div.sk-parallel {display: flex;align-items: stretch;justify-content: center;background-color: white;position: relative;}#sk-container-id-1 div.sk-item::before, #sk-container-id-1 div.sk-parallel-item::before {content: \"\";position: absolute;border-left: 1px solid gray;box-sizing: border-box;top: 0;bottom: 0;left: 50%;z-index: -1;}#sk-container-id-1 div.sk-parallel-item {display: flex;flex-direction: column;z-index: 1;position: relative;background-color: white;}#sk-container-id-1 div.sk-parallel-item:first-child::after {align-self: flex-end;width: 50%;}#sk-container-id-1 div.sk-parallel-item:last-child::after {align-self: flex-start;width: 50%;}#sk-container-id-1 div.sk-parallel-item:only-child::after {width: 0;}#sk-container-id-1 div.sk-dashed-wrapped {border: 1px dashed gray;margin: 0 0.4em 0.5em 0.4em;box-sizing: border-box;padding-bottom: 0.4em;background-color: white;}#sk-container-id-1 div.sk-label label {font-family: monospace;font-weight: bold;display: inline-block;line-height: 1.2em;}#sk-container-id-1 div.sk-label-container {text-align: center;}#sk-container-id-1 div.sk-container {/* jupyter's `normalize.less` sets `[hidden] { display: none; }` but bootstrap.min.css set `[hidden] { display: none !important; }` so we also need the `!important` here to be able to override the default hidden behavior on the sphinx rendered scikit-learn.org. See: https://github.com/scikit-learn/scikit-learn/issues/21755 */display: inline-block !important;position: relative;}#sk-container-id-1 div.sk-text-repr-fallback {display: none;}</style><div id=\"sk-container-id-1\" class=\"sk-top-container\"><div class=\"sk-text-repr-fallback\"><pre>XGBRegressor(alpha=8.811805887061658, base_score=None, booster=None,\n",
       "             callbacks=None, colsample_bylevel=None, colsample_bynode=None,\n",
       "             colsample_bytree=0.7540439913655939, early_stopping_rounds=None,\n",
       "             enable_categorical=False, eval_metric=None, feature_types=None,\n",
       "             gamma=None, gpu_id=None, grow_policy=None, importance_type=None,\n",
       "             interaction_constraints=None, lambda=3.372267346667596e-05,\n",
       "             learning_rate=0.35003635655666976, max_bin=None,\n",
       "             max_cat_threshold=None, max_cat_to_onehot=None,\n",
       "             max_delta_step=None, max_depth=4, max_leaves=None,\n",
       "             min_child_weight=None, missing=nan, monotone_constraints=None,\n",
       "             n_estimators=100, n_jobs=None, num_parallel_tree=None, ...)</pre><b>In a Jupyter environment, please rerun this cell to show the HTML representation or trust the notebook. <br />On GitHub, the HTML representation is unable to render, please try loading this page with nbviewer.org.</b></div><div class=\"sk-container\" hidden><div class=\"sk-item\"><div class=\"sk-estimator sk-toggleable\"><input class=\"sk-toggleable__control sk-hidden--visually\" id=\"sk-estimator-id-1\" type=\"checkbox\" checked><label for=\"sk-estimator-id-1\" class=\"sk-toggleable__label sk-toggleable__label-arrow\">XGBRegressor</label><div class=\"sk-toggleable__content\"><pre>XGBRegressor(alpha=8.811805887061658, base_score=None, booster=None,\n",
       "             callbacks=None, colsample_bylevel=None, colsample_bynode=None,\n",
       "             colsample_bytree=0.7540439913655939, early_stopping_rounds=None,\n",
       "             enable_categorical=False, eval_metric=None, feature_types=None,\n",
       "             gamma=None, gpu_id=None, grow_policy=None, importance_type=None,\n",
       "             interaction_constraints=None, lambda=3.372267346667596e-05,\n",
       "             learning_rate=0.35003635655666976, max_bin=None,\n",
       "             max_cat_threshold=None, max_cat_to_onehot=None,\n",
       "             max_delta_step=None, max_depth=4, max_leaves=None,\n",
       "             min_child_weight=None, missing=nan, monotone_constraints=None,\n",
       "             n_estimators=100, n_jobs=None, num_parallel_tree=None, ...)</pre></div></div></div></div></div>"
      ],
      "text/plain": [
       "XGBRegressor(alpha=8.811805887061658, base_score=None, booster=None,\n",
       "             callbacks=None, colsample_bylevel=None, colsample_bynode=None,\n",
       "             colsample_bytree=0.7540439913655939, early_stopping_rounds=None,\n",
       "             enable_categorical=False, eval_metric=None, feature_types=None,\n",
       "             gamma=None, gpu_id=None, grow_policy=None, importance_type=None,\n",
       "             interaction_constraints=None, lambda=3.372267346667596e-05,\n",
       "             learning_rate=0.35003635655666976, max_bin=None,\n",
       "             max_cat_threshold=None, max_cat_to_onehot=None,\n",
       "             max_delta_step=None, max_depth=4, max_leaves=None,\n",
       "             min_child_weight=None, missing=nan, monotone_constraints=None,\n",
       "             n_estimators=100, n_jobs=None, num_parallel_tree=None, ...)"
      ]
     },
     "execution_count": 27,
     "metadata": {},
     "output_type": "execute_result"
    }
   ],
   "source": [
    "#Train models\n",
    "lgbm.fit(X, y)\n",
    "cat.fit(X, y)\n",
    "hist.fit(X, y)\n",
    "xgbr.fit(X, y)"
   ]
  },
  {
   "cell_type": "code",
   "execution_count": 28,
   "id": "b86fa343",
   "metadata": {
    "execution": {
     "iopub.execute_input": "2023-06-26T16:48:48.786386Z",
     "iopub.status.busy": "2023-06-26T16:48:48.785979Z",
     "iopub.status.idle": "2023-06-26T16:49:38.360364Z",
     "shell.execute_reply": "2023-06-26T16:49:38.358993Z"
    },
    "papermill": {
     "duration": 49.596214,
     "end_time": "2023-06-26T16:49:38.371331",
     "exception": false,
     "start_time": "2023-06-26T16:48:48.775117",
     "status": "completed"
    },
    "tags": []
   },
   "outputs": [
    {
     "data": {
      "text/html": [
       "<style>#sk-container-id-2 {color: black;background-color: white;}#sk-container-id-2 pre{padding: 0;}#sk-container-id-2 div.sk-toggleable {background-color: white;}#sk-container-id-2 label.sk-toggleable__label {cursor: pointer;display: block;width: 100%;margin-bottom: 0;padding: 0.3em;box-sizing: border-box;text-align: center;}#sk-container-id-2 label.sk-toggleable__label-arrow:before {content: \"▸\";float: left;margin-right: 0.25em;color: #696969;}#sk-container-id-2 label.sk-toggleable__label-arrow:hover:before {color: black;}#sk-container-id-2 div.sk-estimator:hover label.sk-toggleable__label-arrow:before {color: black;}#sk-container-id-2 div.sk-toggleable__content {max-height: 0;max-width: 0;overflow: hidden;text-align: left;background-color: #f0f8ff;}#sk-container-id-2 div.sk-toggleable__content pre {margin: 0.2em;color: black;border-radius: 0.25em;background-color: #f0f8ff;}#sk-container-id-2 input.sk-toggleable__control:checked~div.sk-toggleable__content {max-height: 200px;max-width: 100%;overflow: auto;}#sk-container-id-2 input.sk-toggleable__control:checked~label.sk-toggleable__label-arrow:before {content: \"▾\";}#sk-container-id-2 div.sk-estimator input.sk-toggleable__control:checked~label.sk-toggleable__label {background-color: #d4ebff;}#sk-container-id-2 div.sk-label input.sk-toggleable__control:checked~label.sk-toggleable__label {background-color: #d4ebff;}#sk-container-id-2 input.sk-hidden--visually {border: 0;clip: rect(1px 1px 1px 1px);clip: rect(1px, 1px, 1px, 1px);height: 1px;margin: -1px;overflow: hidden;padding: 0;position: absolute;width: 1px;}#sk-container-id-2 div.sk-estimator {font-family: monospace;background-color: #f0f8ff;border: 1px dotted black;border-radius: 0.25em;box-sizing: border-box;margin-bottom: 0.5em;}#sk-container-id-2 div.sk-estimator:hover {background-color: #d4ebff;}#sk-container-id-2 div.sk-parallel-item::after {content: \"\";width: 100%;border-bottom: 1px solid gray;flex-grow: 1;}#sk-container-id-2 div.sk-label:hover label.sk-toggleable__label {background-color: #d4ebff;}#sk-container-id-2 div.sk-serial::before {content: \"\";position: absolute;border-left: 1px solid gray;box-sizing: border-box;top: 0;bottom: 0;left: 50%;z-index: 0;}#sk-container-id-2 div.sk-serial {display: flex;flex-direction: column;align-items: center;background-color: white;padding-right: 0.2em;padding-left: 0.2em;position: relative;}#sk-container-id-2 div.sk-item {position: relative;z-index: 1;}#sk-container-id-2 div.sk-parallel {display: flex;align-items: stretch;justify-content: center;background-color: white;position: relative;}#sk-container-id-2 div.sk-item::before, #sk-container-id-2 div.sk-parallel-item::before {content: \"\";position: absolute;border-left: 1px solid gray;box-sizing: border-box;top: 0;bottom: 0;left: 50%;z-index: -1;}#sk-container-id-2 div.sk-parallel-item {display: flex;flex-direction: column;z-index: 1;position: relative;background-color: white;}#sk-container-id-2 div.sk-parallel-item:first-child::after {align-self: flex-end;width: 50%;}#sk-container-id-2 div.sk-parallel-item:last-child::after {align-self: flex-start;width: 50%;}#sk-container-id-2 div.sk-parallel-item:only-child::after {width: 0;}#sk-container-id-2 div.sk-dashed-wrapped {border: 1px dashed gray;margin: 0 0.4em 0.5em 0.4em;box-sizing: border-box;padding-bottom: 0.4em;background-color: white;}#sk-container-id-2 div.sk-label label {font-family: monospace;font-weight: bold;display: inline-block;line-height: 1.2em;}#sk-container-id-2 div.sk-label-container {text-align: center;}#sk-container-id-2 div.sk-container {/* jupyter's `normalize.less` sets `[hidden] { display: none; }` but bootstrap.min.css set `[hidden] { display: none !important; }` so we also need the `!important` here to be able to override the default hidden behavior on the sphinx rendered scikit-learn.org. See: https://github.com/scikit-learn/scikit-learn/issues/21755 */display: inline-block !important;position: relative;}#sk-container-id-2 div.sk-text-repr-fallback {display: none;}</style><div id=\"sk-container-id-2\" class=\"sk-top-container\"><div class=\"sk-text-repr-fallback\"><pre>VotingRegressor(estimators=[(&#x27;lgbm&#x27;,\n",
       "                             LGBMRegressor(colsample_bytree=0.6246424547686764,\n",
       "                                           learning_rate=0.04499385904161292,\n",
       "                                           max_depth=5, min_child_samples=47,\n",
       "                                           min_child_weight=174.17835021793346,\n",
       "                                           n_estimators=1118, num_leaves=85,\n",
       "                                           objective=&#x27;mae&#x27;,\n",
       "                                           reg_alpha=0.6547580807681769,\n",
       "                                           reg_lambda=1.3956921724340055e-10,\n",
       "                                           subsample=0.7098886961252188)),\n",
       "                            (&#x27;cat&#x27;,\n",
       "                             &lt;catboost.co...\n",
       "                                          grow_policy=None,\n",
       "                                          importance_type=None,\n",
       "                                          interaction_constraints=None,\n",
       "                                          lambda=3.372267346667596e-05,\n",
       "                                          learning_rate=0.35003635655666976,\n",
       "                                          max_bin=None, max_cat_threshold=None,\n",
       "                                          max_cat_to_onehot=None,\n",
       "                                          max_delta_step=None, max_depth=4,\n",
       "                                          max_leaves=None,\n",
       "                                          min_child_weight=None, missing=nan,\n",
       "                                          monotone_constraints=None,\n",
       "                                          n_estimators=100, n_jobs=None,\n",
       "                                          num_parallel_tree=None, ...))])</pre><b>In a Jupyter environment, please rerun this cell to show the HTML representation or trust the notebook. <br />On GitHub, the HTML representation is unable to render, please try loading this page with nbviewer.org.</b></div><div class=\"sk-container\" hidden><div class=\"sk-item sk-dashed-wrapped\"><div class=\"sk-label-container\"><div class=\"sk-label sk-toggleable\"><input class=\"sk-toggleable__control sk-hidden--visually\" id=\"sk-estimator-id-2\" type=\"checkbox\" ><label for=\"sk-estimator-id-2\" class=\"sk-toggleable__label sk-toggleable__label-arrow\">VotingRegressor</label><div class=\"sk-toggleable__content\"><pre>VotingRegressor(estimators=[(&#x27;lgbm&#x27;,\n",
       "                             LGBMRegressor(colsample_bytree=0.6246424547686764,\n",
       "                                           learning_rate=0.04499385904161292,\n",
       "                                           max_depth=5, min_child_samples=47,\n",
       "                                           min_child_weight=174.17835021793346,\n",
       "                                           n_estimators=1118, num_leaves=85,\n",
       "                                           objective=&#x27;mae&#x27;,\n",
       "                                           reg_alpha=0.6547580807681769,\n",
       "                                           reg_lambda=1.3956921724340055e-10,\n",
       "                                           subsample=0.7098886961252188)),\n",
       "                            (&#x27;cat&#x27;,\n",
       "                             &lt;catboost.co...\n",
       "                                          grow_policy=None,\n",
       "                                          importance_type=None,\n",
       "                                          interaction_constraints=None,\n",
       "                                          lambda=3.372267346667596e-05,\n",
       "                                          learning_rate=0.35003635655666976,\n",
       "                                          max_bin=None, max_cat_threshold=None,\n",
       "                                          max_cat_to_onehot=None,\n",
       "                                          max_delta_step=None, max_depth=4,\n",
       "                                          max_leaves=None,\n",
       "                                          min_child_weight=None, missing=nan,\n",
       "                                          monotone_constraints=None,\n",
       "                                          n_estimators=100, n_jobs=None,\n",
       "                                          num_parallel_tree=None, ...))])</pre></div></div></div><div class=\"sk-parallel\"><div class=\"sk-parallel-item\"><div class=\"sk-item\"><div class=\"sk-label-container\"><div class=\"sk-label sk-toggleable\"><label>lgbm</label></div></div><div class=\"sk-serial\"><div class=\"sk-item\"><div class=\"sk-estimator sk-toggleable\"><input class=\"sk-toggleable__control sk-hidden--visually\" id=\"sk-estimator-id-3\" type=\"checkbox\" ><label for=\"sk-estimator-id-3\" class=\"sk-toggleable__label sk-toggleable__label-arrow\">LGBMRegressor</label><div class=\"sk-toggleable__content\"><pre>LGBMRegressor(colsample_bytree=0.6246424547686764,\n",
       "              learning_rate=0.04499385904161292, max_depth=5,\n",
       "              min_child_samples=47, min_child_weight=174.17835021793346,\n",
       "              n_estimators=1118, num_leaves=85, objective=&#x27;mae&#x27;,\n",
       "              reg_alpha=0.6547580807681769, reg_lambda=1.3956921724340055e-10,\n",
       "              subsample=0.7098886961252188)</pre></div></div></div></div></div></div><div class=\"sk-parallel-item\"><div class=\"sk-item\"><div class=\"sk-label-container\"><div class=\"sk-label sk-toggleable\"><label>cat</label></div></div><div class=\"sk-serial\"><div class=\"sk-item\"><div class=\"sk-estimator sk-toggleable\"><input class=\"sk-toggleable__control sk-hidden--visually\" id=\"sk-estimator-id-4\" type=\"checkbox\" ><label for=\"sk-estimator-id-4\" class=\"sk-toggleable__label sk-toggleable__label-arrow\">CatBoostRegressor</label><div class=\"sk-toggleable__content\"><pre>&lt;catboost.core.CatBoostRegressor object at 0x7ce307edc6a0&gt;</pre></div></div></div></div></div></div><div class=\"sk-parallel-item\"><div class=\"sk-item\"><div class=\"sk-label-container\"><div class=\"sk-label sk-toggleable\"><label>hist</label></div></div><div class=\"sk-serial\"><div class=\"sk-item\"><div class=\"sk-estimator sk-toggleable\"><input class=\"sk-toggleable__control sk-hidden--visually\" id=\"sk-estimator-id-5\" type=\"checkbox\" ><label for=\"sk-estimator-id-5\" class=\"sk-toggleable__label sk-toggleable__label-arrow\">HistGradientBoostingRegressor</label><div class=\"sk-toggleable__content\"><pre>HistGradientBoostingRegressor(l2_regularization=0.00012007615695712585,\n",
       "                              learning_rate=0.03826553888402566,\n",
       "                              loss=&#x27;absolute_error&#x27;, max_bins=254, max_depth=13,\n",
       "                              max_iter=468, max_leaf_nodes=141,\n",
       "                              min_samples_leaf=49)</pre></div></div></div></div></div></div><div class=\"sk-parallel-item\"><div class=\"sk-item\"><div class=\"sk-label-container\"><div class=\"sk-label sk-toggleable\"><label>xgbr</label></div></div><div class=\"sk-serial\"><div class=\"sk-item\"><div class=\"sk-estimator sk-toggleable\"><input class=\"sk-toggleable__control sk-hidden--visually\" id=\"sk-estimator-id-6\" type=\"checkbox\" ><label for=\"sk-estimator-id-6\" class=\"sk-toggleable__label sk-toggleable__label-arrow\">XGBRegressor</label><div class=\"sk-toggleable__content\"><pre>XGBRegressor(alpha=8.811805887061658, base_score=None, booster=None,\n",
       "             callbacks=None, colsample_bylevel=None, colsample_bynode=None,\n",
       "             colsample_bytree=0.7540439913655939, early_stopping_rounds=None,\n",
       "             enable_categorical=False, eval_metric=None, feature_types=None,\n",
       "             gamma=None, gpu_id=None, grow_policy=None, importance_type=None,\n",
       "             interaction_constraints=None, lambda=3.372267346667596e-05,\n",
       "             learning_rate=0.35003635655666976, max_bin=None,\n",
       "             max_cat_threshold=None, max_cat_to_onehot=None,\n",
       "             max_delta_step=None, max_depth=4, max_leaves=None,\n",
       "             min_child_weight=None, missing=nan, monotone_constraints=None,\n",
       "             n_estimators=100, n_jobs=None, num_parallel_tree=None, ...)</pre></div></div></div></div></div></div></div></div></div></div>"
      ],
      "text/plain": [
       "VotingRegressor(estimators=[('lgbm',\n",
       "                             LGBMRegressor(colsample_bytree=0.6246424547686764,\n",
       "                                           learning_rate=0.04499385904161292,\n",
       "                                           max_depth=5, min_child_samples=47,\n",
       "                                           min_child_weight=174.17835021793346,\n",
       "                                           n_estimators=1118, num_leaves=85,\n",
       "                                           objective='mae',\n",
       "                                           reg_alpha=0.6547580807681769,\n",
       "                                           reg_lambda=1.3956921724340055e-10,\n",
       "                                           subsample=0.7098886961252188)),\n",
       "                            ('cat',\n",
       "                             <catboost.co...\n",
       "                                          grow_policy=None,\n",
       "                                          importance_type=None,\n",
       "                                          interaction_constraints=None,\n",
       "                                          lambda=3.372267346667596e-05,\n",
       "                                          learning_rate=0.35003635655666976,\n",
       "                                          max_bin=None, max_cat_threshold=None,\n",
       "                                          max_cat_to_onehot=None,\n",
       "                                          max_delta_step=None, max_depth=4,\n",
       "                                          max_leaves=None,\n",
       "                                          min_child_weight=None, missing=nan,\n",
       "                                          monotone_constraints=None,\n",
       "                                          n_estimators=100, n_jobs=None,\n",
       "                                          num_parallel_tree=None, ...))])"
      ]
     },
     "execution_count": 28,
     "metadata": {},
     "output_type": "execute_result"
    }
   ],
   "source": [
    "from sklearn.ensemble import VotingRegressor\n",
    "\n",
    "voting_clf = VotingRegressor(estimators = [('lgbm', lgbm),\n",
    "                                           ('cat', cat),\n",
    "                                           ('hist', hist),\n",
    "                                           ('xgbr', xgbr),  \n",
    "                                           ])\n",
    "voting_clf.fit(X, y)"
   ]
  },
  {
   "cell_type": "code",
   "execution_count": 29,
   "id": "b5bd5957",
   "metadata": {
    "execution": {
     "iopub.execute_input": "2023-06-26T16:49:38.392967Z",
     "iopub.status.busy": "2023-06-26T16:49:38.392528Z",
     "iopub.status.idle": "2023-06-26T16:49:40.948809Z",
     "shell.execute_reply": "2023-06-26T16:49:40.947204Z"
    },
    "papermill": {
     "duration": 2.570365,
     "end_time": "2023-06-26T16:49:40.951457",
     "exception": false,
     "start_time": "2023-06-26T16:49:38.381092",
     "status": "completed"
    },
    "tags": []
   },
   "outputs": [],
   "source": [
    "predictions = voting_clf.predict(X_test).round(decimals = 0) #rounding the results achieves better scores."
   ]
  },
  {
   "cell_type": "code",
   "execution_count": 30,
   "id": "60d6564b",
   "metadata": {
    "execution": {
     "iopub.execute_input": "2023-06-26T16:49:40.972863Z",
     "iopub.status.busy": "2023-06-26T16:49:40.972476Z",
     "iopub.status.idle": "2023-06-26T16:49:41.044143Z",
     "shell.execute_reply": "2023-06-26T16:49:41.042608Z"
    },
    "papermill": {
     "duration": 0.085504,
     "end_time": "2023-06-26T16:49:41.046854",
     "exception": false,
     "start_time": "2023-06-26T16:49:40.961350",
     "status": "completed"
    },
    "tags": []
   },
   "outputs": [
    {
     "name": "stdout",
     "output_type": "stream",
     "text": [
      "Your submission was successfully saved!\n"
     ]
    }
   ],
   "source": [
    "output = pd.DataFrame({'id': test_data['id'], 'Age': predictions})\n",
    "output.to_csv('submission.csv', index=False)\n",
    "print(\"Your submission was successfully saved!\")"
   ]
  },
  {
   "cell_type": "code",
   "execution_count": null,
   "id": "918c25d4",
   "metadata": {
    "papermill": {
     "duration": 0.010295,
     "end_time": "2023-06-26T16:49:41.067454",
     "exception": false,
     "start_time": "2023-06-26T16:49:41.057159",
     "status": "completed"
    },
    "tags": []
   },
   "outputs": [],
   "source": []
  }
 ],
 "metadata": {
  "kernelspec": {
   "display_name": "Python 3",
   "language": "python",
   "name": "python3"
  },
  "language_info": {
   "codemirror_mode": {
    "name": "ipython",
    "version": 3
   },
   "file_extension": ".py",
   "mimetype": "text/x-python",
   "name": "python",
   "nbconvert_exporter": "python",
   "pygments_lexer": "ipython3",
   "version": "3.10.10"
  },
  "papermill": {
   "default_parameters": {},
   "duration": 175.129198,
   "end_time": "2023-06-26T16:49:42.302213",
   "environment_variables": {},
   "exception": null,
   "input_path": "__notebook__.ipynb",
   "output_path": "__notebook__.ipynb",
   "parameters": {},
   "start_time": "2023-06-26T16:46:47.173015",
   "version": "2.4.0"
  }
 },
 "nbformat": 4,
 "nbformat_minor": 5
}
