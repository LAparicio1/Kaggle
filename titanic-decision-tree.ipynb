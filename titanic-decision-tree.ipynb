{
 "cells": [
  {
   "cell_type": "code",
   "execution_count": 1,
   "id": "6683d21d",
   "metadata": {
    "_cell_guid": "b1076dfc-b9ad-4769-8c92-a6c4dae69d19",
    "_uuid": "8f2839f25d086af736a60e9eeb907d3b93b6e0e5",
    "execution": {
     "iopub.execute_input": "2023-04-22T13:36:25.330729Z",
     "iopub.status.busy": "2023-04-22T13:36:25.330306Z",
     "iopub.status.idle": "2023-04-22T13:36:25.344349Z",
     "shell.execute_reply": "2023-04-22T13:36:25.343066Z"
    },
    "papermill": {
     "duration": 0.030289,
     "end_time": "2023-04-22T13:36:25.346913",
     "exception": false,
     "start_time": "2023-04-22T13:36:25.316624",
     "status": "completed"
    },
    "tags": []
   },
   "outputs": [
    {
     "name": "stdout",
     "output_type": "stream",
     "text": [
      "/kaggle/input/titanic/train.csv\n",
      "/kaggle/input/titanic/test.csv\n",
      "/kaggle/input/titanic/gender_submission.csv\n"
     ]
    }
   ],
   "source": [
    "# This Python 3 environment comes with many helpful analytics libraries installed\n",
    "# It is defined by the kaggle/python Docker image: https://github.com/kaggle/docker-python\n",
    "# For example, here's several helpful packages to load\n",
    "\n",
    "import numpy as np # linear algebra\n",
    "import pandas as pd # data processing, CSV file I/O (e.g. pd.read_csv)\n",
    "\n",
    "# Input data files are available in the read-only \"../input/\" directory\n",
    "# For example, running this (by clicking run or pressing Shift+Enter) will list all files under the input directory\n",
    "\n",
    "import os\n",
    "for dirname, _, filenames in os.walk('/kaggle/input'):\n",
    "    for filename in filenames:\n",
    "        print(os.path.join(dirname, filename))\n",
    "\n",
    "# You can write up to 20GB to the current directory (/kaggle/working/) that gets preserved as output when you create a version using \"Save & Run All\" \n",
    "# You can also write temporary files to /kaggle/temp/, but they won't be saved outside of the current session"
   ]
  },
  {
   "cell_type": "markdown",
   "id": "cdfacf6c",
   "metadata": {
    "papermill": {
     "duration": 0.010132,
     "end_time": "2023-04-22T13:36:25.367695",
     "exception": false,
     "start_time": "2023-04-22T13:36:25.357563",
     "status": "completed"
    },
    "tags": []
   },
   "source": [
    "## Importing libraries for data visualisation"
   ]
  },
  {
   "cell_type": "code",
   "execution_count": 2,
   "id": "cb2ecddc",
   "metadata": {
    "execution": {
     "iopub.execute_input": "2023-04-22T13:36:25.390543Z",
     "iopub.status.busy": "2023-04-22T13:36:25.390137Z",
     "iopub.status.idle": "2023-04-22T13:36:26.510283Z",
     "shell.execute_reply": "2023-04-22T13:36:26.509007Z"
    },
    "papermill": {
     "duration": 1.13501,
     "end_time": "2023-04-22T13:36:26.513325",
     "exception": false,
     "start_time": "2023-04-22T13:36:25.378315",
     "status": "completed"
    },
    "tags": []
   },
   "outputs": [],
   "source": [
    "import matplotlib.pyplot as plt\n",
    "import seaborn as sns\n",
    "pd.set_option(\"display.precision\", 2)"
   ]
  },
  {
   "cell_type": "markdown",
   "id": "8910ce98",
   "metadata": {
    "papermill": {
     "duration": 0.011496,
     "end_time": "2023-04-22T13:36:26.535420",
     "exception": false,
     "start_time": "2023-04-22T13:36:26.523924",
     "status": "completed"
    },
    "tags": []
   },
   "source": [
    "## Read csv files into train and test datasets"
   ]
  },
  {
   "cell_type": "code",
   "execution_count": 3,
   "id": "0f2bbeca",
   "metadata": {
    "execution": {
     "iopub.execute_input": "2023-04-22T13:36:26.558250Z",
     "iopub.status.busy": "2023-04-22T13:36:26.557798Z",
     "iopub.status.idle": "2023-04-22T13:36:26.609077Z",
     "shell.execute_reply": "2023-04-22T13:36:26.608196Z"
    },
    "papermill": {
     "duration": 0.065401,
     "end_time": "2023-04-22T13:36:26.611280",
     "exception": false,
     "start_time": "2023-04-22T13:36:26.545879",
     "status": "completed"
    },
    "tags": []
   },
   "outputs": [
    {
     "data": {
      "text/html": [
       "<div>\n",
       "<style scoped>\n",
       "    .dataframe tbody tr th:only-of-type {\n",
       "        vertical-align: middle;\n",
       "    }\n",
       "\n",
       "    .dataframe tbody tr th {\n",
       "        vertical-align: top;\n",
       "    }\n",
       "\n",
       "    .dataframe thead th {\n",
       "        text-align: right;\n",
       "    }\n",
       "</style>\n",
       "<table border=\"1\" class=\"dataframe\">\n",
       "  <thead>\n",
       "    <tr style=\"text-align: right;\">\n",
       "      <th></th>\n",
       "      <th>PassengerId</th>\n",
       "      <th>Survived</th>\n",
       "      <th>Pclass</th>\n",
       "      <th>Name</th>\n",
       "      <th>Sex</th>\n",
       "      <th>Age</th>\n",
       "      <th>SibSp</th>\n",
       "      <th>Parch</th>\n",
       "      <th>Ticket</th>\n",
       "      <th>Fare</th>\n",
       "      <th>Cabin</th>\n",
       "      <th>Embarked</th>\n",
       "    </tr>\n",
       "  </thead>\n",
       "  <tbody>\n",
       "    <tr>\n",
       "      <th>0</th>\n",
       "      <td>1</td>\n",
       "      <td>0</td>\n",
       "      <td>3</td>\n",
       "      <td>Braund, Mr. Owen Harris</td>\n",
       "      <td>male</td>\n",
       "      <td>22.0</td>\n",
       "      <td>1</td>\n",
       "      <td>0</td>\n",
       "      <td>A/5 21171</td>\n",
       "      <td>7.25</td>\n",
       "      <td>NaN</td>\n",
       "      <td>S</td>\n",
       "    </tr>\n",
       "    <tr>\n",
       "      <th>1</th>\n",
       "      <td>2</td>\n",
       "      <td>1</td>\n",
       "      <td>1</td>\n",
       "      <td>Cumings, Mrs. John Bradley (Florence Briggs Th...</td>\n",
       "      <td>female</td>\n",
       "      <td>38.0</td>\n",
       "      <td>1</td>\n",
       "      <td>0</td>\n",
       "      <td>PC 17599</td>\n",
       "      <td>71.28</td>\n",
       "      <td>C85</td>\n",
       "      <td>C</td>\n",
       "    </tr>\n",
       "    <tr>\n",
       "      <th>2</th>\n",
       "      <td>3</td>\n",
       "      <td>1</td>\n",
       "      <td>3</td>\n",
       "      <td>Heikkinen, Miss. Laina</td>\n",
       "      <td>female</td>\n",
       "      <td>26.0</td>\n",
       "      <td>0</td>\n",
       "      <td>0</td>\n",
       "      <td>STON/O2. 3101282</td>\n",
       "      <td>7.92</td>\n",
       "      <td>NaN</td>\n",
       "      <td>S</td>\n",
       "    </tr>\n",
       "    <tr>\n",
       "      <th>3</th>\n",
       "      <td>4</td>\n",
       "      <td>1</td>\n",
       "      <td>1</td>\n",
       "      <td>Futrelle, Mrs. Jacques Heath (Lily May Peel)</td>\n",
       "      <td>female</td>\n",
       "      <td>35.0</td>\n",
       "      <td>1</td>\n",
       "      <td>0</td>\n",
       "      <td>113803</td>\n",
       "      <td>53.10</td>\n",
       "      <td>C123</td>\n",
       "      <td>S</td>\n",
       "    </tr>\n",
       "    <tr>\n",
       "      <th>4</th>\n",
       "      <td>5</td>\n",
       "      <td>0</td>\n",
       "      <td>3</td>\n",
       "      <td>Allen, Mr. William Henry</td>\n",
       "      <td>male</td>\n",
       "      <td>35.0</td>\n",
       "      <td>0</td>\n",
       "      <td>0</td>\n",
       "      <td>373450</td>\n",
       "      <td>8.05</td>\n",
       "      <td>NaN</td>\n",
       "      <td>S</td>\n",
       "    </tr>\n",
       "  </tbody>\n",
       "</table>\n",
       "</div>"
      ],
      "text/plain": [
       "   PassengerId  Survived  Pclass  \\\n",
       "0            1         0       3   \n",
       "1            2         1       1   \n",
       "2            3         1       3   \n",
       "3            4         1       1   \n",
       "4            5         0       3   \n",
       "\n",
       "                                                Name     Sex   Age  SibSp  \\\n",
       "0                            Braund, Mr. Owen Harris    male  22.0      1   \n",
       "1  Cumings, Mrs. John Bradley (Florence Briggs Th...  female  38.0      1   \n",
       "2                             Heikkinen, Miss. Laina  female  26.0      0   \n",
       "3       Futrelle, Mrs. Jacques Heath (Lily May Peel)  female  35.0      1   \n",
       "4                           Allen, Mr. William Henry    male  35.0      0   \n",
       "\n",
       "   Parch            Ticket   Fare Cabin Embarked  \n",
       "0      0         A/5 21171   7.25   NaN        S  \n",
       "1      0          PC 17599  71.28   C85        C  \n",
       "2      0  STON/O2. 3101282   7.92   NaN        S  \n",
       "3      0            113803  53.10  C123        S  \n",
       "4      0            373450   8.05   NaN        S  "
      ]
     },
     "execution_count": 3,
     "metadata": {},
     "output_type": "execute_result"
    }
   ],
   "source": [
    "train_data = pd.read_csv('/kaggle/input/titanic/train.csv')\n",
    "train_data.head()"
   ]
  },
  {
   "cell_type": "code",
   "execution_count": 4,
   "id": "efac3ae8",
   "metadata": {
    "execution": {
     "iopub.execute_input": "2023-04-22T13:36:26.634875Z",
     "iopub.status.busy": "2023-04-22T13:36:26.634420Z",
     "iopub.status.idle": "2023-04-22T13:36:26.657497Z",
     "shell.execute_reply": "2023-04-22T13:36:26.656078Z"
    },
    "papermill": {
     "duration": 0.038463,
     "end_time": "2023-04-22T13:36:26.660414",
     "exception": false,
     "start_time": "2023-04-22T13:36:26.621951",
     "status": "completed"
    },
    "tags": []
   },
   "outputs": [
    {
     "data": {
      "text/html": [
       "<div>\n",
       "<style scoped>\n",
       "    .dataframe tbody tr th:only-of-type {\n",
       "        vertical-align: middle;\n",
       "    }\n",
       "\n",
       "    .dataframe tbody tr th {\n",
       "        vertical-align: top;\n",
       "    }\n",
       "\n",
       "    .dataframe thead th {\n",
       "        text-align: right;\n",
       "    }\n",
       "</style>\n",
       "<table border=\"1\" class=\"dataframe\">\n",
       "  <thead>\n",
       "    <tr style=\"text-align: right;\">\n",
       "      <th></th>\n",
       "      <th>PassengerId</th>\n",
       "      <th>Pclass</th>\n",
       "      <th>Name</th>\n",
       "      <th>Sex</th>\n",
       "      <th>Age</th>\n",
       "      <th>SibSp</th>\n",
       "      <th>Parch</th>\n",
       "      <th>Ticket</th>\n",
       "      <th>Fare</th>\n",
       "      <th>Cabin</th>\n",
       "      <th>Embarked</th>\n",
       "    </tr>\n",
       "  </thead>\n",
       "  <tbody>\n",
       "    <tr>\n",
       "      <th>0</th>\n",
       "      <td>892</td>\n",
       "      <td>3</td>\n",
       "      <td>Kelly, Mr. James</td>\n",
       "      <td>male</td>\n",
       "      <td>34.5</td>\n",
       "      <td>0</td>\n",
       "      <td>0</td>\n",
       "      <td>330911</td>\n",
       "      <td>7.83</td>\n",
       "      <td>NaN</td>\n",
       "      <td>Q</td>\n",
       "    </tr>\n",
       "    <tr>\n",
       "      <th>1</th>\n",
       "      <td>893</td>\n",
       "      <td>3</td>\n",
       "      <td>Wilkes, Mrs. James (Ellen Needs)</td>\n",
       "      <td>female</td>\n",
       "      <td>47.0</td>\n",
       "      <td>1</td>\n",
       "      <td>0</td>\n",
       "      <td>363272</td>\n",
       "      <td>7.00</td>\n",
       "      <td>NaN</td>\n",
       "      <td>S</td>\n",
       "    </tr>\n",
       "    <tr>\n",
       "      <th>2</th>\n",
       "      <td>894</td>\n",
       "      <td>2</td>\n",
       "      <td>Myles, Mr. Thomas Francis</td>\n",
       "      <td>male</td>\n",
       "      <td>62.0</td>\n",
       "      <td>0</td>\n",
       "      <td>0</td>\n",
       "      <td>240276</td>\n",
       "      <td>9.69</td>\n",
       "      <td>NaN</td>\n",
       "      <td>Q</td>\n",
       "    </tr>\n",
       "    <tr>\n",
       "      <th>3</th>\n",
       "      <td>895</td>\n",
       "      <td>3</td>\n",
       "      <td>Wirz, Mr. Albert</td>\n",
       "      <td>male</td>\n",
       "      <td>27.0</td>\n",
       "      <td>0</td>\n",
       "      <td>0</td>\n",
       "      <td>315154</td>\n",
       "      <td>8.66</td>\n",
       "      <td>NaN</td>\n",
       "      <td>S</td>\n",
       "    </tr>\n",
       "    <tr>\n",
       "      <th>4</th>\n",
       "      <td>896</td>\n",
       "      <td>3</td>\n",
       "      <td>Hirvonen, Mrs. Alexander (Helga E Lindqvist)</td>\n",
       "      <td>female</td>\n",
       "      <td>22.0</td>\n",
       "      <td>1</td>\n",
       "      <td>1</td>\n",
       "      <td>3101298</td>\n",
       "      <td>12.29</td>\n",
       "      <td>NaN</td>\n",
       "      <td>S</td>\n",
       "    </tr>\n",
       "  </tbody>\n",
       "</table>\n",
       "</div>"
      ],
      "text/plain": [
       "   PassengerId  Pclass                                          Name     Sex  \\\n",
       "0          892       3                              Kelly, Mr. James    male   \n",
       "1          893       3              Wilkes, Mrs. James (Ellen Needs)  female   \n",
       "2          894       2                     Myles, Mr. Thomas Francis    male   \n",
       "3          895       3                              Wirz, Mr. Albert    male   \n",
       "4          896       3  Hirvonen, Mrs. Alexander (Helga E Lindqvist)  female   \n",
       "\n",
       "    Age  SibSp  Parch   Ticket   Fare Cabin Embarked  \n",
       "0  34.5      0      0   330911   7.83   NaN        Q  \n",
       "1  47.0      1      0   363272   7.00   NaN        S  \n",
       "2  62.0      0      0   240276   9.69   NaN        Q  \n",
       "3  27.0      0      0   315154   8.66   NaN        S  \n",
       "4  22.0      1      1  3101298  12.29   NaN        S  "
      ]
     },
     "execution_count": 4,
     "metadata": {},
     "output_type": "execute_result"
    }
   ],
   "source": [
    "test_data = pd.read_csv('/kaggle/input/titanic/test.csv')\n",
    "test_data.head()"
   ]
  },
  {
   "cell_type": "markdown",
   "id": "70288589",
   "metadata": {
    "papermill": {
     "duration": 0.010678,
     "end_time": "2023-04-22T13:36:26.682183",
     "exception": false,
     "start_time": "2023-04-22T13:36:26.671505",
     "status": "completed"
    },
    "tags": []
   },
   "source": [
    "## Basic EDA"
   ]
  },
  {
   "cell_type": "code",
   "execution_count": 5,
   "id": "06311c19",
   "metadata": {
    "execution": {
     "iopub.execute_input": "2023-04-22T13:36:26.706030Z",
     "iopub.status.busy": "2023-04-22T13:36:26.705587Z",
     "iopub.status.idle": "2023-04-22T13:36:26.728395Z",
     "shell.execute_reply": "2023-04-22T13:36:26.726970Z"
    },
    "papermill": {
     "duration": 0.037851,
     "end_time": "2023-04-22T13:36:26.730960",
     "exception": false,
     "start_time": "2023-04-22T13:36:26.693109",
     "status": "completed"
    },
    "tags": []
   },
   "outputs": [
    {
     "name": "stdout",
     "output_type": "stream",
     "text": [
      "<class 'pandas.core.frame.DataFrame'>\n",
      "RangeIndex: 891 entries, 0 to 890\n",
      "Data columns (total 12 columns):\n",
      " #   Column       Non-Null Count  Dtype  \n",
      "---  ------       --------------  -----  \n",
      " 0   PassengerId  891 non-null    int64  \n",
      " 1   Survived     891 non-null    int64  \n",
      " 2   Pclass       891 non-null    int64  \n",
      " 3   Name         891 non-null    object \n",
      " 4   Sex          891 non-null    object \n",
      " 5   Age          714 non-null    float64\n",
      " 6   SibSp        891 non-null    int64  \n",
      " 7   Parch        891 non-null    int64  \n",
      " 8   Ticket       891 non-null    object \n",
      " 9   Fare         891 non-null    float64\n",
      " 10  Cabin        204 non-null    object \n",
      " 11  Embarked     889 non-null    object \n",
      "dtypes: float64(2), int64(5), object(5)\n",
      "memory usage: 83.7+ KB\n"
     ]
    }
   ],
   "source": [
    "train_data.info()"
   ]
  },
  {
   "cell_type": "code",
   "execution_count": 6,
   "id": "1d7b3e18",
   "metadata": {
    "execution": {
     "iopub.execute_input": "2023-04-22T13:36:26.756143Z",
     "iopub.status.busy": "2023-04-22T13:36:26.755415Z",
     "iopub.status.idle": "2023-04-22T13:36:26.792258Z",
     "shell.execute_reply": "2023-04-22T13:36:26.791007Z"
    },
    "papermill": {
     "duration": 0.052344,
     "end_time": "2023-04-22T13:36:26.794951",
     "exception": false,
     "start_time": "2023-04-22T13:36:26.742607",
     "status": "completed"
    },
    "tags": []
   },
   "outputs": [
    {
     "data": {
      "text/html": [
       "<div>\n",
       "<style scoped>\n",
       "    .dataframe tbody tr th:only-of-type {\n",
       "        vertical-align: middle;\n",
       "    }\n",
       "\n",
       "    .dataframe tbody tr th {\n",
       "        vertical-align: top;\n",
       "    }\n",
       "\n",
       "    .dataframe thead th {\n",
       "        text-align: right;\n",
       "    }\n",
       "</style>\n",
       "<table border=\"1\" class=\"dataframe\">\n",
       "  <thead>\n",
       "    <tr style=\"text-align: right;\">\n",
       "      <th></th>\n",
       "      <th>PassengerId</th>\n",
       "      <th>Survived</th>\n",
       "      <th>Pclass</th>\n",
       "      <th>Age</th>\n",
       "      <th>SibSp</th>\n",
       "      <th>Parch</th>\n",
       "      <th>Fare</th>\n",
       "    </tr>\n",
       "  </thead>\n",
       "  <tbody>\n",
       "    <tr>\n",
       "      <th>count</th>\n",
       "      <td>891.00</td>\n",
       "      <td>891.00</td>\n",
       "      <td>891.00</td>\n",
       "      <td>714.00</td>\n",
       "      <td>891.00</td>\n",
       "      <td>891.00</td>\n",
       "      <td>891.00</td>\n",
       "    </tr>\n",
       "    <tr>\n",
       "      <th>mean</th>\n",
       "      <td>446.00</td>\n",
       "      <td>0.38</td>\n",
       "      <td>2.31</td>\n",
       "      <td>29.70</td>\n",
       "      <td>0.52</td>\n",
       "      <td>0.38</td>\n",
       "      <td>32.20</td>\n",
       "    </tr>\n",
       "    <tr>\n",
       "      <th>std</th>\n",
       "      <td>257.35</td>\n",
       "      <td>0.49</td>\n",
       "      <td>0.84</td>\n",
       "      <td>14.53</td>\n",
       "      <td>1.10</td>\n",
       "      <td>0.81</td>\n",
       "      <td>49.69</td>\n",
       "    </tr>\n",
       "    <tr>\n",
       "      <th>min</th>\n",
       "      <td>1.00</td>\n",
       "      <td>0.00</td>\n",
       "      <td>1.00</td>\n",
       "      <td>0.42</td>\n",
       "      <td>0.00</td>\n",
       "      <td>0.00</td>\n",
       "      <td>0.00</td>\n",
       "    </tr>\n",
       "    <tr>\n",
       "      <th>25%</th>\n",
       "      <td>223.50</td>\n",
       "      <td>0.00</td>\n",
       "      <td>2.00</td>\n",
       "      <td>20.12</td>\n",
       "      <td>0.00</td>\n",
       "      <td>0.00</td>\n",
       "      <td>7.91</td>\n",
       "    </tr>\n",
       "    <tr>\n",
       "      <th>50%</th>\n",
       "      <td>446.00</td>\n",
       "      <td>0.00</td>\n",
       "      <td>3.00</td>\n",
       "      <td>28.00</td>\n",
       "      <td>0.00</td>\n",
       "      <td>0.00</td>\n",
       "      <td>14.45</td>\n",
       "    </tr>\n",
       "    <tr>\n",
       "      <th>75%</th>\n",
       "      <td>668.50</td>\n",
       "      <td>1.00</td>\n",
       "      <td>3.00</td>\n",
       "      <td>38.00</td>\n",
       "      <td>1.00</td>\n",
       "      <td>0.00</td>\n",
       "      <td>31.00</td>\n",
       "    </tr>\n",
       "    <tr>\n",
       "      <th>max</th>\n",
       "      <td>891.00</td>\n",
       "      <td>1.00</td>\n",
       "      <td>3.00</td>\n",
       "      <td>80.00</td>\n",
       "      <td>8.00</td>\n",
       "      <td>6.00</td>\n",
       "      <td>512.33</td>\n",
       "    </tr>\n",
       "  </tbody>\n",
       "</table>\n",
       "</div>"
      ],
      "text/plain": [
       "       PassengerId  Survived  Pclass     Age   SibSp   Parch    Fare\n",
       "count       891.00    891.00  891.00  714.00  891.00  891.00  891.00\n",
       "mean        446.00      0.38    2.31   29.70    0.52    0.38   32.20\n",
       "std         257.35      0.49    0.84   14.53    1.10    0.81   49.69\n",
       "min           1.00      0.00    1.00    0.42    0.00    0.00    0.00\n",
       "25%         223.50      0.00    2.00   20.12    0.00    0.00    7.91\n",
       "50%         446.00      0.00    3.00   28.00    0.00    0.00   14.45\n",
       "75%         668.50      1.00    3.00   38.00    1.00    0.00   31.00\n",
       "max         891.00      1.00    3.00   80.00    8.00    6.00  512.33"
      ]
     },
     "execution_count": 6,
     "metadata": {},
     "output_type": "execute_result"
    }
   ],
   "source": [
    "train_data.describe()"
   ]
  },
  {
   "cell_type": "code",
   "execution_count": 7,
   "id": "c4089061",
   "metadata": {
    "execution": {
     "iopub.execute_input": "2023-04-22T13:36:26.819309Z",
     "iopub.status.busy": "2023-04-22T13:36:26.818873Z",
     "iopub.status.idle": "2023-04-22T13:36:26.838584Z",
     "shell.execute_reply": "2023-04-22T13:36:26.837272Z"
    },
    "papermill": {
     "duration": 0.034857,
     "end_time": "2023-04-22T13:36:26.841098",
     "exception": false,
     "start_time": "2023-04-22T13:36:26.806241",
     "status": "completed"
    },
    "tags": []
   },
   "outputs": [
    {
     "data": {
      "text/html": [
       "<div>\n",
       "<style scoped>\n",
       "    .dataframe tbody tr th:only-of-type {\n",
       "        vertical-align: middle;\n",
       "    }\n",
       "\n",
       "    .dataframe tbody tr th {\n",
       "        vertical-align: top;\n",
       "    }\n",
       "\n",
       "    .dataframe thead th {\n",
       "        text-align: right;\n",
       "    }\n",
       "</style>\n",
       "<table border=\"1\" class=\"dataframe\">\n",
       "  <thead>\n",
       "    <tr style=\"text-align: right;\">\n",
       "      <th></th>\n",
       "      <th>PassengerId</th>\n",
       "      <th>Survived</th>\n",
       "      <th>Pclass</th>\n",
       "      <th>Age</th>\n",
       "      <th>SibSp</th>\n",
       "      <th>Parch</th>\n",
       "      <th>Fare</th>\n",
       "    </tr>\n",
       "  </thead>\n",
       "  <tbody>\n",
       "    <tr>\n",
       "      <th>PassengerId</th>\n",
       "      <td>1.00e+00</td>\n",
       "      <td>-5.01e-03</td>\n",
       "      <td>-0.04</td>\n",
       "      <td>0.04</td>\n",
       "      <td>-0.06</td>\n",
       "      <td>-1.65e-03</td>\n",
       "      <td>0.01</td>\n",
       "    </tr>\n",
       "    <tr>\n",
       "      <th>Survived</th>\n",
       "      <td>-5.01e-03</td>\n",
       "      <td>1.00e+00</td>\n",
       "      <td>-0.34</td>\n",
       "      <td>-0.08</td>\n",
       "      <td>-0.04</td>\n",
       "      <td>8.16e-02</td>\n",
       "      <td>0.26</td>\n",
       "    </tr>\n",
       "    <tr>\n",
       "      <th>Pclass</th>\n",
       "      <td>-3.51e-02</td>\n",
       "      <td>-3.38e-01</td>\n",
       "      <td>1.00</td>\n",
       "      <td>-0.37</td>\n",
       "      <td>0.08</td>\n",
       "      <td>1.84e-02</td>\n",
       "      <td>-0.55</td>\n",
       "    </tr>\n",
       "    <tr>\n",
       "      <th>Age</th>\n",
       "      <td>3.68e-02</td>\n",
       "      <td>-7.72e-02</td>\n",
       "      <td>-0.37</td>\n",
       "      <td>1.00</td>\n",
       "      <td>-0.31</td>\n",
       "      <td>-1.89e-01</td>\n",
       "      <td>0.10</td>\n",
       "    </tr>\n",
       "    <tr>\n",
       "      <th>SibSp</th>\n",
       "      <td>-5.75e-02</td>\n",
       "      <td>-3.53e-02</td>\n",
       "      <td>0.08</td>\n",
       "      <td>-0.31</td>\n",
       "      <td>1.00</td>\n",
       "      <td>4.15e-01</td>\n",
       "      <td>0.16</td>\n",
       "    </tr>\n",
       "    <tr>\n",
       "      <th>Parch</th>\n",
       "      <td>-1.65e-03</td>\n",
       "      <td>8.16e-02</td>\n",
       "      <td>0.02</td>\n",
       "      <td>-0.19</td>\n",
       "      <td>0.41</td>\n",
       "      <td>1.00e+00</td>\n",
       "      <td>0.22</td>\n",
       "    </tr>\n",
       "    <tr>\n",
       "      <th>Fare</th>\n",
       "      <td>1.27e-02</td>\n",
       "      <td>2.57e-01</td>\n",
       "      <td>-0.55</td>\n",
       "      <td>0.10</td>\n",
       "      <td>0.16</td>\n",
       "      <td>2.16e-01</td>\n",
       "      <td>1.00</td>\n",
       "    </tr>\n",
       "  </tbody>\n",
       "</table>\n",
       "</div>"
      ],
      "text/plain": [
       "             PassengerId  Survived  Pclass   Age  SibSp     Parch  Fare\n",
       "PassengerId     1.00e+00 -5.01e-03   -0.04  0.04  -0.06 -1.65e-03  0.01\n",
       "Survived       -5.01e-03  1.00e+00   -0.34 -0.08  -0.04  8.16e-02  0.26\n",
       "Pclass         -3.51e-02 -3.38e-01    1.00 -0.37   0.08  1.84e-02 -0.55\n",
       "Age             3.68e-02 -7.72e-02   -0.37  1.00  -0.31 -1.89e-01  0.10\n",
       "SibSp          -5.75e-02 -3.53e-02    0.08 -0.31   1.00  4.15e-01  0.16\n",
       "Parch          -1.65e-03  8.16e-02    0.02 -0.19   0.41  1.00e+00  0.22\n",
       "Fare            1.27e-02  2.57e-01   -0.55  0.10   0.16  2.16e-01  1.00"
      ]
     },
     "execution_count": 7,
     "metadata": {},
     "output_type": "execute_result"
    }
   ],
   "source": [
    "train_data.corr()"
   ]
  },
  {
   "cell_type": "markdown",
   "id": "aeb7ddd8",
   "metadata": {
    "papermill": {
     "duration": 0.011114,
     "end_time": "2023-04-22T13:36:26.863801",
     "exception": false,
     "start_time": "2023-04-22T13:36:26.852687",
     "status": "completed"
    },
    "tags": []
   },
   "source": [
    "## Check for NAN"
   ]
  },
  {
   "cell_type": "code",
   "execution_count": 8,
   "id": "f6495e59",
   "metadata": {
    "execution": {
     "iopub.execute_input": "2023-04-22T13:36:26.889063Z",
     "iopub.status.busy": "2023-04-22T13:36:26.888270Z",
     "iopub.status.idle": "2023-04-22T13:36:26.897547Z",
     "shell.execute_reply": "2023-04-22T13:36:26.896447Z"
    },
    "papermill": {
     "duration": 0.024432,
     "end_time": "2023-04-22T13:36:26.899853",
     "exception": false,
     "start_time": "2023-04-22T13:36:26.875421",
     "status": "completed"
    },
    "tags": []
   },
   "outputs": [
    {
     "data": {
      "text/plain": [
       "PassengerId      0\n",
       "Survived         0\n",
       "Pclass           0\n",
       "Name             0\n",
       "Sex              0\n",
       "Age            177\n",
       "SibSp            0\n",
       "Parch            0\n",
       "Ticket           0\n",
       "Fare             0\n",
       "Cabin          687\n",
       "Embarked         2\n",
       "dtype: int64"
      ]
     },
     "execution_count": 8,
     "metadata": {},
     "output_type": "execute_result"
    }
   ],
   "source": [
    "train_data.isnull().sum()"
   ]
  },
  {
   "cell_type": "code",
   "execution_count": 9,
   "id": "17b312e7",
   "metadata": {
    "execution": {
     "iopub.execute_input": "2023-04-22T13:36:26.924801Z",
     "iopub.status.busy": "2023-04-22T13:36:26.924384Z",
     "iopub.status.idle": "2023-04-22T13:36:26.941419Z",
     "shell.execute_reply": "2023-04-22T13:36:26.940075Z"
    },
    "papermill": {
     "duration": 0.032371,
     "end_time": "2023-04-22T13:36:26.943819",
     "exception": false,
     "start_time": "2023-04-22T13:36:26.911448",
     "status": "completed"
    },
    "tags": []
   },
   "outputs": [
    {
     "data": {
      "text/html": [
       "<div>\n",
       "<style scoped>\n",
       "    .dataframe tbody tr th:only-of-type {\n",
       "        vertical-align: middle;\n",
       "    }\n",
       "\n",
       "    .dataframe tbody tr th {\n",
       "        vertical-align: top;\n",
       "    }\n",
       "\n",
       "    .dataframe thead th {\n",
       "        text-align: right;\n",
       "    }\n",
       "</style>\n",
       "<table border=\"1\" class=\"dataframe\">\n",
       "  <thead>\n",
       "    <tr style=\"text-align: right;\">\n",
       "      <th></th>\n",
       "      <th>Survived</th>\n",
       "      <th>Pclass</th>\n",
       "      <th>Name</th>\n",
       "      <th>Sex</th>\n",
       "      <th>Age</th>\n",
       "      <th>SibSp</th>\n",
       "      <th>Parch</th>\n",
       "      <th>Fare</th>\n",
       "      <th>Embarked</th>\n",
       "    </tr>\n",
       "  </thead>\n",
       "  <tbody>\n",
       "    <tr>\n",
       "      <th>0</th>\n",
       "      <td>0</td>\n",
       "      <td>3</td>\n",
       "      <td>Braund, Mr. Owen Harris</td>\n",
       "      <td>male</td>\n",
       "      <td>22.0</td>\n",
       "      <td>1</td>\n",
       "      <td>0</td>\n",
       "      <td>7.25</td>\n",
       "      <td>S</td>\n",
       "    </tr>\n",
       "    <tr>\n",
       "      <th>1</th>\n",
       "      <td>1</td>\n",
       "      <td>1</td>\n",
       "      <td>Cumings, Mrs. John Bradley (Florence Briggs Th...</td>\n",
       "      <td>female</td>\n",
       "      <td>38.0</td>\n",
       "      <td>1</td>\n",
       "      <td>0</td>\n",
       "      <td>71.28</td>\n",
       "      <td>C</td>\n",
       "    </tr>\n",
       "    <tr>\n",
       "      <th>2</th>\n",
       "      <td>1</td>\n",
       "      <td>3</td>\n",
       "      <td>Heikkinen, Miss. Laina</td>\n",
       "      <td>female</td>\n",
       "      <td>26.0</td>\n",
       "      <td>0</td>\n",
       "      <td>0</td>\n",
       "      <td>7.92</td>\n",
       "      <td>S</td>\n",
       "    </tr>\n",
       "    <tr>\n",
       "      <th>3</th>\n",
       "      <td>1</td>\n",
       "      <td>1</td>\n",
       "      <td>Futrelle, Mrs. Jacques Heath (Lily May Peel)</td>\n",
       "      <td>female</td>\n",
       "      <td>35.0</td>\n",
       "      <td>1</td>\n",
       "      <td>0</td>\n",
       "      <td>53.10</td>\n",
       "      <td>S</td>\n",
       "    </tr>\n",
       "    <tr>\n",
       "      <th>4</th>\n",
       "      <td>0</td>\n",
       "      <td>3</td>\n",
       "      <td>Allen, Mr. William Henry</td>\n",
       "      <td>male</td>\n",
       "      <td>35.0</td>\n",
       "      <td>0</td>\n",
       "      <td>0</td>\n",
       "      <td>8.05</td>\n",
       "      <td>S</td>\n",
       "    </tr>\n",
       "  </tbody>\n",
       "</table>\n",
       "</div>"
      ],
      "text/plain": [
       "   Survived  Pclass                                               Name  \\\n",
       "0         0       3                            Braund, Mr. Owen Harris   \n",
       "1         1       1  Cumings, Mrs. John Bradley (Florence Briggs Th...   \n",
       "2         1       3                             Heikkinen, Miss. Laina   \n",
       "3         1       1       Futrelle, Mrs. Jacques Heath (Lily May Peel)   \n",
       "4         0       3                           Allen, Mr. William Henry   \n",
       "\n",
       "      Sex   Age  SibSp  Parch   Fare Embarked  \n",
       "0    male  22.0      1      0   7.25        S  \n",
       "1  female  38.0      1      0  71.28        C  \n",
       "2  female  26.0      0      0   7.92        S  \n",
       "3  female  35.0      1      0  53.10        S  \n",
       "4    male  35.0      0      0   8.05        S  "
      ]
     },
     "execution_count": 9,
     "metadata": {},
     "output_type": "execute_result"
    }
   ],
   "source": [
    "train_data.drop(['Cabin', 'PassengerId', 'Ticket'], axis = 1, inplace=True)\n",
    "train_data.head()"
   ]
  },
  {
   "cell_type": "markdown",
   "id": "3e41e795",
   "metadata": {
    "papermill": {
     "duration": 0.011545,
     "end_time": "2023-04-22T13:36:26.967285",
     "exception": false,
     "start_time": "2023-04-22T13:36:26.955740",
     "status": "completed"
    },
    "tags": []
   },
   "source": [
    "## Dealing with NA.\n",
    "Two stations had no value therefore they were replaced by the most prevalent station in the dataset (\"C\")"
   ]
  },
  {
   "cell_type": "code",
   "execution_count": 10,
   "id": "cacdde83",
   "metadata": {
    "execution": {
     "iopub.execute_input": "2023-04-22T13:36:26.993276Z",
     "iopub.status.busy": "2023-04-22T13:36:26.992836Z",
     "iopub.status.idle": "2023-04-22T13:36:27.010915Z",
     "shell.execute_reply": "2023-04-22T13:36:27.009456Z"
    },
    "papermill": {
     "duration": 0.033879,
     "end_time": "2023-04-22T13:36:27.013382",
     "exception": false,
     "start_time": "2023-04-22T13:36:26.979503",
     "status": "completed"
    },
    "tags": []
   },
   "outputs": [
    {
     "name": "stderr",
     "output_type": "stream",
     "text": [
      "/opt/conda/lib/python3.7/site-packages/ipykernel_launcher.py:1: FutureWarning: Dropping of nuisance columns in DataFrame reductions (with 'numeric_only=None') is deprecated; in a future version this will raise TypeError.  Select only valid columns before calling the reduction.\n",
      "  \"\"\"Entry point for launching an IPython kernel.\n"
     ]
    },
    {
     "data": {
      "text/plain": [
       "Survived    0\n",
       "Pclass      0\n",
       "Name        0\n",
       "Sex         0\n",
       "Age         0\n",
       "SibSp       0\n",
       "Parch       0\n",
       "Fare        0\n",
       "Embarked    0\n",
       "dtype: int64"
      ]
     },
     "execution_count": 10,
     "metadata": {},
     "output_type": "execute_result"
    }
   ],
   "source": [
    "train_data.fillna(train_data.mean(), inplace=True)\n",
    "train_data['Embarked'].fillna('C', inplace=True)\n",
    "train_data.isnull().sum()"
   ]
  },
  {
   "cell_type": "markdown",
   "id": "9ea74082",
   "metadata": {
    "papermill": {
     "duration": 0.011766,
     "end_time": "2023-04-22T13:36:27.037189",
     "exception": false,
     "start_time": "2023-04-22T13:36:27.025423",
     "status": "completed"
    },
    "tags": []
   },
   "source": [
    "## Basic EDA"
   ]
  },
  {
   "cell_type": "markdown",
   "id": "e1651105",
   "metadata": {
    "papermill": {
     "duration": 0.011775,
     "end_time": "2023-04-22T13:36:27.061290",
     "exception": false,
     "start_time": "2023-04-22T13:36:27.049515",
     "status": "completed"
    },
    "tags": []
   },
   "source": [
    "#### Sex vs survival rate"
   ]
  },
  {
   "cell_type": "code",
   "execution_count": 11,
   "id": "54e44b5d",
   "metadata": {
    "execution": {
     "iopub.execute_input": "2023-04-22T13:36:27.087331Z",
     "iopub.status.busy": "2023-04-22T13:36:27.086907Z",
     "iopub.status.idle": "2023-04-22T13:36:27.101180Z",
     "shell.execute_reply": "2023-04-22T13:36:27.099897Z"
    },
    "papermill": {
     "duration": 0.03052,
     "end_time": "2023-04-22T13:36:27.103846",
     "exception": false,
     "start_time": "2023-04-22T13:36:27.073326",
     "status": "completed"
    },
    "tags": []
   },
   "outputs": [
    {
     "data": {
      "text/plain": [
       "Sex     Survived\n",
       "female  0            81\n",
       "        1           233\n",
       "male    0           468\n",
       "        1           109\n",
       "dtype: int64"
      ]
     },
     "execution_count": 11,
     "metadata": {},
     "output_type": "execute_result"
    }
   ],
   "source": [
    "survived_vs_sex = train_data.groupby(['Sex', 'Survived']).size()\n",
    "survived_vs_sex"
   ]
  },
  {
   "cell_type": "code",
   "execution_count": 12,
   "id": "983b9415",
   "metadata": {
    "execution": {
     "iopub.execute_input": "2023-04-22T13:36:27.130107Z",
     "iopub.status.busy": "2023-04-22T13:36:27.129637Z",
     "iopub.status.idle": "2023-04-22T13:36:27.406963Z",
     "shell.execute_reply": "2023-04-22T13:36:27.406036Z"
    },
    "papermill": {
     "duration": 0.293054,
     "end_time": "2023-04-22T13:36:27.409233",
     "exception": false,
     "start_time": "2023-04-22T13:36:27.116179",
     "status": "completed"
    },
    "tags": []
   },
   "outputs": [
    {
     "data": {
      "image/png": "[encoded data removed]",
      "text/plain": [
       "<Figure size 640x480 with 1 Axes>"
      ]
     },
     "metadata": {},
     "output_type": "display_data"
    }
   ],
   "source": [
    "sns.barplot(x='Sex', y='Survived', data=train_data)\n",
    "plt.title('Survival vs gender')\n",
    "plt.xlabel('Gender')\n",
    "plt.ylabel('Percentage of survival')\n",
    "plt.show()"
   ]
  },
  {
   "cell_type": "code",
   "execution_count": 13,
   "id": "8aca9c8a",
   "metadata": {
    "execution": {
     "iopub.execute_input": "2023-04-22T13:36:27.437334Z",
     "iopub.status.busy": "2023-04-22T13:36:27.436545Z",
     "iopub.status.idle": "2023-04-22T13:36:27.453249Z",
     "shell.execute_reply": "2023-04-22T13:36:27.451898Z"
    },
    "papermill": {
     "duration": 0.033345,
     "end_time": "2023-04-22T13:36:27.455743",
     "exception": false,
     "start_time": "2023-04-22T13:36:27.422398",
     "status": "completed"
    },
    "tags": []
   },
   "outputs": [
    {
     "data": {
      "text/html": [
       "<div>\n",
       "<style scoped>\n",
       "    .dataframe tbody tr th:only-of-type {\n",
       "        vertical-align: middle;\n",
       "    }\n",
       "\n",
       "    .dataframe tbody tr th {\n",
       "        vertical-align: top;\n",
       "    }\n",
       "\n",
       "    .dataframe thead th {\n",
       "        text-align: right;\n",
       "    }\n",
       "</style>\n",
       "<table border=\"1\" class=\"dataframe\">\n",
       "  <thead>\n",
       "    <tr style=\"text-align: right;\">\n",
       "      <th></th>\n",
       "      <th>Survived</th>\n",
       "      <th>Pclass</th>\n",
       "      <th>Name</th>\n",
       "      <th>Sex</th>\n",
       "      <th>Age</th>\n",
       "      <th>SibSp</th>\n",
       "      <th>Parch</th>\n",
       "      <th>Fare</th>\n",
       "      <th>Embarked</th>\n",
       "    </tr>\n",
       "  </thead>\n",
       "  <tbody>\n",
       "    <tr>\n",
       "      <th>0</th>\n",
       "      <td>0</td>\n",
       "      <td>3</td>\n",
       "      <td>Braund, Mr. Owen Harris</td>\n",
       "      <td>male</td>\n",
       "      <td>22.0</td>\n",
       "      <td>1</td>\n",
       "      <td>0</td>\n",
       "      <td>7.25</td>\n",
       "      <td>S</td>\n",
       "    </tr>\n",
       "    <tr>\n",
       "      <th>1</th>\n",
       "      <td>1</td>\n",
       "      <td>1</td>\n",
       "      <td>Cumings, Mrs. John Bradley (Florence Briggs Th...</td>\n",
       "      <td>female</td>\n",
       "      <td>38.0</td>\n",
       "      <td>1</td>\n",
       "      <td>0</td>\n",
       "      <td>71.28</td>\n",
       "      <td>C</td>\n",
       "    </tr>\n",
       "    <tr>\n",
       "      <th>2</th>\n",
       "      <td>1</td>\n",
       "      <td>3</td>\n",
       "      <td>Heikkinen, Miss. Laina</td>\n",
       "      <td>female</td>\n",
       "      <td>26.0</td>\n",
       "      <td>0</td>\n",
       "      <td>0</td>\n",
       "      <td>7.92</td>\n",
       "      <td>S</td>\n",
       "    </tr>\n",
       "    <tr>\n",
       "      <th>3</th>\n",
       "      <td>1</td>\n",
       "      <td>1</td>\n",
       "      <td>Futrelle, Mrs. Jacques Heath (Lily May Peel)</td>\n",
       "      <td>female</td>\n",
       "      <td>35.0</td>\n",
       "      <td>1</td>\n",
       "      <td>0</td>\n",
       "      <td>53.10</td>\n",
       "      <td>S</td>\n",
       "    </tr>\n",
       "    <tr>\n",
       "      <th>4</th>\n",
       "      <td>0</td>\n",
       "      <td>3</td>\n",
       "      <td>Allen, Mr. William Henry</td>\n",
       "      <td>male</td>\n",
       "      <td>35.0</td>\n",
       "      <td>0</td>\n",
       "      <td>0</td>\n",
       "      <td>8.05</td>\n",
       "      <td>S</td>\n",
       "    </tr>\n",
       "  </tbody>\n",
       "</table>\n",
       "</div>"
      ],
      "text/plain": [
       "   Survived  Pclass                                               Name  \\\n",
       "0         0       3                            Braund, Mr. Owen Harris   \n",
       "1         1       1  Cumings, Mrs. John Bradley (Florence Briggs Th...   \n",
       "2         1       3                             Heikkinen, Miss. Laina   \n",
       "3         1       1       Futrelle, Mrs. Jacques Heath (Lily May Peel)   \n",
       "4         0       3                           Allen, Mr. William Henry   \n",
       "\n",
       "      Sex   Age  SibSp  Parch   Fare Embarked  \n",
       "0    male  22.0      1      0   7.25        S  \n",
       "1  female  38.0      1      0  71.28        C  \n",
       "2  female  26.0      0      0   7.92        S  \n",
       "3  female  35.0      1      0  53.10        S  \n",
       "4    male  35.0      0      0   8.05        S  "
      ]
     },
     "execution_count": 13,
     "metadata": {},
     "output_type": "execute_result"
    }
   ],
   "source": [
    "train_data.head()"
   ]
  },
  {
   "cell_type": "code",
   "execution_count": 14,
   "id": "89468806",
   "metadata": {
    "execution": {
     "iopub.execute_input": "2023-04-22T13:36:27.483252Z",
     "iopub.status.busy": "2023-04-22T13:36:27.482749Z",
     "iopub.status.idle": "2023-04-22T13:36:27.493707Z",
     "shell.execute_reply": "2023-04-22T13:36:27.492580Z"
    },
    "papermill": {
     "duration": 0.027185,
     "end_time": "2023-04-22T13:36:27.495874",
     "exception": false,
     "start_time": "2023-04-22T13:36:27.468689",
     "status": "completed"
    },
    "tags": []
   },
   "outputs": [
    {
     "data": {
      "text/plain": [
       "Survived     0.38\n",
       "Age         29.70\n",
       "dtype: float64"
      ]
     },
     "execution_count": 14,
     "metadata": {},
     "output_type": "execute_result"
    }
   ],
   "source": [
    "train_data[['Survived', 'Age']].mean()"
   ]
  },
  {
   "cell_type": "code",
   "execution_count": 15,
   "id": "5e799d26",
   "metadata": {
    "execution": {
     "iopub.execute_input": "2023-04-22T13:36:27.523811Z",
     "iopub.status.busy": "2023-04-22T13:36:27.523102Z",
     "iopub.status.idle": "2023-04-22T13:36:27.532526Z",
     "shell.execute_reply": "2023-04-22T13:36:27.531002Z"
    },
    "papermill": {
     "duration": 0.026213,
     "end_time": "2023-04-22T13:36:27.534973",
     "exception": false,
     "start_time": "2023-04-22T13:36:27.508760",
     "status": "completed"
    },
    "tags": []
   },
   "outputs": [
    {
     "name": "stdout",
     "output_type": "stream",
     "text": [
      "Average age for men: 30.505824243042102\n",
      "Average age for women: 28.21673004870738\n"
     ]
    }
   ],
   "source": [
    "mean_age_men = train_data[train_data['Sex'] == 'male']['Age'].mean()\n",
    "mean_age_women = train_data[train_data['Sex'] == 'female']['Age'].mean()\n",
    "print(f\"Average age for men: {mean_age_men}\\nAverage age for women: {mean_age_women}\")"
   ]
  },
  {
   "cell_type": "markdown",
   "id": "013160ac",
   "metadata": {
    "papermill": {
     "duration": 0.012429,
     "end_time": "2023-04-22T13:36:27.560286",
     "exception": false,
     "start_time": "2023-04-22T13:36:27.547857",
     "status": "completed"
    },
    "tags": []
   },
   "source": [
    "## Average fare payed and general socio-economic status vs survival"
   ]
  },
  {
   "cell_type": "code",
   "execution_count": 16,
   "id": "d59cf03f",
   "metadata": {
    "execution": {
     "iopub.execute_input": "2023-04-22T13:36:27.587722Z",
     "iopub.status.busy": "2023-04-22T13:36:27.587257Z",
     "iopub.status.idle": "2023-04-22T13:36:27.808595Z",
     "shell.execute_reply": "2023-04-22T13:36:27.807385Z"
    },
    "papermill": {
     "duration": 0.238305,
     "end_time": "2023-04-22T13:36:27.811470",
     "exception": false,
     "start_time": "2023-04-22T13:36:27.573165",
     "status": "completed"
    },
    "tags": []
   },
   "outputs": [
    {
     "name": "stdout",
     "output_type": "stream",
     "text": [
      "Mean class ticket for men: 2.389948006932409\n",
      "Mean class ticket for women: 2.159235668789809\n"
     ]
    },
    {
     "data": {
      "image/png": "[encoded data removed]",
      "text/plain": [
       "<Figure size 640x480 with 1 Axes>"
      ]
     },
     "metadata": {},
     "output_type": "display_data"
    }
   ],
   "source": [
    "pclass_men = train_data[train_data['Sex'] == 'male']['Pclass'].mean()\n",
    "pclass_women = train_data[train_data['Sex'] == 'female']['Pclass'].mean()\n",
    "print(f\"Mean class ticket for men: {pclass_men}\\nMean class ticket for women: {pclass_women}\")\n",
    "\n",
    "sns.barplot(x='Sex', y='Pclass', data=train_data)\n",
    "plt.show()"
   ]
  },
  {
   "cell_type": "code",
   "execution_count": 17,
   "id": "1e156966",
   "metadata": {
    "execution": {
     "iopub.execute_input": "2023-04-22T13:36:27.840533Z",
     "iopub.status.busy": "2023-04-22T13:36:27.840087Z",
     "iopub.status.idle": "2023-04-22T13:36:27.849237Z",
     "shell.execute_reply": "2023-04-22T13:36:27.848029Z"
    },
    "papermill": {
     "duration": 0.026598,
     "end_time": "2023-04-22T13:36:27.851866",
     "exception": false,
     "start_time": "2023-04-22T13:36:27.825268",
     "status": "completed"
    },
    "tags": []
   },
   "outputs": [
    {
     "name": "stdout",
     "output_type": "stream",
     "text": [
      "Mean class ticket for men: 25.523893414211443\n",
      "Mean class ticket for women: 44.47981783439491\n"
     ]
    }
   ],
   "source": [
    "fare_men = train_data[train_data['Sex'] == 'male']['Fare'].mean()\n",
    "fare_women = train_data[train_data['Sex'] == 'female']['Fare'].mean()\n",
    "print(f\"Mean class ticket for men: {fare_men}\\nMean class ticket for women: {fare_women}\")"
   ]
  },
  {
   "cell_type": "code",
   "execution_count": 18,
   "id": "3eadbb26",
   "metadata": {
    "execution": {
     "iopub.execute_input": "2023-04-22T13:36:27.880323Z",
     "iopub.status.busy": "2023-04-22T13:36:27.879846Z",
     "iopub.status.idle": "2023-04-22T13:36:28.094798Z",
     "shell.execute_reply": "2023-04-22T13:36:28.093443Z"
    },
    "papermill": {
     "duration": 0.232627,
     "end_time": "2023-04-22T13:36:28.097803",
     "exception": false,
     "start_time": "2023-04-22T13:36:27.865176",
     "status": "completed"
    },
    "tags": []
   },
   "outputs": [
    {
     "data": {
      "image/png": "[encoded data removed]",
      "text/plain": [
       "<Figure size 640x480 with 1 Axes>"
      ]
     },
     "metadata": {},
     "output_type": "display_data"
    }
   ],
   "source": [
    "sns.barplot(x='Sex', y='Fare', data=train_data)\n",
    "plt.show()"
   ]
  },
  {
   "cell_type": "code",
   "execution_count": 19,
   "id": "3dd15ac8",
   "metadata": {
    "execution": {
     "iopub.execute_input": "2023-04-22T13:36:28.127556Z",
     "iopub.status.busy": "2023-04-22T13:36:28.127147Z",
     "iopub.status.idle": "2023-04-22T13:36:28.153372Z",
     "shell.execute_reply": "2023-04-22T13:36:28.152064Z"
    },
    "papermill": {
     "duration": 0.044353,
     "end_time": "2023-04-22T13:36:28.156024",
     "exception": false,
     "start_time": "2023-04-22T13:36:28.111671",
     "status": "completed"
    },
    "tags": []
   },
   "outputs": [
    {
     "name": "stdout",
     "output_type": "stream",
     "text": [
      "Percentage of males with 1st class ticket: 21.143847487001732 \n",
      "Percentage of females with 1st class ticket: 29.936305732484076\n",
      "Percentage of males with 2nd class ticket: 18.717504332755635 \n",
      "Percentage of females with 2nd class ticket: 24.203821656050955\n",
      "Percentage of males with 3rd class ticket: 60.13864818024264 \n",
      "Percentage of females with 3rd class ticket: 45.85987261146497\n",
      "Maximum and minimum fare payed by men: 512.3292, 0.0\n",
      "Maximum and minimum fare payed by women: 512.3292, 6.75\n",
      "1st Class maximum and minimum fare: 512.3292, 0.0\n"
     ]
    }
   ],
   "source": [
    "\n",
    "\n",
    "female_1st = train_data[(train_data['Sex'] == 'female') & (train_data['Pclass'] == 1)]['Pclass'].count()\n",
    "male_1st = train_data[(train_data['Sex'] == 'male') & (train_data['Pclass'] == 1)]['Pclass'].count()\n",
    "\n",
    "print(f'Percentage of males with 1st class ticket: {(male_1st / 577) * 100} \\nPercentage of females with 1st class ticket: {(female_1st / 314) * 100}')\n",
    "\n",
    "female_2nd = train_data[(train_data['Sex'] == 'female') & (train_data['Pclass'] == 2)]['Pclass'].count()\n",
    "male_2nd = train_data[(train_data['Sex'] == 'male') & (train_data['Pclass'] == 2)]['Pclass'].count()\n",
    "\n",
    "print(f'Percentage of males with 2nd class ticket: {(male_2nd / 577) * 100} \\nPercentage of females with 2nd class ticket: {(female_2nd / 314) * 100}')\n",
    "\n",
    "female_3rd = train_data[(train_data['Sex'] == 'female') & (train_data['Pclass'] == 3)]['Pclass'].count()\n",
    "male_3rd = train_data[(train_data['Sex'] == 'male') & (train_data['Pclass'] == 3)]['Pclass'].count()\n",
    "\n",
    "print(f'Percentage of males with 3rd class ticket: {(male_3rd / 577) * 100} \\nPercentage of females with 3rd class ticket: {(female_3rd / 314) * 100}')\n",
    "\n",
    "male_max_fare = train_data[train_data['Sex'] == 'male']['Fare'].max()\n",
    "male_min_fare = train_data[train_data['Sex'] == 'male']['Fare'].min()\n",
    "female_max_fare = train_data[train_data['Sex'] == 'female']['Fare'].max()\n",
    "female_min_fare = train_data[train_data['Sex'] == 'female']['Fare'].min()\n",
    "\n",
    "print(f'Maximum and minimum fare payed by men: {male_max_fare}, {male_min_fare}\\nMaximum and minimum fare payed by women: {female_max_fare}, {female_min_fare}')\n",
    "\n",
    "first_max = train_data[train_data['Pclass'] == 1]['Fare'].max()\n",
    "first_min = train_data[train_data['Pclass'] == 1]['Fare'].min()\n",
    "\n",
    "print(f'1st Class maximum and minimum fare: {first_max}, {first_min}')"
   ]
  },
  {
   "cell_type": "code",
   "execution_count": 20,
   "id": "71637293",
   "metadata": {
    "execution": {
     "iopub.execute_input": "2023-04-22T13:36:28.185509Z",
     "iopub.status.busy": "2023-04-22T13:36:28.185094Z",
     "iopub.status.idle": "2023-04-22T13:36:28.404178Z",
     "shell.execute_reply": "2023-04-22T13:36:28.402497Z"
    },
    "papermill": {
     "duration": 0.238134,
     "end_time": "2023-04-22T13:36:28.407930",
     "exception": false,
     "start_time": "2023-04-22T13:36:28.169796",
     "status": "completed"
    },
    "tags": []
   },
   "outputs": [
    {
     "data": {
      "image/png": "[encoded data removed]",
      "text/plain": [
       "<Figure size 640x480 with 1 Axes>"
      ]
     },
     "metadata": {},
     "output_type": "display_data"
    }
   ],
   "source": [
    "sns.barplot(y='Fare', x='Survived', data=train_data)\n",
    "plt.show()"
   ]
  },
  {
   "cell_type": "code",
   "execution_count": 21,
   "id": "0b4ec385",
   "metadata": {
    "execution": {
     "iopub.execute_input": "2023-04-22T13:36:28.439500Z",
     "iopub.status.busy": "2023-04-22T13:36:28.438280Z",
     "iopub.status.idle": "2023-04-22T13:36:28.641460Z",
     "shell.execute_reply": "2023-04-22T13:36:28.639967Z"
    },
    "papermill": {
     "duration": 0.222418,
     "end_time": "2023-04-22T13:36:28.645069",
     "exception": false,
     "start_time": "2023-04-22T13:36:28.422651",
     "status": "completed"
    },
    "tags": []
   },
   "outputs": [
    {
     "data": {
      "image/png": "[encoded data removed]",
      "text/plain": [
       "<Figure size 640x480 with 1 Axes>"
      ]
     },
     "metadata": {},
     "output_type": "display_data"
    }
   ],
   "source": [
    "sns.barplot(y='Fare', x='Pclass', data=train_data)\n",
    "plt.show()"
   ]
  },
  {
   "cell_type": "markdown",
   "id": "18bad79d",
   "metadata": {
    "papermill": {
     "duration": 0.013829,
     "end_time": "2023-04-22T13:36:28.673112",
     "exception": false,
     "start_time": "2023-04-22T13:36:28.659283",
     "status": "completed"
    },
    "tags": []
   },
   "source": [
    "### Is there correlation between station and price payed for ticket and survival rate?"
   ]
  },
  {
   "cell_type": "code",
   "execution_count": 22,
   "id": "849a840e",
   "metadata": {
    "execution": {
     "iopub.execute_input": "2023-04-22T13:36:28.703331Z",
     "iopub.status.busy": "2023-04-22T13:36:28.702927Z",
     "iopub.status.idle": "2023-04-22T13:36:28.916997Z",
     "shell.execute_reply": "2023-04-22T13:36:28.916070Z"
    },
    "papermill": {
     "duration": 0.232081,
     "end_time": "2023-04-22T13:36:28.919500",
     "exception": false,
     "start_time": "2023-04-22T13:36:28.687419",
     "status": "completed"
    },
    "tags": []
   },
   "outputs": [
    {
     "data": {
      "image/png": "[encoded data removed]",
      "text/plain": [
       "<Figure size 640x480 with 1 Axes>"
      ]
     },
     "metadata": {},
     "output_type": "display_data"
    }
   ],
   "source": [
    "sns.barplot(x='Embarked', y='Survived', data=train_data)\n",
    "plt.show()"
   ]
  },
  {
   "cell_type": "code",
   "execution_count": 23,
   "id": "1a4f93b6",
   "metadata": {
    "execution": {
     "iopub.execute_input": "2023-04-22T13:36:28.962262Z",
     "iopub.status.busy": "2023-04-22T13:36:28.961690Z",
     "iopub.status.idle": "2023-04-22T13:36:29.225833Z",
     "shell.execute_reply": "2023-04-22T13:36:29.224418Z"
    },
    "papermill": {
     "duration": 0.295339,
     "end_time": "2023-04-22T13:36:29.229280",
     "exception": false,
     "start_time": "2023-04-22T13:36:28.933941",
     "status": "completed"
    },
    "tags": []
   },
   "outputs": [
    {
     "data": {
      "image/png": "[encoded data removed]",
      "text/plain": [
       "<Figure size 640x480 with 1 Axes>"
      ]
     },
     "metadata": {},
     "output_type": "display_data"
    }
   ],
   "source": [
    "sns.barplot(x='Embarked', y='Fare', data=train_data)\n",
    "plt.show()"
   ]
  },
  {
   "cell_type": "code",
   "execution_count": 24,
   "id": "063927e0",
   "metadata": {
    "execution": {
     "iopub.execute_input": "2023-04-22T13:36:29.273308Z",
     "iopub.status.busy": "2023-04-22T13:36:29.272767Z",
     "iopub.status.idle": "2023-04-22T13:36:29.529411Z",
     "shell.execute_reply": "2023-04-22T13:36:29.528365Z"
    },
    "papermill": {
     "duration": 0.280983,
     "end_time": "2023-04-22T13:36:29.531876",
     "exception": false,
     "start_time": "2023-04-22T13:36:29.250893",
     "status": "completed"
    },
    "tags": []
   },
   "outputs": [
    {
     "data": {
      "image/png": "[encoded data removed]",
      "text/plain": [
       "<Figure size 640x480 with 1 Axes>"
      ]
     },
     "metadata": {},
     "output_type": "display_data"
    }
   ],
   "source": [
    "sns.barplot(x='Embarked', y='Pclass', data=train_data)\n",
    "plt.show()"
   ]
  },
  {
   "cell_type": "markdown",
   "id": "39452ca1",
   "metadata": {
    "papermill": {
     "duration": 0.014419,
     "end_time": "2023-04-22T13:36:29.561199",
     "exception": false,
     "start_time": "2023-04-22T13:36:29.546780",
     "status": "completed"
    },
    "tags": []
   },
   "source": [
    "## Model training:"
   ]
  },
  {
   "cell_type": "markdown",
   "id": "64f3c62a",
   "metadata": {
    "papermill": {
     "duration": 0.014481,
     "end_time": "2023-04-22T13:36:29.590354",
     "exception": false,
     "start_time": "2023-04-22T13:36:29.575873",
     "status": "completed"
    },
    "tags": []
   },
   "source": [
    "#### A decision tree was used to predict the survival rate."
   ]
  },
  {
   "cell_type": "code",
   "execution_count": 25,
   "id": "8f391483",
   "metadata": {
    "execution": {
     "iopub.execute_input": "2023-04-22T13:36:29.622389Z",
     "iopub.status.busy": "2023-04-22T13:36:29.621907Z",
     "iopub.status.idle": "2023-04-22T13:36:30.031442Z",
     "shell.execute_reply": "2023-04-22T13:36:30.030067Z"
    },
    "papermill": {
     "duration": 0.429541,
     "end_time": "2023-04-22T13:36:30.034715",
     "exception": false,
     "start_time": "2023-04-22T13:36:29.605174",
     "status": "completed"
    },
    "tags": []
   },
   "outputs": [],
   "source": [
    "from sklearn import preprocessing\n",
    "from sklearn.model_selection import GridSearchCV\n",
    "from sklearn.linear_model import LogisticRegression\n",
    "from sklearn.tree import DecisionTreeClassifier"
   ]
  },
  {
   "cell_type": "markdown",
   "id": "a21bb47f",
   "metadata": {
    "papermill": {
     "duration": 0.01467,
     "end_time": "2023-04-22T13:36:30.064760",
     "exception": false,
     "start_time": "2023-04-22T13:36:30.050090",
     "status": "completed"
    },
    "tags": []
   },
   "source": [
    "#### Features selected for training"
   ]
  },
  {
   "cell_type": "code",
   "execution_count": 26,
   "id": "62fa874e",
   "metadata": {
    "execution": {
     "iopub.execute_input": "2023-04-22T13:36:30.098329Z",
     "iopub.status.busy": "2023-04-22T13:36:30.097463Z",
     "iopub.status.idle": "2023-04-22T13:36:30.103064Z",
     "shell.execute_reply": "2023-04-22T13:36:30.102131Z"
    },
    "papermill": {
     "duration": 0.025839,
     "end_time": "2023-04-22T13:36:30.105638",
     "exception": false,
     "start_time": "2023-04-22T13:36:30.079799",
     "status": "completed"
    },
    "tags": []
   },
   "outputs": [],
   "source": [
    "features_forest = ['Sex', 'Embarked', 'Pclass', 'Parch', 'SibSp']"
   ]
  },
  {
   "cell_type": "markdown",
   "id": "73f39986",
   "metadata": {
    "papermill": {
     "duration": 0.014604,
     "end_time": "2023-04-22T13:36:30.135392",
     "exception": false,
     "start_time": "2023-04-22T13:36:30.120788",
     "status": "completed"
    },
    "tags": []
   },
   "source": [
    "#### Dummy creation"
   ]
  },
  {
   "cell_type": "code",
   "execution_count": 27,
   "id": "43ac724c",
   "metadata": {
    "execution": {
     "iopub.execute_input": "2023-04-22T13:36:30.167515Z",
     "iopub.status.busy": "2023-04-22T13:36:30.167015Z",
     "iopub.status.idle": "2023-04-22T13:36:30.184838Z",
     "shell.execute_reply": "2023-04-22T13:36:30.183442Z"
    },
    "papermill": {
     "duration": 0.037256,
     "end_time": "2023-04-22T13:36:30.187532",
     "exception": false,
     "start_time": "2023-04-22T13:36:30.150276",
     "status": "completed"
    },
    "tags": []
   },
   "outputs": [],
   "source": [
    "X_train_forest = pd.get_dummies(train_data[features_forest])\n",
    "X_test_forest = pd.get_dummies(test_data[features_forest])"
   ]
  },
  {
   "cell_type": "code",
   "execution_count": 28,
   "id": "2393573f",
   "metadata": {
    "execution": {
     "iopub.execute_input": "2023-04-22T13:36:30.220271Z",
     "iopub.status.busy": "2023-04-22T13:36:30.219261Z",
     "iopub.status.idle": "2023-04-22T13:36:30.224636Z",
     "shell.execute_reply": "2023-04-22T13:36:30.223639Z"
    },
    "papermill": {
     "duration": 0.023916,
     "end_time": "2023-04-22T13:36:30.226768",
     "exception": false,
     "start_time": "2023-04-22T13:36:30.202852",
     "status": "completed"
    },
    "tags": []
   },
   "outputs": [],
   "source": [
    "y = train_data['Survived']"
   ]
  },
  {
   "cell_type": "code",
   "execution_count": 29,
   "id": "dfb112ac",
   "metadata": {
    "execution": {
     "iopub.execute_input": "2023-04-22T13:36:30.260301Z",
     "iopub.status.busy": "2023-04-22T13:36:30.259246Z",
     "iopub.status.idle": "2023-04-22T13:36:30.266803Z",
     "shell.execute_reply": "2023-04-22T13:36:30.265548Z"
    },
    "papermill": {
     "duration": 0.027253,
     "end_time": "2023-04-22T13:36:30.269631",
     "exception": false,
     "start_time": "2023-04-22T13:36:30.242378",
     "status": "completed"
    },
    "tags": []
   },
   "outputs": [],
   "source": [
    "parameters = {'criterion': ['gini', 'entropy'],\n",
    "     'splitter': ['best', 'random'],\n",
    "     'max_depth': [2*n for n in range(1,10)],\n",
    "     'max_features': ['auto', 'sqrt'],\n",
    "     'min_samples_leaf': [1, 2, 4],\n",
    "     'min_samples_split': [2, 5, 10]}\n",
    "\n",
    "tree = DecisionTreeClassifier()"
   ]
  },
  {
   "cell_type": "code",
   "execution_count": 30,
   "id": "d5246319",
   "metadata": {
    "execution": {
     "iopub.execute_input": "2023-04-22T13:36:30.302524Z",
     "iopub.status.busy": "2023-04-22T13:36:30.302131Z",
     "iopub.status.idle": "2023-04-22T13:37:00.216496Z",
     "shell.execute_reply": "2023-04-22T13:37:00.215365Z"
    },
    "papermill": {
     "duration": 29.933478,
     "end_time": "2023-04-22T13:37:00.218849",
     "exception": false,
     "start_time": "2023-04-22T13:36:30.285371",
     "status": "completed"
    },
    "tags": []
   },
   "outputs": [
    {
     "data": {
      "text/plain": [
       "GridSearchCV(cv=10, estimator=DecisionTreeClassifier(),\n",
       "             param_grid={'criterion': ['gini', 'entropy'],\n",
       "                         'max_depth': [2, 4, 6, 8, 10, 12, 14, 16, 18],\n",
       "                         'max_features': ['auto', 'sqrt'],\n",
       "                         'min_samples_leaf': [1, 2, 4],\n",
       "                         'min_samples_split': [2, 5, 10],\n",
       "                         'splitter': ['best', 'random']})"
      ]
     },
     "execution_count": 30,
     "metadata": {},
     "output_type": "execute_result"
    }
   ],
   "source": [
    "tree_cv = GridSearchCV(tree, parameters, cv=10)\n",
    "tree_cv.fit(X_train_forest, y)"
   ]
  },
  {
   "cell_type": "code",
   "execution_count": 31,
   "id": "d0a45e41",
   "metadata": {
    "execution": {
     "iopub.execute_input": "2023-04-22T13:37:00.250351Z",
     "iopub.status.busy": "2023-04-22T13:37:00.249917Z",
     "iopub.status.idle": "2023-04-22T13:37:00.257380Z",
     "shell.execute_reply": "2023-04-22T13:37:00.256420Z"
    },
    "papermill": {
     "duration": 0.025882,
     "end_time": "2023-04-22T13:37:00.259607",
     "exception": false,
     "start_time": "2023-04-22T13:37:00.233725",
     "status": "completed"
    },
    "tags": []
   },
   "outputs": [],
   "source": [
    "predictions = tree_cv.predict(X_test_forest)"
   ]
  },
  {
   "cell_type": "code",
   "execution_count": 32,
   "id": "d136c56f",
   "metadata": {
    "execution": {
     "iopub.execute_input": "2023-04-22T13:37:00.291390Z",
     "iopub.status.busy": "2023-04-22T13:37:00.290660Z",
     "iopub.status.idle": "2023-04-22T13:37:00.296671Z",
     "shell.execute_reply": "2023-04-22T13:37:00.295378Z"
    },
    "papermill": {
     "duration": 0.024961,
     "end_time": "2023-04-22T13:37:00.299442",
     "exception": false,
     "start_time": "2023-04-22T13:37:00.274481",
     "status": "completed"
    },
    "tags": []
   },
   "outputs": [],
   "source": [
    "output = pd.DataFrame({'PassengerId': test_data.PassengerId, 'Survived': predictions})"
   ]
  },
  {
   "cell_type": "code",
   "execution_count": 33,
   "id": "a6eddba6",
   "metadata": {
    "execution": {
     "iopub.execute_input": "2023-04-22T13:37:00.337167Z",
     "iopub.status.busy": "2023-04-22T13:37:00.336615Z",
     "iopub.status.idle": "2023-04-22T13:37:00.352056Z",
     "shell.execute_reply": "2023-04-22T13:37:00.350900Z"
    },
    "papermill": {
     "duration": 0.036023,
     "end_time": "2023-04-22T13:37:00.354413",
     "exception": false,
     "start_time": "2023-04-22T13:37:00.318390",
     "status": "completed"
    },
    "tags": []
   },
   "outputs": [
    {
     "data": {
      "text/html": [
       "<div>\n",
       "<style scoped>\n",
       "    .dataframe tbody tr th:only-of-type {\n",
       "        vertical-align: middle;\n",
       "    }\n",
       "\n",
       "    .dataframe tbody tr th {\n",
       "        vertical-align: top;\n",
       "    }\n",
       "\n",
       "    .dataframe thead th {\n",
       "        text-align: right;\n",
       "    }\n",
       "</style>\n",
       "<table border=\"1\" class=\"dataframe\">\n",
       "  <thead>\n",
       "    <tr style=\"text-align: right;\">\n",
       "      <th></th>\n",
       "      <th>PassengerId</th>\n",
       "      <th>Survived</th>\n",
       "    </tr>\n",
       "  </thead>\n",
       "  <tbody>\n",
       "    <tr>\n",
       "      <th>0</th>\n",
       "      <td>892</td>\n",
       "      <td>0</td>\n",
       "    </tr>\n",
       "    <tr>\n",
       "      <th>1</th>\n",
       "      <td>893</td>\n",
       "      <td>0</td>\n",
       "    </tr>\n",
       "    <tr>\n",
       "      <th>2</th>\n",
       "      <td>894</td>\n",
       "      <td>0</td>\n",
       "    </tr>\n",
       "    <tr>\n",
       "      <th>3</th>\n",
       "      <td>895</td>\n",
       "      <td>0</td>\n",
       "    </tr>\n",
       "    <tr>\n",
       "      <th>4</th>\n",
       "      <td>896</td>\n",
       "      <td>0</td>\n",
       "    </tr>\n",
       "    <tr>\n",
       "      <th>...</th>\n",
       "      <td>...</td>\n",
       "      <td>...</td>\n",
       "    </tr>\n",
       "    <tr>\n",
       "      <th>413</th>\n",
       "      <td>1305</td>\n",
       "      <td>0</td>\n",
       "    </tr>\n",
       "    <tr>\n",
       "      <th>414</th>\n",
       "      <td>1306</td>\n",
       "      <td>1</td>\n",
       "    </tr>\n",
       "    <tr>\n",
       "      <th>415</th>\n",
       "      <td>1307</td>\n",
       "      <td>0</td>\n",
       "    </tr>\n",
       "    <tr>\n",
       "      <th>416</th>\n",
       "      <td>1308</td>\n",
       "      <td>0</td>\n",
       "    </tr>\n",
       "    <tr>\n",
       "      <th>417</th>\n",
       "      <td>1309</td>\n",
       "      <td>0</td>\n",
       "    </tr>\n",
       "  </tbody>\n",
       "</table>\n",
       "<p>418 rows × 2 columns</p>\n",
       "</div>"
      ],
      "text/plain": [
       "     PassengerId  Survived\n",
       "0            892         0\n",
       "1            893         0\n",
       "2            894         0\n",
       "3            895         0\n",
       "4            896         0\n",
       "..           ...       ...\n",
       "413         1305         0\n",
       "414         1306         1\n",
       "415         1307         0\n",
       "416         1308         0\n",
       "417         1309         0\n",
       "\n",
       "[418 rows x 2 columns]"
      ]
     },
     "execution_count": 33,
     "metadata": {},
     "output_type": "execute_result"
    }
   ],
   "source": [
    "output"
   ]
  },
  {
   "cell_type": "code",
   "execution_count": 34,
   "id": "bb4bb642",
   "metadata": {
    "execution": {
     "iopub.execute_input": "2023-04-22T13:37:00.387318Z",
     "iopub.status.busy": "2023-04-22T13:37:00.386800Z",
     "iopub.status.idle": "2023-04-22T13:37:00.400153Z",
     "shell.execute_reply": "2023-04-22T13:37:00.398820Z"
    },
    "papermill": {
     "duration": 0.032757,
     "end_time": "2023-04-22T13:37:00.402601",
     "exception": false,
     "start_time": "2023-04-22T13:37:00.369844",
     "status": "completed"
    },
    "tags": []
   },
   "outputs": [
    {
     "name": "stdout",
     "output_type": "stream",
     "text": [
      "Your submission was successfully saved!\n"
     ]
    }
   ],
   "source": [
    "output.to_csv('submission.csv', index=False)\n",
    "print(\"Your submission was successfully saved!\")"
   ]
  },
  {
   "cell_type": "code",
   "execution_count": null,
   "id": "90bcbcd3",
   "metadata": {
    "papermill": {
     "duration": 0.021707,
     "end_time": "2023-04-22T13:37:00.444014",
     "exception": false,
     "start_time": "2023-04-22T13:37:00.422307",
     "status": "completed"
    },
    "tags": []
   },
   "outputs": [],
   "source": []
  }
 ],
 "metadata": {
  "kernelspec": {
   "display_name": "Python 3",
   "language": "python",
   "name": "python3"
  },
  "language_info": {
   "codemirror_mode": {
    "name": "ipython",
    "version": 3
   },
   "file_extension": ".py",
   "mimetype": "text/x-python",
   "name": "python",
   "nbconvert_exporter": "python",
   "pygments_lexer": "ipython3",
   "version": "3.7.12"
  },
  "papermill": {
   "default_parameters": {},
   "duration": 46.076088,
   "end_time": "2023-04-22T13:37:01.289717",
   "environment_variables": {},
   "exception": null,
   "input_path": "__notebook__.ipynb",
   "output_path": "__notebook__.ipynb",
   "parameters": {},
   "start_time": "2023-04-22T13:36:15.213629",
   "version": "2.4.0"
  }
 },
 "nbformat": 4,
 "nbformat_minor": 5
}
