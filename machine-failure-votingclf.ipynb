{
 "cells": [
  {
   "cell_type": "markdown",
   "id": "250b789d",
   "metadata": {
    "_cell_guid": "b1076dfc-b9ad-4769-8c92-a6c4dae69d19",
    "_uuid": "8f2839f25d086af736a60e9eeb907d3b93b6e0e5",
    "execution": {
     "iopub.execute_input": "2023-06-29T07:09:29.176632Z",
     "iopub.status.busy": "2023-06-29T07:09:29.176288Z",
     "iopub.status.idle": "2023-06-29T07:09:29.209202Z",
     "shell.execute_reply": "2023-06-29T07:09:29.208282Z",
     "shell.execute_reply.started": "2023-06-29T07:09:29.176597Z"
    },
    "papermill": {
     "duration": 0.015979,
     "end_time": "2023-06-29T10:36:58.244140",
     "exception": false,
     "start_time": "2023-06-29T10:36:58.228161",
     "status": "completed"
    },
    "tags": []
   },
   "source": [
    "## Import datasets, libraries and basic EDA"
   ]
  },
  {
   "cell_type": "code",
   "execution_count": 1,
   "id": "1faa5f5b",
   "metadata": {
    "execution": {
     "iopub.execute_input": "2023-06-29T10:36:58.274977Z",
     "iopub.status.busy": "2023-06-29T10:36:58.274543Z",
     "iopub.status.idle": "2023-06-29T10:36:58.295858Z",
     "shell.execute_reply": "2023-06-29T10:36:58.294502Z"
    },
    "papermill": {
     "duration": 0.03915,
     "end_time": "2023-06-29T10:36:58.297929",
     "exception": false,
     "start_time": "2023-06-29T10:36:58.258779",
     "status": "completed"
    },
    "tags": []
   },
   "outputs": [
    {
     "name": "stdout",
     "output_type": "stream",
     "text": [
      "/kaggle/input/playground-series-s3e17/sample_submission.csv\n",
      "/kaggle/input/playground-series-s3e17/train.csv\n",
      "/kaggle/input/playground-series-s3e17/test.csv\n"
     ]
    }
   ],
   "source": [
    "import os\n",
    "for dirname, _, filenames in os.walk('/kaggle/input'):\n",
    "    for filename in filenames:\n",
    "        print(os.path.join(dirname, filename))"
   ]
  },
  {
   "cell_type": "code",
   "execution_count": 2,
   "id": "e339754c",
   "metadata": {
    "execution": {
     "iopub.execute_input": "2023-06-29T10:36:58.329205Z",
     "iopub.status.busy": "2023-06-29T10:36:58.327789Z",
     "iopub.status.idle": "2023-06-29T10:36:59.430992Z",
     "shell.execute_reply": "2023-06-29T10:36:59.429998Z"
    },
    "papermill": {
     "duration": 1.121501,
     "end_time": "2023-06-29T10:36:59.433787",
     "exception": false,
     "start_time": "2023-06-29T10:36:58.312286",
     "status": "completed"
    },
    "tags": []
   },
   "outputs": [],
   "source": [
    "import numpy as np\n",
    "import pandas as pd\n",
    "import matplotlib.pyplot as plt\n",
    "import seaborn as sns\n",
    "import missingno as msno\n",
    "import warnings\n",
    "warnings.filterwarnings('ignore')"
   ]
  },
  {
   "cell_type": "code",
   "execution_count": 3,
   "id": "10cedea6",
   "metadata": {
    "execution": {
     "iopub.execute_input": "2023-06-29T10:36:59.464594Z",
     "iopub.status.busy": "2023-06-29T10:36:59.464278Z",
     "iopub.status.idle": "2023-06-29T10:36:59.742025Z",
     "shell.execute_reply": "2023-06-29T10:36:59.740347Z"
    },
    "papermill": {
     "duration": 0.298655,
     "end_time": "2023-06-29T10:36:59.747273",
     "exception": false,
     "start_time": "2023-06-29T10:36:59.448618",
     "status": "completed"
    },
    "tags": []
   },
   "outputs": [
    {
     "data": {
      "text/html": [
       "<div>\n",
       "<style scoped>\n",
       "    .dataframe tbody tr th:only-of-type {\n",
       "        vertical-align: middle;\n",
       "    }\n",
       "\n",
       "    .dataframe tbody tr th {\n",
       "        vertical-align: top;\n",
       "    }\n",
       "\n",
       "    .dataframe thead th {\n",
       "        text-align: right;\n",
       "    }\n",
       "</style>\n",
       "<table border=\"1\" class=\"dataframe\">\n",
       "  <thead>\n",
       "    <tr style=\"text-align: right;\">\n",
       "      <th></th>\n",
       "      <th>id</th>\n",
       "      <th>Product ID</th>\n",
       "      <th>Type</th>\n",
       "      <th>Air temperature [K]</th>\n",
       "      <th>Process temperature [K]</th>\n",
       "      <th>Rotational speed [rpm]</th>\n",
       "      <th>Torque [Nm]</th>\n",
       "      <th>Tool wear [min]</th>\n",
       "      <th>Machine failure</th>\n",
       "      <th>TWF</th>\n",
       "      <th>HDF</th>\n",
       "      <th>PWF</th>\n",
       "      <th>OSF</th>\n",
       "      <th>RNF</th>\n",
       "    </tr>\n",
       "  </thead>\n",
       "  <tbody>\n",
       "    <tr>\n",
       "      <th>0</th>\n",
       "      <td>0</td>\n",
       "      <td>L50096</td>\n",
       "      <td>L</td>\n",
       "      <td>300.6</td>\n",
       "      <td>309.6</td>\n",
       "      <td>1596</td>\n",
       "      <td>36.1</td>\n",
       "      <td>140</td>\n",
       "      <td>0</td>\n",
       "      <td>0</td>\n",
       "      <td>0</td>\n",
       "      <td>0</td>\n",
       "      <td>0</td>\n",
       "      <td>0</td>\n",
       "    </tr>\n",
       "    <tr>\n",
       "      <th>1</th>\n",
       "      <td>1</td>\n",
       "      <td>M20343</td>\n",
       "      <td>M</td>\n",
       "      <td>302.6</td>\n",
       "      <td>312.1</td>\n",
       "      <td>1759</td>\n",
       "      <td>29.1</td>\n",
       "      <td>200</td>\n",
       "      <td>0</td>\n",
       "      <td>0</td>\n",
       "      <td>0</td>\n",
       "      <td>0</td>\n",
       "      <td>0</td>\n",
       "      <td>0</td>\n",
       "    </tr>\n",
       "    <tr>\n",
       "      <th>2</th>\n",
       "      <td>2</td>\n",
       "      <td>L49454</td>\n",
       "      <td>L</td>\n",
       "      <td>299.3</td>\n",
       "      <td>308.5</td>\n",
       "      <td>1805</td>\n",
       "      <td>26.5</td>\n",
       "      <td>25</td>\n",
       "      <td>0</td>\n",
       "      <td>0</td>\n",
       "      <td>0</td>\n",
       "      <td>0</td>\n",
       "      <td>0</td>\n",
       "      <td>0</td>\n",
       "    </tr>\n",
       "    <tr>\n",
       "      <th>3</th>\n",
       "      <td>3</td>\n",
       "      <td>L53355</td>\n",
       "      <td>L</td>\n",
       "      <td>301.0</td>\n",
       "      <td>310.9</td>\n",
       "      <td>1524</td>\n",
       "      <td>44.3</td>\n",
       "      <td>197</td>\n",
       "      <td>0</td>\n",
       "      <td>0</td>\n",
       "      <td>0</td>\n",
       "      <td>0</td>\n",
       "      <td>0</td>\n",
       "      <td>0</td>\n",
       "    </tr>\n",
       "    <tr>\n",
       "      <th>4</th>\n",
       "      <td>4</td>\n",
       "      <td>M24050</td>\n",
       "      <td>M</td>\n",
       "      <td>298.0</td>\n",
       "      <td>309.0</td>\n",
       "      <td>1641</td>\n",
       "      <td>35.4</td>\n",
       "      <td>34</td>\n",
       "      <td>0</td>\n",
       "      <td>0</td>\n",
       "      <td>0</td>\n",
       "      <td>0</td>\n",
       "      <td>0</td>\n",
       "      <td>0</td>\n",
       "    </tr>\n",
       "  </tbody>\n",
       "</table>\n",
       "</div>"
      ],
      "text/plain": [
       "   id Product ID Type  Air temperature [K]  Process temperature [K]  \\\n",
       "0   0     L50096    L                300.6                    309.6   \n",
       "1   1     M20343    M                302.6                    312.1   \n",
       "2   2     L49454    L                299.3                    308.5   \n",
       "3   3     L53355    L                301.0                    310.9   \n",
       "4   4     M24050    M                298.0                    309.0   \n",
       "\n",
       "   Rotational speed [rpm]  Torque [Nm]  Tool wear [min]  Machine failure  TWF  \\\n",
       "0                    1596         36.1              140                0    0   \n",
       "1                    1759         29.1              200                0    0   \n",
       "2                    1805         26.5               25                0    0   \n",
       "3                    1524         44.3              197                0    0   \n",
       "4                    1641         35.4               34                0    0   \n",
       "\n",
       "   HDF  PWF  OSF  RNF  \n",
       "0    0    0    0    0  \n",
       "1    0    0    0    0  \n",
       "2    0    0    0    0  \n",
       "3    0    0    0    0  \n",
       "4    0    0    0    0  "
      ]
     },
     "execution_count": 3,
     "metadata": {},
     "output_type": "execute_result"
    }
   ],
   "source": [
    "train_data = pd.read_csv('/kaggle/input/playground-series-s3e17/train.csv')\n",
    "train_data.head()"
   ]
  },
  {
   "cell_type": "code",
   "execution_count": 4,
   "id": "8e441892",
   "metadata": {
    "execution": {
     "iopub.execute_input": "2023-06-29T10:36:59.780840Z",
     "iopub.status.busy": "2023-06-29T10:36:59.779988Z",
     "iopub.status.idle": "2023-06-29T10:36:59.959789Z",
     "shell.execute_reply": "2023-06-29T10:36:59.958816Z"
    },
    "papermill": {
     "duration": 0.19798,
     "end_time": "2023-06-29T10:36:59.962018",
     "exception": false,
     "start_time": "2023-06-29T10:36:59.764038",
     "status": "completed"
    },
    "tags": []
   },
   "outputs": [
    {
     "data": {
      "text/html": [
       "<div>\n",
       "<style scoped>\n",
       "    .dataframe tbody tr th:only-of-type {\n",
       "        vertical-align: middle;\n",
       "    }\n",
       "\n",
       "    .dataframe tbody tr th {\n",
       "        vertical-align: top;\n",
       "    }\n",
       "\n",
       "    .dataframe thead th {\n",
       "        text-align: right;\n",
       "    }\n",
       "</style>\n",
       "<table border=\"1\" class=\"dataframe\">\n",
       "  <thead>\n",
       "    <tr style=\"text-align: right;\">\n",
       "      <th></th>\n",
       "      <th>id</th>\n",
       "      <th>Product ID</th>\n",
       "      <th>Type</th>\n",
       "      <th>Air temperature [K]</th>\n",
       "      <th>Process temperature [K]</th>\n",
       "      <th>Rotational speed [rpm]</th>\n",
       "      <th>Torque [Nm]</th>\n",
       "      <th>Tool wear [min]</th>\n",
       "      <th>TWF</th>\n",
       "      <th>HDF</th>\n",
       "      <th>PWF</th>\n",
       "      <th>OSF</th>\n",
       "      <th>RNF</th>\n",
       "    </tr>\n",
       "  </thead>\n",
       "  <tbody>\n",
       "    <tr>\n",
       "      <th>0</th>\n",
       "      <td>136429</td>\n",
       "      <td>L50896</td>\n",
       "      <td>L</td>\n",
       "      <td>302.3</td>\n",
       "      <td>311.5</td>\n",
       "      <td>1499</td>\n",
       "      <td>38.0</td>\n",
       "      <td>60</td>\n",
       "      <td>0</td>\n",
       "      <td>0</td>\n",
       "      <td>0</td>\n",
       "      <td>0</td>\n",
       "      <td>0</td>\n",
       "    </tr>\n",
       "    <tr>\n",
       "      <th>1</th>\n",
       "      <td>136430</td>\n",
       "      <td>L53866</td>\n",
       "      <td>L</td>\n",
       "      <td>301.7</td>\n",
       "      <td>311.0</td>\n",
       "      <td>1713</td>\n",
       "      <td>28.8</td>\n",
       "      <td>17</td>\n",
       "      <td>0</td>\n",
       "      <td>0</td>\n",
       "      <td>0</td>\n",
       "      <td>0</td>\n",
       "      <td>0</td>\n",
       "    </tr>\n",
       "    <tr>\n",
       "      <th>2</th>\n",
       "      <td>136431</td>\n",
       "      <td>L50498</td>\n",
       "      <td>L</td>\n",
       "      <td>301.3</td>\n",
       "      <td>310.4</td>\n",
       "      <td>1525</td>\n",
       "      <td>37.7</td>\n",
       "      <td>96</td>\n",
       "      <td>0</td>\n",
       "      <td>0</td>\n",
       "      <td>0</td>\n",
       "      <td>0</td>\n",
       "      <td>0</td>\n",
       "    </tr>\n",
       "    <tr>\n",
       "      <th>3</th>\n",
       "      <td>136432</td>\n",
       "      <td>M21232</td>\n",
       "      <td>M</td>\n",
       "      <td>300.1</td>\n",
       "      <td>309.6</td>\n",
       "      <td>1479</td>\n",
       "      <td>47.6</td>\n",
       "      <td>5</td>\n",
       "      <td>0</td>\n",
       "      <td>0</td>\n",
       "      <td>0</td>\n",
       "      <td>0</td>\n",
       "      <td>0</td>\n",
       "    </tr>\n",
       "    <tr>\n",
       "      <th>4</th>\n",
       "      <td>136433</td>\n",
       "      <td>M19751</td>\n",
       "      <td>M</td>\n",
       "      <td>303.4</td>\n",
       "      <td>312.3</td>\n",
       "      <td>1515</td>\n",
       "      <td>41.3</td>\n",
       "      <td>114</td>\n",
       "      <td>0</td>\n",
       "      <td>0</td>\n",
       "      <td>0</td>\n",
       "      <td>0</td>\n",
       "      <td>0</td>\n",
       "    </tr>\n",
       "  </tbody>\n",
       "</table>\n",
       "</div>"
      ],
      "text/plain": [
       "       id Product ID Type  Air temperature [K]  Process temperature [K]  \\\n",
       "0  136429     L50896    L                302.3                    311.5   \n",
       "1  136430     L53866    L                301.7                    311.0   \n",
       "2  136431     L50498    L                301.3                    310.4   \n",
       "3  136432     M21232    M                300.1                    309.6   \n",
       "4  136433     M19751    M                303.4                    312.3   \n",
       "\n",
       "   Rotational speed [rpm]  Torque [Nm]  Tool wear [min]  TWF  HDF  PWF  OSF  \\\n",
       "0                    1499         38.0               60    0    0    0    0   \n",
       "1                    1713         28.8               17    0    0    0    0   \n",
       "2                    1525         37.7               96    0    0    0    0   \n",
       "3                    1479         47.6                5    0    0    0    0   \n",
       "4                    1515         41.3              114    0    0    0    0   \n",
       "\n",
       "   RNF  \n",
       "0    0  \n",
       "1    0  \n",
       "2    0  \n",
       "3    0  \n",
       "4    0  "
      ]
     },
     "execution_count": 4,
     "metadata": {},
     "output_type": "execute_result"
    }
   ],
   "source": [
    "test_data = pd.read_csv('/kaggle/input/playground-series-s3e17/test.csv')\n",
    "test_data.head()"
   ]
  },
  {
   "cell_type": "code",
   "execution_count": 5,
   "id": "cbb90b0b",
   "metadata": {
    "execution": {
     "iopub.execute_input": "2023-06-29T10:36:59.995166Z",
     "iopub.status.busy": "2023-06-29T10:36:59.994272Z",
     "iopub.status.idle": "2023-06-29T10:37:00.054870Z",
     "shell.execute_reply": "2023-06-29T10:37:00.053844Z"
    },
    "papermill": {
     "duration": 0.079952,
     "end_time": "2023-06-29T10:37:00.057834",
     "exception": false,
     "start_time": "2023-06-29T10:36:59.977882",
     "status": "completed"
    },
    "tags": []
   },
   "outputs": [],
   "source": [
    "df = train_data.drop(['Machine failure'], axis=1) \n",
    "df = pd.concat([df, test_data], axis=0).reset_index(drop=True)"
   ]
  },
  {
   "cell_type": "code",
   "execution_count": 6,
   "id": "d9398722",
   "metadata": {
    "execution": {
     "iopub.execute_input": "2023-06-29T10:37:00.090912Z",
     "iopub.status.busy": "2023-06-29T10:37:00.090057Z",
     "iopub.status.idle": "2023-06-29T10:37:00.106281Z",
     "shell.execute_reply": "2023-06-29T10:37:00.105176Z"
    },
    "papermill": {
     "duration": 0.034962,
     "end_time": "2023-06-29T10:37:00.108500",
     "exception": false,
     "start_time": "2023-06-29T10:37:00.073538",
     "status": "completed"
    },
    "tags": []
   },
   "outputs": [
    {
     "data": {
      "text/html": [
       "<div>\n",
       "<style scoped>\n",
       "    .dataframe tbody tr th:only-of-type {\n",
       "        vertical-align: middle;\n",
       "    }\n",
       "\n",
       "    .dataframe tbody tr th {\n",
       "        vertical-align: top;\n",
       "    }\n",
       "\n",
       "    .dataframe thead th {\n",
       "        text-align: right;\n",
       "    }\n",
       "</style>\n",
       "<table border=\"1\" class=\"dataframe\">\n",
       "  <thead>\n",
       "    <tr style=\"text-align: right;\">\n",
       "      <th></th>\n",
       "      <th>id</th>\n",
       "      <th>Product ID</th>\n",
       "      <th>Type</th>\n",
       "      <th>Air temperature [K]</th>\n",
       "      <th>Process temperature [K]</th>\n",
       "      <th>Rotational speed [rpm]</th>\n",
       "      <th>Torque [Nm]</th>\n",
       "      <th>Tool wear [min]</th>\n",
       "      <th>TWF</th>\n",
       "      <th>HDF</th>\n",
       "      <th>PWF</th>\n",
       "      <th>OSF</th>\n",
       "      <th>RNF</th>\n",
       "    </tr>\n",
       "  </thead>\n",
       "  <tbody>\n",
       "    <tr>\n",
       "      <th>0</th>\n",
       "      <td>0</td>\n",
       "      <td>L50096</td>\n",
       "      <td>L</td>\n",
       "      <td>300.6</td>\n",
       "      <td>309.6</td>\n",
       "      <td>1596</td>\n",
       "      <td>36.1</td>\n",
       "      <td>140</td>\n",
       "      <td>0</td>\n",
       "      <td>0</td>\n",
       "      <td>0</td>\n",
       "      <td>0</td>\n",
       "      <td>0</td>\n",
       "    </tr>\n",
       "    <tr>\n",
       "      <th>1</th>\n",
       "      <td>1</td>\n",
       "      <td>M20343</td>\n",
       "      <td>M</td>\n",
       "      <td>302.6</td>\n",
       "      <td>312.1</td>\n",
       "      <td>1759</td>\n",
       "      <td>29.1</td>\n",
       "      <td>200</td>\n",
       "      <td>0</td>\n",
       "      <td>0</td>\n",
       "      <td>0</td>\n",
       "      <td>0</td>\n",
       "      <td>0</td>\n",
       "    </tr>\n",
       "    <tr>\n",
       "      <th>2</th>\n",
       "      <td>2</td>\n",
       "      <td>L49454</td>\n",
       "      <td>L</td>\n",
       "      <td>299.3</td>\n",
       "      <td>308.5</td>\n",
       "      <td>1805</td>\n",
       "      <td>26.5</td>\n",
       "      <td>25</td>\n",
       "      <td>0</td>\n",
       "      <td>0</td>\n",
       "      <td>0</td>\n",
       "      <td>0</td>\n",
       "      <td>0</td>\n",
       "    </tr>\n",
       "    <tr>\n",
       "      <th>3</th>\n",
       "      <td>3</td>\n",
       "      <td>L53355</td>\n",
       "      <td>L</td>\n",
       "      <td>301.0</td>\n",
       "      <td>310.9</td>\n",
       "      <td>1524</td>\n",
       "      <td>44.3</td>\n",
       "      <td>197</td>\n",
       "      <td>0</td>\n",
       "      <td>0</td>\n",
       "      <td>0</td>\n",
       "      <td>0</td>\n",
       "      <td>0</td>\n",
       "    </tr>\n",
       "    <tr>\n",
       "      <th>4</th>\n",
       "      <td>4</td>\n",
       "      <td>M24050</td>\n",
       "      <td>M</td>\n",
       "      <td>298.0</td>\n",
       "      <td>309.0</td>\n",
       "      <td>1641</td>\n",
       "      <td>35.4</td>\n",
       "      <td>34</td>\n",
       "      <td>0</td>\n",
       "      <td>0</td>\n",
       "      <td>0</td>\n",
       "      <td>0</td>\n",
       "      <td>0</td>\n",
       "    </tr>\n",
       "  </tbody>\n",
       "</table>\n",
       "</div>"
      ],
      "text/plain": [
       "   id Product ID Type  Air temperature [K]  Process temperature [K]  \\\n",
       "0   0     L50096    L                300.6                    309.6   \n",
       "1   1     M20343    M                302.6                    312.1   \n",
       "2   2     L49454    L                299.3                    308.5   \n",
       "3   3     L53355    L                301.0                    310.9   \n",
       "4   4     M24050    M                298.0                    309.0   \n",
       "\n",
       "   Rotational speed [rpm]  Torque [Nm]  Tool wear [min]  TWF  HDF  PWF  OSF  \\\n",
       "0                    1596         36.1              140    0    0    0    0   \n",
       "1                    1759         29.1              200    0    0    0    0   \n",
       "2                    1805         26.5               25    0    0    0    0   \n",
       "3                    1524         44.3              197    0    0    0    0   \n",
       "4                    1641         35.4               34    0    0    0    0   \n",
       "\n",
       "   RNF  \n",
       "0    0  \n",
       "1    0  \n",
       "2    0  \n",
       "3    0  \n",
       "4    0  "
      ]
     },
     "execution_count": 6,
     "metadata": {},
     "output_type": "execute_result"
    }
   ],
   "source": [
    "df.head()"
   ]
  },
  {
   "cell_type": "code",
   "execution_count": 7,
   "id": "33b02e44",
   "metadata": {
    "execution": {
     "iopub.execute_input": "2023-06-29T10:37:00.142611Z",
     "iopub.status.busy": "2023-06-29T10:37:00.141788Z",
     "iopub.status.idle": "2023-06-29T10:37:00.148212Z",
     "shell.execute_reply": "2023-06-29T10:37:00.147258Z"
    },
    "papermill": {
     "duration": 0.024739,
     "end_time": "2023-06-29T10:37:00.150156",
     "exception": false,
     "start_time": "2023-06-29T10:37:00.125417",
     "status": "completed"
    },
    "tags": []
   },
   "outputs": [
    {
     "data": {
      "text/plain": [
       "136429"
      ]
     },
     "execution_count": 7,
     "metadata": {},
     "output_type": "execute_result"
    }
   ],
   "source": [
    "train_max = train_data.shape[0] #This will help us divide the dataframe back into training and testing sets later.\n",
    "train_max"
   ]
  },
  {
   "cell_type": "code",
   "execution_count": 8,
   "id": "5c54a95e",
   "metadata": {
    "execution": {
     "iopub.execute_input": "2023-06-29T10:37:00.183300Z",
     "iopub.status.busy": "2023-06-29T10:37:00.182486Z",
     "iopub.status.idle": "2023-06-29T10:37:00.321084Z",
     "shell.execute_reply": "2023-06-29T10:37:00.318778Z"
    },
    "papermill": {
     "duration": 0.157388,
     "end_time": "2023-06-29T10:37:00.323269",
     "exception": false,
     "start_time": "2023-06-29T10:37:00.165881",
     "status": "completed"
    },
    "tags": []
   },
   "outputs": [
    {
     "name": "stdout",
     "output_type": "stream",
     "text": [
      "<class 'pandas.core.frame.DataFrame'>\n",
      "RangeIndex: 227383 entries, 0 to 227382\n",
      "Data columns (total 13 columns):\n",
      " #   Column                   Non-Null Count   Dtype  \n",
      "---  ------                   --------------   -----  \n",
      " 0   id                       227383 non-null  int64  \n",
      " 1   Product ID               227383 non-null  object \n",
      " 2   Type                     227383 non-null  object \n",
      " 3   Air temperature [K]      227383 non-null  float64\n",
      " 4   Process temperature [K]  227383 non-null  float64\n",
      " 5   Rotational speed [rpm]   227383 non-null  int64  \n",
      " 6   Torque [Nm]              227383 non-null  float64\n",
      " 7   Tool wear [min]          227383 non-null  int64  \n",
      " 8   TWF                      227383 non-null  int64  \n",
      " 9   HDF                      227383 non-null  int64  \n",
      " 10  PWF                      227383 non-null  int64  \n",
      " 11  OSF                      227383 non-null  int64  \n",
      " 12  RNF                      227383 non-null  int64  \n",
      "dtypes: float64(3), int64(8), object(2)\n",
      "memory usage: 22.6+ MB\n"
     ]
    }
   ],
   "source": [
    "df.info()"
   ]
  },
  {
   "cell_type": "code",
   "execution_count": 9,
   "id": "acb53bd6",
   "metadata": {
    "execution": {
     "iopub.execute_input": "2023-06-29T10:37:00.356581Z",
     "iopub.status.busy": "2023-06-29T10:37:00.356183Z",
     "iopub.status.idle": "2023-06-29T10:37:00.440385Z",
     "shell.execute_reply": "2023-06-29T10:37:00.439230Z"
    },
    "papermill": {
     "duration": 0.104189,
     "end_time": "2023-06-29T10:37:00.443469",
     "exception": false,
     "start_time": "2023-06-29T10:37:00.339280",
     "status": "completed"
    },
    "tags": []
   },
   "outputs": [
    {
     "data": {
      "text/html": [
       "<div>\n",
       "<style scoped>\n",
       "    .dataframe tbody tr th:only-of-type {\n",
       "        vertical-align: middle;\n",
       "    }\n",
       "\n",
       "    .dataframe tbody tr th {\n",
       "        vertical-align: top;\n",
       "    }\n",
       "\n",
       "    .dataframe thead th {\n",
       "        text-align: right;\n",
       "    }\n",
       "</style>\n",
       "<table border=\"1\" class=\"dataframe\">\n",
       "  <thead>\n",
       "    <tr style=\"text-align: right;\">\n",
       "      <th></th>\n",
       "      <th>id</th>\n",
       "      <th>Air temperature [K]</th>\n",
       "      <th>Process temperature [K]</th>\n",
       "      <th>Rotational speed [rpm]</th>\n",
       "      <th>Torque [Nm]</th>\n",
       "      <th>Tool wear [min]</th>\n",
       "      <th>Machine failure</th>\n",
       "      <th>TWF</th>\n",
       "      <th>HDF</th>\n",
       "      <th>PWF</th>\n",
       "      <th>OSF</th>\n",
       "      <th>RNF</th>\n",
       "    </tr>\n",
       "  </thead>\n",
       "  <tbody>\n",
       "    <tr>\n",
       "      <th>count</th>\n",
       "      <td>136429.000000</td>\n",
       "      <td>136429.000000</td>\n",
       "      <td>136429.000000</td>\n",
       "      <td>136429.000000</td>\n",
       "      <td>136429.000000</td>\n",
       "      <td>136429.000000</td>\n",
       "      <td>136429.000000</td>\n",
       "      <td>136429.000000</td>\n",
       "      <td>136429.000000</td>\n",
       "      <td>136429.000000</td>\n",
       "      <td>136429.000000</td>\n",
       "      <td>136429.000000</td>\n",
       "    </tr>\n",
       "    <tr>\n",
       "      <th>mean</th>\n",
       "      <td>68214.000000</td>\n",
       "      <td>299.862776</td>\n",
       "      <td>309.941070</td>\n",
       "      <td>1520.331110</td>\n",
       "      <td>40.348643</td>\n",
       "      <td>104.408901</td>\n",
       "      <td>0.015744</td>\n",
       "      <td>0.001554</td>\n",
       "      <td>0.005160</td>\n",
       "      <td>0.002397</td>\n",
       "      <td>0.003958</td>\n",
       "      <td>0.002258</td>\n",
       "    </tr>\n",
       "    <tr>\n",
       "      <th>std</th>\n",
       "      <td>39383.804275</td>\n",
       "      <td>1.862247</td>\n",
       "      <td>1.385173</td>\n",
       "      <td>138.736632</td>\n",
       "      <td>8.502229</td>\n",
       "      <td>63.965040</td>\n",
       "      <td>0.124486</td>\n",
       "      <td>0.039389</td>\n",
       "      <td>0.071649</td>\n",
       "      <td>0.048899</td>\n",
       "      <td>0.062789</td>\n",
       "      <td>0.047461</td>\n",
       "    </tr>\n",
       "    <tr>\n",
       "      <th>min</th>\n",
       "      <td>0.000000</td>\n",
       "      <td>295.300000</td>\n",
       "      <td>305.800000</td>\n",
       "      <td>1181.000000</td>\n",
       "      <td>3.800000</td>\n",
       "      <td>0.000000</td>\n",
       "      <td>0.000000</td>\n",
       "      <td>0.000000</td>\n",
       "      <td>0.000000</td>\n",
       "      <td>0.000000</td>\n",
       "      <td>0.000000</td>\n",
       "      <td>0.000000</td>\n",
       "    </tr>\n",
       "    <tr>\n",
       "      <th>25%</th>\n",
       "      <td>34107.000000</td>\n",
       "      <td>298.300000</td>\n",
       "      <td>308.700000</td>\n",
       "      <td>1432.000000</td>\n",
       "      <td>34.600000</td>\n",
       "      <td>48.000000</td>\n",
       "      <td>0.000000</td>\n",
       "      <td>0.000000</td>\n",
       "      <td>0.000000</td>\n",
       "      <td>0.000000</td>\n",
       "      <td>0.000000</td>\n",
       "      <td>0.000000</td>\n",
       "    </tr>\n",
       "    <tr>\n",
       "      <th>50%</th>\n",
       "      <td>68214.000000</td>\n",
       "      <td>300.000000</td>\n",
       "      <td>310.000000</td>\n",
       "      <td>1493.000000</td>\n",
       "      <td>40.400000</td>\n",
       "      <td>106.000000</td>\n",
       "      <td>0.000000</td>\n",
       "      <td>0.000000</td>\n",
       "      <td>0.000000</td>\n",
       "      <td>0.000000</td>\n",
       "      <td>0.000000</td>\n",
       "      <td>0.000000</td>\n",
       "    </tr>\n",
       "    <tr>\n",
       "      <th>75%</th>\n",
       "      <td>102321.000000</td>\n",
       "      <td>301.200000</td>\n",
       "      <td>310.900000</td>\n",
       "      <td>1580.000000</td>\n",
       "      <td>46.100000</td>\n",
       "      <td>159.000000</td>\n",
       "      <td>0.000000</td>\n",
       "      <td>0.000000</td>\n",
       "      <td>0.000000</td>\n",
       "      <td>0.000000</td>\n",
       "      <td>0.000000</td>\n",
       "      <td>0.000000</td>\n",
       "    </tr>\n",
       "    <tr>\n",
       "      <th>max</th>\n",
       "      <td>136428.000000</td>\n",
       "      <td>304.400000</td>\n",
       "      <td>313.800000</td>\n",
       "      <td>2886.000000</td>\n",
       "      <td>76.600000</td>\n",
       "      <td>253.000000</td>\n",
       "      <td>1.000000</td>\n",
       "      <td>1.000000</td>\n",
       "      <td>1.000000</td>\n",
       "      <td>1.000000</td>\n",
       "      <td>1.000000</td>\n",
       "      <td>1.000000</td>\n",
       "    </tr>\n",
       "  </tbody>\n",
       "</table>\n",
       "</div>"
      ],
      "text/plain": [
       "                  id  Air temperature [K]  Process temperature [K]  \\\n",
       "count  136429.000000        136429.000000            136429.000000   \n",
       "mean    68214.000000           299.862776               309.941070   \n",
       "std     39383.804275             1.862247                 1.385173   \n",
       "min         0.000000           295.300000               305.800000   \n",
       "25%     34107.000000           298.300000               308.700000   \n",
       "50%     68214.000000           300.000000               310.000000   \n",
       "75%    102321.000000           301.200000               310.900000   \n",
       "max    136428.000000           304.400000               313.800000   \n",
       "\n",
       "       Rotational speed [rpm]    Torque [Nm]  Tool wear [min]  \\\n",
       "count           136429.000000  136429.000000    136429.000000   \n",
       "mean              1520.331110      40.348643       104.408901   \n",
       "std                138.736632       8.502229        63.965040   \n",
       "min               1181.000000       3.800000         0.000000   \n",
       "25%               1432.000000      34.600000        48.000000   \n",
       "50%               1493.000000      40.400000       106.000000   \n",
       "75%               1580.000000      46.100000       159.000000   \n",
       "max               2886.000000      76.600000       253.000000   \n",
       "\n",
       "       Machine failure            TWF            HDF            PWF  \\\n",
       "count    136429.000000  136429.000000  136429.000000  136429.000000   \n",
       "mean          0.015744       0.001554       0.005160       0.002397   \n",
       "std           0.124486       0.039389       0.071649       0.048899   \n",
       "min           0.000000       0.000000       0.000000       0.000000   \n",
       "25%           0.000000       0.000000       0.000000       0.000000   \n",
       "50%           0.000000       0.000000       0.000000       0.000000   \n",
       "75%           0.000000       0.000000       0.000000       0.000000   \n",
       "max           1.000000       1.000000       1.000000       1.000000   \n",
       "\n",
       "                 OSF            RNF  \n",
       "count  136429.000000  136429.000000  \n",
       "mean        0.003958       0.002258  \n",
       "std         0.062789       0.047461  \n",
       "min         0.000000       0.000000  \n",
       "25%         0.000000       0.000000  \n",
       "50%         0.000000       0.000000  \n",
       "75%         0.000000       0.000000  \n",
       "max         1.000000       1.000000  "
      ]
     },
     "execution_count": 9,
     "metadata": {},
     "output_type": "execute_result"
    }
   ],
   "source": [
    "train_data.describe()"
   ]
  },
  {
   "cell_type": "code",
   "execution_count": 10,
   "id": "90a483e2",
   "metadata": {
    "execution": {
     "iopub.execute_input": "2023-06-29T10:37:00.477918Z",
     "iopub.status.busy": "2023-06-29T10:37:00.477588Z",
     "iopub.status.idle": "2023-06-29T10:37:00.543889Z",
     "shell.execute_reply": "2023-06-29T10:37:00.542733Z"
    },
    "papermill": {
     "duration": 0.086832,
     "end_time": "2023-06-29T10:37:00.546820",
     "exception": false,
     "start_time": "2023-06-29T10:37:00.459988",
     "status": "completed"
    },
    "tags": []
   },
   "outputs": [
    {
     "data": {
      "text/plain": [
       "Machine failure            1.000000\n",
       "HDF                        0.564507\n",
       "OSF                        0.494668\n",
       "PWF                        0.383941\n",
       "TWF                        0.311919\n",
       "Torque [Nm]                0.145793\n",
       "Air temperature [K]        0.067744\n",
       "Tool wear [min]            0.056448\n",
       "Process temperature [K]    0.030966\n",
       "id                         0.001500\n",
       "RNF                        0.001428\n",
       "Rotational speed [rpm]    -0.060868\n",
       "Name: Machine failure, dtype: float64"
      ]
     },
     "execution_count": 10,
     "metadata": {},
     "output_type": "execute_result"
    }
   ],
   "source": [
    "train_data.corr()['Machine failure'].sort_values(ascending=False)"
   ]
  },
  {
   "cell_type": "code",
   "execution_count": 11,
   "id": "f325244b",
   "metadata": {
    "execution": {
     "iopub.execute_input": "2023-06-29T10:37:00.581971Z",
     "iopub.status.busy": "2023-06-29T10:37:00.581618Z",
     "iopub.status.idle": "2023-06-29T10:37:00.711060Z",
     "shell.execute_reply": "2023-06-29T10:37:00.709994Z"
    },
    "papermill": {
     "duration": 0.149249,
     "end_time": "2023-06-29T10:37:00.713679",
     "exception": false,
     "start_time": "2023-06-29T10:37:00.564430",
     "status": "completed"
    },
    "tags": []
   },
   "outputs": [
    {
     "data": {
      "text/plain": [
       "False"
      ]
     },
     "execution_count": 11,
     "metadata": {},
     "output_type": "execute_result"
    }
   ],
   "source": [
    "df.isna().sum().any()"
   ]
  },
  {
   "cell_type": "code",
   "execution_count": 12,
   "id": "86e8ea99",
   "metadata": {
    "execution": {
     "iopub.execute_input": "2023-06-29T10:37:00.751913Z",
     "iopub.status.busy": "2023-06-29T10:37:00.751159Z",
     "iopub.status.idle": "2023-06-29T10:37:00.799556Z",
     "shell.execute_reply": "2023-06-29T10:37:00.798689Z"
    },
    "papermill": {
     "duration": 0.070992,
     "end_time": "2023-06-29T10:37:00.801541",
     "exception": false,
     "start_time": "2023-06-29T10:37:00.730549",
     "status": "completed"
    },
    "tags": []
   },
   "outputs": [
    {
     "data": {
      "text/plain": [
       "L53257    224\n",
       "L53271    214\n",
       "L48892    211\n",
       "L49056    204\n",
       "L56257    203\n",
       "         ... \n",
       "M18739      1\n",
       "L49045      1\n",
       "L52439      1\n",
       "M23219      1\n",
       "L49780      1\n",
       "Name: Product ID, Length: 9995, dtype: int64"
      ]
     },
     "execution_count": 12,
     "metadata": {},
     "output_type": "execute_result"
    }
   ],
   "source": [
    "df['Product ID'].value_counts()"
   ]
  },
  {
   "cell_type": "code",
   "execution_count": 13,
   "id": "8b0acbc7",
   "metadata": {
    "execution": {
     "iopub.execute_input": "2023-06-29T10:37:00.837022Z",
     "iopub.status.busy": "2023-06-29T10:37:00.836692Z",
     "iopub.status.idle": "2023-06-29T10:37:01.284361Z",
     "shell.execute_reply": "2023-06-29T10:37:01.283487Z"
    },
    "papermill": {
     "duration": 0.467944,
     "end_time": "2023-06-29T10:37:01.286737",
     "exception": false,
     "start_time": "2023-06-29T10:37:00.818793",
     "status": "completed"
    },
    "tags": []
   },
   "outputs": [
    {
     "data": {
      "text/plain": [
       "<Axes: xlabel='Type', ylabel='count'>"
      ]
     },
     "execution_count": 13,
     "metadata": {},
     "output_type": "execute_result"
    },
    {
     "data": {
      "image/png": "[encoded data removed]",
      "text/plain": [
       "<Figure size 640x480 with 1 Axes>"
      ]
     },
     "metadata": {},
     "output_type": "display_data"
    }
   ],
   "source": [
    "X = df[:train_max].copy()\n",
    "y = train_data['Machine failure']\n",
    "full_df = pd.concat([X, y], axis=1).copy()\n",
    "\n",
    "sns.countplot(x='Type', hue='Machine failure', data=full_df)"
   ]
  },
  {
   "cell_type": "code",
   "execution_count": 14,
   "id": "35d60183",
   "metadata": {
    "execution": {
     "iopub.execute_input": "2023-06-29T10:37:01.321567Z",
     "iopub.status.busy": "2023-06-29T10:37:01.321235Z",
     "iopub.status.idle": "2023-06-29T10:37:03.154189Z",
     "shell.execute_reply": "2023-06-29T10:37:03.153238Z"
    },
    "papermill": {
     "duration": 1.85271,
     "end_time": "2023-06-29T10:37:03.156361",
     "exception": false,
     "start_time": "2023-06-29T10:37:01.303651",
     "status": "completed"
    },
    "tags": []
   },
   "outputs": [
    {
     "data": {
      "text/plain": [
       "<Axes: xlabel='Type', ylabel='Machine failure'>"
      ]
     },
     "execution_count": 14,
     "metadata": {},
     "output_type": "execute_result"
    },
    {
     "data": {
      "image/png": "[encoded data removed]",
      "text/plain": [
       "<Figure size 640x480 with 1 Axes>"
      ]
     },
     "metadata": {},
     "output_type": "display_data"
    }
   ],
   "source": [
    "sns.barplot(x='Type', y='Machine failure', data=full_df)"
   ]
  },
  {
   "cell_type": "code",
   "execution_count": 15,
   "id": "17b64d09",
   "metadata": {
    "execution": {
     "iopub.execute_input": "2023-06-29T10:37:03.193373Z",
     "iopub.status.busy": "2023-06-29T10:37:03.191621Z",
     "iopub.status.idle": "2023-06-29T10:37:03.440301Z",
     "shell.execute_reply": "2023-06-29T10:37:03.439308Z"
    },
    "papermill": {
     "duration": 0.269523,
     "end_time": "2023-06-29T10:37:03.443007",
     "exception": false,
     "start_time": "2023-06-29T10:37:03.173484",
     "status": "completed"
    },
    "tags": []
   },
   "outputs": [],
   "source": [
    "df['Product ID Number'] = df['Product ID'].str.extract('(\\d+)',expand=False)"
   ]
  },
  {
   "cell_type": "code",
   "execution_count": 16,
   "id": "04f6a50b",
   "metadata": {
    "execution": {
     "iopub.execute_input": "2023-06-29T10:37:03.479747Z",
     "iopub.status.busy": "2023-06-29T10:37:03.479398Z",
     "iopub.status.idle": "2023-06-29T10:37:03.499025Z",
     "shell.execute_reply": "2023-06-29T10:37:03.498164Z"
    },
    "papermill": {
     "duration": 0.040715,
     "end_time": "2023-06-29T10:37:03.501012",
     "exception": false,
     "start_time": "2023-06-29T10:37:03.460297",
     "status": "completed"
    },
    "tags": []
   },
   "outputs": [
    {
     "data": {
      "text/html": [
       "<div>\n",
       "<style scoped>\n",
       "    .dataframe tbody tr th:only-of-type {\n",
       "        vertical-align: middle;\n",
       "    }\n",
       "\n",
       "    .dataframe tbody tr th {\n",
       "        vertical-align: top;\n",
       "    }\n",
       "\n",
       "    .dataframe thead th {\n",
       "        text-align: right;\n",
       "    }\n",
       "</style>\n",
       "<table border=\"1\" class=\"dataframe\">\n",
       "  <thead>\n",
       "    <tr style=\"text-align: right;\">\n",
       "      <th></th>\n",
       "      <th>id</th>\n",
       "      <th>Product ID</th>\n",
       "      <th>Type</th>\n",
       "      <th>Air temperature [K]</th>\n",
       "      <th>Process temperature [K]</th>\n",
       "      <th>Rotational speed [rpm]</th>\n",
       "      <th>Torque [Nm]</th>\n",
       "      <th>Tool wear [min]</th>\n",
       "      <th>TWF</th>\n",
       "      <th>HDF</th>\n",
       "      <th>PWF</th>\n",
       "      <th>OSF</th>\n",
       "      <th>RNF</th>\n",
       "      <th>Product ID Number</th>\n",
       "    </tr>\n",
       "  </thead>\n",
       "  <tbody>\n",
       "    <tr>\n",
       "      <th>0</th>\n",
       "      <td>0</td>\n",
       "      <td>L50096</td>\n",
       "      <td>L</td>\n",
       "      <td>300.6</td>\n",
       "      <td>309.6</td>\n",
       "      <td>1596</td>\n",
       "      <td>36.1</td>\n",
       "      <td>140</td>\n",
       "      <td>0</td>\n",
       "      <td>0</td>\n",
       "      <td>0</td>\n",
       "      <td>0</td>\n",
       "      <td>0</td>\n",
       "      <td>50096</td>\n",
       "    </tr>\n",
       "    <tr>\n",
       "      <th>1</th>\n",
       "      <td>1</td>\n",
       "      <td>M20343</td>\n",
       "      <td>M</td>\n",
       "      <td>302.6</td>\n",
       "      <td>312.1</td>\n",
       "      <td>1759</td>\n",
       "      <td>29.1</td>\n",
       "      <td>200</td>\n",
       "      <td>0</td>\n",
       "      <td>0</td>\n",
       "      <td>0</td>\n",
       "      <td>0</td>\n",
       "      <td>0</td>\n",
       "      <td>20343</td>\n",
       "    </tr>\n",
       "    <tr>\n",
       "      <th>2</th>\n",
       "      <td>2</td>\n",
       "      <td>L49454</td>\n",
       "      <td>L</td>\n",
       "      <td>299.3</td>\n",
       "      <td>308.5</td>\n",
       "      <td>1805</td>\n",
       "      <td>26.5</td>\n",
       "      <td>25</td>\n",
       "      <td>0</td>\n",
       "      <td>0</td>\n",
       "      <td>0</td>\n",
       "      <td>0</td>\n",
       "      <td>0</td>\n",
       "      <td>49454</td>\n",
       "    </tr>\n",
       "    <tr>\n",
       "      <th>3</th>\n",
       "      <td>3</td>\n",
       "      <td>L53355</td>\n",
       "      <td>L</td>\n",
       "      <td>301.0</td>\n",
       "      <td>310.9</td>\n",
       "      <td>1524</td>\n",
       "      <td>44.3</td>\n",
       "      <td>197</td>\n",
       "      <td>0</td>\n",
       "      <td>0</td>\n",
       "      <td>0</td>\n",
       "      <td>0</td>\n",
       "      <td>0</td>\n",
       "      <td>53355</td>\n",
       "    </tr>\n",
       "    <tr>\n",
       "      <th>4</th>\n",
       "      <td>4</td>\n",
       "      <td>M24050</td>\n",
       "      <td>M</td>\n",
       "      <td>298.0</td>\n",
       "      <td>309.0</td>\n",
       "      <td>1641</td>\n",
       "      <td>35.4</td>\n",
       "      <td>34</td>\n",
       "      <td>0</td>\n",
       "      <td>0</td>\n",
       "      <td>0</td>\n",
       "      <td>0</td>\n",
       "      <td>0</td>\n",
       "      <td>24050</td>\n",
       "    </tr>\n",
       "  </tbody>\n",
       "</table>\n",
       "</div>"
      ],
      "text/plain": [
       "   id Product ID Type  Air temperature [K]  Process temperature [K]  \\\n",
       "0   0     L50096    L                300.6                    309.6   \n",
       "1   1     M20343    M                302.6                    312.1   \n",
       "2   2     L49454    L                299.3                    308.5   \n",
       "3   3     L53355    L                301.0                    310.9   \n",
       "4   4     M24050    M                298.0                    309.0   \n",
       "\n",
       "   Rotational speed [rpm]  Torque [Nm]  Tool wear [min]  TWF  HDF  PWF  OSF  \\\n",
       "0                    1596         36.1              140    0    0    0    0   \n",
       "1                    1759         29.1              200    0    0    0    0   \n",
       "2                    1805         26.5               25    0    0    0    0   \n",
       "3                    1524         44.3              197    0    0    0    0   \n",
       "4                    1641         35.4               34    0    0    0    0   \n",
       "\n",
       "   RNF Product ID Number  \n",
       "0    0             50096  \n",
       "1    0             20343  \n",
       "2    0             49454  \n",
       "3    0             53355  \n",
       "4    0             24050  "
      ]
     },
     "execution_count": 16,
     "metadata": {},
     "output_type": "execute_result"
    }
   ],
   "source": [
    "df.head()"
   ]
  },
  {
   "cell_type": "code",
   "execution_count": 17,
   "id": "12d4445e",
   "metadata": {
    "execution": {
     "iopub.execute_input": "2023-06-29T10:37:03.536629Z",
     "iopub.status.busy": "2023-06-29T10:37:03.536331Z",
     "iopub.status.idle": "2023-06-29T10:37:06.814402Z",
     "shell.execute_reply": "2023-06-29T10:37:06.813457Z"
    },
    "papermill": {
     "duration": 3.298162,
     "end_time": "2023-06-29T10:37:06.816630",
     "exception": false,
     "start_time": "2023-06-29T10:37:03.518468",
     "status": "completed"
    },
    "tags": []
   },
   "outputs": [
    {
     "data": {
      "text/plain": [
       "array([[<Axes: title={'center': 'id'}>,\n",
       "        <Axes: title={'center': 'Air temperature [K]'}>,\n",
       "        <Axes: title={'center': 'Process temperature [K]'}>],\n",
       "       [<Axes: title={'center': 'Rotational speed [rpm]'}>,\n",
       "        <Axes: title={'center': 'Torque [Nm]'}>,\n",
       "        <Axes: title={'center': 'Tool wear [min]'}>],\n",
       "       [<Axes: title={'center': 'TWF'}>, <Axes: title={'center': 'HDF'}>,\n",
       "        <Axes: title={'center': 'PWF'}>],\n",
       "       [<Axes: title={'center': 'OSF'}>, <Axes: title={'center': 'RNF'}>,\n",
       "        <Axes: >]], dtype=object)"
      ]
     },
     "execution_count": 17,
     "metadata": {},
     "output_type": "execute_result"
    },
    {
     "data": {
      "image/png": "[encoded data removed]",
      "text/plain": [
       "<Figure size 1600x2000 with 12 Axes>"
      ]
     },
     "metadata": {},
     "output_type": "display_data"
    }
   ],
   "source": [
    "df[df.select_dtypes(exclude = [\"object\"]).columns.tolist()].hist(figsize=(16, 20), xlabelsize=8, ylabelsize=8)"
   ]
  },
  {
   "cell_type": "markdown",
   "id": "3a0523d3",
   "metadata": {
    "papermill": {
     "duration": 0.018027,
     "end_time": "2023-06-29T10:37:06.853317",
     "exception": false,
     "start_time": "2023-06-29T10:37:06.835290",
     "status": "completed"
    },
    "tags": []
   },
   "source": [
    "## Feature Engineering"
   ]
  },
  {
   "cell_type": "code",
   "execution_count": 18,
   "id": "c073d9a3",
   "metadata": {
    "execution": {
     "iopub.execute_input": "2023-06-29T10:37:06.892420Z",
     "iopub.status.busy": "2023-06-29T10:37:06.892071Z",
     "iopub.status.idle": "2023-06-29T10:37:06.943016Z",
     "shell.execute_reply": "2023-06-29T10:37:06.942058Z"
    },
    "papermill": {
     "duration": 0.072948,
     "end_time": "2023-06-29T10:37:06.945463",
     "exception": false,
     "start_time": "2023-06-29T10:37:06.872515",
     "status": "completed"
    },
    "tags": []
   },
   "outputs": [],
   "source": [
    "df[['TWF', 'HDF', 'PWF', 'OSF', 'RNF']] = df[['TWF', 'HDF', 'PWF', 'OSF', 'RNF']].astype(object)"
   ]
  },
  {
   "cell_type": "code",
   "execution_count": 19,
   "id": "d947c299",
   "metadata": {
    "execution": {
     "iopub.execute_input": "2023-06-29T10:37:06.984834Z",
     "iopub.status.busy": "2023-06-29T10:37:06.984473Z",
     "iopub.status.idle": "2023-06-29T10:37:07.052589Z",
     "shell.execute_reply": "2023-06-29T10:37:07.051567Z"
    },
    "papermill": {
     "duration": 0.090609,
     "end_time": "2023-06-29T10:37:07.055111",
     "exception": false,
     "start_time": "2023-06-29T10:37:06.964502",
     "status": "completed"
    },
    "tags": []
   },
   "outputs": [],
   "source": [
    "df[['Air temperature [K]', 'Process temperature [K]']]\n",
    "df['Residual Temperature'] = df['Process temperature [K]'] / df['Air temperature [K]']"
   ]
  },
  {
   "cell_type": "code",
   "execution_count": 20,
   "id": "5fd9143d",
   "metadata": {
    "execution": {
     "iopub.execute_input": "2023-06-29T10:37:07.095373Z",
     "iopub.status.busy": "2023-06-29T10:37:07.095046Z",
     "iopub.status.idle": "2023-06-29T10:37:07.102658Z",
     "shell.execute_reply": "2023-06-29T10:37:07.101788Z"
    },
    "papermill": {
     "duration": 0.029014,
     "end_time": "2023-06-29T10:37:07.104561",
     "exception": false,
     "start_time": "2023-06-29T10:37:07.075547",
     "status": "completed"
    },
    "tags": []
   },
   "outputs": [],
   "source": [
    "df['Power'] = df['Rotational speed [rpm]'] * df['Torque [Nm]']"
   ]
  },
  {
   "cell_type": "code",
   "execution_count": 21,
   "id": "4324da97",
   "metadata": {
    "execution": {
     "iopub.execute_input": "2023-06-29T10:37:07.144334Z",
     "iopub.status.busy": "2023-06-29T10:37:07.143427Z",
     "iopub.status.idle": "2023-06-29T10:37:07.503772Z",
     "shell.execute_reply": "2023-06-29T10:37:07.502763Z"
    },
    "papermill": {
     "duration": 0.382276,
     "end_time": "2023-06-29T10:37:07.506150",
     "exception": false,
     "start_time": "2023-06-29T10:37:07.123874",
     "status": "completed"
    },
    "tags": []
   },
   "outputs": [],
   "source": [
    "df['Total Failure'] = df[['TWF', 'HDF', 'PWF', 'OSF', 'RNF']].sum(axis=1)"
   ]
  },
  {
   "cell_type": "code",
   "execution_count": 22,
   "id": "e222a12c",
   "metadata": {
    "execution": {
     "iopub.execute_input": "2023-06-29T10:37:07.545125Z",
     "iopub.status.busy": "2023-06-29T10:37:07.544783Z",
     "iopub.status.idle": "2023-06-29T10:37:07.551060Z",
     "shell.execute_reply": "2023-06-29T10:37:07.550140Z"
    },
    "papermill": {
     "duration": 0.028038,
     "end_time": "2023-06-29T10:37:07.553226",
     "exception": false,
     "start_time": "2023-06-29T10:37:07.525188",
     "status": "completed"
    },
    "tags": []
   },
   "outputs": [],
   "source": [
    "df['Wear vs speed'] = df['Tool wear [min]'] * df['Rotational speed [rpm]']"
   ]
  },
  {
   "cell_type": "code",
   "execution_count": 23,
   "id": "77c4163d",
   "metadata": {
    "execution": {
     "iopub.execute_input": "2023-06-29T10:37:07.591357Z",
     "iopub.status.busy": "2023-06-29T10:37:07.591060Z",
     "iopub.status.idle": "2023-06-29T10:37:07.598128Z",
     "shell.execute_reply": "2023-06-29T10:37:07.597228Z"
    },
    "papermill": {
     "duration": 0.028378,
     "end_time": "2023-06-29T10:37:07.600238",
     "exception": false,
     "start_time": "2023-06-29T10:37:07.571860",
     "status": "completed"
    },
    "tags": []
   },
   "outputs": [],
   "source": [
    "df[\"Torque Wear Ratio\"] = df['Torque [Nm]'] / (df['Tool wear [min]'] + 0.0001)"
   ]
  },
  {
   "cell_type": "code",
   "execution_count": 24,
   "id": "591871e5",
   "metadata": {
    "execution": {
     "iopub.execute_input": "2023-06-29T10:37:07.640371Z",
     "iopub.status.busy": "2023-06-29T10:37:07.639584Z",
     "iopub.status.idle": "2023-06-29T10:37:07.646247Z",
     "shell.execute_reply": "2023-06-29T10:37:07.645355Z"
    },
    "papermill": {
     "duration": 0.028495,
     "end_time": "2023-06-29T10:37:07.648636",
     "exception": false,
     "start_time": "2023-06-29T10:37:07.620141",
     "status": "completed"
    },
    "tags": []
   },
   "outputs": [],
   "source": [
    "df[\"Torque vs Wear\"] = df['Torque [Nm]'] * df['Tool wear [min]']"
   ]
  },
  {
   "cell_type": "code",
   "execution_count": 25,
   "id": "77261916",
   "metadata": {
    "execution": {
     "iopub.execute_input": "2023-06-29T10:37:07.689643Z",
     "iopub.status.busy": "2023-06-29T10:37:07.689265Z",
     "iopub.status.idle": "2023-06-29T10:37:07.737463Z",
     "shell.execute_reply": "2023-06-29T10:37:07.736495Z"
    },
    "papermill": {
     "duration": 0.070801,
     "end_time": "2023-06-29T10:37:07.739645",
     "exception": false,
     "start_time": "2023-06-29T10:37:07.668844",
     "status": "completed"
    },
    "tags": []
   },
   "outputs": [],
   "source": [
    "df['Product ID Number'] = df['Product ID Number'].astype(int)"
   ]
  },
  {
   "cell_type": "code",
   "execution_count": 26,
   "id": "0c279e6e",
   "metadata": {
    "execution": {
     "iopub.execute_input": "2023-06-29T10:37:07.779943Z",
     "iopub.status.busy": "2023-06-29T10:37:07.778302Z",
     "iopub.status.idle": "2023-06-29T10:37:08.147966Z",
     "shell.execute_reply": "2023-06-29T10:37:08.147037Z"
    },
    "papermill": {
     "duration": 0.391991,
     "end_time": "2023-06-29T10:37:08.150391",
     "exception": false,
     "start_time": "2023-06-29T10:37:07.758400",
     "status": "completed"
    },
    "tags": []
   },
   "outputs": [
    {
     "data": {
      "text/plain": [
       "<Axes: ylabel='Frequency'>"
      ]
     },
     "execution_count": 26,
     "metadata": {},
     "output_type": "execute_result"
    },
    {
     "data": {
      "image/png": "[encoded data removed]",
      "text/plain": [
       "<Figure size 640x480 with 1 Axes>"
      ]
     },
     "metadata": {},
     "output_type": "display_data"
    }
   ],
   "source": [
    "df['Product ID Number'].plot(kind='hist', bins=50, color='blue')"
   ]
  },
  {
   "cell_type": "code",
   "execution_count": 27,
   "id": "7cff0c36",
   "metadata": {
    "execution": {
     "iopub.execute_input": "2023-06-29T10:37:08.190338Z",
     "iopub.status.busy": "2023-06-29T10:37:08.190021Z",
     "iopub.status.idle": "2023-06-29T10:37:27.148166Z",
     "shell.execute_reply": "2023-06-29T10:37:27.147194Z"
    },
    "papermill": {
     "duration": 18.980765,
     "end_time": "2023-06-29T10:37:27.150684",
     "exception": false,
     "start_time": "2023-06-29T10:37:08.169919",
     "status": "completed"
    },
    "tags": []
   },
   "outputs": [],
   "source": [
    "df['Product ID Number Group'] = df['Product ID Number']\n",
    "for i, num in enumerate(df['Product ID Number']):\n",
    "    if num <= 25000:\n",
    "        df.loc[i, 'Product ID Number Group'] = 1\n",
    "    elif num > 25000 and num <= 40000:\n",
    "        df.loc[i, 'Product ID Number Group'] = 2\n",
    "    else:\n",
    "        df.loc[i, 'Product ID Number Group'] = 3 "
   ]
  },
  {
   "cell_type": "code",
   "execution_count": 28,
   "id": "78d85683",
   "metadata": {
    "execution": {
     "iopub.execute_input": "2023-06-29T10:37:27.191200Z",
     "iopub.status.busy": "2023-06-29T10:37:27.190618Z",
     "iopub.status.idle": "2023-06-29T10:37:27.196486Z",
     "shell.execute_reply": "2023-06-29T10:37:27.195511Z"
    },
    "papermill": {
     "duration": 0.028658,
     "end_time": "2023-06-29T10:37:27.198744",
     "exception": false,
     "start_time": "2023-06-29T10:37:27.170086",
     "status": "completed"
    },
    "tags": []
   },
   "outputs": [],
   "source": [
    "df['Product ID Number Group'] = df['Product ID Number Group'].astype(int)"
   ]
  },
  {
   "cell_type": "code",
   "execution_count": 29,
   "id": "3d588b53",
   "metadata": {
    "execution": {
     "iopub.execute_input": "2023-06-29T10:37:27.240204Z",
     "iopub.status.busy": "2023-06-29T10:37:27.239315Z",
     "iopub.status.idle": "2023-06-29T10:37:27.245311Z",
     "shell.execute_reply": "2023-06-29T10:37:27.244478Z"
    },
    "papermill": {
     "duration": 0.028817,
     "end_time": "2023-06-29T10:37:27.247317",
     "exception": false,
     "start_time": "2023-06-29T10:37:27.218500",
     "status": "completed"
    },
    "tags": []
   },
   "outputs": [],
   "source": [
    "df.rename(columns={\"Air temperature [K]\": \"Air temperature (K)\", 'Process temperature [K]': 'Process temperature(K)', 'Rotational speed [rpm]': 'Rotational speed (rpm)', 'Torque [Nm]' : 'Torque (Nm)', 'Tool wear [min]': 'Tool wear (min)'}, inplace=True)"
   ]
  },
  {
   "cell_type": "code",
   "execution_count": 30,
   "id": "97d65388",
   "metadata": {
    "execution": {
     "iopub.execute_input": "2023-06-29T10:37:27.287991Z",
     "iopub.status.busy": "2023-06-29T10:37:27.287128Z",
     "iopub.status.idle": "2023-06-29T10:37:27.303203Z",
     "shell.execute_reply": "2023-06-29T10:37:27.302320Z"
    },
    "papermill": {
     "duration": 0.038376,
     "end_time": "2023-06-29T10:37:27.305219",
     "exception": false,
     "start_time": "2023-06-29T10:37:27.266843",
     "status": "completed"
    },
    "tags": []
   },
   "outputs": [],
   "source": [
    "df['Total Failure'] = df['Total Failure'].astype(object)"
   ]
  },
  {
   "cell_type": "code",
   "execution_count": 31,
   "id": "9468126a",
   "metadata": {
    "execution": {
     "iopub.execute_input": "2023-06-29T10:37:27.345663Z",
     "iopub.status.busy": "2023-06-29T10:37:27.344836Z",
     "iopub.status.idle": "2023-06-29T10:37:27.691879Z",
     "shell.execute_reply": "2023-06-29T10:37:27.690808Z"
    },
    "papermill": {
     "duration": 0.369638,
     "end_time": "2023-06-29T10:37:27.694377",
     "exception": false,
     "start_time": "2023-06-29T10:37:27.324739",
     "status": "completed"
    },
    "tags": []
   },
   "outputs": [],
   "source": [
    "grouped_fts = df.drop([\"id\"],axis=1).groupby(\"Product ID\",as_index=False).transform('median')\n",
    "grouped_fts.columns = grouped_fts.columns + \"_median\"\n",
    "\n",
    "grouped_fts2 = df.drop([\"id\"],axis=1).groupby(\"Product ID\",as_index=False).transform('mean')\n",
    "grouped_fts2.columns = grouped_fts2.columns + \"_mean\"\n",
    "\n",
    "\n",
    "df = df.merge(grouped_fts,left_index=True,right_index=True,how=\"left\")\n",
    "df = df.merge(grouped_fts2,left_index=True,right_index=True,how=\"left\")"
   ]
  },
  {
   "cell_type": "code",
   "execution_count": 32,
   "id": "51761877",
   "metadata": {
    "execution": {
     "iopub.execute_input": "2023-06-29T10:37:27.735483Z",
     "iopub.status.busy": "2023-06-29T10:37:27.734627Z",
     "iopub.status.idle": "2023-06-29T10:37:28.206598Z",
     "shell.execute_reply": "2023-06-29T10:37:28.205607Z"
    },
    "papermill": {
     "duration": 0.494464,
     "end_time": "2023-06-29T10:37:28.208805",
     "exception": false,
     "start_time": "2023-06-29T10:37:27.714341",
     "status": "completed"
    },
    "tags": []
   },
   "outputs": [
    {
     "data": {
      "text/plain": [
       "id                                False\n",
       "Product ID                        False\n",
       "Type                              False\n",
       "Air temperature (K)               False\n",
       "Process temperature(K)            False\n",
       "Rotational speed (rpm)            False\n",
       "Torque (Nm)                       False\n",
       "Tool wear (min)                   False\n",
       "TWF                               False\n",
       "HDF                               False\n",
       "PWF                               False\n",
       "OSF                               False\n",
       "RNF                               False\n",
       "Product ID Number                 False\n",
       "Residual Temperature              False\n",
       "Power                             False\n",
       "Total Failure                     False\n",
       "Wear vs speed                     False\n",
       "Torque Wear Ratio                 False\n",
       "Torque vs Wear                    False\n",
       "Product ID Number Group           False\n",
       "Air temperature (K)_median        False\n",
       "Process temperature(K)_median     False\n",
       "Rotational speed (rpm)_median     False\n",
       "Torque (Nm)_median                False\n",
       "Tool wear (min)_median            False\n",
       "Product ID Number_median          False\n",
       "Residual Temperature_median       False\n",
       "Power_median                      False\n",
       "Wear vs speed_median              False\n",
       "Torque Wear Ratio_median          False\n",
       "Torque vs Wear_median             False\n",
       "Product ID Number Group_median    False\n",
       "Air temperature (K)_mean          False\n",
       "Process temperature(K)_mean       False\n",
       "Rotational speed (rpm)_mean       False\n",
       "Torque (Nm)_mean                  False\n",
       "Tool wear (min)_mean              False\n",
       "Product ID Number_mean            False\n",
       "Residual Temperature_mean         False\n",
       "Power_mean                        False\n",
       "Wear vs speed_mean                False\n",
       "Torque Wear Ratio_mean            False\n",
       "Torque vs Wear_mean               False\n",
       "Product ID Number Group_mean      False\n",
       "dtype: bool"
      ]
     },
     "execution_count": 32,
     "metadata": {},
     "output_type": "execute_result"
    }
   ],
   "source": [
    "df.isna().any()"
   ]
  },
  {
   "cell_type": "code",
   "execution_count": 33,
   "id": "e04aafac",
   "metadata": {
    "execution": {
     "iopub.execute_input": "2023-06-29T10:37:28.249948Z",
     "iopub.status.busy": "2023-06-29T10:37:28.249630Z",
     "iopub.status.idle": "2023-06-29T10:37:28.915929Z",
     "shell.execute_reply": "2023-06-29T10:37:28.914958Z"
    },
    "papermill": {
     "duration": 0.688673,
     "end_time": "2023-06-29T10:37:28.918103",
     "exception": false,
     "start_time": "2023-06-29T10:37:28.229430",
     "status": "completed"
    },
    "tags": []
   },
   "outputs": [
    {
     "data": {
      "text/plain": [
       "Machine failure                   1.000000\n",
       "Torque (Nm)                       0.145793\n",
       "Power                             0.128222\n",
       "Torque vs Wear                    0.111041\n",
       "Air temperature (K)               0.067744\n",
       "Air temperature (K)_mean          0.067712\n",
       "Air temperature (K)_median        0.067574\n",
       "Tool wear (min)                   0.056448\n",
       "Torque (Nm)_mean                  0.052763\n",
       "Torque vs Wear_mean               0.051225\n",
       "Power_mean                        0.048944\n",
       "Wear vs speed                     0.043777\n",
       "Torque vs Wear_median             0.041057\n",
       "Tool wear (min)_mean              0.040320\n",
       "Wear vs speed_mean                0.038516\n",
       "Tool wear (min)_median            0.037551\n",
       "Wear vs speed_median              0.034133\n",
       "Torque (Nm)_median                0.031751\n",
       "Process temperature(K)_mean       0.031275\n",
       "Process temperature(K)            0.030966\n",
       "Process temperature(K)_median     0.030703\n",
       "Power_median                      0.030439\n",
       "Product ID Number Group           0.011305\n",
       "Product ID Number Group_median    0.011305\n",
       "Product ID Number Group_mean      0.011305\n",
       "Product ID Number_mean            0.007609\n",
       "Product ID Number_median          0.007609\n",
       "Product ID Number                 0.007609\n",
       "Torque Wear Ratio_mean            0.006389\n",
       "Torque Wear Ratio_median          0.002606\n",
       "id                                0.001500\n",
       "Torque Wear Ratio                -0.004044\n",
       "Rotational speed (rpm)_mean      -0.013900\n",
       "Rotational speed (rpm)_median    -0.030504\n",
       "Rotational speed (rpm)           -0.060868\n",
       "Residual Temperature             -0.084591\n",
       "Residual Temperature_median      -0.085234\n",
       "Residual Temperature_mean        -0.085307\n",
       "Name: Machine failure, dtype: float64"
      ]
     },
     "execution_count": 33,
     "metadata": {},
     "output_type": "execute_result"
    }
   ],
   "source": [
    "X = df[:train_max].copy()\n",
    "y = train_data['Machine failure']\n",
    "full_df = pd.concat([X, y], axis=1).copy()\n",
    "\n",
    "full_df.corr()['Machine failure'].sort_values(ascending=False)"
   ]
  },
  {
   "cell_type": "code",
   "execution_count": 34,
   "id": "ad708a23",
   "metadata": {
    "execution": {
     "iopub.execute_input": "2023-06-29T10:37:28.961655Z",
     "iopub.status.busy": "2023-06-29T10:37:28.960769Z",
     "iopub.status.idle": "2023-06-29T10:37:31.201382Z",
     "shell.execute_reply": "2023-06-29T10:37:31.200421Z"
    },
    "papermill": {
     "duration": 2.263681,
     "end_time": "2023-06-29T10:37:31.203819",
     "exception": false,
     "start_time": "2023-06-29T10:37:28.940138",
     "status": "completed"
    },
    "tags": []
   },
   "outputs": [
    {
     "data": {
      "text/plain": [
       "array([[ 0.31237604, -0.20978711,  0.75800423, ..., -1.77258753,\n",
       "         0.58245246,  5.19933758],\n",
       "       [ 1.44610359,  1.57996835,  1.67418578, ...,  0.48934723,\n",
       "         1.06248487, -5.19933758],\n",
       "       [-0.20209835, -0.91467864,  1.84844778, ...,  1.34020047,\n",
       "        -0.65493048,  5.19933758],\n",
       "       ...,\n",
       "       [-2.96743036, -2.87784612,  0.06905612, ..., -2.20552526,\n",
       "         2.51099263,  5.19933758],\n",
       "       [-0.83200627, -1.67930256,  0.31369361, ...,  1.14978927,\n",
       "        -0.56993365,  5.19933758],\n",
       "       [ 1.81145745,  2.09652058,  0.31369361, ..., -0.54038134,\n",
       "        -0.33258468,  5.19933758]])"
      ]
     },
     "execution_count": 34,
     "metadata": {},
     "output_type": "execute_result"
    }
   ],
   "source": [
    "from scipy.stats import skew\n",
    "from sklearn.preprocessing import QuantileTransformer\n",
    "num_feat = df.select_dtypes(exclude = [\"object\"]).columns\n",
    "cat_feat = df.select_dtypes(include = [\"object\"]).columns\n",
    "train_cat = df[cat_feat]\n",
    "train_num = df[num_feat]\n",
    "train_num = train_num.drop(['id', 'Product ID Number'], axis=1)\n",
    "\n",
    "# skewness = train_num.apply(lambda x: skew(x))\n",
    "# skewness = skewness[abs(skewness) > 0.5] #Skewness more than 0.5 (or -0.5) is the thereshold for transformation.\n",
    "# skewed_features = skewness.index\n",
    "# train_num[skewed_features] = np.log1p(train_num[skewed_features])\n",
    "\n",
    "QuantileTransformer(output_distribution='normal').fit_transform(train_num)"
   ]
  },
  {
   "cell_type": "code",
   "execution_count": 35,
   "id": "3238ddba",
   "metadata": {
    "execution": {
     "iopub.execute_input": "2023-06-29T10:37:31.246598Z",
     "iopub.status.busy": "2023-06-29T10:37:31.245546Z",
     "iopub.status.idle": "2023-06-29T10:37:31.251573Z",
     "shell.execute_reply": "2023-06-29T10:37:31.250702Z"
    },
    "papermill": {
     "duration": 0.028741,
     "end_time": "2023-06-29T10:37:31.253555",
     "exception": false,
     "start_time": "2023-06-29T10:37:31.224814",
     "status": "completed"
    },
    "tags": []
   },
   "outputs": [],
   "source": [
    "train_num['Product ID Number'] = df['Product ID Number']"
   ]
  },
  {
   "cell_type": "code",
   "execution_count": 36,
   "id": "3540d3d2",
   "metadata": {
    "execution": {
     "iopub.execute_input": "2023-06-29T10:37:31.293777Z",
     "iopub.status.busy": "2023-06-29T10:37:31.293433Z",
     "iopub.status.idle": "2023-06-29T10:37:31.299752Z",
     "shell.execute_reply": "2023-06-29T10:37:31.298866Z"
    },
    "papermill": {
     "duration": 0.028618,
     "end_time": "2023-06-29T10:37:31.301677",
     "exception": false,
     "start_time": "2023-06-29T10:37:31.273059",
     "status": "completed"
    },
    "tags": []
   },
   "outputs": [
    {
     "data": {
      "text/plain": [
       "Index(['Air temperature (K)', 'Process temperature(K)',\n",
       "       'Rotational speed (rpm)', 'Torque (Nm)', 'Tool wear (min)',\n",
       "       'Residual Temperature', 'Power', 'Wear vs speed', 'Torque Wear Ratio',\n",
       "       'Torque vs Wear', 'Product ID Number Group',\n",
       "       'Air temperature (K)_median', 'Process temperature(K)_median',\n",
       "       'Rotational speed (rpm)_median', 'Torque (Nm)_median',\n",
       "       'Tool wear (min)_median', 'Product ID Number_median',\n",
       "       'Residual Temperature_median', 'Power_median', 'Wear vs speed_median',\n",
       "       'Torque Wear Ratio_median', 'Torque vs Wear_median',\n",
       "       'Product ID Number Group_median', 'Air temperature (K)_mean',\n",
       "       'Process temperature(K)_mean', 'Rotational speed (rpm)_mean',\n",
       "       'Torque (Nm)_mean', 'Tool wear (min)_mean', 'Product ID Number_mean',\n",
       "       'Residual Temperature_mean', 'Power_mean', 'Wear vs speed_mean',\n",
       "       'Torque Wear Ratio_mean', 'Torque vs Wear_mean',\n",
       "       'Product ID Number Group_mean', 'Product ID Number'],\n",
       "      dtype='object')"
      ]
     },
     "execution_count": 36,
     "metadata": {},
     "output_type": "execute_result"
    }
   ],
   "source": [
    "train_num.columns"
   ]
  },
  {
   "cell_type": "code",
   "execution_count": 37,
   "id": "f057c5ee",
   "metadata": {
    "execution": {
     "iopub.execute_input": "2023-06-29T10:37:31.342109Z",
     "iopub.status.busy": "2023-06-29T10:37:31.341301Z",
     "iopub.status.idle": "2023-06-29T10:37:31.347714Z",
     "shell.execute_reply": "2023-06-29T10:37:31.346807Z"
    },
    "papermill": {
     "duration": 0.028374,
     "end_time": "2023-06-29T10:37:31.349624",
     "exception": false,
     "start_time": "2023-06-29T10:37:31.321250",
     "status": "completed"
    },
    "tags": []
   },
   "outputs": [
    {
     "data": {
      "text/plain": [
       "Index(['Product ID', 'Type', 'TWF', 'HDF', 'PWF', 'OSF', 'RNF',\n",
       "       'Total Failure'],\n",
       "      dtype='object')"
      ]
     },
     "execution_count": 37,
     "metadata": {},
     "output_type": "execute_result"
    }
   ],
   "source": [
    "train_cat.columns"
   ]
  },
  {
   "cell_type": "code",
   "execution_count": 38,
   "id": "18b51fa4",
   "metadata": {
    "execution": {
     "iopub.execute_input": "2023-06-29T10:37:31.389948Z",
     "iopub.status.busy": "2023-06-29T10:37:31.389163Z",
     "iopub.status.idle": "2023-06-29T10:37:31.411015Z",
     "shell.execute_reply": "2023-06-29T10:37:31.410097Z"
    },
    "papermill": {
     "duration": 0.044219,
     "end_time": "2023-06-29T10:37:31.413149",
     "exception": false,
     "start_time": "2023-06-29T10:37:31.368930",
     "status": "completed"
    },
    "tags": []
   },
   "outputs": [],
   "source": [
    "train_cat = train_cat.drop(['Product ID'], axis=1)"
   ]
  },
  {
   "cell_type": "markdown",
   "id": "2856fea1",
   "metadata": {
    "papermill": {
     "duration": 0.019329,
     "end_time": "2023-06-29T10:37:31.452892",
     "exception": false,
     "start_time": "2023-06-29T10:37:31.433563",
     "status": "completed"
    },
    "tags": []
   },
   "source": [
    "## Modeling"
   ]
  },
  {
   "cell_type": "code",
   "execution_count": 39,
   "id": "9d7a1135",
   "metadata": {
    "execution": {
     "iopub.execute_input": "2023-06-29T10:37:31.493549Z",
     "iopub.status.busy": "2023-06-29T10:37:31.492679Z",
     "iopub.status.idle": "2023-06-29T10:37:34.362154Z",
     "shell.execute_reply": "2023-06-29T10:37:34.361181Z"
    },
    "papermill": {
     "duration": 2.892495,
     "end_time": "2023-06-29T10:37:34.364627",
     "exception": false,
     "start_time": "2023-06-29T10:37:31.472132",
     "status": "completed"
    },
    "tags": []
   },
   "outputs": [],
   "source": [
    "from sklearn.preprocessing import StandardScaler, MinMaxScaler, MaxAbsScaler, RobustScaler, Normalizer\n",
    "\n",
    "from sklearn.model_selection import train_test_split\n",
    "from xgboost import XGBClassifier\n",
    "from catboost import CatBoostClassifier\n",
    "from lightgbm import LGBMClassifier\n",
    "from sklearn.tree import DecisionTreeClassifier\n",
    "from sklearn.ensemble import RandomForestClassifier, HistGradientBoostingClassifier, GradientBoostingClassifier\n",
    "from sklearn.linear_model import LogisticRegression\n",
    "from imblearn.ensemble import BalancedRandomForestClassifier\n",
    "from sklearn.neighbors import KNeighborsClassifier\n",
    "from sklearn.neural_network import MLPClassifier\n",
    "from sklearn.svm import SVC\n",
    "from sklearn.ensemble import BaggingClassifier\n",
    "from sklearn.metrics import roc_auc_score, confusion_matrix\n",
    "import optuna\n",
    "from sklearn.ensemble import VotingClassifier, StackingClassifier"
   ]
  },
  {
   "cell_type": "code",
   "execution_count": 40,
   "id": "80ce891b",
   "metadata": {
    "execution": {
     "iopub.execute_input": "2023-06-29T10:37:34.405877Z",
     "iopub.status.busy": "2023-06-29T10:37:34.405272Z",
     "iopub.status.idle": "2023-06-29T10:37:34.731106Z",
     "shell.execute_reply": "2023-06-29T10:37:34.730145Z"
    },
    "papermill": {
     "duration": 0.349053,
     "end_time": "2023-06-29T10:37:34.733698",
     "exception": false,
     "start_time": "2023-06-29T10:37:34.384645",
     "status": "completed"
    },
    "tags": []
   },
   "outputs": [],
   "source": [
    "train_cat = pd.get_dummies(train_cat) #Create dummies for the categorical features\n",
    "X = pd.concat([train_cat, train_num], axis=1) #Concatenate both categorical and numerical features back together.\n",
    "X_test = X[train_max:].copy()\n",
    "X = X[:train_max].copy() #create train and test datasets for modeling\n",
    "y = train_data['Machine failure']"
   ]
  },
  {
   "cell_type": "code",
   "execution_count": 41,
   "id": "42013291",
   "metadata": {
    "execution": {
     "iopub.execute_input": "2023-06-29T10:37:34.777060Z",
     "iopub.status.busy": "2023-06-29T10:37:34.776729Z",
     "iopub.status.idle": "2023-06-29T10:37:34.949186Z",
     "shell.execute_reply": "2023-06-29T10:37:34.946776Z"
    },
    "papermill": {
     "duration": 0.197397,
     "end_time": "2023-06-29T10:37:34.953264",
     "exception": false,
     "start_time": "2023-06-29T10:37:34.755867",
     "status": "completed"
    },
    "tags": []
   },
   "outputs": [
    {
     "data": {
      "text/plain": [
       "array([[-0.26453926,  0.65632558, -0.55527706, ..., -1.21116318,\n",
       "         0.63256078,  0.51043954],\n",
       "       [-0.26453926,  0.65632558, -0.55527706, ..., -1.41554715,\n",
       "         0.63256078,  0.7207878 ],\n",
       "       [-0.26453926,  0.65632558, -0.55527706, ...,  0.20055602,\n",
       "         0.63256078,  0.48225146],\n",
       "       ...,\n",
       "       [-0.26453926,  0.65632558, -0.55527706, ...,  2.26003275,\n",
       "         0.63256078,  0.31220225],\n",
       "       [-0.26453926,  0.65632558, -0.55527706, ..., -0.68306515,\n",
       "         0.63256078,  0.37396106],\n",
       "       [-0.26453926,  0.65632558, -0.55527706, ..., -0.40694533,\n",
       "         0.63256078,  0.62581238]])"
      ]
     },
     "execution_count": 41,
     "metadata": {},
     "output_type": "execute_result"
    }
   ],
   "source": [
    "scl = StandardScaler()\n",
    "scl.fit(X)\n",
    "scl.transform(X)\n",
    "scl.transform(X_test)"
   ]
  },
  {
   "cell_type": "code",
   "execution_count": 42,
   "id": "327fb229",
   "metadata": {
    "execution": {
     "iopub.execute_input": "2023-06-29T10:37:35.011786Z",
     "iopub.status.busy": "2023-06-29T10:37:35.011390Z",
     "iopub.status.idle": "2023-06-29T10:37:35.070729Z",
     "shell.execute_reply": "2023-06-29T10:37:35.069770Z"
    },
    "papermill": {
     "duration": 0.086355,
     "end_time": "2023-06-29T10:37:35.073306",
     "exception": false,
     "start_time": "2023-06-29T10:37:34.986951",
     "status": "completed"
    },
    "tags": []
   },
   "outputs": [],
   "source": [
    "X_train, X_val, y_train, y_val = train_test_split(X, y, train_size = 0.85, random_state=42)"
   ]
  },
  {
   "cell_type": "code",
   "execution_count": 43,
   "id": "1f751dfe",
   "metadata": {
    "execution": {
     "iopub.execute_input": "2023-06-29T10:37:35.115199Z",
     "iopub.status.busy": "2023-06-29T10:37:35.114628Z",
     "iopub.status.idle": "2023-06-29T10:37:35.120782Z",
     "shell.execute_reply": "2023-06-29T10:37:35.119908Z"
    },
    "papermill": {
     "duration": 0.029114,
     "end_time": "2023-06-29T10:37:35.122770",
     "exception": false,
     "start_time": "2023-06-29T10:37:35.093656",
     "status": "completed"
    },
    "tags": []
   },
   "outputs": [],
   "source": [
    "def train_classifier(clf,x_train,y_train,x_test,y_test):\n",
    "    clf.fit(x_train,y_train)\n",
    "    y_pred = clf.predict(x_test)\n",
    "    score = roc_auc_score(y_test, clf.predict_proba(x_test)[:,1])\n",
    "    if score>0.92:\n",
    "            print(f'{confusion_matrix(y_pred, y_test)}')\n",
    "            print(f'Ruc_score is {score}')\n",
    "            print('*'*90)\n",
    "    else:\n",
    "        print(f'{confusion_matrix(y_pred, y_test)}')\n",
    "        print(f\"Not a good model with score = {score}\")\n",
    "        print('x'*90)\n",
    "    return clf"
   ]
  },
  {
   "cell_type": "code",
   "execution_count": 44,
   "id": "d08a9b94",
   "metadata": {
    "execution": {
     "iopub.execute_input": "2023-06-29T10:37:35.164769Z",
     "iopub.status.busy": "2023-06-29T10:37:35.163840Z",
     "iopub.status.idle": "2023-06-29T10:37:35.172230Z",
     "shell.execute_reply": "2023-06-29T10:37:35.171240Z"
    },
    "papermill": {
     "duration": 0.031745,
     "end_time": "2023-06-29T10:37:35.174369",
     "exception": false,
     "start_time": "2023-06-29T10:37:35.142624",
     "status": "completed"
    },
    "tags": []
   },
   "outputs": [],
   "source": [
    "models = {\n",
    "    'cat': CatBoostClassifier(verbose = False),\n",
    "    'lgbm': LGBMClassifier(is_unbalance = True),\n",
    "    'xgb': XGBClassifier(objective=\"binary:logistic\"),\n",
    "#     'DT' : DecisionTreeClassifier(),\n",
    "#     'RFC': RandomForestClassifier(),\n",
    "#     'LR' : LogisticRegression(),\n",
    "    'brf' : BalancedRandomForestClassifier(random_state=0),\n",
    "#     'mlp' : MLPClassifier(),\n",
    "#     'KNN' : KNeighborsClassifier(n_neighbors= 8),\n",
    "    'hgb':HistGradientBoostingClassifier(),\n",
    "#     'gbc': GradientBoostingClassifier(),\n",
    "#     'bc' : BaggingClassifier()\n",
    "}"
   ]
  },
  {
   "cell_type": "code",
   "execution_count": 45,
   "id": "4b6e193b",
   "metadata": {
    "execution": {
     "iopub.execute_input": "2023-06-29T10:37:35.216488Z",
     "iopub.status.busy": "2023-06-29T10:37:35.214951Z",
     "iopub.status.idle": "2023-06-29T10:39:13.383622Z",
     "shell.execute_reply": "2023-06-29T10:39:13.382789Z"
    },
    "papermill": {
     "duration": 98.191869,
     "end_time": "2023-06-29T10:39:13.385935",
     "exception": false,
     "start_time": "2023-06-29T10:37:35.194066",
     "status": "completed"
    },
    "tags": []
   },
   "outputs": [
    {
     "name": "stdout",
     "output_type": "stream",
     "text": [
      "for cat\n",
      "[[20135    72]\n",
      " [    5   253]]\n",
      "Ruc_score is 0.9670447635780308\n",
      "******************************************************************************************\n",
      "for lgbm\n",
      "[[19909    50]\n",
      " [  231   275]]\n",
      "Ruc_score is 0.9580642426094264\n",
      "******************************************************************************************\n",
      "for xgb\n",
      "[[20131    74]\n",
      " [    9   251]]\n",
      "Ruc_score is 0.964281109158964\n",
      "******************************************************************************************\n",
      "for brf\n",
      "[[19237    32]\n",
      " [  903   293]]\n",
      "Ruc_score is 0.9753398518065847\n",
      "******************************************************************************************\n",
      "for hgb\n",
      "[[20134    73]\n",
      " [    6   252]]\n",
      "Ruc_score is 0.968449621877626\n",
      "******************************************************************************************\n",
      "CPU times: user 3min, sys: 1.87 s, total: 3min 1s\n",
      "Wall time: 1min 38s\n"
     ]
    }
   ],
   "source": [
    "%%time\n",
    "for i in range(len(models)):\n",
    "    model = list(models.values())[i]\n",
    "    print(f'for {list(models.keys())[i]}')\n",
    "    train_classifier(model, X_train, y_train, X_val, y_val)"
   ]
  },
  {
   "cell_type": "code",
   "execution_count": 46,
   "id": "ef582f04",
   "metadata": {
    "execution": {
     "iopub.execute_input": "2023-06-29T10:39:13.432654Z",
     "iopub.status.busy": "2023-06-29T10:39:13.431755Z",
     "iopub.status.idle": "2023-06-29T10:39:13.437194Z",
     "shell.execute_reply": "2023-06-29T10:39:13.436333Z"
    },
    "papermill": {
     "duration": 0.028433,
     "end_time": "2023-06-29T10:39:13.439133",
     "exception": false,
     "start_time": "2023-06-29T10:39:13.410700",
     "status": "completed"
    },
    "tags": []
   },
   "outputs": [],
   "source": [
    "# %%time\n",
    "# def catboost_objective(trial):\n",
    "#     params = {\n",
    "#         'n_estimators': trial.suggest_int('n_estimators', 100, 1000),\n",
    "#         'learning_rate': trial.suggest_loguniform('learning_rate', 0.001, 0.1),\n",
    "#         'max_depth': trial.suggest_int('max_depth', 3, 12),\n",
    "#         'subsample': trial.suggest_uniform('subsample', 0.5, 1.0),\n",
    "#         'colsample_bylevel': trial.suggest_uniform('colsample_bylevel', 0.5, 1.0),\n",
    "#     }\n",
    "\n",
    "#     classifier = CatBoostClassifier(**params,verbose = False)\n",
    "#     classifier.fit(X_train, y_train, eval_set=[(X_val, y_val)], early_stopping_rounds=20, verbose=False)\n",
    "\n",
    "#     y_pred_proba = classifier.predict_proba(X_val)[:, 1]\n",
    "#     roc_auc = roc_auc_score(y_val, y_pred_proba)\n",
    "\n",
    "#     return roc_auc\n",
    "\n",
    "# # Create the Optuna study and optimize the objective functions\n",
    "# catboost_study = optuna.create_study(direction='maximize')\n",
    "# catboost_study.optimize(catboost_objective, n_trials=10)\n",
    "\n",
    "# # Print the best hyperparameters and corresponding ROC AUC scores - CatBoostClassifier\n",
    "# catboost_best_params = catboost_study.best_params\n",
    "# catboost_best_score = catboost_study.best_value\n",
    "# print(\"CatBoost Best Hyperparameters: \", catboost_best_params)\n",
    "# print(\"CatBoost Best ROC AUC Score: \", catboost_best_score)"
   ]
  },
  {
   "cell_type": "code",
   "execution_count": 47,
   "id": "0b07c9b4",
   "metadata": {
    "execution": {
     "iopub.execute_input": "2023-06-29T10:39:13.480889Z",
     "iopub.status.busy": "2023-06-29T10:39:13.480604Z",
     "iopub.status.idle": "2023-06-29T10:39:13.485476Z",
     "shell.execute_reply": "2023-06-29T10:39:13.484505Z"
    },
    "papermill": {
     "duration": 0.028181,
     "end_time": "2023-06-29T10:39:13.487511",
     "exception": false,
     "start_time": "2023-06-29T10:39:13.459330",
     "status": "completed"
    },
    "tags": []
   },
   "outputs": [],
   "source": [
    "# %%time\n",
    "# def xgb_objective(trial):\n",
    "#     params = {\n",
    "#         'n_estimators': trial.suggest_int('n_estimators', 100, 400),\n",
    "#         'learning_rate': trial.suggest_loguniform('learning_rate', 0.001, 0.1),\n",
    "#         'max_depth': trial.suggest_int('max_depth', 3, 10),\n",
    "#         'subsample': trial.suggest_uniform('subsample', 0.5, 1.0),\n",
    "#         'colsample_bytree': trial.suggest_uniform('colsample_bytree', 0.5, 1.0),\n",
    "#     }\n",
    "\n",
    "#     classifier = XGBClassifier(**params, random_state=42, objective = \"binary:logistic\")\n",
    "#     classifier.fit(X_train, y_train, eval_set=[(X_val, y_val)], early_stopping_rounds=20, verbose=False)\n",
    "\n",
    "#     y_pred_proba = classifier.predict_proba(X_val)[:, 1]\n",
    "#     roc_auc = roc_auc_score(y_val, y_pred_proba)\n",
    "\n",
    "#     return roc_auc\n",
    "\n",
    "# xgb_study = optuna.create_study(direction='maximize')\n",
    "# xgb_study.optimize(xgb_objective, n_trials=10)\n",
    "\n",
    "# # Print the best hyperparameters and corresponding ROC AUC scores - XGBClassifier\n",
    "# xgb_best_params = xgb_study.best_params\n",
    "# xgb_best_score = xgb_study.best_value\n",
    "# print(\"XGB Best Hyperparameters: \", xgb_best_params)\n",
    "# print(\"XGB Best ROC AUC Score: \", xgb_best_score)"
   ]
  },
  {
   "cell_type": "code",
   "execution_count": 48,
   "id": "5b4b534c",
   "metadata": {
    "execution": {
     "iopub.execute_input": "2023-06-29T10:39:13.528393Z",
     "iopub.status.busy": "2023-06-29T10:39:13.528118Z",
     "iopub.status.idle": "2023-06-29T10:39:13.532855Z",
     "shell.execute_reply": "2023-06-29T10:39:13.531901Z"
    },
    "papermill": {
     "duration": 0.027646,
     "end_time": "2023-06-29T10:39:13.534918",
     "exception": false,
     "start_time": "2023-06-29T10:39:13.507272",
     "status": "completed"
    },
    "tags": []
   },
   "outputs": [],
   "source": [
    "# %%time\n",
    "# def lgbm_objective(trial):\n",
    "\n",
    "#     params = {\n",
    "#         'n_estimators': trial.suggest_int('n_estimators', 100, 900),\n",
    "#         'learning_rate': trial.suggest_loguniform('learning_rate', 0.001, 0.1),\n",
    "#         'max_depth': trial.suggest_int('max_depth', 3, 10),\n",
    "#         'num_leaves': trial.suggest_int('num_leaves', 10, 1000),\n",
    "#         'subsample': trial.suggest_uniform('subsample', 0.5, 1.0),\n",
    "#         'colsample_bytree': trial.suggest_uniform('colsample_bytree', 0.5, 1.0),\n",
    "#     }\n",
    "\n",
    "#     classifier = LGBMClassifier(**params, is_unbalance = True)\n",
    "#     classifier.fit(X_train, y_train)\n",
    "#     y_pred_proba = classifier.predict_proba(X_val)[:, 1]\n",
    "\n",
    "#     # Calculate ROC AUC score for validation predictions\n",
    "#     roc_auc = roc_auc_score(y_val, y_pred_proba)\n",
    "\n",
    "#     return roc_auc\n",
    "\n",
    "# study = optuna.create_study(direction='maximize')\n",
    "# study.optimize(lgbm_objective, n_trials=10)\n",
    "\n",
    "# # Print the best hyperparameters and corresponding ROC AUC score\n",
    "# lgbm_best_params = study.best_params\n",
    "# lgbm_best_score= study.best_value\n",
    "# print(\"Best Hyperparameters: \",lgbm_best_params)\n",
    "# print(\"Best ROC AUC Score: \", lgbm_best_score)"
   ]
  },
  {
   "cell_type": "code",
   "execution_count": 49,
   "id": "8621d509",
   "metadata": {
    "execution": {
     "iopub.execute_input": "2023-06-29T10:39:13.575668Z",
     "iopub.status.busy": "2023-06-29T10:39:13.575353Z",
     "iopub.status.idle": "2023-06-29T10:39:13.580150Z",
     "shell.execute_reply": "2023-06-29T10:39:13.579287Z"
    },
    "papermill": {
     "duration": 0.027417,
     "end_time": "2023-06-29T10:39:13.582075",
     "exception": false,
     "start_time": "2023-06-29T10:39:13.554658",
     "status": "completed"
    },
    "tags": []
   },
   "outputs": [],
   "source": [
    "# %%time\n",
    "# def brc_objective(trial):\n",
    "#     # Define the hyperparameters to optimize\n",
    "#     params = {\n",
    "#         'n_estimators': trial.suggest_int('n_estimators', 100, 500),\n",
    "#         'max_depth': trial.suggest_categorical('max_depth', [3, 5, 10, None]),\n",
    "#         'min_samples_split': trial.suggest_int('min_samples_split', 2, 10),\n",
    "#         'min_samples_leaf': trial.suggest_int('min_samples_leaf', 1, 10),\n",
    "#         'max_features': trial.suggest_categorical('max_features', ['auto', 'sqrt', 'log2', None])\n",
    "#     }\n",
    "\n",
    "#     classifier = BalancedRandomForestClassifier(**params)\n",
    "#     classifier.fit(X_train, y_train)\n",
    "\n",
    "#     # Predict probabilities for the validation data\n",
    "#     y_pred_proba = classifier.predict_proba(X_val)[:, 1]\n",
    "\n",
    "#     # Calculate ROC AUC score for validation predictions\n",
    "#     roc_auc = roc_auc_score(y_val, y_pred_proba)\n",
    "\n",
    "#     return roc_auc\n",
    "\n",
    "# study = optuna.create_study(direction='maximize')\n",
    "# study.optimize(brc_objective, n_trials=10)\n",
    "\n",
    "# # Print the best hyperparameters and corresponding ROC AUC score\n",
    "# brc_best_params = study.best_params\n",
    "# brc_best_score = study.best_value\n",
    "# print(\"Best Hyperparameters: \", brc_best_params)\n",
    "# print(\"Best ROC AUC Score: \", brc_best_score)"
   ]
  },
  {
   "cell_type": "code",
   "execution_count": 50,
   "id": "c6391bd6",
   "metadata": {
    "execution": {
     "iopub.execute_input": "2023-06-29T10:39:13.628606Z",
     "iopub.status.busy": "2023-06-29T10:39:13.627820Z",
     "iopub.status.idle": "2023-06-29T10:39:13.632832Z",
     "shell.execute_reply": "2023-06-29T10:39:13.632003Z"
    },
    "papermill": {
     "duration": 0.02797,
     "end_time": "2023-06-29T10:39:13.634793",
     "exception": false,
     "start_time": "2023-06-29T10:39:13.606823",
     "status": "completed"
    },
    "tags": []
   },
   "outputs": [],
   "source": [
    "# def objective(trial):\n",
    "#     params = {\n",
    "#         'learning_rate': trial.suggest_float('learning_rate', 0.01, 0.2),\n",
    "#         'max_iter': trial.suggest_int('max_iter', 100, 900),\n",
    "#         'max_depth': trial.suggest_int('max_depth', 3, 10),\n",
    "#         'l2_regularization': trial.suggest_float('l2_regularization', 0.0, 1.0)\n",
    "#     }\n",
    "\n",
    "#     clf = HistGradientBoostingClassifier(**params)\n",
    "#     clf.fit(X_train, y_train)\n",
    "    \n",
    "#     y_pred_proba = clf.predict_proba(X_val)[:, 1]\n",
    "#     roc_auc = roc_auc_score(y_val, y_pred_proba)\n",
    "    \n",
    "#     return roc_auc\n",
    "\n",
    "# study = optuna.create_study(direction='maximize')\n",
    "# study.optimize(objective, n_trials=100)\n",
    "\n",
    "# hgbc_best_params = study.best_params\n",
    "# hgbc_best_score = study.best_value\n",
    "\n",
    "# print(\"Best Hyperparameters:\", hgbc_best_params)\n",
    "# print(\"Best ROC AUC Score:\", hgbc_best_score)"
   ]
  },
  {
   "cell_type": "code",
   "execution_count": 51,
   "id": "38346313",
   "metadata": {
    "execution": {
     "iopub.execute_input": "2023-06-29T10:39:13.677891Z",
     "iopub.status.busy": "2023-06-29T10:39:13.677081Z",
     "iopub.status.idle": "2023-06-29T10:39:13.684335Z",
     "shell.execute_reply": "2023-06-29T10:39:13.683478Z"
    },
    "papermill": {
     "duration": 0.031268,
     "end_time": "2023-06-29T10:39:13.686359",
     "exception": false,
     "start_time": "2023-06-29T10:39:13.655091",
     "status": "completed"
    },
    "tags": []
   },
   "outputs": [],
   "source": [
    "catboost_best_params = {'n_estimators': 649, 'learning_rate': 0.0062705428242741945, 'max_depth': 12, 'subsample': 0.8855188932055043, 'colsample_bylevel': 0.6899475101813313}\n",
    "xgboost_best_params = {'n_estimators': 133, 'learning_rate': 0.0013104173640992225, 'max_depth': 4, 'subsample': 0.6481905731719003, 'colsample_bytree': 0.7628669562034882}\n",
    "lgbm_best_params = {'n_estimators': 345, 'learning_rate': 0.0010228047955045541, 'max_depth': 8, 'num_leaves': 643, 'subsample': 0.6367282101284274, 'colsample_bytree': 0.5217235179303401}\n",
    "brc_best_params = {'n_estimators': 373, 'max_depth': None, 'min_samples_split': 5, 'min_samples_leaf': 2, 'max_features': 'log2'}\n",
    "hist_best_params = {'learning_rate': 0.061624143918730535, 'max_iter': 637, 'max_depth': 10, 'l2_regularization': 0.8593823100125006}"
   ]
  },
  {
   "cell_type": "code",
   "execution_count": 52,
   "id": "487a007f",
   "metadata": {
    "execution": {
     "iopub.execute_input": "2023-06-29T10:39:13.728340Z",
     "iopub.status.busy": "2023-06-29T10:39:13.727560Z",
     "iopub.status.idle": "2023-06-29T10:39:13.733344Z",
     "shell.execute_reply": "2023-06-29T10:39:13.732549Z"
    },
    "papermill": {
     "duration": 0.028452,
     "end_time": "2023-06-29T10:39:13.735288",
     "exception": false,
     "start_time": "2023-06-29T10:39:13.706836",
     "status": "completed"
    },
    "tags": []
   },
   "outputs": [],
   "source": [
    "cat = CatBoostClassifier(**catboost_best_params, verbose = False, objective = 'Logloss')\n",
    "xgb = XGBClassifier(**xgboost_best_params, objective = \"binary:logistic\")\n",
    "lgbm = LGBMClassifier(**lgbm_best_params, is_unbalance = True, objective = 'binary')\n",
    "brc = BalancedRandomForestClassifier(**brc_best_params)\n",
    "hist = HistGradientBoostingClassifier(**hist_best_params)"
   ]
  },
  {
   "cell_type": "code",
   "execution_count": 53,
   "id": "6afb92e6",
   "metadata": {
    "execution": {
     "iopub.execute_input": "2023-06-29T10:39:13.776805Z",
     "iopub.status.busy": "2023-06-29T10:39:13.776019Z",
     "iopub.status.idle": "2023-06-29T10:44:12.033897Z",
     "shell.execute_reply": "2023-06-29T10:44:12.032822Z"
    },
    "papermill": {
     "duration": 298.303468,
     "end_time": "2023-06-29T10:44:12.058561",
     "exception": false,
     "start_time": "2023-06-29T10:39:13.755093",
     "status": "completed"
    },
    "tags": []
   },
   "outputs": [
    {
     "name": "stdout",
     "output_type": "stream",
     "text": [
      "[[20138    75]\n",
      " [    2   250]]\n",
      "Ruc_score is 0.976543732335192\n",
      "******************************************************************************************\n",
      "CPU times: user 8min 55s, sys: 4.76 s, total: 9min\n",
      "Wall time: 4min 58s\n"
     ]
    },
    {
     "data": {
      "text/html": [
       "<style>#sk-container-id-1 {color: black;background-color: white;}#sk-container-id-1 pre{padding: 0;}#sk-container-id-1 div.sk-toggleable {background-color: white;}#sk-container-id-1 label.sk-toggleable__label {cursor: pointer;display: block;width: 100%;margin-bottom: 0;padding: 0.3em;box-sizing: border-box;text-align: center;}#sk-container-id-1 label.sk-toggleable__label-arrow:before {content: \"▸\";float: left;margin-right: 0.25em;color: #696969;}#sk-container-id-1 label.sk-toggleable__label-arrow:hover:before {color: black;}#sk-container-id-1 div.sk-estimator:hover label.sk-toggleable__label-arrow:before {color: black;}#sk-container-id-1 div.sk-toggleable__content {max-height: 0;max-width: 0;overflow: hidden;text-align: left;background-color: #f0f8ff;}#sk-container-id-1 div.sk-toggleable__content pre {margin: 0.2em;color: black;border-radius: 0.25em;background-color: #f0f8ff;}#sk-container-id-1 input.sk-toggleable__control:checked~div.sk-toggleable__content {max-height: 200px;max-width: 100%;overflow: auto;}#sk-container-id-1 input.sk-toggleable__control:checked~label.sk-toggleable__label-arrow:before {content: \"▾\";}#sk-container-id-1 div.sk-estimator input.sk-toggleable__control:checked~label.sk-toggleable__label {background-color: #d4ebff;}#sk-container-id-1 div.sk-label input.sk-toggleable__control:checked~label.sk-toggleable__label {background-color: #d4ebff;}#sk-container-id-1 input.sk-hidden--visually {border: 0;clip: rect(1px 1px 1px 1px);clip: rect(1px, 1px, 1px, 1px);height: 1px;margin: -1px;overflow: hidden;padding: 0;position: absolute;width: 1px;}#sk-container-id-1 div.sk-estimator {font-family: monospace;background-color: #f0f8ff;border: 1px dotted black;border-radius: 0.25em;box-sizing: border-box;margin-bottom: 0.5em;}#sk-container-id-1 div.sk-estimator:hover {background-color: #d4ebff;}#sk-container-id-1 div.sk-parallel-item::after {content: \"\";width: 100%;border-bottom: 1px solid gray;flex-grow: 1;}#sk-container-id-1 div.sk-label:hover label.sk-toggleable__label {background-color: #d4ebff;}#sk-container-id-1 div.sk-serial::before {content: \"\";position: absolute;border-left: 1px solid gray;box-sizing: border-box;top: 0;bottom: 0;left: 50%;z-index: 0;}#sk-container-id-1 div.sk-serial {display: flex;flex-direction: column;align-items: center;background-color: white;padding-right: 0.2em;padding-left: 0.2em;position: relative;}#sk-container-id-1 div.sk-item {position: relative;z-index: 1;}#sk-container-id-1 div.sk-parallel {display: flex;align-items: stretch;justify-content: center;background-color: white;position: relative;}#sk-container-id-1 div.sk-item::before, #sk-container-id-1 div.sk-parallel-item::before {content: \"\";position: absolute;border-left: 1px solid gray;box-sizing: border-box;top: 0;bottom: 0;left: 50%;z-index: -1;}#sk-container-id-1 div.sk-parallel-item {display: flex;flex-direction: column;z-index: 1;position: relative;background-color: white;}#sk-container-id-1 div.sk-parallel-item:first-child::after {align-self: flex-end;width: 50%;}#sk-container-id-1 div.sk-parallel-item:last-child::after {align-self: flex-start;width: 50%;}#sk-container-id-1 div.sk-parallel-item:only-child::after {width: 0;}#sk-container-id-1 div.sk-dashed-wrapped {border: 1px dashed gray;margin: 0 0.4em 0.5em 0.4em;box-sizing: border-box;padding-bottom: 0.4em;background-color: white;}#sk-container-id-1 div.sk-label label {font-family: monospace;font-weight: bold;display: inline-block;line-height: 1.2em;}#sk-container-id-1 div.sk-label-container {text-align: center;}#sk-container-id-1 div.sk-container {/* jupyter's `normalize.less` sets `[hidden] { display: none; }` but bootstrap.min.css set `[hidden] { display: none !important; }` so we also need the `!important` here to be able to override the default hidden behavior on the sphinx rendered scikit-learn.org. See: https://github.com/scikit-learn/scikit-learn/issues/21755 */display: inline-block !important;position: relative;}#sk-container-id-1 div.sk-text-repr-fallback {display: none;}</style><div id=\"sk-container-id-1\" class=\"sk-top-container\"><div class=\"sk-text-repr-fallback\"><pre>VotingClassifier(estimators=[(&#x27;cat&#x27;,\n",
       "                              &lt;catboost.core.CatBoostClassifier object at 0x7bbdce82c550&gt;),\n",
       "                             (&#x27;xgb&#x27;,\n",
       "                              XGBClassifier(base_score=None, booster=None,\n",
       "                                            callbacks=None,\n",
       "                                            colsample_bylevel=None,\n",
       "                                            colsample_bynode=None,\n",
       "                                            colsample_bytree=0.7628669562034882,\n",
       "                                            early_stopping_rounds=None,\n",
       "                                            enable_categorical=False,\n",
       "                                            eval_metric=None,\n",
       "                                            feature_types=None, gamma=None,\n",
       "                                            gpu_id=None...\n",
       "                                             max_depth=8, n_estimators=345,\n",
       "                                             num_leaves=643, objective=&#x27;binary&#x27;,\n",
       "                                             subsample=0.6367282101284274)),\n",
       "                             (&#x27;brc&#x27;,\n",
       "                              BalancedRandomForestClassifier(max_features=&#x27;log2&#x27;,\n",
       "                                                             min_samples_leaf=2,\n",
       "                                                             min_samples_split=5,\n",
       "                                                             n_estimators=373)),\n",
       "                             (&#x27;hist&#x27;,\n",
       "                              HistGradientBoostingClassifier(l2_regularization=0.8593823100125006,\n",
       "                                                             learning_rate=0.061624143918730535,\n",
       "                                                             max_depth=10,\n",
       "                                                             max_iter=637))],\n",
       "                 voting=&#x27;soft&#x27;)</pre><b>In a Jupyter environment, please rerun this cell to show the HTML representation or trust the notebook. <br />On GitHub, the HTML representation is unable to render, please try loading this page with nbviewer.org.</b></div><div class=\"sk-container\" hidden><div class=\"sk-item sk-dashed-wrapped\"><div class=\"sk-label-container\"><div class=\"sk-label sk-toggleable\"><input class=\"sk-toggleable__control sk-hidden--visually\" id=\"sk-estimator-id-1\" type=\"checkbox\" ><label for=\"sk-estimator-id-1\" class=\"sk-toggleable__label sk-toggleable__label-arrow\">VotingClassifier</label><div class=\"sk-toggleable__content\"><pre>VotingClassifier(estimators=[(&#x27;cat&#x27;,\n",
       "                              &lt;catboost.core.CatBoostClassifier object at 0x7bbdce82c550&gt;),\n",
       "                             (&#x27;xgb&#x27;,\n",
       "                              XGBClassifier(base_score=None, booster=None,\n",
       "                                            callbacks=None,\n",
       "                                            colsample_bylevel=None,\n",
       "                                            colsample_bynode=None,\n",
       "                                            colsample_bytree=0.7628669562034882,\n",
       "                                            early_stopping_rounds=None,\n",
       "                                            enable_categorical=False,\n",
       "                                            eval_metric=None,\n",
       "                                            feature_types=None, gamma=None,\n",
       "                                            gpu_id=None...\n",
       "                                             max_depth=8, n_estimators=345,\n",
       "                                             num_leaves=643, objective=&#x27;binary&#x27;,\n",
       "                                             subsample=0.6367282101284274)),\n",
       "                             (&#x27;brc&#x27;,\n",
       "                              BalancedRandomForestClassifier(max_features=&#x27;log2&#x27;,\n",
       "                                                             min_samples_leaf=2,\n",
       "                                                             min_samples_split=5,\n",
       "                                                             n_estimators=373)),\n",
       "                             (&#x27;hist&#x27;,\n",
       "                              HistGradientBoostingClassifier(l2_regularization=0.8593823100125006,\n",
       "                                                             learning_rate=0.061624143918730535,\n",
       "                                                             max_depth=10,\n",
       "                                                             max_iter=637))],\n",
       "                 voting=&#x27;soft&#x27;)</pre></div></div></div><div class=\"sk-parallel\"><div class=\"sk-parallel-item\"><div class=\"sk-item\"><div class=\"sk-label-container\"><div class=\"sk-label sk-toggleable\"><label>cat</label></div></div><div class=\"sk-serial\"><div class=\"sk-item\"><div class=\"sk-estimator sk-toggleable\"><input class=\"sk-toggleable__control sk-hidden--visually\" id=\"sk-estimator-id-2\" type=\"checkbox\" ><label for=\"sk-estimator-id-2\" class=\"sk-toggleable__label sk-toggleable__label-arrow\">CatBoostClassifier</label><div class=\"sk-toggleable__content\"><pre>&lt;catboost.core.CatBoostClassifier object at 0x7bbdce82c550&gt;</pre></div></div></div></div></div></div><div class=\"sk-parallel-item\"><div class=\"sk-item\"><div class=\"sk-label-container\"><div class=\"sk-label sk-toggleable\"><label>xgb</label></div></div><div class=\"sk-serial\"><div class=\"sk-item\"><div class=\"sk-estimator sk-toggleable\"><input class=\"sk-toggleable__control sk-hidden--visually\" id=\"sk-estimator-id-3\" type=\"checkbox\" ><label for=\"sk-estimator-id-3\" class=\"sk-toggleable__label sk-toggleable__label-arrow\">XGBClassifier</label><div class=\"sk-toggleable__content\"><pre>XGBClassifier(base_score=None, booster=None, callbacks=None,\n",
       "              colsample_bylevel=None, colsample_bynode=None,\n",
       "              colsample_bytree=0.7628669562034882, early_stopping_rounds=None,\n",
       "              enable_categorical=False, eval_metric=None, feature_types=None,\n",
       "              gamma=None, gpu_id=None, grow_policy=None, importance_type=None,\n",
       "              interaction_constraints=None, learning_rate=0.0013104173640992225,\n",
       "              max_bin=None, max_cat_threshold=None, max_cat_to_onehot=None,\n",
       "              max_delta_step=None, max_depth=4, max_leaves=None,\n",
       "              min_child_weight=None, missing=nan, monotone_constraints=None,\n",
       "              n_estimators=133, n_jobs=None, num_parallel_tree=None,\n",
       "              predictor=None, random_state=None, ...)</pre></div></div></div></div></div></div><div class=\"sk-parallel-item\"><div class=\"sk-item\"><div class=\"sk-label-container\"><div class=\"sk-label sk-toggleable\"><label>lgbm</label></div></div><div class=\"sk-serial\"><div class=\"sk-item\"><div class=\"sk-estimator sk-toggleable\"><input class=\"sk-toggleable__control sk-hidden--visually\" id=\"sk-estimator-id-4\" type=\"checkbox\" ><label for=\"sk-estimator-id-4\" class=\"sk-toggleable__label sk-toggleable__label-arrow\">LGBMClassifier</label><div class=\"sk-toggleable__content\"><pre>LGBMClassifier(colsample_bytree=0.5217235179303401, is_unbalance=True,\n",
       "               learning_rate=0.0010228047955045541, max_depth=8,\n",
       "               n_estimators=345, num_leaves=643, objective=&#x27;binary&#x27;,\n",
       "               subsample=0.6367282101284274)</pre></div></div></div></div></div></div><div class=\"sk-parallel-item\"><div class=\"sk-item\"><div class=\"sk-label-container\"><div class=\"sk-label sk-toggleable\"><label>brc</label></div></div><div class=\"sk-serial\"><div class=\"sk-item\"><div class=\"sk-estimator sk-toggleable\"><input class=\"sk-toggleable__control sk-hidden--visually\" id=\"sk-estimator-id-5\" type=\"checkbox\" ><label for=\"sk-estimator-id-5\" class=\"sk-toggleable__label sk-toggleable__label-arrow\">BalancedRandomForestClassifier</label><div class=\"sk-toggleable__content\"><pre>BalancedRandomForestClassifier(max_features=&#x27;log2&#x27;, min_samples_leaf=2,\n",
       "                               min_samples_split=5, n_estimators=373)</pre></div></div></div></div></div></div><div class=\"sk-parallel-item\"><div class=\"sk-item\"><div class=\"sk-label-container\"><div class=\"sk-label sk-toggleable\"><label>hist</label></div></div><div class=\"sk-serial\"><div class=\"sk-item\"><div class=\"sk-estimator sk-toggleable\"><input class=\"sk-toggleable__control sk-hidden--visually\" id=\"sk-estimator-id-6\" type=\"checkbox\" ><label for=\"sk-estimator-id-6\" class=\"sk-toggleable__label sk-toggleable__label-arrow\">HistGradientBoostingClassifier</label><div class=\"sk-toggleable__content\"><pre>HistGradientBoostingClassifier(l2_regularization=0.8593823100125006,\n",
       "                               learning_rate=0.061624143918730535, max_depth=10,\n",
       "                               max_iter=637)</pre></div></div></div></div></div></div></div></div></div></div>"
      ],
      "text/plain": [
       "VotingClassifier(estimators=[('cat',\n",
       "                              <catboost.core.CatBoostClassifier object at 0x7bbdce82c550>),\n",
       "                             ('xgb',\n",
       "                              XGBClassifier(base_score=None, booster=None,\n",
       "                                            callbacks=None,\n",
       "                                            colsample_bylevel=None,\n",
       "                                            colsample_bynode=None,\n",
       "                                            colsample_bytree=0.7628669562034882,\n",
       "                                            early_stopping_rounds=None,\n",
       "                                            enable_categorical=False,\n",
       "                                            eval_metric=None,\n",
       "                                            feature_types=None, gamma=None,\n",
       "                                            gpu_id=None...\n",
       "                                             max_depth=8, n_estimators=345,\n",
       "                                             num_leaves=643, objective='binary',\n",
       "                                             subsample=0.6367282101284274)),\n",
       "                             ('brc',\n",
       "                              BalancedRandomForestClassifier(max_features='log2',\n",
       "                                                             min_samples_leaf=2,\n",
       "                                                             min_samples_split=5,\n",
       "                                                             n_estimators=373)),\n",
       "                             ('hist',\n",
       "                              HistGradientBoostingClassifier(l2_regularization=0.8593823100125006,\n",
       "                                                             learning_rate=0.061624143918730535,\n",
       "                                                             max_depth=10,\n",
       "                                                             max_iter=637))],\n",
       "                 voting='soft')"
      ]
     },
     "execution_count": 53,
     "metadata": {},
     "output_type": "execute_result"
    }
   ],
   "source": [
    "%%time\n",
    "voting = VotingClassifier([('cat',cat),('xgb',xgb),('lgbm',lgbm),('brc',brc), ('hist',hist)], voting = 'soft')\n",
    "train_classifier(voting, X_train, y_train, X_val, y_val)"
   ]
  },
  {
   "cell_type": "code",
   "execution_count": 54,
   "id": "d414f4a0",
   "metadata": {
    "execution": {
     "iopub.execute_input": "2023-06-29T10:44:12.102239Z",
     "iopub.status.busy": "2023-06-29T10:44:12.101915Z",
     "iopub.status.idle": "2023-06-29T10:44:19.798627Z",
     "shell.execute_reply": "2023-06-29T10:44:19.797634Z"
    },
    "papermill": {
     "duration": 7.721098,
     "end_time": "2023-06-29T10:44:19.801029",
     "exception": false,
     "start_time": "2023-06-29T10:44:12.079931",
     "status": "completed"
    },
    "tags": []
   },
   "outputs": [],
   "source": [
    "preds = voting.predict_proba(X_test)\n",
    "predictions = [pred[1] for pred in preds]"
   ]
  },
  {
   "cell_type": "code",
   "execution_count": 55,
   "id": "acb930e2",
   "metadata": {
    "execution": {
     "iopub.execute_input": "2023-06-29T10:44:19.845680Z",
     "iopub.status.busy": "2023-06-29T10:44:19.845331Z",
     "iopub.status.idle": "2023-06-29T10:44:19.882797Z",
     "shell.execute_reply": "2023-06-29T10:44:19.879416Z"
    },
    "papermill": {
     "duration": 0.062554,
     "end_time": "2023-06-29T10:44:19.885237",
     "exception": false,
     "start_time": "2023-06-29T10:44:19.822683",
     "status": "completed"
    },
    "tags": []
   },
   "outputs": [],
   "source": [
    "output = pd.DataFrame({'id': test_data['id'], 'Machine failure': predictions})"
   ]
  },
  {
   "cell_type": "code",
   "execution_count": 56,
   "id": "e7af06de",
   "metadata": {
    "execution": {
     "iopub.execute_input": "2023-06-29T10:44:19.931022Z",
     "iopub.status.busy": "2023-06-29T10:44:19.930693Z",
     "iopub.status.idle": "2023-06-29T10:44:20.278074Z",
     "shell.execute_reply": "2023-06-29T10:44:20.276944Z"
    },
    "papermill": {
     "duration": 0.372269,
     "end_time": "2023-06-29T10:44:20.280754",
     "exception": false,
     "start_time": "2023-06-29T10:44:19.908485",
     "status": "completed"
    },
    "tags": []
   },
   "outputs": [
    {
     "name": "stdout",
     "output_type": "stream",
     "text": [
      "Your submission was successfully saved!\n"
     ]
    }
   ],
   "source": [
    "output.to_csv('submission.csv', index=False)\n",
    "print(\"Your submission was successfully saved!\")"
   ]
  },
  {
   "cell_type": "code",
   "execution_count": null,
   "id": "e13e45df",
   "metadata": {
    "papermill": {
     "duration": 0.0218,
     "end_time": "2023-06-29T10:44:20.324704",
     "exception": false,
     "start_time": "2023-06-29T10:44:20.302904",
     "status": "completed"
    },
    "tags": []
   },
   "outputs": [],
   "source": []
  }
 ],
 "metadata": {
  "kernelspec": {
   "display_name": "Python 3",
   "language": "python",
   "name": "python3"
  },
  "language_info": {
   "codemirror_mode": {
    "name": "ipython",
    "version": 3
   },
   "file_extension": ".py",
   "mimetype": "text/x-python",
   "name": "python",
   "nbconvert_exporter": "python",
   "pygments_lexer": "ipython3",
   "version": "3.10.10"
  },
  "papermill": {
   "default_parameters": {},
   "duration": 454.253513,
   "end_time": "2023-06-29T10:44:21.773568",
   "environment_variables": {},
   "exception": null,
   "input_path": "__notebook__.ipynb",
   "output_path": "__notebook__.ipynb",
   "parameters": {},
   "start_time": "2023-06-29T10:36:47.520055",
   "version": "2.4.0"
  }
 },
 "nbformat": 4,
 "nbformat_minor": 5
}
